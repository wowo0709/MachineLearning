{
 "cells": [
  {
   "cell_type": "markdown",
   "metadata": {
    "id": "iQQu179-mCEy"
   },
   "source": [
    "# Scikit-Learn API\n",
    "- to show how scikit-learn objects are made\n",
    "- all objects share a consistent and simple interface:\n",
    "   - fit(): estimators\n",
    "   - transform(): transformers\n",
    "   - fit_transform(): fit() + transform()\n",
    "   - predict(): prediction\n"
   ]
  },
  {
   "cell_type": "code",
   "execution_count": 1,
   "metadata": {
    "executionInfo": {
     "elapsed": 283,
     "status": "ok",
     "timestamp": 1630826114055,
     "user": {
      "displayName": "Yongjin Jeong",
      "photoUrl": "https://lh3.googleusercontent.com/a/default-user=s64",
      "userId": "03658406798560557048"
     },
     "user_tz": -540
    },
    "id": "0Kok-wiOl210"
   },
   "outputs": [],
   "source": [
    "import numpy as np\n",
    "# from scipy import sparse\n",
    "# from sklearn.base import BaseEstimator, TransformerMixin\n",
    "# from sklearn.utils.validation import check_array, check_is_fitted\n",
    "# from sklearn.utils.sparsefuncs import inplace_column_scale, mean_variance_axis"
   ]
  },
  {
   "cell_type": "code",
   "execution_count": 2,
   "metadata": {
    "executionInfo": {
     "elapsed": 23,
     "status": "ok",
     "timestamp": 1630826114381,
     "user": {
      "displayName": "Yongjin Jeong",
      "photoUrl": "https://lh3.googleusercontent.com/a/default-user=s64",
      "userId": "03658406798560557048"
     },
     "user_tz": -540
    },
    "id": "nKqxwFJkmOkh"
   },
   "outputs": [],
   "source": [
    "# 평균과 표준편차를 구하는 함수\n",
    "def _mean_and_std(X, axis=0): # axis=0: 열 단위\n",
    "   \n",
    "    X = np.asarray(X)\n",
    "    mean_ = X.mean(axis)\n",
    "    std_ = X.std(axis)\n",
    "\n",
    "    return mean_, std_"
   ]
  },
  {
   "cell_type": "code",
   "execution_count": 3,
   "metadata": {
    "colab": {
     "base_uri": "https://localhost:8080/"
    },
    "executionInfo": {
     "elapsed": 22,
     "status": "ok",
     "timestamp": 1630826114382,
     "user": {
      "displayName": "Yongjin Jeong",
      "photoUrl": "https://lh3.googleusercontent.com/a/default-user=s64",
      "userId": "03658406798560557048"
     },
     "user_tz": -540
    },
    "id": "KWh7F2cboEyi",
    "outputId": "c83a59dc-0581-4439-dca2-e000ee747b9a"
   },
   "outputs": [
    {
     "data": {
      "text/plain": [
       "array([[1, 2, 3],\n",
       "       [4, 5, 6]])"
      ]
     },
     "execution_count": 3,
     "metadata": {},
     "output_type": "execute_result"
    }
   ],
   "source": [
    "data = np.array([[1,2,3],[4,5,6]])\n",
    "\n",
    "data"
   ]
  },
  {
   "cell_type": "code",
   "execution_count": 5,
   "metadata": {
    "colab": {
     "base_uri": "https://localhost:8080/"
    },
    "executionInfo": {
     "elapsed": 17,
     "status": "ok",
     "timestamp": 1630826114382,
     "user": {
      "displayName": "Yongjin Jeong",
      "photoUrl": "https://lh3.googleusercontent.com/a/default-user=s64",
      "userId": "03658406798560557048"
     },
     "user_tz": -540
    },
    "id": "lMIClXDxuxef",
    "outputId": "b6bc7fd8-f8f8-4d02-97f3-ee9f980051a3"
   },
   "outputs": [
    {
     "name": "stdout",
     "output_type": "stream",
     "text": [
      "(array([2.5, 3.5, 4.5]), array([1.5, 1.5, 1.5]))\n",
      "(array([2., 5.]), array([0.81649658, 0.81649658]))\n"
     ]
    }
   ],
   "source": [
    "print(_mean_and_std(data, 0)) # 열방향\n",
    "print(_mean_and_std(data, 1)) # 행방향"
   ]
  },
  {
   "cell_type": "code",
   "execution_count": 6,
   "metadata": {
    "executionInfo": {
     "elapsed": 15,
     "status": "ok",
     "timestamp": 1630826114383,
     "user": {
      "displayName": "Yongjin Jeong",
      "photoUrl": "https://lh3.googleusercontent.com/a/default-user=s64",
      "userId": "03658406798560557048"
     },
     "user_tz": -540
    },
    "id": "JEAq7b5koJ_L"
   },
   "outputs": [],
   "source": [
    "# 스탠다드 스케일러 클래스에서 불필요한 부분들을 제외한 코드\n",
    "class my_StandardScaler():\n",
    "\n",
    "    def __init__(self):\n",
    "        self.mean_, self.std_ = 0., 0.\n",
    "    \n",
    "    '''전달된 객체의 평균과 표준편차를 계산'''\n",
    "    def fit(self, X, y=None):\n",
    "        X = X.astype(np.float32)\n",
    "        self.mean_, self.std_ = _mean_and_std(X, axis=0)\n",
    "        return self\n",
    "    '''self.mean_, self.std_를 이용하여 스케일링 수행'''\n",
    "    def transform(self, X, y=None):\n",
    "        X = X.astype(np.float32)\n",
    "        X -= self.mean_\n",
    "        X /= self.std_\n",
    "        return X\n",
    "    '''fit+transform'''\n",
    "    def fit_transform(self, X, y=None):\n",
    "        X = X.astype(np.float32)\n",
    "        self.mean_, self.std_ = _mean_and_std(X, axis=0)\n",
    "        X -= self.mean_\n",
    "        X /= self.std_\n",
    "        return X\n",
    "    '''역변환'''\n",
    "    def inverse_transform(self, X):\n",
    "        X = X.astype(np.float32)\n",
    "        X *= self.std_\n",
    "        X += self.mean_\n",
    "        return X"
   ]
  },
  {
   "cell_type": "code",
   "execution_count": 7,
   "metadata": {
    "executionInfo": {
     "elapsed": 14,
     "status": "ok",
     "timestamp": 1630826114383,
     "user": {
      "displayName": "Yongjin Jeong",
      "photoUrl": "https://lh3.googleusercontent.com/a/default-user=s64",
      "userId": "03658406798560557048"
     },
     "user_tz": -540
    },
    "id": "vd0NcLoNqrJA"
   },
   "outputs": [],
   "source": [
    "X = np.array([1,2,3,4,5,6,7,8,9,10])\n",
    "sc = my_StandardScaler()"
   ]
  },
  {
   "cell_type": "code",
   "execution_count": 8,
   "metadata": {
    "executionInfo": {
     "elapsed": 14,
     "status": "ok",
     "timestamp": 1630826114384,
     "user": {
      "displayName": "Yongjin Jeong",
      "photoUrl": "https://lh3.googleusercontent.com/a/default-user=s64",
      "userId": "03658406798560557048"
     },
     "user_tz": -540
    },
    "id": "EtoOZkLIviQv"
   },
   "outputs": [
    {
     "data": {
      "text/plain": [
       "['__class__',\n",
       " '__delattr__',\n",
       " '__dict__',\n",
       " '__dir__',\n",
       " '__doc__',\n",
       " '__eq__',\n",
       " '__format__',\n",
       " '__ge__',\n",
       " '__getattribute__',\n",
       " '__gt__',\n",
       " '__hash__',\n",
       " '__init__',\n",
       " '__init_subclass__',\n",
       " '__le__',\n",
       " '__lt__',\n",
       " '__module__',\n",
       " '__ne__',\n",
       " '__new__',\n",
       " '__reduce__',\n",
       " '__reduce_ex__',\n",
       " '__repr__',\n",
       " '__setattr__',\n",
       " '__sizeof__',\n",
       " '__str__',\n",
       " '__subclasshook__',\n",
       " '__weakref__',\n",
       " 'fit',\n",
       " 'fit_transform',\n",
       " 'inverse_transform',\n",
       " 'mean_',\n",
       " 'std_',\n",
       " 'transform']"
      ]
     },
     "execution_count": 8,
     "metadata": {},
     "output_type": "execute_result"
    }
   ],
   "source": [
    "dir(sc)"
   ]
  },
  {
   "cell_type": "code",
   "execution_count": 9,
   "metadata": {
    "colab": {
     "base_uri": "https://localhost:8080/"
    },
    "executionInfo": {
     "elapsed": 14,
     "status": "ok",
     "timestamp": 1630826114385,
     "user": {
      "displayName": "Yongjin Jeong",
      "photoUrl": "https://lh3.googleusercontent.com/a/default-user=s64",
      "userId": "03658406798560557048"
     },
     "user_tz": -540
    },
    "id": "9j0xaZ37rGsg",
    "outputId": "9d0ae78e-711b-4162-8088-2d3680104412"
   },
   "outputs": [
    {
     "data": {
      "text/plain": [
       "<__main__.my_StandardScaler at 0x2b63775c160>"
      ]
     },
     "execution_count": 9,
     "metadata": {},
     "output_type": "execute_result"
    }
   ],
   "source": [
    "# 전달한 인스턴스의 평균과 표준편차 계산\n",
    "sc.fit(X)"
   ]
  },
  {
   "cell_type": "code",
   "execution_count": 10,
   "metadata": {
    "colab": {
     "base_uri": "https://localhost:8080/"
    },
    "executionInfo": {
     "elapsed": 20,
     "status": "ok",
     "timestamp": 1630826114872,
     "user": {
      "displayName": "Yongjin Jeong",
      "photoUrl": "https://lh3.googleusercontent.com/a/default-user=s64",
      "userId": "03658406798560557048"
     },
     "user_tz": -540
    },
    "id": "xxu4pcpQrI2f",
    "outputId": "1f0cea33-434a-4ecf-e7ff-35d6582a6037"
   },
   "outputs": [
    {
     "data": {
      "text/plain": [
       "(5.5, 2.8722813)"
      ]
     },
     "execution_count": 10,
     "metadata": {},
     "output_type": "execute_result"
    }
   ],
   "source": [
    "# 계산된 평균과 표준편차\n",
    "sc.mean_, sc.std_"
   ]
  },
  {
   "cell_type": "code",
   "execution_count": 11,
   "metadata": {
    "colab": {
     "base_uri": "https://localhost:8080/"
    },
    "executionInfo": {
     "elapsed": 16,
     "status": "ok",
     "timestamp": 1630826114873,
     "user": {
      "displayName": "Yongjin Jeong",
      "photoUrl": "https://lh3.googleusercontent.com/a/default-user=s64",
      "userId": "03658406798560557048"
     },
     "user_tz": -540
    },
    "id": "4rY9PS65rT3Y",
    "outputId": "c300b47d-745d-4400-f558-71dccfb6bec4"
   },
   "outputs": [
    {
     "data": {
      "text/plain": [
       "array([-1.5666989 , -1.2185436 , -0.87038827, -0.52223295, -0.17407766,\n",
       "        0.17407766,  0.52223295,  0.87038827,  1.2185436 ,  1.5666989 ],\n",
       "      dtype=float32)"
      ]
     },
     "execution_count": 11,
     "metadata": {},
     "output_type": "execute_result"
    }
   ],
   "source": [
    "# 스케일링 수행\n",
    "X_sc = sc.transform(X)\n",
    "\n",
    "X_sc"
   ]
  },
  {
   "cell_type": "code",
   "execution_count": 12,
   "metadata": {
    "colab": {
     "base_uri": "https://localhost:8080/"
    },
    "executionInfo": {
     "elapsed": 14,
     "status": "ok",
     "timestamp": 1630826114874,
     "user": {
      "displayName": "Yongjin Jeong",
      "photoUrl": "https://lh3.googleusercontent.com/a/default-user=s64",
      "userId": "03658406798560557048"
     },
     "user_tz": -540
    },
    "id": "SG-q1S2Kr9Mw",
    "outputId": "2fef8349-96b3-4123-89a7-b956fe7b7b93"
   },
   "outputs": [
    {
     "data": {
      "text/plain": [
       "array([ 1.       ,  1.9999998,  3.       ,  4.       ,  5.       ,\n",
       "        6.       ,  7.       ,  8.       ,  9.       , 10.       ],\n",
       "      dtype=float32)"
      ]
     },
     "execution_count": 12,
     "metadata": {},
     "output_type": "execute_result"
    }
   ],
   "source": [
    "# 역변환 수행\n",
    "sc.inverse_transform(X_sc)"
   ]
  },
  {
   "cell_type": "code",
   "execution_count": 35,
   "metadata": {
    "colab": {
     "base_uri": "https://localhost:8080/"
    },
    "executionInfo": {
     "elapsed": 301,
     "status": "ok",
     "timestamp": 1630826132762,
     "user": {
      "displayName": "Yongjin Jeong",
      "photoUrl": "https://lh3.googleusercontent.com/a/default-user=s64",
      "userId": "03658406798560557048"
     },
     "user_tz": -540
    },
    "id": "GCHH5fjUzIHf",
    "outputId": "7bb4a09e-ce94-4419-b0cb-c25baede818e"
   },
   "outputs": [
    {
     "data": {
      "text/plain": [
       "array([ True,  True,  True,  True,  True,  True,  True,  True,  True,\n",
       "        True])"
      ]
     },
     "execution_count": 35,
     "metadata": {},
     "output_type": "execute_result"
    }
   ],
   "source": [
    "sc.fit_transform(X) == X_sc"
   ]
  }
 ],
 "metadata": {
  "colab": {
   "authorship_tag": "ABX9TyO1QEJ97t8hSf0RwjRPz5LZ",
   "collapsed_sections": [],
   "name": "lab34a_scikit_learn_object.ipynb",
   "provenance": []
  },
  "kernelspec": {
   "display_name": "Python 3",
   "language": "python",
   "name": "python3"
  },
  "language_info": {
   "codemirror_mode": {
    "name": "ipython",
    "version": 3
   },
   "file_extension": ".py",
   "mimetype": "text/x-python",
   "name": "python",
   "nbconvert_exporter": "python",
   "pygments_lexer": "ipython3",
   "version": "3.8.5"
  }
 },
 "nbformat": 4,
 "nbformat_minor": 1
}
