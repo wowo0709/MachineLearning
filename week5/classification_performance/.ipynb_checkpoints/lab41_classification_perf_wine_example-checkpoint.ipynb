{
 "cells": [
  {
   "cell_type": "markdown",
   "metadata": {
    "id": "9UNX288vqVv0"
   },
   "source": [
    "# Performance Evaluation"
   ]
  },
  {
   "cell_type": "code",
   "execution_count": 1,
   "metadata": {
    "executionInfo": {
     "elapsed": 396,
     "status": "ok",
     "timestamp": 1632289332124,
     "user": {
      "displayName": "Yongjin Jeong",
      "photoUrl": "https://lh3.googleusercontent.com/a/default-user=s64",
      "userId": "03658406798560557048"
     },
     "user_tz": -540
    },
    "id": "TVrgFONIqUys"
   },
   "outputs": [],
   "source": [
    "import pandas as pd\n",
    "import numpy as np\n",
    "import matplotlib.pyplot as plt\n",
    "from sklearn import tree\n",
    "from sklearn.ensemble import RandomForestClassifier \n",
    "from sklearn.svm import SVC \n",
    "from sklearn.linear_model import SGDClassifier, LogisticRegression\n",
    "from sklearn.metrics import confusion_matrix, classification_report, roc_curve, auc\n",
    "from sklearn.preprocessing import StandardScaler, LabelEncoder\n",
    "from sklearn.model_selection import train_test_split, GridSearchCV, cross_val_score \n",
    "%matplotlib inline"
   ]
  },
  {
   "cell_type": "markdown",
   "metadata": {
    "id": "rUyoLUXsqPr-"
   },
   "source": [
    "# Regression Performance\n",
    "- MAE (mean absolute error)\n",
    "- MSE (mean square error)\n",
    "- RMSE (root mean square error)\n",
    "- R-squared "
   ]
  },
  {
   "cell_type": "markdown",
   "metadata": {
    "id": "eZkJby-Bq7Gj"
   },
   "source": [
    "\n",
    "\n",
    "![image.png](data:image/png;base64,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)"
   ]
  },
  {
   "cell_type": "markdown",
   "metadata": {
    "_cell_guid": "6876755d-3552-491d-b416-a012fbe221e4",
    "_uuid": "0b46910d15d98513ea81fb24e0f8ab28134c5f5f",
    "id": "dJFjzmLfU-if"
   },
   "source": [
    "# Classification Performance \n",
    "- 분류 알고리즘 비교\n",
    "  - 리지 규제, 라쏘 규제\n",
    "  - 교차검증\n",
    "  - 정적 성능평가 Confusion matrix  \n",
    "  - 동적 성능평가 ROC\n",
    "\n",
    "- Data\n",
    "  - 포도주 품질 분류 https://goo.gl/Gyc8K7\n",
    "  - https://www.kaggle.com/vishalyo990/prediction-of-quality-of-wine/notebook\n",
    "\n"
   ]
  },
  {
   "cell_type": "markdown",
   "metadata": {
    "id": "jhmV7c6qU-jZ"
   },
   "source": [
    "## Data (포도주 품질 평가 데이터)"
   ]
  },
  {
   "cell_type": "code",
   "execution_count": 2,
   "metadata": {
    "colab": {
     "base_uri": "https://localhost:8080/"
    },
    "executionInfo": {
     "elapsed": 1603,
     "status": "ok",
     "timestamp": 1632289334306,
     "user": {
      "displayName": "Yongjin Jeong",
      "photoUrl": "https://lh3.googleusercontent.com/a/default-user=s64",
      "userId": "03658406798560557048"
     },
     "user_tz": -540
    },
    "id": "Q1Z3Ns4lVQE0",
    "outputId": "5c1947f7-7eb4-4a2f-80be-d71242f75377"
   },
   "outputs": [
    {
     "name": "stderr",
     "output_type": "stream",
     "text": [
      "  % Total    % Received % Xferd  Average Speed   Time    Time     Time  Current\n",
      "                                 Dload  Upload   Total   Spent    Left  Speed\n",
      "\n",
      "  0     0    0     0    0     0      0      0 --:--:-- --:--:-- --:--:--     0\n",
      "  0     0    0     0    0     0      0      0 --:--:-- --:--:-- --:--:--     0\n",
      "  0     0    0     0    0     0      0      0 --:--:-- --:--:-- --:--:--     0\n",
      "\n",
      "100   144    0   144    0     0    168      0 --:--:-- --:--:-- --:--:--   168\n",
      "\n",
      "100   318  100   318    0     0    277      0  0:00:01  0:00:01 --:--:--   277\n",
      "100   318  100   318    0     0    277      0  0:00:01  0:00:01 --:--:--     0\n",
      "\n",
      " 15   98k   15 15366    0     0   6692      0  0:00:15  0:00:02  0:00:13  6692\n",
      "100   98k  100   98k    0     0  37168      0  0:00:02  0:00:02 --:--:--  199k\n"
     ]
    }
   ],
   "source": [
    "!curl -L https://goo.gl/Gyc8K7 -o winequality-red.csv"
   ]
  },
  {
   "cell_type": "code",
   "execution_count": 3,
   "metadata": {
    "colab": {
     "base_uri": "https://localhost:8080/",
     "height": 237
    },
    "executionInfo": {
     "elapsed": 36,
     "status": "ok",
     "timestamp": 1632289334309,
     "user": {
      "displayName": "Yongjin Jeong",
      "photoUrl": "https://lh3.googleusercontent.com/a/default-user=s64",
      "userId": "03658406798560557048"
     },
     "user_tz": -540
    },
    "id": "2XeHbyysVbAW",
    "outputId": "f1bfe9f0-277f-4c81-ef72-62b6538b9242"
   },
   "outputs": [
    {
     "name": "stdout",
     "output_type": "stream",
     "text": [
      "(1599, 12)\n"
     ]
    },
    {
     "data": {
      "text/html": [
       "<div>\n",
       "<style scoped>\n",
       "    .dataframe tbody tr th:only-of-type {\n",
       "        vertical-align: middle;\n",
       "    }\n",
       "\n",
       "    .dataframe tbody tr th {\n",
       "        vertical-align: top;\n",
       "    }\n",
       "\n",
       "    .dataframe thead th {\n",
       "        text-align: right;\n",
       "    }\n",
       "</style>\n",
       "<table border=\"1\" class=\"dataframe\">\n",
       "  <thead>\n",
       "    <tr style=\"text-align: right;\">\n",
       "      <th></th>\n",
       "      <th>fixed acidity</th>\n",
       "      <th>volatile acidity</th>\n",
       "      <th>citric acid</th>\n",
       "      <th>residual sugar</th>\n",
       "      <th>chlorides</th>\n",
       "      <th>free sulfur dioxide</th>\n",
       "      <th>total sulfur dioxide</th>\n",
       "      <th>density</th>\n",
       "      <th>pH</th>\n",
       "      <th>sulphates</th>\n",
       "      <th>alcohol</th>\n",
       "      <th>quality</th>\n",
       "    </tr>\n",
       "  </thead>\n",
       "  <tbody>\n",
       "    <tr>\n",
       "      <th>0</th>\n",
       "      <td>7.4</td>\n",
       "      <td>0.70</td>\n",
       "      <td>0.00</td>\n",
       "      <td>1.9</td>\n",
       "      <td>0.076</td>\n",
       "      <td>11.0</td>\n",
       "      <td>34.0</td>\n",
       "      <td>0.9978</td>\n",
       "      <td>3.51</td>\n",
       "      <td>0.56</td>\n",
       "      <td>9.4</td>\n",
       "      <td>5</td>\n",
       "    </tr>\n",
       "    <tr>\n",
       "      <th>1</th>\n",
       "      <td>7.8</td>\n",
       "      <td>0.88</td>\n",
       "      <td>0.00</td>\n",
       "      <td>2.6</td>\n",
       "      <td>0.098</td>\n",
       "      <td>25.0</td>\n",
       "      <td>67.0</td>\n",
       "      <td>0.9968</td>\n",
       "      <td>3.20</td>\n",
       "      <td>0.68</td>\n",
       "      <td>9.8</td>\n",
       "      <td>5</td>\n",
       "    </tr>\n",
       "    <tr>\n",
       "      <th>2</th>\n",
       "      <td>7.8</td>\n",
       "      <td>0.76</td>\n",
       "      <td>0.04</td>\n",
       "      <td>2.3</td>\n",
       "      <td>0.092</td>\n",
       "      <td>15.0</td>\n",
       "      <td>54.0</td>\n",
       "      <td>0.9970</td>\n",
       "      <td>3.26</td>\n",
       "      <td>0.65</td>\n",
       "      <td>9.8</td>\n",
       "      <td>5</td>\n",
       "    </tr>\n",
       "    <tr>\n",
       "      <th>3</th>\n",
       "      <td>11.2</td>\n",
       "      <td>0.28</td>\n",
       "      <td>0.56</td>\n",
       "      <td>1.9</td>\n",
       "      <td>0.075</td>\n",
       "      <td>17.0</td>\n",
       "      <td>60.0</td>\n",
       "      <td>0.9980</td>\n",
       "      <td>3.16</td>\n",
       "      <td>0.58</td>\n",
       "      <td>9.8</td>\n",
       "      <td>6</td>\n",
       "    </tr>\n",
       "    <tr>\n",
       "      <th>4</th>\n",
       "      <td>7.4</td>\n",
       "      <td>0.70</td>\n",
       "      <td>0.00</td>\n",
       "      <td>1.9</td>\n",
       "      <td>0.076</td>\n",
       "      <td>11.0</td>\n",
       "      <td>34.0</td>\n",
       "      <td>0.9978</td>\n",
       "      <td>3.51</td>\n",
       "      <td>0.56</td>\n",
       "      <td>9.4</td>\n",
       "      <td>5</td>\n",
       "    </tr>\n",
       "  </tbody>\n",
       "</table>\n",
       "</div>"
      ],
      "text/plain": [
       "   fixed acidity  volatile acidity  citric acid  residual sugar  chlorides  \\\n",
       "0            7.4              0.70         0.00             1.9      0.076   \n",
       "1            7.8              0.88         0.00             2.6      0.098   \n",
       "2            7.8              0.76         0.04             2.3      0.092   \n",
       "3           11.2              0.28         0.56             1.9      0.075   \n",
       "4            7.4              0.70         0.00             1.9      0.076   \n",
       "\n",
       "   free sulfur dioxide  total sulfur dioxide  density    pH  sulphates  \\\n",
       "0                 11.0                  34.0   0.9978  3.51       0.56   \n",
       "1                 25.0                  67.0   0.9968  3.20       0.68   \n",
       "2                 15.0                  54.0   0.9970  3.26       0.65   \n",
       "3                 17.0                  60.0   0.9980  3.16       0.58   \n",
       "4                 11.0                  34.0   0.9978  3.51       0.56   \n",
       "\n",
       "   alcohol  quality  \n",
       "0      9.4        5  \n",
       "1      9.8        5  \n",
       "2      9.8        5  \n",
       "3      9.8        6  \n",
       "4      9.4        5  "
      ]
     },
     "execution_count": 3,
     "metadata": {},
     "output_type": "execute_result"
    }
   ],
   "source": [
    "wine = pd.read_csv('./winequality-red.csv')\n",
    "print(wine.shape)\n",
    "wine.head(5)"
   ]
  },
  {
   "cell_type": "markdown",
   "metadata": {
    "id": "ShB_mHHeU-jf"
   },
   "source": [
    "- fixed acidity - 결합 산도 \n",
    "- volatile acidity - 휘발성 산도 \n",
    "- citric acid - 시트르산 \n",
    "- residual sugar - 잔류 설탕 \n",
    "- chlorides\t - 염화물 \n",
    "- free sulfur dioxide - 자유 이산화황 \n",
    "- total sulfur dioxide - 총 이산화황 \n",
    "- density - 밀도 \n",
    "- pH - pH \n",
    "- sulphates - 황산염 \n",
    "- alcohol - 알코올 \n",
    "- quality - 품질 (0 ~ 10 점)"
   ]
  },
  {
   "cell_type": "code",
   "execution_count": 4,
   "metadata": {
    "_cell_guid": "704f4830-5804-436d-9b78-6ca00f5ae510",
    "_uuid": "af141503385967f92d409c5e111e2724b4c9636f",
    "colab": {
     "base_uri": "https://localhost:8080/"
    },
    "executionInfo": {
     "elapsed": 34,
     "status": "ok",
     "timestamp": 1632289334313,
     "user": {
      "displayName": "Yongjin Jeong",
      "photoUrl": "https://lh3.googleusercontent.com/a/default-user=s64",
      "userId": "03658406798560557048"
     },
     "user_tz": -540
    },
    "id": "ZDgWjoucU-jg",
    "outputId": "f127ba4d-accf-480f-cfd2-ebc2c9a98d2e"
   },
   "outputs": [
    {
     "name": "stdout",
     "output_type": "stream",
     "text": [
      "<class 'pandas.core.frame.DataFrame'>\n",
      "RangeIndex: 1599 entries, 0 to 1598\n",
      "Data columns (total 12 columns):\n",
      " #   Column                Non-Null Count  Dtype  \n",
      "---  ------                --------------  -----  \n",
      " 0   fixed acidity         1599 non-null   float64\n",
      " 1   volatile acidity      1599 non-null   float64\n",
      " 2   citric acid           1599 non-null   float64\n",
      " 3   residual sugar        1599 non-null   float64\n",
      " 4   chlorides             1599 non-null   float64\n",
      " 5   free sulfur dioxide   1599 non-null   float64\n",
      " 6   total sulfur dioxide  1599 non-null   float64\n",
      " 7   density               1599 non-null   float64\n",
      " 8   pH                    1599 non-null   float64\n",
      " 9   sulphates             1599 non-null   float64\n",
      " 10  alcohol               1599 non-null   float64\n",
      " 11  quality               1599 non-null   int64  \n",
      "dtypes: float64(11), int64(1)\n",
      "memory usage: 150.0 KB\n"
     ]
    }
   ],
   "source": [
    "wine.info() # 데이터 정보"
   ]
  },
  {
   "cell_type": "code",
   "execution_count": 5,
   "metadata": {
    "colab": {
     "base_uri": "https://localhost:8080/"
    },
    "executionInfo": {
     "elapsed": 32,
     "status": "ok",
     "timestamp": 1632289334314,
     "user": {
      "displayName": "Yongjin Jeong",
      "photoUrl": "https://lh3.googleusercontent.com/a/default-user=s64",
      "userId": "03658406798560557048"
     },
     "user_tz": -540
    },
    "id": "N8DuKt-2U-jh",
    "outputId": "f2f0c598-ae12-492f-d6e2-d59ea047967d"
   },
   "outputs": [
    {
     "data": {
      "text/plain": [
       "Index(['fixed acidity', 'volatile acidity', 'citric acid', 'residual sugar',\n",
       "       'chlorides', 'free sulfur dioxide', 'total sulfur dioxide', 'density',\n",
       "       'pH', 'sulphates', 'alcohol', 'quality'],\n",
       "      dtype='object')"
      ]
     },
     "execution_count": 5,
     "metadata": {},
     "output_type": "execute_result"
    }
   ],
   "source": [
    "wine.columns"
   ]
  },
  {
   "cell_type": "markdown",
   "metadata": {
    "_cell_guid": "9838ca3d-4b89-4503-9d7e-247cc3a9730b",
    "_uuid": "974be3136a2f13bf26a88b26cbddbf73f5cafda9",
    "id": "J1RLz2NvU-jj"
   },
   "source": [
    "## Preprocessing (Label 만들기)"
   ]
  },
  {
   "cell_type": "code",
   "execution_count": 6,
   "metadata": {
    "colab": {
     "base_uri": "https://localhost:8080/"
    },
    "executionInfo": {
     "elapsed": 30,
     "status": "ok",
     "timestamp": 1632289334315,
     "user": {
      "displayName": "Yongjin Jeong",
      "photoUrl": "https://lh3.googleusercontent.com/a/default-user=s64",
      "userId": "03658406798560557048"
     },
     "user_tz": -540
    },
    "id": "82w7-gb_U-jk",
    "outputId": "9c5b6124-eebd-4d7d-9b58-eef91eeac9ad",
    "scrolled": true
   },
   "outputs": [
    {
     "data": {
      "text/plain": [
       "5    681\n",
       "6    638\n",
       "7    199\n",
       "4     53\n",
       "8     18\n",
       "3     10\n",
       "Name: quality, dtype: int64"
      ]
     },
     "execution_count": 6,
     "metadata": {},
     "output_type": "execute_result"
    }
   ],
   "source": [
    "wine['quality'].value_counts()"
   ]
  },
  {
   "cell_type": "markdown",
   "metadata": {},
   "source": [
    "### Make to binary dataset"
   ]
  },
  {
   "cell_type": "code",
   "execution_count": 7,
   "metadata": {
    "_cell_guid": "33e1c5c0-a65a-4918-8d94-db8e4c521d50",
    "_uuid": "3f082340d1b157391052f0fa20a44aa0105ce987",
    "colab": {
     "base_uri": "https://localhost:8080/"
    },
    "executionInfo": {
     "elapsed": 28,
     "status": "ok",
     "timestamp": 1632289334315,
     "user": {
      "displayName": "Yongjin Jeong",
      "photoUrl": "https://lh3.googleusercontent.com/a/default-user=s64",
      "userId": "03658406798560557048"
     },
     "user_tz": -540
    },
    "id": "Dtgh5EgmU-jl",
    "outputId": "329b17f8-020f-4471-8f55-314309b5318f"
   },
   "outputs": [
    {
     "data": {
      "text/plain": [
       "0    1382\n",
       "1     217\n",
       "Name: qual, dtype: int64"
      ]
     },
     "execution_count": 7,
     "metadata": {},
     "output_type": "execute_result"
    }
   ],
   "source": [
    "# 품질이 좋고 나쁜 것을 나누는 기준 설정\n",
    "# 6.5를 기준으로 bad(0) good(1)으로 나눈다 (임의로 나눈 것)\n",
    "my_bins = (2.5, 6.5, 8.5)\n",
    "groups = [0, 1]\n",
    "wine['qual'] = pd.cut(wine['quality'], bins = my_bins, labels = groups) \n",
    "\n",
    "wine['qual'].value_counts()"
   ]
  },
  {
   "cell_type": "code",
   "execution_count": 136,
   "metadata": {
    "_cell_guid": "33e1c5c0-a65a-4918-8d94-db8e4c521d50",
    "_uuid": "3f082340d1b157391052f0fa20a44aa0105ce987",
    "colab": {
     "base_uri": "https://localhost:8080/"
    },
    "executionInfo": {
     "elapsed": 26,
     "status": "ok",
     "timestamp": 1632289334316,
     "user": {
      "displayName": "Yongjin Jeong",
      "photoUrl": "https://lh3.googleusercontent.com/a/default-user=s64",
      "userId": "03658406798560557048"
     },
     "user_tz": -540
    },
    "id": "hpSQEWZUU-jv",
    "outputId": "e3b04cd7-600e-4090-b9e5-61ac1afeb335"
   },
   "outputs": [
    {
     "data": {
      "text/plain": [
       "0    1382\n",
       "1     217\n",
       "Name: qual, dtype: int64"
      ]
     },
     "execution_count": 136,
     "metadata": {},
     "output_type": "execute_result"
    }
   ],
   "source": [
    "X = wine.drop(['quality', 'qual'], axis = 1) \n",
    "y = wine['qual'] \n",
    "\n",
    "y.value_counts()"
   ]
  },
  {
   "cell_type": "code",
   "execution_count": 137,
   "metadata": {
    "colab": {
     "base_uri": "https://localhost:8080/",
     "height": 158
    },
    "executionInfo": {
     "elapsed": 24,
     "status": "ok",
     "timestamp": 1632289334316,
     "user": {
      "displayName": "Yongjin Jeong",
      "photoUrl": "https://lh3.googleusercontent.com/a/default-user=s64",
      "userId": "03658406798560557048"
     },
     "user_tz": -540
    },
    "id": "vdelGflrU-jx",
    "outputId": "03517ef7-7a4a-4d63-fb6f-f7aabd53e378"
   },
   "outputs": [
    {
     "data": {
      "text/html": [
       "<div>\n",
       "<style scoped>\n",
       "    .dataframe tbody tr th:only-of-type {\n",
       "        vertical-align: middle;\n",
       "    }\n",
       "\n",
       "    .dataframe tbody tr th {\n",
       "        vertical-align: top;\n",
       "    }\n",
       "\n",
       "    .dataframe thead th {\n",
       "        text-align: right;\n",
       "    }\n",
       "</style>\n",
       "<table border=\"1\" class=\"dataframe\">\n",
       "  <thead>\n",
       "    <tr style=\"text-align: right;\">\n",
       "      <th></th>\n",
       "      <th>fixed acidity</th>\n",
       "      <th>volatile acidity</th>\n",
       "      <th>citric acid</th>\n",
       "      <th>residual sugar</th>\n",
       "      <th>chlorides</th>\n",
       "      <th>free sulfur dioxide</th>\n",
       "      <th>total sulfur dioxide</th>\n",
       "      <th>density</th>\n",
       "      <th>pH</th>\n",
       "      <th>sulphates</th>\n",
       "      <th>alcohol</th>\n",
       "    </tr>\n",
       "  </thead>\n",
       "  <tbody>\n",
       "    <tr>\n",
       "      <th>0</th>\n",
       "      <td>7.4</td>\n",
       "      <td>0.70</td>\n",
       "      <td>0.00</td>\n",
       "      <td>1.9</td>\n",
       "      <td>0.076</td>\n",
       "      <td>11.0</td>\n",
       "      <td>34.0</td>\n",
       "      <td>0.9978</td>\n",
       "      <td>3.51</td>\n",
       "      <td>0.56</td>\n",
       "      <td>9.4</td>\n",
       "    </tr>\n",
       "    <tr>\n",
       "      <th>1</th>\n",
       "      <td>7.8</td>\n",
       "      <td>0.88</td>\n",
       "      <td>0.00</td>\n",
       "      <td>2.6</td>\n",
       "      <td>0.098</td>\n",
       "      <td>25.0</td>\n",
       "      <td>67.0</td>\n",
       "      <td>0.9968</td>\n",
       "      <td>3.20</td>\n",
       "      <td>0.68</td>\n",
       "      <td>9.8</td>\n",
       "    </tr>\n",
       "    <tr>\n",
       "      <th>2</th>\n",
       "      <td>7.8</td>\n",
       "      <td>0.76</td>\n",
       "      <td>0.04</td>\n",
       "      <td>2.3</td>\n",
       "      <td>0.092</td>\n",
       "      <td>15.0</td>\n",
       "      <td>54.0</td>\n",
       "      <td>0.9970</td>\n",
       "      <td>3.26</td>\n",
       "      <td>0.65</td>\n",
       "      <td>9.8</td>\n",
       "    </tr>\n",
       "  </tbody>\n",
       "</table>\n",
       "</div>"
      ],
      "text/plain": [
       "   fixed acidity  volatile acidity  citric acid  ...    pH  sulphates  alcohol\n",
       "0            7.4              0.70         0.00  ...  3.51       0.56      9.4\n",
       "1            7.8              0.88         0.00  ...  3.20       0.68      9.8\n",
       "2            7.8              0.76         0.04  ...  3.26       0.65      9.8\n",
       "\n",
       "[3 rows x 11 columns]"
      ]
     },
     "execution_count": 137,
     "metadata": {},
     "output_type": "execute_result"
    }
   ],
   "source": [
    "X[:3]"
   ]
  },
  {
   "cell_type": "markdown",
   "metadata": {
    "id": "-EG4FbcoU-jz"
   },
   "source": [
    "## Standard Scaling (표준 스케일링)\n",
    "- transform the dataset to Gaussian dist (0, 1) - numerical features only\n",
    "- test dataset should also be scaled"
   ]
  },
  {
   "cell_type": "code",
   "execution_count": 138,
   "metadata": {
    "executionInfo": {
     "elapsed": 11,
     "status": "ok",
     "timestamp": 1632289334860,
     "user": {
      "displayName": "Yongjin Jeong",
      "photoUrl": "https://lh3.googleusercontent.com/a/default-user=s64",
      "userId": "03658406798560557048"
     },
     "user_tz": -540
    },
    "id": "tSMj56hWU-j0"
   },
   "outputs": [],
   "source": [
    "sc = StandardScaler()\n",
    "X = sc.fit_transform(X)  # fit and transform"
   ]
  },
  {
   "cell_type": "code",
   "execution_count": 139,
   "metadata": {
    "colab": {
     "base_uri": "https://localhost:8080/"
    },
    "executionInfo": {
     "elapsed": 10,
     "status": "ok",
     "timestamp": 1632289334860,
     "user": {
      "displayName": "Yongjin Jeong",
      "photoUrl": "https://lh3.googleusercontent.com/a/default-user=s64",
      "userId": "03658406798560557048"
     },
     "user_tz": -540
    },
    "id": "FLHXs21aU-j1",
    "outputId": "124423ba-39a1-4e9f-ca1b-8f5cbc474132"
   },
   "outputs": [
    {
     "data": {
      "text/plain": [
       "array([[-0.52835961,  0.96187667, -1.39147228, -0.45321841, -0.24370669,\n",
       "        -0.46619252, -0.37913269,  0.55827446,  1.28864292, -0.57920652,\n",
       "        -0.96024611],\n",
       "       [-0.29854743,  1.96744245, -1.39147228,  0.04341614,  0.2238752 ,\n",
       "         0.87263823,  0.62436323,  0.02826077, -0.7199333 ,  0.1289504 ,\n",
       "        -0.58477711],\n",
       "       [-0.29854743,  1.29706527, -1.18607043, -0.16942723,  0.09635286,\n",
       "        -0.08366945,  0.22904665,  0.13426351, -0.33117661, -0.04808883,\n",
       "        -0.58477711]])"
      ]
     },
     "execution_count": 139,
     "metadata": {},
     "output_type": "execute_result"
    }
   ],
   "source": [
    "X[:3]"
   ]
  },
  {
   "cell_type": "code",
   "execution_count": 140,
   "metadata": {
    "_cell_guid": "d7703d9a-3397-4c42-9b38-6f341cac1cde",
    "_uuid": "bdfc0f6ba146f947f265fd493e8327366fdb5c9a",
    "colab": {
     "base_uri": "https://localhost:8080/"
    },
    "executionInfo": {
     "elapsed": 9,
     "status": "ok",
     "timestamp": 1632289334861,
     "user": {
      "displayName": "Yongjin Jeong",
      "photoUrl": "https://lh3.googleusercontent.com/a/default-user=s64",
      "userId": "03658406798560557048"
     },
     "user_tz": -540
    },
    "id": "BQFwKREaU-j2",
    "outputId": "96b19723-5d92-4dd6-a878-6a52d6232c06"
   },
   "outputs": [
    {
     "data": {
      "text/plain": [
       "((1279, 11), (1279,), (320, 11), (320,))"
      ]
     },
     "execution_count": 140,
     "metadata": {},
     "output_type": "execute_result"
    }
   ],
   "source": [
    "np.random.seed(11)\n",
    "X_train, X_test, y_train, y_test = train_test_split(X, y, test_size = 0.2)\n",
    "\n",
    "X_train.shape, y_train.shape, X_test.shape, y_test.shape"
   ]
  },
  {
   "cell_type": "markdown",
   "metadata": {
    "_cell_guid": "cb7432d3-16a5-4764-b792-def2666dffbe",
    "_uuid": "6bb4d5afc35743acfd4630d12038c29f2459ce39",
    "id": "dTkBtwEPU-j3"
   },
   "source": [
    "## Linear model (Stochastic Gradient Descent method)"
   ]
  },
  {
   "cell_type": "code",
   "execution_count": 141,
   "metadata": {
    "_cell_guid": "d6835aea-7d7c-4602-b3f3-11e26a37f816",
    "_uuid": "2e1bc3b870d29573b09f1c590ee18011e29af7c3",
    "colab": {
     "base_uri": "https://localhost:8080/"
    },
    "executionInfo": {
     "elapsed": 8,
     "status": "ok",
     "timestamp": 1632289334861,
     "user": {
      "displayName": "Yongjin Jeong",
      "photoUrl": "https://lh3.googleusercontent.com/a/default-user=s64",
      "userId": "03658406798560557048"
     },
     "user_tz": -540
    },
    "id": "W9pU_TCxU-j4",
    "outputId": "5f787aca-4d20-455f-e6bc-8bfced6c5cf0"
   },
   "outputs": [
    {
     "data": {
      "text/plain": [
       "0.81875"
      ]
     },
     "execution_count": 141,
     "metadata": {},
     "output_type": "execute_result"
    }
   ],
   "source": [
    "sgd = SGDClassifier()\n",
    "sgd.fit(X_train, y_train)\n",
    "sgd.score(X_test,y_test)"
   ]
  },
  {
   "cell_type": "markdown",
   "metadata": {
    "id": "p7vhxtq0U-j5"
   },
   "source": [
    "## Decesion Tree"
   ]
  },
  {
   "cell_type": "code",
   "execution_count": 142,
   "metadata": {
    "colab": {
     "base_uri": "https://localhost:8080/"
    },
    "executionInfo": {
     "elapsed": 7,
     "status": "ok",
     "timestamp": 1632289334862,
     "user": {
      "displayName": "Yongjin Jeong",
      "photoUrl": "https://lh3.googleusercontent.com/a/default-user=s64",
      "userId": "03658406798560557048"
     },
     "user_tz": -540
    },
    "id": "z7BCXBuVU-j6",
    "outputId": "551f6466-12c9-4f38-c009-6656155fafe1"
   },
   "outputs": [
    {
     "data": {
      "text/plain": [
       "(0.9335418295543393, 0.878125)"
      ]
     },
     "execution_count": 142,
     "metadata": {},
     "output_type": "execute_result"
    }
   ],
   "source": [
    "from sklearn.tree import DecisionTreeClassifier\n",
    "clf = DecisionTreeClassifier(max_depth=5)\n",
    "clf.fit(X_train, y_train)\n",
    "clf.score(X_train,y_train), clf.score(X_test,y_test)"
   ]
  },
  {
   "cell_type": "markdown",
   "metadata": {
    "_cell_guid": "0a12868b-8780-43b9-ae70-4c849407aac6",
    "_uuid": "093572f70cda59063611c1c888974e6a863ec7ef",
    "id": "48SjXSADU-j8"
   },
   "source": [
    "## Random Forest Classifier"
   ]
  },
  {
   "cell_type": "code",
   "execution_count": 143,
   "metadata": {
    "colab": {
     "base_uri": "https://localhost:8080/"
    },
    "executionInfo": {
     "elapsed": 399,
     "status": "ok",
     "timestamp": 1632289335256,
     "user": {
      "displayName": "Yongjin Jeong",
      "photoUrl": "https://lh3.googleusercontent.com/a/default-user=s64",
      "userId": "03658406798560557048"
     },
     "user_tz": -540
    },
    "id": "5COIKv9oU-j-",
    "outputId": "f90d14d3-932f-4c0c-9982-964d759dfb1c"
   },
   "outputs": [
    {
     "data": {
      "text/plain": [
       "(0.9296325254104769, 0.88125)"
      ]
     },
     "execution_count": 143,
     "metadata": {},
     "output_type": "execute_result"
    }
   ],
   "source": [
    "from sklearn.ensemble import RandomForestClassifier\n",
    "rfc = RandomForestClassifier(n_estimators=300, max_depth=5) \n",
    "rfc.fit(X_train, y_train)\n",
    "rfc.score(X_train,y_train), rfc.score(X_test,y_test)"
   ]
  },
  {
   "cell_type": "markdown",
   "metadata": {
    "_cell_guid": "eda98e5a-552d-4318-8ae7-1fc45c360be4",
    "_uuid": "9ec5e14c6c24713d6b6e0aaa76ddc5d45886c626",
    "id": "U8UwfW2bU-j_"
   },
   "source": [
    "## Support Vector Classifier (SVC)"
   ]
  },
  {
   "cell_type": "code",
   "execution_count": 144,
   "metadata": {
    "_cell_guid": "c09c2885-0ae7-424b-8bfb-8d60eeab8910",
    "_uuid": "432c960068fac4d27d9be14a39ac0fe92933f532",
    "colab": {
     "base_uri": "https://localhost:8080/"
    },
    "executionInfo": {
     "elapsed": 5,
     "status": "ok",
     "timestamp": 1632289335256,
     "user": {
      "displayName": "Yongjin Jeong",
      "photoUrl": "https://lh3.googleusercontent.com/a/default-user=s64",
      "userId": "03658406798560557048"
     },
     "user_tz": -540
    },
    "id": "EgoZ8CdrU-kA",
    "outputId": "c444eb80-f92e-4970-a194-dd0dfa0cb435"
   },
   "outputs": [
    {
     "data": {
      "text/plain": [
       "(0.8991399530883503, 0.88125)"
      ]
     },
     "execution_count": 144,
     "metadata": {},
     "output_type": "execute_result"
    }
   ],
   "source": [
    "svc = SVC()   # default: C=1.0, kernel='rbf', gamma='scale' \n",
    "svc.fit(X_train, y_train)\n",
    "svc.score(X_train,y_train), svc.score(X_test,y_test)"
   ]
  },
  {
   "cell_type": "markdown",
   "metadata": {
    "id": "1kCU4NxUU-kB"
   },
   "source": [
    "Logistic Regression\n",
    "--"
   ]
  },
  {
   "cell_type": "code",
   "execution_count": 145,
   "metadata": {
    "colab": {
     "base_uri": "https://localhost:8080/"
    },
    "executionInfo": {
     "elapsed": 465,
     "status": "ok",
     "timestamp": 1632289335719,
     "user": {
      "displayName": "Yongjin Jeong",
      "photoUrl": "https://lh3.googleusercontent.com/a/default-user=s64",
      "userId": "03658406798560557048"
     },
     "user_tz": -540
    },
    "id": "4DYwbeINU-kC",
    "outputId": "a866be1e-4b87-4506-8743-9279c1eb4337"
   },
   "outputs": [
    {
     "data": {
      "text/plain": [
       "(0.8819390148553558, 0.86875)"
      ]
     },
     "execution_count": 145,
     "metadata": {},
     "output_type": "execute_result"
    }
   ],
   "source": [
    "log = LogisticRegression()\n",
    "log.fit(X_train, y_train)\n",
    "log.score(X_train,y_train), log.score(X_test,y_test)"
   ]
  },
  {
   "cell_type": "markdown",
   "metadata": {
    "_cell_guid": "d6cd1c1f-9531-4c6a-87c1-262dd7fb6caf",
    "_uuid": "9f705df2b81e776eedc164c5d933ff4dd4c61d31",
    "id": "roQBdSbuU-kD"
   },
   "source": [
    "## Cross validation(교차 검증)"
   ]
  },
  {
   "cell_type": "code",
   "execution_count": 146,
   "metadata": {
    "_cell_guid": "a5507be9-a3eb-4bba-b8d5-928d015faadf",
    "_uuid": "24a7f7dc1bf59eaae6e5ea5a6f61130664fcd260",
    "colab": {
     "base_uri": "https://localhost:8080/"
    },
    "executionInfo": {
     "elapsed": 3641,
     "status": "ok",
     "timestamp": 1632289339358,
     "user": {
      "displayName": "Yongjin Jeong",
      "photoUrl": "https://lh3.googleusercontent.com/a/default-user=s64",
      "userId": "03658406798560557048"
     },
     "user_tz": -540
    },
    "id": "03fHTpjLU-kE",
    "outputId": "5735b69a-489c-4247-fcaf-4a018e28bf4f"
   },
   "outputs": [
    {
     "data": {
      "text/plain": [
       "(array([0.875     , 0.871875  , 0.875     , 0.86875   , 0.88401254]),\n",
       " 0.8749275078369905)"
      ]
     },
     "execution_count": 146,
     "metadata": {},
     "output_type": "execute_result"
    }
   ],
   "source": [
    "# estimator = 모델, cv는 분할 블록의 갯수\n",
    "rfc_eval = cross_val_score(rfc, X, y, cv = 5)  \n",
    "rfc_eval, rfc_eval.mean()"
   ]
  },
  {
   "cell_type": "markdown",
   "metadata": {
    "id": "w_LaB0dOU-kG"
   },
   "source": [
    "##  Performance : 정적 평가, 혼돈 매트릭스 (confusion_matrix)"
   ]
  },
  {
   "cell_type": "code",
   "execution_count": 147,
   "metadata": {
    "_cell_guid": "84334dbd-d36c-4650-87ab-d3e8f73be63c",
    "_uuid": "0fd8c7cd7741be25fd0d5f56d5711e8aaf44ac0f",
    "colab": {
     "base_uri": "https://localhost:8080/"
    },
    "executionInfo": {
     "elapsed": 41,
     "status": "ok",
     "timestamp": 1632289339360,
     "user": {
      "displayName": "Yongjin Jeong",
      "photoUrl": "https://lh3.googleusercontent.com/a/default-user=s64",
      "userId": "03658406798560557048"
     },
     "user_tz": -540
    },
    "id": "fKXPGta5U-kH",
    "outputId": "ec32d5de-8463-4a64-b013-e118626a5fce"
   },
   "outputs": [
    {
     "data": {
      "text/plain": [
       "array([[253,  16],\n",
       "       [ 42,   9]])"
      ]
     },
     "execution_count": 147,
     "metadata": {},
     "output_type": "execute_result"
    }
   ],
   "source": [
    "y_pred = sgd.predict(X_test)\n",
    "confusion_matrix(y_test, y_pred)"
   ]
  },
  {
   "cell_type": "code",
   "execution_count": 148,
   "metadata": {
    "_cell_guid": "1cc15e56-0589-4fa3-a4f1-6f5e7b5547b2",
    "_uuid": "61e8a79a7db4fef289b8d4e3b3dd8e1c01756697",
    "colab": {
     "base_uri": "https://localhost:8080/"
    },
    "executionInfo": {
     "elapsed": 38,
     "status": "ok",
     "timestamp": 1632289339361,
     "user": {
      "displayName": "Yongjin Jeong",
      "photoUrl": "https://lh3.googleusercontent.com/a/default-user=s64",
      "userId": "03658406798560557048"
     },
     "user_tz": -540
    },
    "id": "8cbNpI7XU-kJ",
    "outputId": "24208a39-46a1-49fc-97c6-d21084d68db5"
   },
   "outputs": [
    {
     "name": "stdout",
     "output_type": "stream",
     "text": [
      "              precision    recall  f1-score   support\n",
      "\n",
      "           0       0.86      0.94      0.90       269\n",
      "           1       0.36      0.18      0.24        51\n",
      "\n",
      "    accuracy                           0.82       320\n",
      "   macro avg       0.61      0.56      0.57       320\n",
      "weighted avg       0.78      0.82      0.79       320\n",
      "\n"
     ]
    }
   ],
   "source": [
    "print(classification_report(y_test, y_pred))"
   ]
  },
  {
   "cell_type": "markdown",
   "metadata": {
    "id": "kHO2f7TdU-kO"
   },
   "source": [
    "## Score (or Probability)"
   ]
  },
  {
   "cell_type": "code",
   "execution_count": 149,
   "metadata": {
    "executionInfo": {
     "elapsed": 36,
     "status": "ok",
     "timestamp": 1632289339362,
     "user": {
      "displayName": "Yongjin Jeong",
      "photoUrl": "https://lh3.googleusercontent.com/a/default-user=s64",
      "userId": "03658406798560557048"
     },
     "user_tz": -540
    },
    "id": "hrolYEkwU-kP"
   },
   "outputs": [],
   "source": [
    "y_score = sgd.decision_function(X_test)   # sgd 는 predict_proba() 가 없음\n",
    "# decision_function(): The confidence score for a sample is the signed distance \n",
    "# of that sample to the hyperplane"
   ]
  },
  {
   "cell_type": "code",
   "execution_count": 150,
   "metadata": {
    "colab": {
     "base_uri": "https://localhost:8080/"
    },
    "executionInfo": {
     "elapsed": 36,
     "status": "ok",
     "timestamp": 1632289339363,
     "user": {
      "displayName": "Yongjin Jeong",
      "photoUrl": "https://lh3.googleusercontent.com/a/default-user=s64",
      "userId": "03658406798560557048"
     },
     "user_tz": -540
    },
    "id": "6apX-sMLU-kP",
    "outputId": "baa53ab4-a3b6-4fe9-cf36-05b65333a202"
   },
   "outputs": [
    {
     "data": {
      "text/plain": [
       "array([ 0.79259076, -2.95713556, -5.74014753, -1.21517746, -5.88022051])"
      ]
     },
     "execution_count": 150,
     "metadata": {},
     "output_type": "execute_result"
    }
   ],
   "source": [
    "y_score[:5]"
   ]
  },
  {
   "cell_type": "markdown",
   "metadata": {
    "id": "thOxcmlrU-kV"
   },
   "source": [
    "## Ranking (순서를 평가)"
   ]
  },
  {
   "cell_type": "code",
   "execution_count": 151,
   "metadata": {
    "colab": {
     "base_uri": "https://localhost:8080/",
     "height": 203
    },
    "executionInfo": {
     "elapsed": 34,
     "status": "ok",
     "timestamp": 1632289339365,
     "user": {
      "displayName": "Yongjin Jeong",
      "photoUrl": "https://lh3.googleusercontent.com/a/default-user=s64",
      "userId": "03658406798560557048"
     },
     "user_tz": -540
    },
    "id": "N3LJIF9sU-kY",
    "outputId": "57d607db-f8b3-4c6a-a8c2-ccf373d6381f",
    "scrolled": true
   },
   "outputs": [
    {
     "data": {
      "text/html": [
       "<div>\n",
       "<style scoped>\n",
       "    .dataframe tbody tr th:only-of-type {\n",
       "        vertical-align: middle;\n",
       "    }\n",
       "\n",
       "    .dataframe tbody tr th {\n",
       "        vertical-align: top;\n",
       "    }\n",
       "\n",
       "    .dataframe thead th {\n",
       "        text-align: right;\n",
       "    }\n",
       "</style>\n",
       "<table border=\"1\" class=\"dataframe\">\n",
       "  <thead>\n",
       "    <tr style=\"text-align: right;\">\n",
       "      <th></th>\n",
       "      <th>score</th>\n",
       "      <th>predict</th>\n",
       "      <th>real</th>\n",
       "      <th>correct</th>\n",
       "    </tr>\n",
       "  </thead>\n",
       "  <tbody>\n",
       "    <tr>\n",
       "      <th>0</th>\n",
       "      <td>0.792591</td>\n",
       "      <td>1</td>\n",
       "      <td>0</td>\n",
       "      <td>False</td>\n",
       "    </tr>\n",
       "    <tr>\n",
       "      <th>1</th>\n",
       "      <td>-2.957136</td>\n",
       "      <td>0</td>\n",
       "      <td>0</td>\n",
       "      <td>True</td>\n",
       "    </tr>\n",
       "    <tr>\n",
       "      <th>2</th>\n",
       "      <td>-5.740148</td>\n",
       "      <td>0</td>\n",
       "      <td>0</td>\n",
       "      <td>True</td>\n",
       "    </tr>\n",
       "    <tr>\n",
       "      <th>3</th>\n",
       "      <td>-1.215177</td>\n",
       "      <td>0</td>\n",
       "      <td>0</td>\n",
       "      <td>True</td>\n",
       "    </tr>\n",
       "    <tr>\n",
       "      <th>4</th>\n",
       "      <td>-5.880221</td>\n",
       "      <td>0</td>\n",
       "      <td>0</td>\n",
       "      <td>True</td>\n",
       "    </tr>\n",
       "  </tbody>\n",
       "</table>\n",
       "</div>"
      ],
      "text/plain": [
       "      score  predict  real  correct\n",
       "0  0.792591        1     0    False\n",
       "1 -2.957136        0     0     True\n",
       "2 -5.740148        0     0     True\n",
       "3 -1.215177        0     0     True\n",
       "4 -5.880221        0     0     True"
      ]
     },
     "execution_count": 151,
     "metadata": {},
     "output_type": "execute_result"
    }
   ],
   "source": [
    "result = pd.DataFrame(list(zip(y_score, y_pred, y_test)), \n",
    "                      columns=['score', 'predict', 'real'])\n",
    "result['correct'] = (result.predict == result.real)\n",
    "result.head()"
   ]
  },
  {
   "cell_type": "markdown",
   "metadata": {
    "id": "q7vxgt3cU-ke"
   },
   "source": [
    "## ROC and AUC (맞춘 순서로 평가)"
   ]
  },
  {
   "cell_type": "code",
   "execution_count": 152,
   "metadata": {
    "colab": {
     "base_uri": "https://localhost:8080/",
     "height": 421
    },
    "executionInfo": {
     "elapsed": 797,
     "status": "ok",
     "timestamp": 1632289340130,
     "user": {
      "displayName": "Yongjin Jeong",
      "photoUrl": "https://lh3.googleusercontent.com/a/default-user=s64",
      "userId": "03658406798560557048"
     },
     "user_tz": -540
    },
    "id": "OCr7gS-6U-kf",
    "outputId": "85f46bf4-d18b-4fe5-aff8-6dcd3a93e0d1"
   },
   "outputs": [
    {
     "data": {
      "text/plain": [
       "<matplotlib.legend.Legend at 0x7fef597fdf10>"
      ]
     },
     "execution_count": 152,
     "metadata": {},
     "output_type": "execute_result"
    },
    {
     "data": {
      "image/png": "[encoded data removed]",
      "text/plain": [
       "<Figure size 432x432 with 1 Axes>"
      ]
     },
     "metadata": {
      "needs_background": "light"
     },
     "output_type": "display_data"
    }
   ],
   "source": [
    "fpr = dict()\n",
    "tpr = dict()\n",
    "roc_auc = dict()\n",
    "fpr, tpr, _ = roc_curve(y_test, y_score)\n",
    "roc_auc = auc(fpr, tpr)\n",
    "\n",
    "plt.figure(figsize=(6,6))\n",
    "plt.plot(fpr, tpr, label='ROC curve (area = %0.2f)' % roc_auc)\n",
    "plt.plot([0, 1], [0, 1], linestyle='--')\n",
    "plt.xlim([0.0, 1.0])\n",
    "plt.ylim([0.0, 1.05])\n",
    "plt.xlabel('False Positive Rate')\n",
    "plt.ylabel('True Positive Rate')\n",
    "plt.title('ROC')\n",
    "plt.legend(loc=\"lower right\")"
   ]
  },
  {
   "cell_type": "markdown",
   "metadata": {
    "id": "3KiWgLqlschi"
   },
   "source": [
    "## Precision-Recall curve"
   ]
  },
  {
   "cell_type": "code",
   "execution_count": 153,
   "metadata": {
    "colab": {
     "base_uri": "https://localhost:8080/",
     "height": 296
    },
    "executionInfo": {
     "elapsed": 29,
     "status": "ok",
     "timestamp": 1632289340132,
     "user": {
      "displayName": "Yongjin Jeong",
      "photoUrl": "https://lh3.googleusercontent.com/a/default-user=s64",
      "userId": "03658406798560557048"
     },
     "user_tz": -540
    },
    "id": "qDV5iVOyU-lN",
    "outputId": "b5be2207-c147-4865-fbbf-5ef33ebd712e"
   },
   "outputs": [
    {
     "data": {
      "text/plain": [
       "<matplotlib.legend.Legend at 0x7fef77c25450>"
      ]
     },
     "execution_count": 153,
     "metadata": {},
     "output_type": "execute_result"
    },
    {
     "data": {
      "image/png": "[encoded data removed]",
      "text/plain": [
       "<Figure size 432x288 with 1 Axes>"
      ]
     },
     "metadata": {
      "needs_background": "light"
     },
     "output_type": "display_data"
    }
   ],
   "source": [
    "from sklearn.metrics import average_precision_score\n",
    "precision, recall, thresholds = precision_recall_curve(y_test, y_score)\n",
    "auc_score = auc(recall, precision)\n",
    "plt.plot(recall, precision, marker='.', label='area = %0.2f' % auc_score)\n",
    "plt.xlabel('Recall')\n",
    "plt.ylabel('Precision')\n",
    "plt.legend()"
   ]
  },
  {
   "cell_type": "code",
   "execution_count": 153,
   "metadata": {
    "executionInfo": {
     "elapsed": 21,
     "status": "ok",
     "timestamp": 1632289340133,
     "user": {
      "displayName": "Yongjin Jeong",
      "photoUrl": "https://lh3.googleusercontent.com/a/default-user=s64",
      "userId": "03658406798560557048"
     },
     "user_tz": -540
    },
    "id": "u-JsafDpBaxm"
   },
   "outputs": [],
   "source": []
  }
 ],
 "metadata": {
  "colab": {
   "collapsed_sections": [],
   "name": "lab41_classification_perf_wine_example.ipynb",
   "provenance": [],
   "toc_visible": true
  },
  "kernelspec": {
   "display_name": "Python 3",
   "language": "python",
   "name": "python3"
  },
  "language_info": {
   "codemirror_mode": {
    "name": "ipython",
    "version": 3
   },
   "file_extension": ".py",
   "mimetype": "text/x-python",
   "name": "python",
   "nbconvert_exporter": "python",
   "pygments_lexer": "ipython3",
   "version": "3.8.8"
  }
 },
 "nbformat": 4,
 "nbformat_minor": 1
}
