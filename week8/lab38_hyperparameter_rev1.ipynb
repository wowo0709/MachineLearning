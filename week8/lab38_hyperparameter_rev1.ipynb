{
 "cells": [
  {
   "cell_type": "markdown",
   "metadata": {
    "id": "z3sm3tO66_ul"
   },
   "source": [
    "## Hyperparameter Tuning\n",
    "\n",
    "- to choose a set of optimal hyperparameters for a learning algorithm\n",
    "- example case: Bike Renting Analysis problem (from kaggle)"
   ]
  },
  {
   "cell_type": "markdown",
   "metadata": {},
   "source": [
    "### Setup"
   ]
  },
  {
   "cell_type": "code",
   "execution_count": 87,
   "metadata": {
    "executionInfo": {
     "elapsed": 1611,
     "status": "ok",
     "timestamp": 1634528125166,
     "user": {
      "displayName": "Yongjin Jeong",
      "photoUrl": "https://lh3.googleusercontent.com/a/default-user=s64",
      "userId": "03658406798560557048"
     },
     "user_tz": -540
    },
    "id": "8pvv5VcZ6_un"
   },
   "outputs": [],
   "source": [
    "import numpy as np\n",
    "import pandas as pd\n",
    "import seaborn as sns\n",
    "import matplotlib.pyplot as plt\n",
    "from sklearn.ensemble import RandomForestRegressor\n",
    "from sklearn.linear_model import LinearRegression\n",
    "from sklearn.tree import DecisionTreeRegressor\n",
    "from sklearn import svm\n",
    "from sklearn.model_selection import cross_val_score, train_test_split\n",
    "from sklearn.metrics import make_scorer\n",
    "%matplotlib inline"
   ]
  },
  {
   "cell_type": "markdown",
   "metadata": {},
   "source": [
    "### Import dataset"
   ]
  },
  {
   "cell_type": "code",
   "execution_count": 88,
   "metadata": {
    "colab": {
     "base_uri": "https://localhost:8080/"
    },
    "executionInfo": {
     "elapsed": 1755,
     "status": "ok",
     "timestamp": 1634528126913,
     "user": {
      "displayName": "Yongjin Jeong",
      "photoUrl": "https://lh3.googleusercontent.com/a/default-user=s64",
      "userId": "03658406798560557048"
     },
     "user_tz": -540
    },
    "id": "8Czy7G2I7DnQ",
    "outputId": "968176bb-688f-4bfc-c2d3-d87b6308d270"
   },
   "outputs": [
    {
     "name": "stderr",
     "output_type": "stream",
     "text": [
      "  % Total    % Received % Xferd  Average Speed   Time    Time     Time  Current\n",
      "                                 Dload  Upload   Total   Spent    Left  Speed\n",
      "\n",
      "  0     0    0     0    0     0      0      0 --:--:-- --:--:-- --:--:--     0\n",
      "  0     0    0     0    0     0      0      0 --:--:-- --:--:-- --:--:--     0\n",
      "\n",
      "  0     0    0     0    0     0      0      0 --:--:-- --:--:-- --:--:--     0\n",
      "100   139    0   139    0     0    166      0 --:--:-- --:--:-- --:--:--  2355\n",
      "\n",
      "100   318  100   318    0     0    263      0  0:00:01  0:00:01 --:--:--   263\n",
      "\n",
      "  0     0    0     0    0     0      0      0 --:--:--  0:00:02 --:--:--     0\n",
      " 58  643k   58  375k    0     0   140k      0  0:00:04  0:00:02  0:00:02  625k\n",
      "100  643k  100  643k    0     0   231k      0  0:00:02  0:00:02 --:--:--  911k\n"
     ]
    }
   ],
   "source": [
    "!curl -L https://goo.gl/s8qSL5  -o ./bike_train.csv\n",
    "# !curl https://goo.gl/s8qSL5  -o ../Lab_M2/data/bike_train.csv"
   ]
  },
  {
   "cell_type": "code",
   "execution_count": 89,
   "metadata": {
    "colab": {
     "base_uri": "https://localhost:8080/"
    },
    "executionInfo": {
     "elapsed": 42,
     "status": "ok",
     "timestamp": 1634528126915,
     "user": {
      "displayName": "Yongjin Jeong",
      "photoUrl": "https://lh3.googleusercontent.com/a/default-user=s64",
      "userId": "03658406798560557048"
     },
     "user_tz": -540
    },
    "id": "9oVF55o2Xvfk",
    "outputId": "1cfe791c-126f-4619-ae5a-4968eab3fccc"
   },
   "outputs": [
    {
     "data": {
      "text/plain": [
       "datetime       object\n",
       "season          int64\n",
       "holiday         int64\n",
       "workingday      int64\n",
       "weather         int64\n",
       "temp          float64\n",
       "atemp         float64\n",
       "humidity        int64\n",
       "windspeed     float64\n",
       "casual          int64\n",
       "registered      int64\n",
       "count           int64\n",
       "dtype: object"
      ]
     },
     "execution_count": 89,
     "metadata": {},
     "output_type": "execute_result"
    }
   ],
   "source": [
    "train = pd.read_csv(\"bike_train.csv\")\n",
    "train.dtypes"
   ]
  },
  {
   "cell_type": "markdown",
   "metadata": {
    "id": "gE8uqvTL7FlZ"
   },
   "source": [
    "### Data read and Preprocessing"
   ]
  },
  {
   "cell_type": "code",
   "execution_count": 90,
   "metadata": {
    "colab": {
     "base_uri": "https://localhost:8080/"
    },
    "executionInfo": {
     "elapsed": 39,
     "status": "ok",
     "timestamp": 1634528126917,
     "user": {
      "displayName": "Yongjin Jeong",
      "photoUrl": "https://lh3.googleusercontent.com/a/default-user=s64",
      "userId": "03658406798560557048"
     },
     "user_tz": -540
    },
    "id": "sYlVVu4pXvfl",
    "outputId": "485fc073-52a8-4cb8-cc70-79cf7b008f4f",
    "scrolled": true
   },
   "outputs": [
    {
     "data": {
      "text/plain": [
       "datetime      datetime64[ns]\n",
       "season                 int64\n",
       "holiday                int64\n",
       "workingday             int64\n",
       "weather                int64\n",
       "temp                 float64\n",
       "atemp                float64\n",
       "humidity               int64\n",
       "windspeed            float64\n",
       "casual                 int64\n",
       "registered             int64\n",
       "count                  int64\n",
       "dtype: object"
      ]
     },
     "execution_count": 90,
     "metadata": {},
     "output_type": "execute_result"
    }
   ],
   "source": [
    "train = pd.read_csv(\"bike_train.csv\", parse_dates=[\"datetime\"])\n",
    "train.dtypes"
   ]
  },
  {
   "cell_type": "code",
   "execution_count": 91,
   "metadata": {
    "colab": {
     "base_uri": "https://localhost:8080/",
     "height": 143
    },
    "executionInfo": {
     "elapsed": 36,
     "status": "ok",
     "timestamp": 1634528126918,
     "user": {
      "displayName": "Yongjin Jeong",
      "photoUrl": "https://lh3.googleusercontent.com/a/default-user=s64",
      "userId": "03658406798560557048"
     },
     "user_tz": -540
    },
    "id": "yzCBJoUdXvfl",
    "outputId": "ea429dbb-4b8e-4f19-e05f-60a71e8266ea"
   },
   "outputs": [
    {
     "data": {
      "text/html": [
       "<div>\n",
       "<style scoped>\n",
       "    .dataframe tbody tr th:only-of-type {\n",
       "        vertical-align: middle;\n",
       "    }\n",
       "\n",
       "    .dataframe tbody tr th {\n",
       "        vertical-align: top;\n",
       "    }\n",
       "\n",
       "    .dataframe thead th {\n",
       "        text-align: right;\n",
       "    }\n",
       "</style>\n",
       "<table border=\"1\" class=\"dataframe\">\n",
       "  <thead>\n",
       "    <tr style=\"text-align: right;\">\n",
       "      <th></th>\n",
       "      <th>datetime</th>\n",
       "      <th>season</th>\n",
       "      <th>holiday</th>\n",
       "      <th>workingday</th>\n",
       "      <th>weather</th>\n",
       "      <th>temp</th>\n",
       "      <th>atemp</th>\n",
       "      <th>humidity</th>\n",
       "      <th>windspeed</th>\n",
       "      <th>casual</th>\n",
       "      <th>registered</th>\n",
       "      <th>count</th>\n",
       "    </tr>\n",
       "  </thead>\n",
       "  <tbody>\n",
       "    <tr>\n",
       "      <th>0</th>\n",
       "      <td>2011-01-01 00:00:00</td>\n",
       "      <td>1</td>\n",
       "      <td>0</td>\n",
       "      <td>0</td>\n",
       "      <td>1</td>\n",
       "      <td>9.84</td>\n",
       "      <td>14.395</td>\n",
       "      <td>81</td>\n",
       "      <td>0.0</td>\n",
       "      <td>3</td>\n",
       "      <td>13</td>\n",
       "      <td>16</td>\n",
       "    </tr>\n",
       "    <tr>\n",
       "      <th>1</th>\n",
       "      <td>2011-01-01 01:00:00</td>\n",
       "      <td>1</td>\n",
       "      <td>0</td>\n",
       "      <td>0</td>\n",
       "      <td>1</td>\n",
       "      <td>9.02</td>\n",
       "      <td>13.635</td>\n",
       "      <td>80</td>\n",
       "      <td>0.0</td>\n",
       "      <td>8</td>\n",
       "      <td>32</td>\n",
       "      <td>40</td>\n",
       "    </tr>\n",
       "    <tr>\n",
       "      <th>2</th>\n",
       "      <td>2011-01-01 02:00:00</td>\n",
       "      <td>1</td>\n",
       "      <td>0</td>\n",
       "      <td>0</td>\n",
       "      <td>1</td>\n",
       "      <td>9.02</td>\n",
       "      <td>13.635</td>\n",
       "      <td>80</td>\n",
       "      <td>0.0</td>\n",
       "      <td>5</td>\n",
       "      <td>27</td>\n",
       "      <td>32</td>\n",
       "    </tr>\n",
       "  </tbody>\n",
       "</table>\n",
       "</div>"
      ],
      "text/plain": [
       "             datetime  season  holiday  workingday  weather  temp   atemp  \\\n",
       "0 2011-01-01 00:00:00       1        0           0        1  9.84  14.395   \n",
       "1 2011-01-01 01:00:00       1        0           0        1  9.02  13.635   \n",
       "2 2011-01-01 02:00:00       1        0           0        1  9.02  13.635   \n",
       "\n",
       "   humidity  windspeed  casual  registered  count  \n",
       "0        81        0.0       3          13     16  \n",
       "1        80        0.0       8          32     40  \n",
       "2        80        0.0       5          27     32  "
      ]
     },
     "execution_count": 91,
     "metadata": {},
     "output_type": "execute_result"
    }
   ],
   "source": [
    "train.head(3)"
   ]
  },
  {
   "cell_type": "code",
   "execution_count": 92,
   "metadata": {
    "colab": {
     "base_uri": "https://localhost:8080/"
    },
    "executionInfo": {
     "elapsed": 35,
     "status": "ok",
     "timestamp": 1634528126920,
     "user": {
      "displayName": "Yongjin Jeong",
      "photoUrl": "https://lh3.googleusercontent.com/a/default-user=s64",
      "userId": "03658406798560557048"
     },
     "user_tz": -540
    },
    "id": "SedFsYPXXvfl",
    "outputId": "7e8cc7c9-c4fb-43e2-837f-962b5104f66c"
   },
   "outputs": [
    {
     "data": {
      "text/plain": [
       "(10886, 12)"
      ]
     },
     "execution_count": 92,
     "metadata": {},
     "output_type": "execute_result"
    }
   ],
   "source": [
    "train.shape     # (10886, 12)"
   ]
  },
  {
   "cell_type": "code",
   "execution_count": 93,
   "metadata": {
    "colab": {
     "base_uri": "https://localhost:8080/"
    },
    "executionInfo": {
     "elapsed": 32,
     "status": "ok",
     "timestamp": 1634528126921,
     "user": {
      "displayName": "Yongjin Jeong",
      "photoUrl": "https://lh3.googleusercontent.com/a/default-user=s64",
      "userId": "03658406798560557048"
     },
     "user_tz": -540
    },
    "id": "RpDVzVSo6_ux",
    "outputId": "14a5e773-fc80-45a5-b84c-109f013e5f95"
   },
   "outputs": [
    {
     "name": "stdout",
     "output_type": "stream",
     "text": [
      "<class 'pandas.core.frame.DataFrame'>\n",
      "RangeIndex: 10886 entries, 0 to 10885\n",
      "Data columns (total 12 columns):\n",
      " #   Column      Non-Null Count  Dtype         \n",
      "---  ------      --------------  -----         \n",
      " 0   datetime    10886 non-null  datetime64[ns]\n",
      " 1   season      10886 non-null  int64         \n",
      " 2   holiday     10886 non-null  int64         \n",
      " 3   workingday  10886 non-null  int64         \n",
      " 4   weather     10886 non-null  int64         \n",
      " 5   temp        10886 non-null  float64       \n",
      " 6   atemp       10886 non-null  float64       \n",
      " 7   humidity    10886 non-null  int64         \n",
      " 8   windspeed   10886 non-null  float64       \n",
      " 9   casual      10886 non-null  int64         \n",
      " 10  registered  10886 non-null  int64         \n",
      " 11  count       10886 non-null  int64         \n",
      "dtypes: datetime64[ns](1), float64(3), int64(8)\n",
      "memory usage: 1020.7 KB\n"
     ]
    }
   ],
   "source": [
    "train.info()"
   ]
  },
  {
   "cell_type": "markdown",
   "metadata": {
    "id": "w9f22Ah36_u0"
   },
   "source": [
    "- decompose 'datetime' feature"
   ]
  },
  {
   "cell_type": "code",
   "execution_count": 94,
   "metadata": {
    "executionInfo": {
     "elapsed": 29,
     "status": "ok",
     "timestamp": 1634528126922,
     "user": {
      "displayName": "Yongjin Jeong",
      "photoUrl": "https://lh3.googleusercontent.com/a/default-user=s64",
      "userId": "03658406798560557048"
     },
     "user_tz": -540
    },
    "id": "GMMzNEvZ6_u2"
   },
   "outputs": [],
   "source": [
    "train[\"d-year\"] = train[\"datetime\"].dt.year\n",
    "train[\"d-month\"] = train[\"datetime\"].dt.month\n",
    "train[\"d-day\"] = train[\"datetime\"].dt.day\n",
    "train[\"d-hour\"] = train[\"datetime\"].dt.hour\n",
    "train[\"d-minute\"] = train[\"datetime\"].dt.minute\n",
    "train[\"d-second\"] = train[\"datetime\"].dt.second"
   ]
  },
  {
   "cell_type": "code",
   "execution_count": 95,
   "metadata": {
    "executionInfo": {
     "elapsed": 29,
     "status": "ok",
     "timestamp": 1634528126923,
     "user": {
      "displayName": "Yongjin Jeong",
      "photoUrl": "https://lh3.googleusercontent.com/a/default-user=s64",
      "userId": "03658406798560557048"
     },
     "user_tz": -540
    },
    "id": "ftdzLIQUZ3uo"
   },
   "outputs": [],
   "source": [
    "train[\"d-dayofweek\"] = train[\"datetime\"].dt.dayofweek   # monday(0), ... sunday(6)"
   ]
  },
  {
   "cell_type": "code",
   "execution_count": 96,
   "metadata": {
    "colab": {
     "base_uri": "https://localhost:8080/",
     "height": 205
    },
    "executionInfo": {
     "elapsed": 29,
     "status": "ok",
     "timestamp": 1634528126924,
     "user": {
      "displayName": "Yongjin Jeong",
      "photoUrl": "https://lh3.googleusercontent.com/a/default-user=s64",
      "userId": "03658406798560557048"
     },
     "user_tz": -540
    },
    "id": "QeBbSRhaaHoM",
    "outputId": "131cc130-59ae-4f1e-e3b8-076ff41d9411"
   },
   "outputs": [
    {
     "data": {
      "text/html": [
       "<div>\n",
       "<style scoped>\n",
       "    .dataframe tbody tr th:only-of-type {\n",
       "        vertical-align: middle;\n",
       "    }\n",
       "\n",
       "    .dataframe tbody tr th {\n",
       "        vertical-align: top;\n",
       "    }\n",
       "\n",
       "    .dataframe thead th {\n",
       "        text-align: right;\n",
       "    }\n",
       "</style>\n",
       "<table border=\"1\" class=\"dataframe\">\n",
       "  <thead>\n",
       "    <tr style=\"text-align: right;\">\n",
       "      <th></th>\n",
       "      <th>datetime</th>\n",
       "      <th>d-year</th>\n",
       "      <th>d-month</th>\n",
       "      <th>d-day</th>\n",
       "      <th>d-hour</th>\n",
       "      <th>d-minute</th>\n",
       "      <th>d-second</th>\n",
       "      <th>d-dayofweek</th>\n",
       "    </tr>\n",
       "  </thead>\n",
       "  <tbody>\n",
       "    <tr>\n",
       "      <th>0</th>\n",
       "      <td>2011-01-01 00:00:00</td>\n",
       "      <td>2011</td>\n",
       "      <td>1</td>\n",
       "      <td>1</td>\n",
       "      <td>0</td>\n",
       "      <td>0</td>\n",
       "      <td>0</td>\n",
       "      <td>5</td>\n",
       "    </tr>\n",
       "    <tr>\n",
       "      <th>1</th>\n",
       "      <td>2011-01-01 01:00:00</td>\n",
       "      <td>2011</td>\n",
       "      <td>1</td>\n",
       "      <td>1</td>\n",
       "      <td>1</td>\n",
       "      <td>0</td>\n",
       "      <td>0</td>\n",
       "      <td>5</td>\n",
       "    </tr>\n",
       "    <tr>\n",
       "      <th>2</th>\n",
       "      <td>2011-01-01 02:00:00</td>\n",
       "      <td>2011</td>\n",
       "      <td>1</td>\n",
       "      <td>1</td>\n",
       "      <td>2</td>\n",
       "      <td>0</td>\n",
       "      <td>0</td>\n",
       "      <td>5</td>\n",
       "    </tr>\n",
       "    <tr>\n",
       "      <th>3</th>\n",
       "      <td>2011-01-01 03:00:00</td>\n",
       "      <td>2011</td>\n",
       "      <td>1</td>\n",
       "      <td>1</td>\n",
       "      <td>3</td>\n",
       "      <td>0</td>\n",
       "      <td>0</td>\n",
       "      <td>5</td>\n",
       "    </tr>\n",
       "    <tr>\n",
       "      <th>4</th>\n",
       "      <td>2011-01-01 04:00:00</td>\n",
       "      <td>2011</td>\n",
       "      <td>1</td>\n",
       "      <td>1</td>\n",
       "      <td>4</td>\n",
       "      <td>0</td>\n",
       "      <td>0</td>\n",
       "      <td>5</td>\n",
       "    </tr>\n",
       "  </tbody>\n",
       "</table>\n",
       "</div>"
      ],
      "text/plain": [
       "             datetime  d-year  d-month  d-day  d-hour  d-minute  d-second  \\\n",
       "0 2011-01-01 00:00:00    2011        1      1       0         0         0   \n",
       "1 2011-01-01 01:00:00    2011        1      1       1         0         0   \n",
       "2 2011-01-01 02:00:00    2011        1      1       2         0         0   \n",
       "3 2011-01-01 03:00:00    2011        1      1       3         0         0   \n",
       "4 2011-01-01 04:00:00    2011        1      1       4         0         0   \n",
       "\n",
       "   d-dayofweek  \n",
       "0            5  \n",
       "1            5  \n",
       "2            5  \n",
       "3            5  \n",
       "4            5  "
      ]
     },
     "execution_count": 96,
     "metadata": {},
     "output_type": "execute_result"
    }
   ],
   "source": [
    "train[[\"datetime\", \"d-year\", \"d-month\", \"d-day\", \"d-hour\", \n",
    "       \"d-minute\", \"d-second\", \"d-dayofweek\"]].head()"
   ]
  },
  {
   "cell_type": "code",
   "execution_count": 97,
   "metadata": {
    "colab": {
     "base_uri": "https://localhost:8080/",
     "height": 406
    },
    "executionInfo": {
     "elapsed": 3863,
     "status": "ok",
     "timestamp": 1634528130760,
     "user": {
      "displayName": "Yongjin Jeong",
      "photoUrl": "https://lh3.googleusercontent.com/a/default-user=s64",
      "userId": "03658406798560557048"
     },
     "user_tz": -540
    },
    "id": "-7aRyOMs6_u6",
    "outputId": "ea9be20c-6a4b-4316-ef4d-8d92397e6553",
    "scrolled": true
   },
   "outputs": [
    {
     "data": {
      "text/plain": [
       "<AxesSubplot:xlabel='d-hour', ylabel='count'>"
      ]
     },
     "execution_count": 97,
     "metadata": {},
     "output_type": "execute_result"
    },
    {
     "data": {
      "image/png": "[encoded data removed]",
      "text/plain": [
       "<Figure size 864x432 with 4 Axes>"
      ]
     },
     "metadata": {
      "needs_background": "light"
     },
     "output_type": "display_data"
    }
   ],
   "source": [
    "figure, ((ax1, ax2), (ax3, ax4)) = plt.subplots(nrows=2, ncols=2)\n",
    "figure.set_size_inches(12, 6)\n",
    "\n",
    "sns.barplot(data=train, x=\"d-year\", y=\"count\", ax=ax1)\n",
    "sns.barplot(data=train, x=\"d-month\", y=\"count\", ax=ax2)\n",
    "sns.barplot(data=train, x=\"d-day\", y=\"count\", ax=ax3)\n",
    "sns.barplot(data=train, x=\"d-hour\", y=\"count\", ax=ax4)"
   ]
  },
  {
   "cell_type": "markdown",
   "metadata": {
    "id": "TvaI3kPr7L5g"
   },
   "source": [
    "### Data Analysis"
   ]
  },
  {
   "cell_type": "markdown",
   "metadata": {
    "id": "VkaLS0mH6_u9"
   },
   "source": [
    "#### average numbers of rentals by hour (weekdays and weekends)\n",
    "\n",
    "- pointplot():point estimates and confidence intervals using scatter plot\n",
    "- It is important to keep in mind that a point plot shows only the mean (or other estimator) value, but in many cases it may be more informative to show the distribution of values at each level of the categorical variables. In that case, other approaches such as a box or violin plot may be more appropriate."
   ]
  },
  {
   "cell_type": "code",
   "execution_count": 98,
   "metadata": {
    "colab": {
     "base_uri": "https://localhost:8080/",
     "height": 296
    },
    "executionInfo": {
     "elapsed": 1641,
     "status": "ok",
     "timestamp": 1634528132387,
     "user": {
      "displayName": "Yongjin Jeong",
      "photoUrl": "https://lh3.googleusercontent.com/a/default-user=s64",
      "userId": "03658406798560557048"
     },
     "user_tz": -540
    },
    "id": "YSlHZAMd6_u-",
    "outputId": "71a3f54e-c3ba-4ff0-acfc-b8f330653f59",
    "scrolled": false
   },
   "outputs": [
    {
     "data": {
      "text/plain": [
       "<AxesSubplot:xlabel='d-hour', ylabel='count'>"
      ]
     },
     "execution_count": 98,
     "metadata": {},
     "output_type": "execute_result"
    },
    {
     "data": {
      "image/png": "[encoded data removed]",
      "text/plain": [
       "<Figure size 864x288 with 1 Axes>"
      ]
     },
     "metadata": {
      "needs_background": "light"
     },
     "output_type": "display_data"
    }
   ],
   "source": [
    "plt.figure(figsize=(12,4))\n",
    "# sns.pointplot(data=train, x=\"d-hour\", y=\"count\", hue=\"workingday\")\n",
    "sns.pointplot(data=train, x=\"d-hour\", y=\"count\")"
   ]
  },
  {
   "cell_type": "code",
   "execution_count": 99,
   "metadata": {
    "colab": {
     "base_uri": "https://localhost:8080/",
     "height": 296
    },
    "executionInfo": {
     "elapsed": 2591,
     "status": "ok",
     "timestamp": 1634528134964,
     "user": {
      "displayName": "Yongjin Jeong",
      "photoUrl": "https://lh3.googleusercontent.com/a/default-user=s64",
      "userId": "03658406798560557048"
     },
     "user_tz": -540
    },
    "id": "Ht9f0JVJXvfl",
    "outputId": "75fca96e-02b7-4151-b5fa-70e8105f998e"
   },
   "outputs": [
    {
     "data": {
      "text/plain": [
       "<AxesSubplot:xlabel='d-hour', ylabel='count'>"
      ]
     },
     "execution_count": 99,
     "metadata": {},
     "output_type": "execute_result"
    },
    {
     "data": {
      "image/png": "[encoded data removed]",
      "text/plain": [
       "<Figure size 864x288 with 1 Axes>"
      ]
     },
     "metadata": {
      "needs_background": "light"
     },
     "output_type": "display_data"
    }
   ],
   "source": [
    "plt.figure(figsize=(12,4))\n",
    "sns.pointplot(data=train, x=\"d-hour\", y=\"count\", hue=\"workingday\")"
   ]
  },
  {
   "cell_type": "markdown",
   "metadata": {
    "id": "SVydGWER6_vB"
   },
   "source": [
    "#### average number of rentals (weekdays)\n",
    "\n",
    "- dayofweek: return the day of the week. It is assumed the week starts on Monday, which is denoted by 0 and ends on Sunday which is denoted by 6. This method is available on both Series with datetime values (using the dt accessor) or DatetimeIndex."
   ]
  },
  {
   "cell_type": "code",
   "execution_count": 100,
   "metadata": {
    "colab": {
     "base_uri": "https://localhost:8080/",
     "height": 223
    },
    "executionInfo": {
     "elapsed": 22,
     "status": "ok",
     "timestamp": 1634528134966,
     "user": {
      "displayName": "Yongjin Jeong",
      "photoUrl": "https://lh3.googleusercontent.com/a/default-user=s64",
      "userId": "03658406798560557048"
     },
     "user_tz": -540
    },
    "id": "d7PJftHE6_vC",
    "outputId": "45f816cd-2f25-4606-c952-8b0740941a78"
   },
   "outputs": [
    {
     "name": "stdout",
     "output_type": "stream",
     "text": [
      "(10886, 19)\n"
     ]
    },
    {
     "data": {
      "text/html": [
       "<div>\n",
       "<style scoped>\n",
       "    .dataframe tbody tr th:only-of-type {\n",
       "        vertical-align: middle;\n",
       "    }\n",
       "\n",
       "    .dataframe tbody tr th {\n",
       "        vertical-align: top;\n",
       "    }\n",
       "\n",
       "    .dataframe thead th {\n",
       "        text-align: right;\n",
       "    }\n",
       "</style>\n",
       "<table border=\"1\" class=\"dataframe\">\n",
       "  <thead>\n",
       "    <tr style=\"text-align: right;\">\n",
       "      <th></th>\n",
       "      <th>datetime</th>\n",
       "      <th>d-dayofweek</th>\n",
       "    </tr>\n",
       "  </thead>\n",
       "  <tbody>\n",
       "    <tr>\n",
       "      <th>0</th>\n",
       "      <td>2011-01-01 00:00:00</td>\n",
       "      <td>5</td>\n",
       "    </tr>\n",
       "    <tr>\n",
       "      <th>1</th>\n",
       "      <td>2011-01-01 01:00:00</td>\n",
       "      <td>5</td>\n",
       "    </tr>\n",
       "    <tr>\n",
       "      <th>2</th>\n",
       "      <td>2011-01-01 02:00:00</td>\n",
       "      <td>5</td>\n",
       "    </tr>\n",
       "    <tr>\n",
       "      <th>3</th>\n",
       "      <td>2011-01-01 03:00:00</td>\n",
       "      <td>5</td>\n",
       "    </tr>\n",
       "    <tr>\n",
       "      <th>4</th>\n",
       "      <td>2011-01-01 04:00:00</td>\n",
       "      <td>5</td>\n",
       "    </tr>\n",
       "  </tbody>\n",
       "</table>\n",
       "</div>"
      ],
      "text/plain": [
       "             datetime  d-dayofweek\n",
       "0 2011-01-01 00:00:00            5\n",
       "1 2011-01-01 01:00:00            5\n",
       "2 2011-01-01 02:00:00            5\n",
       "3 2011-01-01 03:00:00            5\n",
       "4 2011-01-01 04:00:00            5"
      ]
     },
     "execution_count": 100,
     "metadata": {},
     "output_type": "execute_result"
    }
   ],
   "source": [
    "print(train.shape)\n",
    "train[[\"datetime\", \"d-dayofweek\"]].head()"
   ]
  },
  {
   "cell_type": "code",
   "execution_count": 101,
   "metadata": {
    "colab": {
     "base_uri": "https://localhost:8080/",
     "height": 515
    },
    "executionInfo": {
     "elapsed": 9859,
     "status": "ok",
     "timestamp": 1634528144812,
     "user": {
      "displayName": "Yongjin Jeong",
      "photoUrl": "https://lh3.googleusercontent.com/a/default-user=s64",
      "userId": "03658406798560557048"
     },
     "user_tz": -540
    },
    "id": "U7Mmk7j-6_vF",
    "outputId": "9e231f50-f24c-4246-c433-8ac7fb070110"
   },
   "outputs": [
    {
     "data": {
      "text/plain": [
       "<AxesSubplot:xlabel='d-hour', ylabel='count'>"
      ]
     },
     "execution_count": 101,
     "metadata": {},
     "output_type": "execute_result"
    },
    {
     "data": {
      "image/png": "[encoded data removed]",
      "text/plain": [
       "<Figure size 1296x576 with 2 Axes>"
      ]
     },
     "metadata": {
      "needs_background": "light"
     },
     "output_type": "display_data"
    }
   ],
   "source": [
    "figure, (ax1, ax2) = plt.subplots(nrows=2, ncols=1)\n",
    "figure.set_size_inches(18, 8)\n",
    "\n",
    "sns.pointplot(data=train, x=\"d-hour\", y=\"count\", hue=\"workingday\", ax=ax1)\n",
    "sns.pointplot(data=train, x=\"d-hour\", y=\"count\", hue=\"d-dayofweek\", ax=ax2)"
   ]
  },
  {
   "cell_type": "markdown",
   "metadata": {
    "id": "ygGV3bOS6_vI"
   },
   "source": [
    "#### generating a new feature by combining year and month"
   ]
  },
  {
   "cell_type": "code",
   "execution_count": 102,
   "metadata": {
    "colab": {
     "base_uri": "https://localhost:8080/",
     "height": 223
    },
    "executionInfo": {
     "elapsed": 23,
     "status": "ok",
     "timestamp": 1634528144813,
     "user": {
      "displayName": "Yongjin Jeong",
      "photoUrl": "https://lh3.googleusercontent.com/a/default-user=s64",
      "userId": "03658406798560557048"
     },
     "user_tz": -540
    },
    "id": "QDR3zmN96_vJ",
    "outputId": "e078f187-a8b1-4857-9ae5-36fc5c531347"
   },
   "outputs": [
    {
     "name": "stdout",
     "output_type": "stream",
     "text": [
      "(10886, 20)\n"
     ]
    },
    {
     "data": {
      "text/html": [
       "<div>\n",
       "<style scoped>\n",
       "    .dataframe tbody tr th:only-of-type {\n",
       "        vertical-align: middle;\n",
       "    }\n",
       "\n",
       "    .dataframe tbody tr th {\n",
       "        vertical-align: top;\n",
       "    }\n",
       "\n",
       "    .dataframe thead th {\n",
       "        text-align: right;\n",
       "    }\n",
       "</style>\n",
       "<table border=\"1\" class=\"dataframe\">\n",
       "  <thead>\n",
       "    <tr style=\"text-align: right;\">\n",
       "      <th></th>\n",
       "      <th>datetime</th>\n",
       "      <th>d-year_month</th>\n",
       "    </tr>\n",
       "  </thead>\n",
       "  <tbody>\n",
       "    <tr>\n",
       "      <th>0</th>\n",
       "      <td>2011-01-01 00:00:00</td>\n",
       "      <td>2011-1</td>\n",
       "    </tr>\n",
       "    <tr>\n",
       "      <th>1</th>\n",
       "      <td>2011-01-01 01:00:00</td>\n",
       "      <td>2011-1</td>\n",
       "    </tr>\n",
       "    <tr>\n",
       "      <th>2</th>\n",
       "      <td>2011-01-01 02:00:00</td>\n",
       "      <td>2011-1</td>\n",
       "    </tr>\n",
       "    <tr>\n",
       "      <th>3</th>\n",
       "      <td>2011-01-01 03:00:00</td>\n",
       "      <td>2011-1</td>\n",
       "    </tr>\n",
       "    <tr>\n",
       "      <th>4</th>\n",
       "      <td>2011-01-01 04:00:00</td>\n",
       "      <td>2011-1</td>\n",
       "    </tr>\n",
       "  </tbody>\n",
       "</table>\n",
       "</div>"
      ],
      "text/plain": [
       "             datetime d-year_month\n",
       "0 2011-01-01 00:00:00       2011-1\n",
       "1 2011-01-01 01:00:00       2011-1\n",
       "2 2011-01-01 02:00:00       2011-1\n",
       "3 2011-01-01 03:00:00       2011-1\n",
       "4 2011-01-01 04:00:00       2011-1"
      ]
     },
     "execution_count": 102,
     "metadata": {},
     "output_type": "execute_result"
    }
   ],
   "source": [
    "def concatenate_year_month(datetime):\n",
    "    return \"{0}-{1}\".format(datetime.year, datetime.month)\n",
    "\n",
    "train[\"d-year_month\"] = train[\"datetime\"].apply(concatenate_year_month)\n",
    "\n",
    "print(train.shape)\n",
    "train[[\"datetime\", \"d-year_month\"]].head()"
   ]
  },
  {
   "cell_type": "code",
   "execution_count": 103,
   "metadata": {
    "colab": {
     "base_uri": "https://localhost:8080/",
     "height": 559
    },
    "executionInfo": {
     "elapsed": 2735,
     "status": "ok",
     "timestamp": 1634528147530,
     "user": {
      "displayName": "Yongjin Jeong",
      "photoUrl": "https://lh3.googleusercontent.com/a/default-user=s64",
      "userId": "03658406798560557048"
     },
     "user_tz": -540
    },
    "id": "3ykQv12B6_vN",
    "outputId": "11be264c-00d0-41f9-c310-ab96fcd94ddc",
    "scrolled": false
   },
   "outputs": [
    {
     "data": {
      "text/plain": [
       "<AxesSubplot:xlabel='d-year_month', ylabel='count'>"
      ]
     },
     "execution_count": 103,
     "metadata": {},
     "output_type": "execute_result"
    },
    {
     "data": {
      "image/png": "[encoded data removed]",
      "text/plain": [
       "<Figure size 1296x288 with 2 Axes>"
      ]
     },
     "metadata": {
      "needs_background": "light"
     },
     "output_type": "display_data"
    },
    {
     "data": {
      "image/png": "[encoded data removed]",
      "text/plain": [
       "<Figure size 1296x288 with 1 Axes>"
      ]
     },
     "metadata": {
      "needs_background": "light"
     },
     "output_type": "display_data"
    }
   ],
   "source": [
    "figure, (ax1, ax2) = plt.subplots(nrows=1, ncols=2)\n",
    "figure.set_size_inches(18, 4)\n",
    "\n",
    "sns.barplot(data=train, x=\"d-year\", y=\"count\", ax=ax1)\n",
    "sns.barplot(data=train, x=\"d-month\", y=\"count\", ax=ax2)\n",
    "\n",
    "figure, ax3 = plt.subplots(nrows=1, ncols=1)\n",
    "figure.set_size_inches(18, 4)\n",
    "\n",
    "sns.barplot(data=train, x=\"d-year_month\", y=\"count\", ax=ax3)"
   ]
  },
  {
   "cell_type": "markdown",
   "metadata": {
    "id": "Ty7wbQ0L6_vS"
   },
   "source": [
    "### select features to use for training"
   ]
  },
  {
   "cell_type": "code",
   "execution_count": 104,
   "metadata": {
    "colab": {
     "base_uri": "https://localhost:8080/"
    },
    "executionInfo": {
     "elapsed": 27,
     "status": "ok",
     "timestamp": 1634528147536,
     "user": {
      "displayName": "Yongjin Jeong",
      "photoUrl": "https://lh3.googleusercontent.com/a/default-user=s64",
      "userId": "03658406798560557048"
     },
     "user_tz": -540
    },
    "id": "2JZAxjE56_vT",
    "outputId": "9bd72922-5f15-4a19-9055-4068977cd0fe",
    "scrolled": true
   },
   "outputs": [
    {
     "data": {
      "text/plain": [
       "Index(['datetime', 'season', 'holiday', 'workingday', 'weather', 'temp',\n",
       "       'atemp', 'humidity', 'windspeed', 'casual', 'registered', 'count',\n",
       "       'd-year', 'd-month', 'd-day', 'd-hour', 'd-minute', 'd-second',\n",
       "       'd-dayofweek', 'd-year_month'],\n",
       "      dtype='object')"
      ]
     },
     "execution_count": 104,
     "metadata": {},
     "output_type": "execute_result"
    }
   ],
   "source": [
    "train.columns"
   ]
  },
  {
   "cell_type": "code",
   "execution_count": 105,
   "metadata": {
    "executionInfo": {
     "elapsed": 21,
     "status": "ok",
     "timestamp": 1634528147537,
     "user": {
      "displayName": "Yongjin Jeong",
      "photoUrl": "https://lh3.googleusercontent.com/a/default-user=s64",
      "userId": "03658406798560557048"
     },
     "user_tz": -540
    },
    "id": "wzKGw40W6_vX"
   },
   "outputs": [],
   "source": [
    "features = [\"season\", \"holiday\", \"workingday\", \"weather\",\n",
    "            \"temp\", \"atemp\", \"humidity\", \"windspeed\",\n",
    "            \"d-year\", \"d-hour\", \"d-dayofweek\"]"
   ]
  },
  {
   "cell_type": "code",
   "execution_count": 106,
   "metadata": {
    "colab": {
     "base_uri": "https://localhost:8080/",
     "height": 223
    },
    "executionInfo": {
     "elapsed": 20,
     "status": "ok",
     "timestamp": 1634528147538,
     "user": {
      "displayName": "Yongjin Jeong",
      "photoUrl": "https://lh3.googleusercontent.com/a/default-user=s64",
      "userId": "03658406798560557048"
     },
     "user_tz": -540
    },
    "id": "QoSBlvzZ6_vb",
    "outputId": "55a8ad5c-541b-41f7-81c5-3dc16d24c451"
   },
   "outputs": [
    {
     "name": "stdout",
     "output_type": "stream",
     "text": [
      "(10886, 11) (10886,)\n"
     ]
    },
    {
     "data": {
      "text/html": [
       "<div>\n",
       "<style scoped>\n",
       "    .dataframe tbody tr th:only-of-type {\n",
       "        vertical-align: middle;\n",
       "    }\n",
       "\n",
       "    .dataframe tbody tr th {\n",
       "        vertical-align: top;\n",
       "    }\n",
       "\n",
       "    .dataframe thead th {\n",
       "        text-align: right;\n",
       "    }\n",
       "</style>\n",
       "<table border=\"1\" class=\"dataframe\">\n",
       "  <thead>\n",
       "    <tr style=\"text-align: right;\">\n",
       "      <th></th>\n",
       "      <th>season</th>\n",
       "      <th>holiday</th>\n",
       "      <th>workingday</th>\n",
       "      <th>weather</th>\n",
       "      <th>temp</th>\n",
       "      <th>atemp</th>\n",
       "      <th>humidity</th>\n",
       "      <th>windspeed</th>\n",
       "      <th>d-year</th>\n",
       "      <th>d-hour</th>\n",
       "      <th>d-dayofweek</th>\n",
       "    </tr>\n",
       "  </thead>\n",
       "  <tbody>\n",
       "    <tr>\n",
       "      <th>0</th>\n",
       "      <td>1</td>\n",
       "      <td>0</td>\n",
       "      <td>0</td>\n",
       "      <td>1</td>\n",
       "      <td>9.84</td>\n",
       "      <td>14.395</td>\n",
       "      <td>81</td>\n",
       "      <td>0.0</td>\n",
       "      <td>2011</td>\n",
       "      <td>0</td>\n",
       "      <td>5</td>\n",
       "    </tr>\n",
       "    <tr>\n",
       "      <th>1</th>\n",
       "      <td>1</td>\n",
       "      <td>0</td>\n",
       "      <td>0</td>\n",
       "      <td>1</td>\n",
       "      <td>9.02</td>\n",
       "      <td>13.635</td>\n",
       "      <td>80</td>\n",
       "      <td>0.0</td>\n",
       "      <td>2011</td>\n",
       "      <td>1</td>\n",
       "      <td>5</td>\n",
       "    </tr>\n",
       "    <tr>\n",
       "      <th>2</th>\n",
       "      <td>1</td>\n",
       "      <td>0</td>\n",
       "      <td>0</td>\n",
       "      <td>1</td>\n",
       "      <td>9.02</td>\n",
       "      <td>13.635</td>\n",
       "      <td>80</td>\n",
       "      <td>0.0</td>\n",
       "      <td>2011</td>\n",
       "      <td>2</td>\n",
       "      <td>5</td>\n",
       "    </tr>\n",
       "    <tr>\n",
       "      <th>3</th>\n",
       "      <td>1</td>\n",
       "      <td>0</td>\n",
       "      <td>0</td>\n",
       "      <td>1</td>\n",
       "      <td>9.84</td>\n",
       "      <td>14.395</td>\n",
       "      <td>75</td>\n",
       "      <td>0.0</td>\n",
       "      <td>2011</td>\n",
       "      <td>3</td>\n",
       "      <td>5</td>\n",
       "    </tr>\n",
       "    <tr>\n",
       "      <th>4</th>\n",
       "      <td>1</td>\n",
       "      <td>0</td>\n",
       "      <td>0</td>\n",
       "      <td>1</td>\n",
       "      <td>9.84</td>\n",
       "      <td>14.395</td>\n",
       "      <td>75</td>\n",
       "      <td>0.0</td>\n",
       "      <td>2011</td>\n",
       "      <td>4</td>\n",
       "      <td>5</td>\n",
       "    </tr>\n",
       "  </tbody>\n",
       "</table>\n",
       "</div>"
      ],
      "text/plain": [
       "   season  holiday  workingday  weather  temp   atemp  humidity  windspeed  \\\n",
       "0       1        0           0        1  9.84  14.395        81        0.0   \n",
       "1       1        0           0        1  9.02  13.635        80        0.0   \n",
       "2       1        0           0        1  9.02  13.635        80        0.0   \n",
       "3       1        0           0        1  9.84  14.395        75        0.0   \n",
       "4       1        0           0        1  9.84  14.395        75        0.0   \n",
       "\n",
       "   d-year  d-hour  d-dayofweek  \n",
       "0    2011       0            5  \n",
       "1    2011       1            5  \n",
       "2    2011       2            5  \n",
       "3    2011       3            5  \n",
       "4    2011       4            5  "
      ]
     },
     "execution_count": 106,
     "metadata": {},
     "output_type": "execute_result"
    }
   ],
   "source": [
    "X = train[features]\n",
    "y = train['count']\n",
    "print(X.shape, y.shape)\n",
    "X.head()"
   ]
  },
  {
   "cell_type": "markdown",
   "metadata": {
    "id": "lDY_6y7p6_vs"
   },
   "source": [
    "### Random Forest model"
   ]
  },
  {
   "cell_type": "code",
   "execution_count": 107,
   "metadata": {
    "colab": {
     "base_uri": "https://localhost:8080/"
    },
    "executionInfo": {
     "elapsed": 496,
     "status": "ok",
     "timestamp": 1634528148020,
     "user": {
      "displayName": "Yongjin Jeong",
      "photoUrl": "https://lh3.googleusercontent.com/a/default-user=s64",
      "userId": "03658406798560557048"
     },
     "user_tz": -540
    },
    "id": "dcHGn-wPXvfm",
    "outputId": "cf4702ba-cff6-4102-8544-9060cd9ba15e"
   },
   "outputs": [
    {
     "data": {
      "text/plain": [
       "0.9483758264489849"
      ]
     },
     "execution_count": 107,
     "metadata": {},
     "output_type": "execute_result"
    }
   ],
   "source": [
    "np.random.seed(11)\n",
    "X_train, X_test, y_train, y_test = train_test_split(X, y, test_size = 0.2)\n",
    "\n",
    "model = RandomForestRegressor(n_estimators= 30)\n",
    "model.fit(X_train, y_train)\n",
    "model.score(X_test, y_test)"
   ]
  },
  {
   "cell_type": "code",
   "execution_count": 108,
   "metadata": {
    "executionInfo": {
     "elapsed": 6,
     "status": "ok",
     "timestamp": 1634528148021,
     "user": {
      "displayName": "Yongjin Jeong",
      "photoUrl": "https://lh3.googleusercontent.com/a/default-user=s64",
      "userId": "03658406798560557048"
     },
     "user_tz": -540
    },
    "id": "qPcpw0aWXvfm"
   },
   "outputs": [],
   "source": [
    "# list(zip(y_test, model.predict(X_test)))[:10]"
   ]
  },
  {
   "cell_type": "markdown",
   "metadata": {},
   "source": [
    "**use logarithmic distribution**"
   ]
  },
  {
   "cell_type": "code",
   "execution_count": 109,
   "metadata": {
    "colab": {
     "base_uri": "https://localhost:8080/"
    },
    "executionInfo": {
     "elapsed": 946,
     "status": "ok",
     "timestamp": 1634528148962,
     "user": {
      "displayName": "Yongjin Jeong",
      "photoUrl": "https://lh3.googleusercontent.com/a/default-user=s64",
      "userId": "03658406798560557048"
     },
     "user_tz": -540
    },
    "id": "QUjiGWgC6_vz",
    "outputId": "258f1106-7ce3-4cea-d6ef-17633a9851c0"
   },
   "outputs": [
    {
     "name": "stdout",
     "output_type": "stream",
     "text": [
      "score:  0.9583998288123375\n",
      "MSE:  0.08291535828416392\n"
     ]
    }
   ],
   "source": [
    "from sklearn.metrics import mean_squared_error\n",
    "np.random.seed(11)\n",
    "X_train, X_test, y_train, y_test = train_test_split(X, np.log(1+y), test_size = 0.2)   # y -> log(1 + y)\n",
    "\n",
    "model = RandomForestRegressor(n_estimators= 30)\n",
    "model.fit(X_train, y_train)\n",
    "print(\"score: \", model.score(X_test, y_test))\n",
    "print(\"MSE: \", mean_squared_error(y_test, model.predict(X_test)))"
   ]
  },
  {
   "cell_type": "markdown",
   "metadata": {
    "id": "zs0CFgpTXvfm"
   },
   "source": [
    "- we can see that log(1+y) gives better performance than y."
   ]
  },
  {
   "cell_type": "code",
   "execution_count": 110,
   "metadata": {
    "executionInfo": {
     "elapsed": 17,
     "status": "ok",
     "timestamp": 1634528148964,
     "user": {
      "displayName": "Yongjin Jeong",
      "photoUrl": "https://lh3.googleusercontent.com/a/default-user=s64",
      "userId": "03658406798560557048"
     },
     "user_tz": -540
    },
    "id": "gv2k__Dh6_v6",
    "scrolled": true
   },
   "outputs": [],
   "source": [
    "# list(zip(y_test, model.predict(X_test)))[:10]\n",
    "# X_train[:5]"
   ]
  },
  {
   "cell_type": "markdown",
   "metadata": {
    "id": "rYV_3yZW6_wA"
   },
   "source": [
    "### other models: linear and decision tree models"
   ]
  },
  {
   "cell_type": "code",
   "execution_count": 111,
   "metadata": {},
   "outputs": [
    {
     "data": {
      "text/plain": [
       "7560     4.709530\n",
       "8090     6.304449\n",
       "30       0.693147\n",
       "7290     1.945910\n",
       "8665     5.521461\n",
       "           ...   \n",
       "4023     5.913503\n",
       "7259     5.817111\n",
       "5200     5.153292\n",
       "3775     5.192957\n",
       "10137    6.144186\n",
       "Name: count, Length: 8708, dtype: float64"
      ]
     },
     "execution_count": 111,
     "metadata": {},
     "output_type": "execute_result"
    }
   ],
   "source": [
    "y_train"
   ]
  },
  {
   "cell_type": "code",
   "execution_count": 112,
   "metadata": {
    "colab": {
     "base_uri": "https://localhost:8080/"
    },
    "executionInfo": {
     "elapsed": 338,
     "status": "ok",
     "timestamp": 1634528149290,
     "user": {
      "displayName": "Yongjin Jeong",
      "photoUrl": "https://lh3.googleusercontent.com/a/default-user=s64",
      "userId": "03658406798560557048"
     },
     "user_tz": -540
    },
    "id": "RSrOtZyJ6_wB",
    "outputId": "1d2be56d-0a44-4fc5-ccc4-94e22ffa1d22"
   },
   "outputs": [
    {
     "name": "stdout",
     "output_type": "stream",
     "text": [
      "0.4725950198506106\n",
      "0.9152295630854631\n"
     ]
    }
   ],
   "source": [
    "model = LinearRegression()\n",
    "model.fit(X_train, y_train)\n",
    "print(model.score(X_test, y_test))\n",
    "\n",
    "model = DecisionTreeRegressor()\n",
    "model.fit(X_train, y_train)\n",
    "print(model.score(X_test, y_test))"
   ]
  },
  {
   "cell_type": "markdown",
   "metadata": {
    "id": "Yzq_C7NE6_wI"
   },
   "source": [
    "#### change the performance score (rmse --> rmsle)\n",
    "\n",
    "- robust to outliers\n",
    "- RMSLE incurs a larger penalty for the underestimation of the Actual variable than the Overestimation.\n",
    "- This is especially useful for business cases where the underestimation of the target variable is not acceptable but overestimation can be tolerated.\n",
    "- to be used in GridSearch() (The less, the better.)\n",
    "- $$ \\sqrt{\\frac{1}{n} \\sum_{i=1}^n (\\log(p_i + 1) - \\log(a_i+1))^2 } $$"
   ]
  },
  {
   "cell_type": "code",
   "execution_count": 113,
   "metadata": {
    "colab": {
     "base_uri": "https://localhost:8080/"
    },
    "executionInfo": {
     "elapsed": 8,
     "status": "ok",
     "timestamp": 1634528149291,
     "user": {
      "displayName": "Yongjin Jeong",
      "photoUrl": "https://lh3.googleusercontent.com/a/default-user=s64",
      "userId": "03658406798560557048"
     },
     "user_tz": -540
    },
    "id": "e0kRQgIC6_wK",
    "outputId": "bb1fae5f-5ec7-4bee-9fbc-9007838c7bb6"
   },
   "outputs": [
    {
     "data": {
      "text/plain": [
       "make_scorer(rmsle)"
      ]
     },
     "execution_count": 113,
     "metadata": {},
     "output_type": "execute_result"
    }
   ],
   "source": [
    "def rmsle(predict, actual):\n",
    "    predict = np.array(predict)\n",
    "    actual = np.array(actual)\n",
    "    \n",
    "    predict = np.log(predict + 1)\n",
    "    actual = np.log(actual + 1)\n",
    "    \n",
    "    difference_square_mean = np.square(predict - actual).mean()\n",
    "    score = np.sqrt(difference_square_mean)\n",
    "    return score\n",
    "\n",
    "rmsle_scorer = make_scorer(rmsle)    #  make your own scoring function\n",
    "rmsle_scorer"
   ]
  },
  {
   "cell_type": "markdown",
   "metadata": {
    "id": "jb9NOYEZ6_wN"
   },
   "source": [
    "### selecting hyperparameters\n",
    "\n",
    "- Grid search\n",
    "- Random search"
   ]
  },
  {
   "cell_type": "markdown",
   "metadata": {
    "id": "jIPma9odXvfn"
   },
   "source": [
    "#### Grid search"
   ]
  },
  {
   "cell_type": "code",
   "execution_count": 114,
   "metadata": {
    "colab": {
     "base_uri": "https://localhost:8080/"
    },
    "executionInfo": {
     "elapsed": 58960,
     "status": "ok",
     "timestamp": 1634528208246,
     "user": {
      "displayName": "Yongjin Jeong",
      "photoUrl": "https://lh3.googleusercontent.com/a/default-user=s64",
      "userId": "03658406798560557048"
     },
     "user_tz": -540
    },
    "id": "Najht9c66_wP",
    "outputId": "748e98fa-342a-4cf8-93a2-3fc8e24f560f"
   },
   "outputs": [
    {
     "name": "stdout",
     "output_type": "stream",
     "text": [
      "Score = 0.16782\n",
      "Score = 0.12122\n",
      "Score = 0.09999\n",
      "Score = 0.09303\n",
      "Score = 0.09020\n",
      "Score = 0.14178\n",
      "Score = 0.10628\n",
      "Score = 0.09061\n",
      "Score = 0.08763\n",
      "Score = 0.08668\n",
      "Score = 0.14104\n",
      "Score = 0.10714\n",
      "Score = 0.09058\n",
      "Score = 0.08796\n",
      "Score = 0.08656\n",
      "Score = 0.14110\n",
      "Score = 0.10698\n",
      "Score = 0.09063\n",
      "Score = 0.08799\n",
      "Score = 0.08654\n",
      "Score = 0.14110\n",
      "Score = 0.10698\n",
      "Score = 0.09063\n",
      "Score = 0.08799\n",
      "Score = 0.08654\n"
     ]
    },
    {
     "data": {
      "text/plain": [
       "[{'rmsle': 0.1678247426392651,\n",
       "  'n_estimators': 30,\n",
       "  'max_depth': 10,\n",
       "  'max_features': 0.1},\n",
       " {'rmsle': 0.12121969165391336,\n",
       "  'n_estimators': 30,\n",
       "  'max_depth': 10,\n",
       "  'max_features': 0.3},\n",
       " {'rmsle': 0.0999892642311582,\n",
       "  'n_estimators': 30,\n",
       "  'max_depth': 10,\n",
       "  'max_features': 0.5},\n",
       " {'rmsle': 0.0930344702509344,\n",
       "  'n_estimators': 30,\n",
       "  'max_depth': 10,\n",
       "  'max_features': 0.7},\n",
       " {'rmsle': 0.09019562183290611,\n",
       "  'n_estimators': 30,\n",
       "  'max_depth': 10,\n",
       "  'max_features': 0.9},\n",
       " {'rmsle': 0.14178259641056523,\n",
       "  'n_estimators': 30,\n",
       "  'max_depth': 20,\n",
       "  'max_features': 0.1},\n",
       " {'rmsle': 0.10628237963726324,\n",
       "  'n_estimators': 30,\n",
       "  'max_depth': 20,\n",
       "  'max_features': 0.3},\n",
       " {'rmsle': 0.09060900687809773,\n",
       "  'n_estimators': 30,\n",
       "  'max_depth': 20,\n",
       "  'max_features': 0.5},\n",
       " {'rmsle': 0.08762872150125432,\n",
       "  'n_estimators': 30,\n",
       "  'max_depth': 20,\n",
       "  'max_features': 0.7},\n",
       " {'rmsle': 0.08667636773445053,\n",
       "  'n_estimators': 30,\n",
       "  'max_depth': 20,\n",
       "  'max_features': 0.9},\n",
       " {'rmsle': 0.141036195071539,\n",
       "  'n_estimators': 30,\n",
       "  'max_depth': 30,\n",
       "  'max_features': 0.1},\n",
       " {'rmsle': 0.10714256205135424,\n",
       "  'n_estimators': 30,\n",
       "  'max_depth': 30,\n",
       "  'max_features': 0.3},\n",
       " {'rmsle': 0.09058464697328164,\n",
       "  'n_estimators': 30,\n",
       "  'max_depth': 30,\n",
       "  'max_features': 0.5},\n",
       " {'rmsle': 0.08795886785029357,\n",
       "  'n_estimators': 30,\n",
       "  'max_depth': 30,\n",
       "  'max_features': 0.7},\n",
       " {'rmsle': 0.08655830337215684,\n",
       "  'n_estimators': 30,\n",
       "  'max_depth': 30,\n",
       "  'max_features': 0.9},\n",
       " {'rmsle': 0.14110407465713,\n",
       "  'n_estimators': 30,\n",
       "  'max_depth': 50,\n",
       "  'max_features': 0.1},\n",
       " {'rmsle': 0.1069844000045483,\n",
       "  'n_estimators': 30,\n",
       "  'max_depth': 50,\n",
       "  'max_features': 0.3},\n",
       " {'rmsle': 0.09062860503488149,\n",
       "  'n_estimators': 30,\n",
       "  'max_depth': 50,\n",
       "  'max_features': 0.5},\n",
       " {'rmsle': 0.08798740895104545,\n",
       "  'n_estimators': 30,\n",
       "  'max_depth': 50,\n",
       "  'max_features': 0.7},\n",
       " {'rmsle': 0.08653948703002193,\n",
       "  'n_estimators': 30,\n",
       "  'max_depth': 50,\n",
       "  'max_features': 0.9},\n",
       " {'rmsle': 0.14110407465713,\n",
       "  'n_estimators': 30,\n",
       "  'max_depth': 100,\n",
       "  'max_features': 0.1},\n",
       " {'rmsle': 0.1069844000045483,\n",
       "  'n_estimators': 30,\n",
       "  'max_depth': 100,\n",
       "  'max_features': 0.3},\n",
       " {'rmsle': 0.0906286050348815,\n",
       "  'n_estimators': 30,\n",
       "  'max_depth': 100,\n",
       "  'max_features': 0.5},\n",
       " {'rmsle': 0.08798740895104545,\n",
       "  'n_estimators': 30,\n",
       "  'max_depth': 100,\n",
       "  'max_features': 0.7},\n",
       " {'rmsle': 0.08653948703002194,\n",
       "  'n_estimators': 30,\n",
       "  'max_depth': 100,\n",
       "  'max_features': 0.9}]"
      ]
     },
     "execution_count": 114,
     "metadata": {},
     "output_type": "execute_result"
    }
   ],
   "source": [
    "# Grid Search for the random forest\n",
    "\n",
    "n_estimators = 30\n",
    "\n",
    "max_depth_list = [10, 20, 30, 50, 100]\n",
    "max_features_list = [0.1, 0.3, 0.5, 0.7,  0.9] # 사용할 특성의 비율\n",
    "\n",
    "hyperparameters_list = []\n",
    "\n",
    "for max_depth in max_depth_list:\n",
    "    for max_features in max_features_list:\n",
    "        model = RandomForestRegressor(n_estimators=n_estimators,\n",
    "                                      max_depth=max_depth,\n",
    "                                      max_features=max_features,\n",
    "                                      random_state=11,\n",
    "                                      n_jobs=-1)\n",
    "\n",
    "        score = cross_val_score(model, X_train, y_train, cv=5,\n",
    "                                scoring=rmsle_scorer).mean()\n",
    "\n",
    "        hyperparameters_list.append({\n",
    "            'rmsle': score,\n",
    "            'n_estimators': n_estimators,\n",
    "            'max_depth': max_depth,\n",
    "            'max_features': max_features,\n",
    "        })\n",
    "\n",
    "        print(\"Score = {0:.5f}\".format(score))\n",
    "\n",
    "hyperparameters_list"
   ]
  },
  {
   "cell_type": "code",
   "execution_count": 116,
   "metadata": {
    "colab": {
     "base_uri": "https://localhost:8080/",
     "height": 223
    },
    "executionInfo": {
     "elapsed": 34,
     "status": "ok",
     "timestamp": 1634528208247,
     "user": {
      "displayName": "Yongjin Jeong",
      "photoUrl": "https://lh3.googleusercontent.com/a/default-user=s64",
      "userId": "03658406798560557048"
     },
     "user_tz": -540
    },
    "id": "sjBMQWVl6_wS",
    "outputId": "a2206e86-6198-4c17-ae4f-aa1db05959a6"
   },
   "outputs": [
    {
     "name": "stdout",
     "output_type": "stream",
     "text": [
      "(25, 4)\n"
     ]
    },
    {
     "data": {
      "text/html": [
       "<div>\n",
       "<style scoped>\n",
       "    .dataframe tbody tr th:only-of-type {\n",
       "        vertical-align: middle;\n",
       "    }\n",
       "\n",
       "    .dataframe tbody tr th {\n",
       "        vertical-align: top;\n",
       "    }\n",
       "\n",
       "    .dataframe thead th {\n",
       "        text-align: right;\n",
       "    }\n",
       "</style>\n",
       "<table border=\"1\" class=\"dataframe\">\n",
       "  <thead>\n",
       "    <tr style=\"text-align: right;\">\n",
       "      <th></th>\n",
       "      <th>rmsle</th>\n",
       "      <th>n_estimators</th>\n",
       "      <th>max_depth</th>\n",
       "      <th>max_features</th>\n",
       "    </tr>\n",
       "  </thead>\n",
       "  <tbody>\n",
       "    <tr>\n",
       "      <th>19</th>\n",
       "      <td>0.086539</td>\n",
       "      <td>30</td>\n",
       "      <td>50</td>\n",
       "      <td>0.9</td>\n",
       "    </tr>\n",
       "    <tr>\n",
       "      <th>24</th>\n",
       "      <td>0.086539</td>\n",
       "      <td>30</td>\n",
       "      <td>100</td>\n",
       "      <td>0.9</td>\n",
       "    </tr>\n",
       "    <tr>\n",
       "      <th>14</th>\n",
       "      <td>0.086558</td>\n",
       "      <td>30</td>\n",
       "      <td>30</td>\n",
       "      <td>0.9</td>\n",
       "    </tr>\n",
       "    <tr>\n",
       "      <th>9</th>\n",
       "      <td>0.086676</td>\n",
       "      <td>30</td>\n",
       "      <td>20</td>\n",
       "      <td>0.9</td>\n",
       "    </tr>\n",
       "    <tr>\n",
       "      <th>8</th>\n",
       "      <td>0.087629</td>\n",
       "      <td>30</td>\n",
       "      <td>20</td>\n",
       "      <td>0.7</td>\n",
       "    </tr>\n",
       "  </tbody>\n",
       "</table>\n",
       "</div>"
      ],
      "text/plain": [
       "       rmsle  n_estimators  max_depth  max_features\n",
       "19  0.086539            30         50           0.9\n",
       "24  0.086539            30        100           0.9\n",
       "14  0.086558            30         30           0.9\n",
       "9   0.086676            30         20           0.9\n",
       "8   0.087629            30         20           0.7"
      ]
     },
     "execution_count": 116,
     "metadata": {},
     "output_type": "execute_result"
    }
   ],
   "source": [
    "hyperparameters_list = pd.DataFrame.from_dict(hyperparameters_list)  # make dataframe from dictionary\n",
    "hyperparameters_list = hyperparameters_list.sort_values(by=\"rmsle\")\n",
    "\n",
    "print(hyperparameters_list.shape)\n",
    "hyperparameters_list.head()"
   ]
  },
  {
   "cell_type": "markdown",
   "metadata": {
    "id": "GKDqE8isXvfn"
   },
   "source": [
    "#### Random search\n",
    "\n",
    "- 2 stages: random selection and fine tuning"
   ]
  },
  {
   "cell_type": "code",
   "execution_count": 117,
   "metadata": {
    "colab": {
     "base_uri": "https://localhost:8080/",
     "height": 395
    },
    "executionInfo": {
     "elapsed": 22708,
     "status": "ok",
     "timestamp": 1634528230936,
     "user": {
      "displayName": "Yongjin Jeong",
      "photoUrl": "https://lh3.googleusercontent.com/a/default-user=s64",
      "userId": "03658406798560557048"
     },
     "user_tz": -540
    },
    "id": "-FRpjDfX6_wV",
    "outputId": "cdbc42f5-1885-4480-873c-908daebabfee"
   },
   "outputs": [
    {
     "name": "stdout",
     "output_type": "stream",
     "text": [
      "Score = 0.08673\n",
      "Score = 0.12227\n",
      "Score = 0.12227\n",
      "Score = 0.14013\n",
      "Score = 0.09152\n",
      "Score = 0.18747\n",
      "Score = 0.08869\n",
      "Score = 0.08962\n",
      "Score = 0.08869\n",
      "Score = 0.08761\n",
      "(10, 4)\n"
     ]
    },
    {
     "data": {
      "text/html": [
       "<div>\n",
       "<style scoped>\n",
       "    .dataframe tbody tr th:only-of-type {\n",
       "        vertical-align: middle;\n",
       "    }\n",
       "\n",
       "    .dataframe tbody tr th {\n",
       "        vertical-align: top;\n",
       "    }\n",
       "\n",
       "    .dataframe thead th {\n",
       "        text-align: right;\n",
       "    }\n",
       "</style>\n",
       "<table border=\"1\" class=\"dataframe\">\n",
       "  <thead>\n",
       "    <tr style=\"text-align: right;\">\n",
       "      <th></th>\n",
       "      <th>rmsle</th>\n",
       "      <th>n_estimators</th>\n",
       "      <th>max_depth</th>\n",
       "      <th>max_features</th>\n",
       "    </tr>\n",
       "  </thead>\n",
       "  <tbody>\n",
       "    <tr>\n",
       "      <th>0</th>\n",
       "      <td>0.086729</td>\n",
       "      <td>30</td>\n",
       "      <td>76</td>\n",
       "      <td>0.804363</td>\n",
       "    </tr>\n",
       "    <tr>\n",
       "      <th>9</th>\n",
       "      <td>0.087607</td>\n",
       "      <td>30</td>\n",
       "      <td>82</td>\n",
       "      <td>0.708922</td>\n",
       "    </tr>\n",
       "    <tr>\n",
       "      <th>6</th>\n",
       "      <td>0.088695</td>\n",
       "      <td>30</td>\n",
       "      <td>79</td>\n",
       "      <td>0.575713</td>\n",
       "    </tr>\n",
       "    <tr>\n",
       "      <th>8</th>\n",
       "      <td>0.088695</td>\n",
       "      <td>30</td>\n",
       "      <td>74</td>\n",
       "      <td>0.577014</td>\n",
       "    </tr>\n",
       "    <tr>\n",
       "      <th>7</th>\n",
       "      <td>0.089616</td>\n",
       "      <td>30</td>\n",
       "      <td>12</td>\n",
       "      <td>0.700990</td>\n",
       "    </tr>\n",
       "  </tbody>\n",
       "</table>\n",
       "</div>"
      ],
      "text/plain": [
       "      rmsle  n_estimators  max_depth  max_features\n",
       "0  0.086729            30         76      0.804363\n",
       "9  0.087607            30         82      0.708922\n",
       "6  0.088695            30         79      0.575713\n",
       "8  0.088695            30         74      0.577014\n",
       "7  0.089616            30         12      0.700990"
      ]
     },
     "execution_count": 117,
     "metadata": {},
     "output_type": "execute_result"
    }
   ],
   "source": [
    "# Random selection\n",
    "\n",
    "import numpy as np\n",
    "from sklearn.ensemble import RandomForestRegressor\n",
    "from sklearn.model_selection import cross_val_score\n",
    "\n",
    "hyperparameters_list = []\n",
    "\n",
    "n_estimators = 30\n",
    "num_epoch = 10\n",
    "\n",
    "for epoch in range(num_epoch):\n",
    "    max_depth = np.random.randint(low=2, high=100)\n",
    "    max_features = np.random.uniform(low=0.1, high=1.0)\n",
    "\n",
    "    model = RandomForestRegressor(n_estimators=n_estimators,\n",
    "                                  max_depth=max_depth,\n",
    "                                  max_features=max_features,\n",
    "                                  random_state=37,\n",
    "                                  n_jobs=-1)\n",
    "\n",
    "    score = cross_val_score(model, X_train, y_train, cv=5,\n",
    "                            scoring=rmsle_scorer).mean()\n",
    "\n",
    "    hyperparameters_list.append({\n",
    "        'rmsle': score,\n",
    "        'n_estimators': n_estimators,\n",
    "        'max_depth': max_depth,\n",
    "        'max_features': max_features,\n",
    "    })\n",
    "\n",
    "    print(\"Score = {0:.5f}\".format(score))\n",
    "\n",
    "hyperparameters_list = pd.DataFrame.from_dict(hyperparameters_list)\n",
    "hyperparameters_list = hyperparameters_list.sort_values(by=\"rmsle\")\n",
    "\n",
    "print(hyperparameters_list.shape)\n",
    "hyperparameters_list.head()"
   ]
  },
  {
   "cell_type": "code",
   "execution_count": 118,
   "metadata": {
    "colab": {
     "base_uri": "https://localhost:8080/"
    },
    "executionInfo": {
     "elapsed": 24,
     "status": "ok",
     "timestamp": 1634528230938,
     "user": {
      "displayName": "Yongjin Jeong",
      "photoUrl": "https://lh3.googleusercontent.com/a/default-user=s64",
      "userId": "03658406798560557048"
     },
     "user_tz": -540
    },
    "id": "4xQ0dKO0Xvfn",
    "outputId": "3b08329b-ca93-4d24-9713-bf849c2e13e7",
    "scrolled": true
   },
   "outputs": [
    {
     "data": {
      "text/plain": [
       "(8708, 11)"
      ]
     },
     "execution_count": 118,
     "metadata": {},
     "output_type": "execute_result"
    }
   ],
   "source": [
    "X_train.shape"
   ]
  },
  {
   "cell_type": "markdown",
   "metadata": {},
   "source": [
    "#### Fine tuning"
   ]
  },
  {
   "cell_type": "code",
   "execution_count": 120,
   "metadata": {
    "colab": {
     "base_uri": "https://localhost:8080/",
     "height": 552
    },
    "executionInfo": {
     "elapsed": 30983,
     "status": "ok",
     "timestamp": 1634528261912,
     "user": {
      "displayName": "Yongjin Jeong",
      "photoUrl": "https://lh3.googleusercontent.com/a/default-user=s64",
      "userId": "03658406798560557048"
     },
     "user_tz": -540
    },
    "id": "PEB5_4xS6_wb",
    "outputId": "0abad53d-b436-48cd-ea34-bef2a4bd455f"
   },
   "outputs": [
    {
     "name": "stdout",
     "output_type": "stream",
     "text": [
      "Score = 0.08640\n",
      "Score = 0.08869\n",
      "Score = 0.08658\n",
      "Score = 0.08673\n",
      "Score = 0.08761\n",
      "Score = 0.08673\n",
      "Score = 0.08640\n",
      "Score = 0.08869\n",
      "Score = 0.08658\n",
      "Score = 0.08761\n",
      "(10, 4)\n"
     ]
    },
    {
     "data": {
      "text/html": [
       "<div>\n",
       "<style scoped>\n",
       "    .dataframe tbody tr th:only-of-type {\n",
       "        vertical-align: middle;\n",
       "    }\n",
       "\n",
       "    .dataframe tbody tr th {\n",
       "        vertical-align: top;\n",
       "    }\n",
       "\n",
       "    .dataframe thead th {\n",
       "        text-align: right;\n",
       "    }\n",
       "</style>\n",
       "<table border=\"1\" class=\"dataframe\">\n",
       "  <thead>\n",
       "    <tr style=\"text-align: right;\">\n",
       "      <th></th>\n",
       "      <th>rmsle</th>\n",
       "      <th>n_estimators</th>\n",
       "      <th>max_depth</th>\n",
       "      <th>max_features</th>\n",
       "    </tr>\n",
       "  </thead>\n",
       "  <tbody>\n",
       "    <tr>\n",
       "      <th>0</th>\n",
       "      <td>0.086401</td>\n",
       "      <td>30</td>\n",
       "      <td>59</td>\n",
       "      <td>0.847356</td>\n",
       "    </tr>\n",
       "    <tr>\n",
       "      <th>6</th>\n",
       "      <td>0.086401</td>\n",
       "      <td>30</td>\n",
       "      <td>39</td>\n",
       "      <td>0.830026</td>\n",
       "    </tr>\n",
       "    <tr>\n",
       "      <th>8</th>\n",
       "      <td>0.086583</td>\n",
       "      <td>30</td>\n",
       "      <td>83</td>\n",
       "      <td>0.930264</td>\n",
       "    </tr>\n",
       "    <tr>\n",
       "      <th>2</th>\n",
       "      <td>0.086583</td>\n",
       "      <td>30</td>\n",
       "      <td>54</td>\n",
       "      <td>0.949200</td>\n",
       "    </tr>\n",
       "    <tr>\n",
       "      <th>3</th>\n",
       "      <td>0.086729</td>\n",
       "      <td>30</td>\n",
       "      <td>48</td>\n",
       "      <td>0.765320</td>\n",
       "    </tr>\n",
       "    <tr>\n",
       "      <th>5</th>\n",
       "      <td>0.086729</td>\n",
       "      <td>30</td>\n",
       "      <td>64</td>\n",
       "      <td>0.728243</td>\n",
       "    </tr>\n",
       "    <tr>\n",
       "      <th>4</th>\n",
       "      <td>0.087607</td>\n",
       "      <td>30</td>\n",
       "      <td>85</td>\n",
       "      <td>0.661769</td>\n",
       "    </tr>\n",
       "    <tr>\n",
       "      <th>9</th>\n",
       "      <td>0.087607</td>\n",
       "      <td>30</td>\n",
       "      <td>65</td>\n",
       "      <td>0.688243</td>\n",
       "    </tr>\n",
       "    <tr>\n",
       "      <th>1</th>\n",
       "      <td>0.088695</td>\n",
       "      <td>30</td>\n",
       "      <td>89</td>\n",
       "      <td>0.598500</td>\n",
       "    </tr>\n",
       "    <tr>\n",
       "      <th>7</th>\n",
       "      <td>0.088695</td>\n",
       "      <td>30</td>\n",
       "      <td>65</td>\n",
       "      <td>0.578285</td>\n",
       "    </tr>\n",
       "  </tbody>\n",
       "</table>\n",
       "</div>"
      ],
      "text/plain": [
       "      rmsle  n_estimators  max_depth  max_features\n",
       "0  0.086401            30         59      0.847356\n",
       "6  0.086401            30         39      0.830026\n",
       "8  0.086583            30         83      0.930264\n",
       "2  0.086583            30         54      0.949200\n",
       "3  0.086729            30         48      0.765320\n",
       "5  0.086729            30         64      0.728243\n",
       "4  0.087607            30         85      0.661769\n",
       "9  0.087607            30         65      0.688243\n",
       "1  0.088695            30         89      0.598500\n",
       "7  0.088695            30         65      0.578285"
      ]
     },
     "execution_count": 120,
     "metadata": {},
     "output_type": "execute_result"
    }
   ],
   "source": [
    "# fine search\n",
    "\n",
    "import numpy as np\n",
    "from sklearn.ensemble import RandomForestRegressor\n",
    "from sklearn.model_selection import cross_val_score\n",
    "\n",
    "hyperparameters_list = []\n",
    "\n",
    "n_estimators = 30\n",
    "num_epoch = 10\n",
    "\n",
    "for epoch in range(num_epoch):\n",
    "    max_depth = np.random.randint(low=30, high=90)\n",
    "    max_features = np.random.uniform(low=0.5, high=1.0)\n",
    "\n",
    "    model = RandomForestRegressor(n_estimators=n_estimators,\n",
    "                                  max_depth=max_depth,\n",
    "                                  max_features=max_features,\n",
    "                                  random_state=37,\n",
    "                                  n_jobs=-1)\n",
    "\n",
    "    score = cross_val_score(model, X_train, y_train, cv=5,\n",
    "                            scoring=rmsle_scorer).mean()\n",
    "\n",
    "    hyperparameters_list.append({\n",
    "        'rmsle': score,\n",
    "        'n_estimators': n_estimators,\n",
    "        'max_depth': max_depth,\n",
    "        'max_features': max_features,\n",
    "    })\n",
    "\n",
    "    print(\"Score = {0:.5f}\".format(score))\n",
    "\n",
    "hyperparameters_list = pd.DataFrame.from_dict(hyperparameters_list)\n",
    "hyperparameters_list = hyperparameters_list.sort_values(by=\"rmsle\")\n",
    "\n",
    "print(hyperparameters_list.shape)\n",
    "hyperparameters_list"
   ]
  },
  {
   "cell_type": "code",
   "execution_count": 121,
   "metadata": {
    "colab": {
     "base_uri": "https://localhost:8080/"
    },
    "executionInfo": {
     "elapsed": 34474,
     "status": "ok",
     "timestamp": 1634528296357,
     "user": {
      "displayName": "Yongjin Jeong",
      "photoUrl": "https://lh3.googleusercontent.com/a/default-user=s64",
      "userId": "03658406798560557048"
     },
     "user_tz": -540
    },
    "id": "2jd93hCn6_wi",
    "outputId": "13e4fb02-6dea-4592-e70f-7fd985f87718"
   },
   "outputs": [
    {
     "name": "stdout",
     "output_type": "stream",
     "text": [
      "Score = 0.09163\n"
     ]
    }
   ],
   "source": [
    "# final selection of hyperparameters (최종모델 선택)\n",
    "\n",
    "from sklearn.ensemble import RandomForestRegressor\n",
    "\n",
    "model = RandomForestRegressor(n_estimators=300,\n",
    "                              max_depth=65,\n",
    "                              max_features=0.9309,\n",
    "                              random_state=37,\n",
    "                              n_jobs=-1)\n",
    "model.fit(X_train, y_train)\n",
    "score = cross_val_score(model, X_test, y_test, cv=5,\n",
    "                        scoring=rmsle_scorer).mean()\n",
    "print(\"Score = {0:.5f}\".format(score))"
   ]
  },
  {
   "cell_type": "markdown",
   "metadata": {
    "id": "dEYPDvKn6_wt"
   },
   "source": [
    "#### Most significant features"
   ]
  },
  {
   "cell_type": "code",
   "execution_count": 122,
   "metadata": {
    "colab": {
     "base_uri": "https://localhost:8080/"
    },
    "executionInfo": {
     "elapsed": 17,
     "status": "ok",
     "timestamp": 1634528296358,
     "user": {
      "displayName": "Yongjin Jeong",
      "photoUrl": "https://lh3.googleusercontent.com/a/default-user=s64",
      "userId": "03658406798560557048"
     },
     "user_tz": -540
    },
    "id": "0kCeoi1DXvfn",
    "outputId": "78113e49-4442-4f88-aa45-5c0329c75463"
   },
   "outputs": [
    {
     "data": {
      "text/plain": [
       "array([0.02895014, 0.00159298, 0.03771286, 0.01074947, 0.04924549,\n",
       "       0.02964683, 0.02133926, 0.01119758, 0.03024815, 0.75071977,\n",
       "       0.02859746])"
      ]
     },
     "execution_count": 122,
     "metadata": {},
     "output_type": "execute_result"
    }
   ],
   "source": [
    "model.feature_importances_    # he higher, the more important the feature."
   ]
  },
  {
   "cell_type": "code",
   "execution_count": 123,
   "metadata": {
    "colab": {
     "base_uri": "https://localhost:8080/",
     "height": 442
    },
    "executionInfo": {
     "elapsed": 1240,
     "status": "ok",
     "timestamp": 1634528297586,
     "user": {
      "displayName": "Yongjin Jeong",
      "photoUrl": "https://lh3.googleusercontent.com/a/default-user=s64",
      "userId": "03658406798560557048"
     },
     "user_tz": -540
    },
    "id": "LF_ik_es6_w-",
    "outputId": "59b3168a-a29e-42a3-c372-2c332abe8429"
   },
   "outputs": [
    {
     "data": {
      "image/png": "[encoded data removed]",
      "text/plain": [
       "<Figure size 720x504 with 1 Axes>"
      ]
     },
     "metadata": {
      "needs_background": "light"
     },
     "output_type": "display_data"
    }
   ],
   "source": [
    "df = pd.DataFrame({'feature':features,'importance':model.feature_importances_ }) \n",
    "df=df.sort_values('importance', ascending=False)\n",
    "x = df.feature\n",
    "y = df.importance\n",
    "ypos = np.arange(len(x))\n",
    "plt.figure(figsize=(10,7))\n",
    "plt.barh(x, y)\n",
    "plt.yticks(ypos, x)\n",
    "plt.xlabel('Importance')\n",
    "plt.ylabel('Variable')\n",
    "plt.xlim(0, 1)\n",
    "plt.ylim(-1, len(x))\n",
    "plt.show()"
   ]
  },
  {
   "cell_type": "markdown",
   "metadata": {
    "id": "0fneYrKUXvfn"
   },
   "source": [
    "## GridSearchCV()\n",
    "\n",
    "- 그리드 탐색을 하며 동시에 교차 검증 수행\n",
    "- fit, model, score 함수를 제공하며 fit 를 호출할 때 여러 파라미터 조합에 대해 교차 검증을 수행\n",
    "- Exhaustive search over specified parameter values for an estimator.\n",
    "- it implements a “fit” and a “score” method. It also implements “predict”, “predict_proba”, “decision_function”, \n",
    " “transform” and “inverse_transform” if they are implemented in the estimator used.\n",
    "- The parameters of the estimator used to apply these methods are optimized by cross-validated grid-search over a parameter grid.\n",
    "- 그리드 탐색과 교차 검증을 동시에 수행"
   ]
  },
  {
   "cell_type": "code",
   "execution_count": 124,
   "metadata": {
    "colab": {
     "base_uri": "https://localhost:8080/"
    },
    "executionInfo": {
     "elapsed": 25795,
     "status": "ok",
     "timestamp": 1634528325321,
     "user": {
      "displayName": "Yongjin Jeong",
      "photoUrl": "https://lh3.googleusercontent.com/a/default-user=s64",
      "userId": "03658406798560557048"
     },
     "user_tz": -540
    },
    "id": "uUIgYsbRXvfn",
    "outputId": "d156f1b7-2d95-4c2a-993e-bde361596bea"
   },
   "outputs": [
    {
     "name": "stdout",
     "output_type": "stream",
     "text": [
      "best values:  RandomForestRegressor(max_depth=30, max_features=0.9)\n",
      "best score:  0.9464442332854327\n",
      "final score:  0.9589943180667339\n"
     ]
    }
   ],
   "source": [
    "from sklearn.model_selection import GridSearchCV\n",
    "\n",
    "params = [{\"max_depth\":[10, 20, 30], \n",
    "           \"max_features\":[0.3, 0.5, 0.9]}]\n",
    "\n",
    "# grid search\n",
    "clf = GridSearchCV(RandomForestRegressor(), params, cv=3, n_jobs=-1)\n",
    "clf.fit(X_train, y_train)\n",
    "print(\"best values: \", clf.best_estimator_)\n",
    "print(\"best score: \", clf.best_score_)\n",
    "\n",
    "# final evaluation on test data\n",
    "score = clf.score(X_test, y_test)\n",
    "print(\"final score: \", score)"
   ]
  },
  {
   "cell_type": "markdown",
   "metadata": {
    "id": "0Zar9LcSXvfn"
   },
   "source": [
    "## RandomizedSearchCV() function\n",
    "\n",
    "- In contrast to GridSearchCV, not all parameter values are tried out, but rather a fixed number \n",
    "of parameter settings is sampled from the specified distributions. The number of parameter settings\n",
    "that are tried is given by n_iter."
   ]
  },
  {
   "cell_type": "code",
   "execution_count": 125,
   "metadata": {
    "colab": {
     "base_uri": "https://localhost:8080/"
    },
    "id": "ta5KTZI-Xvfn",
    "outputId": "0cb1cfb8-bebd-4f76-e481-31dd6d013320"
   },
   "outputs": [
    {
     "name": "stdout",
     "output_type": "stream",
     "text": [
      "{'n_estimators': 200, 'min_samples_split': 5, 'min_samples_leaf': 2, 'max_features': 'log2', 'max_depth': None, 'bootstrap': False} RandomForestRegressor(bootstrap=False, max_features='log2', min_samples_leaf=2,\n",
      "                      min_samples_split=5, n_estimators=200) 0.9162766832621637\n",
      "0.9365843295319143\n"
     ]
    }
   ],
   "source": [
    "from sklearn.model_selection import RandomizedSearchCV\n",
    "\n",
    "n_estimators = [int(x) for x in np.linspace(start = 200, stop = 2000, num = 10)]\n",
    "max_features = ['log2', 'sqrt']\n",
    "max_depth = [int(x) for x in np.linspace(10, 110, num = 11)]\n",
    "max_depth.append(None)\n",
    "min_samples_split = [2, 5, 10]\n",
    "min_samples_leaf = [1, 2, 4]\n",
    "bootstrap = [True, False]\n",
    "\n",
    "random_grid = {'n_estimators': n_estimators,\n",
    "               'max_features': max_features,\n",
    "               'max_depth': max_depth,\n",
    "               'min_samples_split': min_samples_split,\n",
    "               'min_samples_leaf': min_samples_leaf,\n",
    "               'bootstrap': bootstrap}\n",
    "\n",
    "rf = RandomizedSearchCV(RandomForestRegressor(), random_grid, \n",
    "                               cv = 3, n_jobs = -1)\n",
    "# Fit the random search model\n",
    "rf.fit(X_train, y_train)\n",
    "\n",
    "print(rf.best_params_, rf.best_estimator_, rf.best_score_)\n",
    "score = rf.score(X_test, y_test)\n",
    "print(score)"
   ]
  },
  {
   "cell_type": "code",
   "execution_count": null,
   "metadata": {
    "id": "RYDpc2q8Xvfn"
   },
   "outputs": [],
   "source": []
  }
 ],
 "metadata": {
  "accelerator": "GPU",
  "colab": {
   "collapsed_sections": [],
   "name": "lab38_hyperparameter_rev1.ipynb",
   "provenance": [],
   "toc_visible": true
  },
  "kernelspec": {
   "display_name": "Python 3",
   "language": "python",
   "name": "python3"
  },
  "language_info": {
   "codemirror_mode": {
    "name": "ipython",
    "version": 3
   },
   "file_extension": ".py",
   "mimetype": "text/x-python",
   "name": "python",
   "nbconvert_exporter": "python",
   "pygments_lexer": "ipython3",
   "version": "3.8.8"
  }
 },
 "nbformat": 4,
 "nbformat_minor": 1
}
