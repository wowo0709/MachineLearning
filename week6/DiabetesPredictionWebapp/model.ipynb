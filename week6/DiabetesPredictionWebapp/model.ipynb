{
 "cells": [
  {
   "cell_type": "markdown",
   "id": "7e6745ea",
   "metadata": {},
   "source": [
    "## Setup"
   ]
  },
  {
   "cell_type": "code",
   "execution_count": 26,
   "id": "f2ddcc8c",
   "metadata": {},
   "outputs": [],
   "source": [
    "import numpy as np\n",
    "import pandas as pd\n",
    "from sklearn.model_selection import train_test_split\n",
    "from sklearn.preprocessing import StandardScaler\n",
    "from sklearn.ensemble import RandomForestClassifier\n",
    "from sklearn.metrics import mean_squared_error\n",
    "from sklearn.metrics import f1_score, recall_score\n",
    "import pickle"
   ]
  },
  {
   "cell_type": "markdown",
   "id": "718088f0",
   "metadata": {},
   "source": [
    "## Import dataset"
   ]
  },
  {
   "cell_type": "code",
   "execution_count": 27,
   "id": "f8a4ff2e",
   "metadata": {},
   "outputs": [
    {
     "data": {
      "text/html": [
       "<div>\n",
       "<style scoped>\n",
       "    .dataframe tbody tr th:only-of-type {\n",
       "        vertical-align: middle;\n",
       "    }\n",
       "\n",
       "    .dataframe tbody tr th {\n",
       "        vertical-align: top;\n",
       "    }\n",
       "\n",
       "    .dataframe thead th {\n",
       "        text-align: right;\n",
       "    }\n",
       "</style>\n",
       "<table border=\"1\" class=\"dataframe\">\n",
       "  <thead>\n",
       "    <tr style=\"text-align: right;\">\n",
       "      <th></th>\n",
       "      <th>Pregnancies</th>\n",
       "      <th>Glucose</th>\n",
       "      <th>BloodPressure</th>\n",
       "      <th>SkinThickness</th>\n",
       "      <th>Insulin</th>\n",
       "      <th>BMI</th>\n",
       "      <th>DiabetesPedigreeFunction</th>\n",
       "      <th>Age</th>\n",
       "      <th>Outcome</th>\n",
       "    </tr>\n",
       "  </thead>\n",
       "  <tbody>\n",
       "    <tr>\n",
       "      <th>0</th>\n",
       "      <td>6</td>\n",
       "      <td>148</td>\n",
       "      <td>72</td>\n",
       "      <td>35</td>\n",
       "      <td>0</td>\n",
       "      <td>33.6</td>\n",
       "      <td>0.627</td>\n",
       "      <td>50</td>\n",
       "      <td>1</td>\n",
       "    </tr>\n",
       "    <tr>\n",
       "      <th>1</th>\n",
       "      <td>1</td>\n",
       "      <td>85</td>\n",
       "      <td>66</td>\n",
       "      <td>29</td>\n",
       "      <td>0</td>\n",
       "      <td>26.6</td>\n",
       "      <td>0.351</td>\n",
       "      <td>31</td>\n",
       "      <td>0</td>\n",
       "    </tr>\n",
       "    <tr>\n",
       "      <th>2</th>\n",
       "      <td>8</td>\n",
       "      <td>183</td>\n",
       "      <td>64</td>\n",
       "      <td>0</td>\n",
       "      <td>0</td>\n",
       "      <td>23.3</td>\n",
       "      <td>0.672</td>\n",
       "      <td>32</td>\n",
       "      <td>1</td>\n",
       "    </tr>\n",
       "    <tr>\n",
       "      <th>3</th>\n",
       "      <td>1</td>\n",
       "      <td>89</td>\n",
       "      <td>66</td>\n",
       "      <td>23</td>\n",
       "      <td>94</td>\n",
       "      <td>28.1</td>\n",
       "      <td>0.167</td>\n",
       "      <td>21</td>\n",
       "      <td>0</td>\n",
       "    </tr>\n",
       "    <tr>\n",
       "      <th>4</th>\n",
       "      <td>0</td>\n",
       "      <td>137</td>\n",
       "      <td>40</td>\n",
       "      <td>35</td>\n",
       "      <td>168</td>\n",
       "      <td>43.1</td>\n",
       "      <td>2.288</td>\n",
       "      <td>33</td>\n",
       "      <td>1</td>\n",
       "    </tr>\n",
       "  </tbody>\n",
       "</table>\n",
       "</div>"
      ],
      "text/plain": [
       "   Pregnancies  Glucose  BloodPressure  SkinThickness  Insulin   BMI  \\\n",
       "0            6      148             72             35        0  33.6   \n",
       "1            1       85             66             29        0  26.6   \n",
       "2            8      183             64              0        0  23.3   \n",
       "3            1       89             66             23       94  28.1   \n",
       "4            0      137             40             35      168  43.1   \n",
       "\n",
       "   DiabetesPedigreeFunction  Age  Outcome  \n",
       "0                     0.627   50        1  \n",
       "1                     0.351   31        0  \n",
       "2                     0.672   32        1  \n",
       "3                     0.167   21        0  \n",
       "4                     2.288   33        1  "
      ]
     },
     "execution_count": 27,
     "metadata": {},
     "output_type": "execute_result"
    }
   ],
   "source": [
    "diabetes = pd.read_csv(\"diabetes.csv\")\n",
    "\n",
    "diabetes.head()"
   ]
  },
  {
   "cell_type": "code",
   "execution_count": 28,
   "id": "4c465ae4",
   "metadata": {},
   "outputs": [
    {
     "name": "stdout",
     "output_type": "stream",
     "text": [
      "<class 'pandas.core.frame.DataFrame'>\n",
      "RangeIndex: 770 entries, 0 to 769\n",
      "Data columns (total 9 columns):\n",
      " #   Column                    Non-Null Count  Dtype  \n",
      "---  ------                    --------------  -----  \n",
      " 0   Pregnancies               770 non-null    int64  \n",
      " 1   Glucose                   770 non-null    int64  \n",
      " 2   BloodPressure             770 non-null    int64  \n",
      " 3   SkinThickness             770 non-null    int64  \n",
      " 4   Insulin                   770 non-null    int64  \n",
      " 5   BMI                       770 non-null    float64\n",
      " 6   DiabetesPedigreeFunction  770 non-null    float64\n",
      " 7   Age                       770 non-null    int64  \n",
      " 8   Outcome                   770 non-null    int64  \n",
      "dtypes: float64(2), int64(7)\n",
      "memory usage: 54.3 KB\n"
     ]
    }
   ],
   "source": [
    "diabetes.info()"
   ]
  },
  {
   "cell_type": "markdown",
   "id": "6d5d3f08",
   "metadata": {},
   "source": [
    "**no categorical data.**"
   ]
  },
  {
   "cell_type": "code",
   "execution_count": 29,
   "id": "0f65f323",
   "metadata": {
    "scrolled": true
   },
   "outputs": [
    {
     "data": {
      "text/html": [
       "<div>\n",
       "<style scoped>\n",
       "    .dataframe tbody tr th:only-of-type {\n",
       "        vertical-align: middle;\n",
       "    }\n",
       "\n",
       "    .dataframe tbody tr th {\n",
       "        vertical-align: top;\n",
       "    }\n",
       "\n",
       "    .dataframe thead th {\n",
       "        text-align: right;\n",
       "    }\n",
       "</style>\n",
       "<table border=\"1\" class=\"dataframe\">\n",
       "  <thead>\n",
       "    <tr style=\"text-align: right;\">\n",
       "      <th></th>\n",
       "      <th>Pregnancies</th>\n",
       "      <th>Glucose</th>\n",
       "      <th>BloodPressure</th>\n",
       "      <th>SkinThickness</th>\n",
       "      <th>Insulin</th>\n",
       "      <th>BMI</th>\n",
       "      <th>DiabetesPedigreeFunction</th>\n",
       "      <th>Age</th>\n",
       "      <th>Outcome</th>\n",
       "    </tr>\n",
       "  </thead>\n",
       "  <tbody>\n",
       "    <tr>\n",
       "      <th>count</th>\n",
       "      <td>770.000000</td>\n",
       "      <td>770.000000</td>\n",
       "      <td>770.000000</td>\n",
       "      <td>770.00000</td>\n",
       "      <td>770.000000</td>\n",
       "      <td>770.000000</td>\n",
       "      <td>770.000000</td>\n",
       "      <td>770.000000</td>\n",
       "      <td>770.000000</td>\n",
       "    </tr>\n",
       "    <tr>\n",
       "      <th>mean</th>\n",
       "      <td>3.838961</td>\n",
       "      <td>120.885714</td>\n",
       "      <td>69.076623</td>\n",
       "      <td>20.55974</td>\n",
       "      <td>79.618182</td>\n",
       "      <td>31.987662</td>\n",
       "      <td>0.472209</td>\n",
       "      <td>33.219481</td>\n",
       "      <td>0.350649</td>\n",
       "    </tr>\n",
       "    <tr>\n",
       "      <th>std</th>\n",
       "      <td>3.367409</td>\n",
       "      <td>31.974468</td>\n",
       "      <td>19.343197</td>\n",
       "      <td>15.93802</td>\n",
       "      <td>115.150062</td>\n",
       "      <td>7.876514</td>\n",
       "      <td>0.331001</td>\n",
       "      <td>11.777296</td>\n",
       "      <td>0.477483</td>\n",
       "    </tr>\n",
       "    <tr>\n",
       "      <th>min</th>\n",
       "      <td>0.000000</td>\n",
       "      <td>0.000000</td>\n",
       "      <td>0.000000</td>\n",
       "      <td>0.00000</td>\n",
       "      <td>0.000000</td>\n",
       "      <td>0.000000</td>\n",
       "      <td>0.078000</td>\n",
       "      <td>10.000000</td>\n",
       "      <td>0.000000</td>\n",
       "    </tr>\n",
       "    <tr>\n",
       "      <th>25%</th>\n",
       "      <td>1.000000</td>\n",
       "      <td>99.000000</td>\n",
       "      <td>62.000000</td>\n",
       "      <td>0.00000</td>\n",
       "      <td>0.000000</td>\n",
       "      <td>27.300000</td>\n",
       "      <td>0.244000</td>\n",
       "      <td>24.000000</td>\n",
       "      <td>0.000000</td>\n",
       "    </tr>\n",
       "    <tr>\n",
       "      <th>50%</th>\n",
       "      <td>3.000000</td>\n",
       "      <td>117.000000</td>\n",
       "      <td>72.000000</td>\n",
       "      <td>23.00000</td>\n",
       "      <td>27.000000</td>\n",
       "      <td>32.000000</td>\n",
       "      <td>0.374500</td>\n",
       "      <td>29.000000</td>\n",
       "      <td>0.000000</td>\n",
       "    </tr>\n",
       "    <tr>\n",
       "      <th>75%</th>\n",
       "      <td>6.000000</td>\n",
       "      <td>140.750000</td>\n",
       "      <td>80.000000</td>\n",
       "      <td>32.00000</td>\n",
       "      <td>126.750000</td>\n",
       "      <td>36.575000</td>\n",
       "      <td>0.626750</td>\n",
       "      <td>41.000000</td>\n",
       "      <td>1.000000</td>\n",
       "    </tr>\n",
       "    <tr>\n",
       "      <th>max</th>\n",
       "      <td>17.000000</td>\n",
       "      <td>199.000000</td>\n",
       "      <td>122.000000</td>\n",
       "      <td>99.00000</td>\n",
       "      <td>846.000000</td>\n",
       "      <td>67.100000</td>\n",
       "      <td>2.420000</td>\n",
       "      <td>81.000000</td>\n",
       "      <td>1.000000</td>\n",
       "    </tr>\n",
       "  </tbody>\n",
       "</table>\n",
       "</div>"
      ],
      "text/plain": [
       "       Pregnancies     Glucose  BloodPressure  SkinThickness     Insulin  \\\n",
       "count   770.000000  770.000000     770.000000      770.00000  770.000000   \n",
       "mean      3.838961  120.885714      69.076623       20.55974   79.618182   \n",
       "std       3.367409   31.974468      19.343197       15.93802  115.150062   \n",
       "min       0.000000    0.000000       0.000000        0.00000    0.000000   \n",
       "25%       1.000000   99.000000      62.000000        0.00000    0.000000   \n",
       "50%       3.000000  117.000000      72.000000       23.00000   27.000000   \n",
       "75%       6.000000  140.750000      80.000000       32.00000  126.750000   \n",
       "max      17.000000  199.000000     122.000000       99.00000  846.000000   \n",
       "\n",
       "              BMI  DiabetesPedigreeFunction         Age     Outcome  \n",
       "count  770.000000                770.000000  770.000000  770.000000  \n",
       "mean    31.987662                  0.472209   33.219481    0.350649  \n",
       "std      7.876514                  0.331001   11.777296    0.477483  \n",
       "min      0.000000                  0.078000   10.000000    0.000000  \n",
       "25%     27.300000                  0.244000   24.000000    0.000000  \n",
       "50%     32.000000                  0.374500   29.000000    0.000000  \n",
       "75%     36.575000                  0.626750   41.000000    1.000000  \n",
       "max     67.100000                  2.420000   81.000000    1.000000  "
      ]
     },
     "execution_count": 29,
     "metadata": {},
     "output_type": "execute_result"
    }
   ],
   "source": [
    "diabetes.describe()"
   ]
  },
  {
   "cell_type": "markdown",
   "id": "e88238a7",
   "metadata": {},
   "source": [
    "**no NANs.**"
   ]
  },
  {
   "cell_type": "markdown",
   "id": "f4a4ab46",
   "metadata": {},
   "source": [
    "## Split train/test set"
   ]
  },
  {
   "cell_type": "code",
   "execution_count": 30,
   "id": "fbab2ff9",
   "metadata": {},
   "outputs": [],
   "source": [
    "X = diabetes.drop('Outcome', axis=1)\n",
    "y = diabetes['Outcome']"
   ]
  },
  {
   "cell_type": "code",
   "execution_count": 31,
   "id": "44cbab3f",
   "metadata": {},
   "outputs": [
    {
     "name": "stdout",
     "output_type": "stream",
     "text": [
      "(616, 8) (154, 8) (616,) (154,)\n"
     ]
    }
   ],
   "source": [
    "X_train, X_test, y_train, y_test = train_test_split(X, y, \n",
    "                                                    test_size=0.2, \n",
    "                                                    shuffle=True, \n",
    "                                                    random_state=42)\n",
    "\n",
    "print(X_train.shape, X_test.shape, y_train.shape, y_test.shape)"
   ]
  },
  {
   "cell_type": "markdown",
   "id": "aa237ab2",
   "metadata": {},
   "source": [
    "## Data Preprocessing\n",
    "\n",
    "No imputing, encoding needed. \n",
    "\n",
    "Scale the data using StandardScaler. "
   ]
  },
  {
   "cell_type": "code",
   "execution_count": 32,
   "id": "186f9689",
   "metadata": {},
   "outputs": [],
   "source": [
    "scaler = StandardScaler()\n",
    "scaled_X_train = scaler.fit_transform(X_train)"
   ]
  },
  {
   "cell_type": "code",
   "execution_count": 33,
   "id": "f572c8ca",
   "metadata": {},
   "outputs": [
    {
     "data": {
      "text/plain": [
       "array([[-0.57209822, -1.13306417, -3.85659956, ..., -4.08721955,\n",
       "        -0.48339734, -1.04345604],\n",
       "       [-1.16488628, -0.82670964,  0.00905452, ...,  1.49353211,\n",
       "        -0.35468058, -1.04345604],\n",
       "       [-0.27570419, -0.4590842 ,  0.11950178, ..., -0.7772565 ,\n",
       "        -0.77375842, -0.53533832],\n",
       "       ...,\n",
       "       [ 1.79905403, -0.61226147,  0.8926326 , ...,  1.7629477 ,\n",
       "         2.00712238,  0.39621085],\n",
       "       [-1.16488628,  0.61315666, -3.85659956, ...,  1.35240965,\n",
       "        -0.77974524, -0.36596574],\n",
       "       [-1.16488628,  0.12298941,  1.4448689 , ..., -1.20062387,\n",
       "        -0.6091207 , -1.04345604]])"
      ]
     },
     "execution_count": 33,
     "metadata": {},
     "output_type": "execute_result"
    }
   ],
   "source": [
    "scaled_X_train"
   ]
  },
  {
   "cell_type": "markdown",
   "id": "75637335",
   "metadata": {},
   "source": [
    "## Train Model"
   ]
  },
  {
   "cell_type": "code",
   "execution_count": 34,
   "id": "53c7e8bb",
   "metadata": {},
   "outputs": [
    {
     "data": {
      "text/plain": [
       "RandomForestClassifier()"
      ]
     },
     "execution_count": 34,
     "metadata": {},
     "output_type": "execute_result"
    }
   ],
   "source": [
    "model = RandomForestClassifier()\n",
    "\n",
    "model.fit(scaled_X_train, y_train)"
   ]
  },
  {
   "cell_type": "markdown",
   "id": "0d8158ad",
   "metadata": {},
   "source": [
    "## Evaluate Model"
   ]
  },
  {
   "cell_type": "code",
   "execution_count": 35,
   "id": "434af920",
   "metadata": {},
   "outputs": [
    {
     "name": "stdout",
     "output_type": "stream",
     "text": [
      "rmse: 0.5\ttest score: 75.32%\n",
      "f1 score: 0.63\trecall score: 61.11%\n"
     ]
    }
   ],
   "source": [
    "scaled_X_test = scaler.transform(X_test)\n",
    "\n",
    "final_predictions = model.predict(scaled_X_test)\n",
    "\n",
    "test_rmse = mean_squared_error(y_test, final_predictions)**(1/2)\n",
    "test_score = model.score(scaled_X_test, y_test)\n",
    "f1_score = f1_score(y_test, final_predictions)\n",
    "recall_score = recall_score(y_test, final_predictions)\n",
    "\n",
    "print(\"rmse: {}\\ttest score: {}%\".format(round(test_rmse,2), round(test_score*100,2)))\n",
    "print(\"f1 score: {}\\trecall score: {}%\".format(round(f1_score,2), round(recall_score*100,2)))"
   ]
  },
  {
   "cell_type": "markdown",
   "id": "e6ad73a2",
   "metadata": {},
   "source": [
    "## Save Model"
   ]
  },
  {
   "cell_type": "code",
   "execution_count": 36,
   "id": "f4ad323f",
   "metadata": {},
   "outputs": [],
   "source": [
    "# Save model\n",
    "\n",
    "pickle.dump(model, open('diabetesregressionmodel.pkl', 'wb'))"
   ]
  },
  {
   "cell_type": "code",
   "execution_count": 37,
   "id": "e3041e8a",
   "metadata": {},
   "outputs": [],
   "source": [
    "# Save preprocessor\n",
    "\n",
    "pickle.dump(scaler, open('diabetesscaler.pkl', 'wb'))"
   ]
  },
  {
   "cell_type": "code",
   "execution_count": null,
   "id": "401d1aaf",
   "metadata": {},
   "outputs": [],
   "source": []
  }
 ],
 "metadata": {
  "kernelspec": {
   "display_name": "Python 3",
   "language": "python",
   "name": "python3"
  },
  "language_info": {
   "codemirror_mode": {
    "name": "ipython",
    "version": 3
   },
   "file_extension": ".py",
   "mimetype": "text/x-python",
   "name": "python",
   "nbconvert_exporter": "python",
   "pygments_lexer": "ipython3",
   "version": "3.8.8"
  }
 },
 "nbformat": 4,
 "nbformat_minor": 5
}
