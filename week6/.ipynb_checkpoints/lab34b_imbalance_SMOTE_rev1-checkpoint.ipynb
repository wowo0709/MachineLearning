{
 "cells": [
  {
   "cell_type": "markdown",
   "metadata": {
    "id": "mLFAiWLi7_F0"
   },
   "source": [
    "# Imbalance problem\n",
    "- Most machine learning algorithms assume data equally distributed. So when we have a class imbalance, the machine learning classifier tends to be more biased towards the majority class, causing bad classification of the minority class."
   ]
  },
  {
   "cell_type": "markdown",
   "metadata": {
    "id": "wWh9hntq9Nb6"
   },
   "source": [
    "## SMOTE (Synthetic Monority Oversampling TEchnique)\n",
    "- a random example from the minority class is first chosen. Then k of the nearest neighbors for that example are found (typically k=5). \n",
    "- A randomly selected neighbor is chosen and a synthetic example is created at a randomly selected point between the two examples in feature space.\n",
    "- SMOTE + RandomUnderSampler is fine\n"
   ]
  },
  {
   "cell_type": "markdown",
   "metadata": {},
   "source": [
    "### Setup"
   ]
  },
  {
   "cell_type": "code",
   "execution_count": 1,
   "metadata": {
    "executionInfo": {
     "elapsed": 342,
     "status": "ok",
     "timestamp": 1633321629169,
     "user": {
      "displayName": "Yongjin Jeong",
      "photoUrl": "https://lh3.googleusercontent.com/a/default-user=s64",
      "userId": "03658406798560557048"
     },
     "user_tz": -540
    },
    "id": "QTQYUgDuJ8iD"
   },
   "outputs": [],
   "source": [
    "import warnings\n",
    "from warnings import simplefilter\n",
    "# ignore all future warnings\n",
    "simplefilter(action='ignore', category=FutureWarning)"
   ]
  },
  {
   "cell_type": "code",
   "execution_count": 2,
   "metadata": {
    "colab": {
     "base_uri": "https://localhost:8080/"
    },
    "executionInfo": {
     "elapsed": 3070,
     "status": "ok",
     "timestamp": 1633321632921,
     "user": {
      "displayName": "Yongjin Jeong",
      "photoUrl": "https://lh3.googleusercontent.com/a/default-user=s64",
      "userId": "03658406798560557048"
     },
     "user_tz": -540
    },
    "id": "g03hC1RH3abW",
    "outputId": "660a066d-c3e8-4ca6-d7ef-1341966ce5d1"
   },
   "outputs": [
    {
     "name": "stdout",
     "output_type": "stream",
     "text": [
      "Collecting imblearn\n",
      "  Downloading imblearn-0.0-py2.py3-none-any.whl (1.9 kB)\n",
      "Collecting imbalanced-learn\n",
      "  Downloading imbalanced_learn-0.8.1-py3-none-any.whl (189 kB)\n",
      "Requirement already satisfied: numpy>=1.13.3 in c:\\users\\wjsdu\\anaconda3\\lib\\site-packages (from imbalanced-learn->imblearn) (1.19.5)\n",
      "Requirement already satisfied: scikit-learn>=0.24 in c:\\users\\wjsdu\\anaconda3\\lib\\site-packages (from imbalanced-learn->imblearn) (0.24.1)\n",
      "Requirement already satisfied: scipy>=0.19.1 in c:\\users\\wjsdu\\anaconda3\\lib\\site-packages (from imbalanced-learn->imblearn) (1.6.2)\n",
      "Requirement already satisfied: joblib>=0.11 in c:\\users\\wjsdu\\anaconda3\\lib\\site-packages (from imbalanced-learn->imblearn) (1.0.1)\n",
      "Requirement already satisfied: threadpoolctl>=2.0.0 in c:\\users\\wjsdu\\anaconda3\\lib\\site-packages (from scikit-learn>=0.24->imbalanced-learn->imblearn) (2.1.0)\n",
      "Installing collected packages: imbalanced-learn, imblearn\n",
      "Successfully installed imbalanced-learn-0.8.1 imblearn-0.0\n"
     ]
    }
   ],
   "source": [
    "!pip install imblearn"
   ]
  },
  {
   "cell_type": "code",
   "execution_count": 3,
   "metadata": {
    "executionInfo": {
     "elapsed": 506,
     "status": "ok",
     "timestamp": 1633321633423,
     "user": {
      "displayName": "Yongjin Jeong",
      "photoUrl": "https://lh3.googleusercontent.com/a/default-user=s64",
      "userId": "03658406798560557048"
     },
     "user_tz": -540
    },
    "id": "QwG5VjjA8Kq6"
   },
   "outputs": [],
   "source": [
    "import imblearn"
   ]
  },
  {
   "cell_type": "code",
   "execution_count": 4,
   "metadata": {
    "colab": {
     "base_uri": "https://localhost:8080/"
    },
    "executionInfo": {
     "elapsed": 14,
     "status": "ok",
     "timestamp": 1633321633424,
     "user": {
      "displayName": "Yongjin Jeong",
      "photoUrl": "https://lh3.googleusercontent.com/a/default-user=s64",
      "userId": "03658406798560557048"
     },
     "user_tz": -540
    },
    "id": "Fcw7FIc86tVM",
    "outputId": "b364a61f-bc06-4b01-bdc2-c1ffae266e20"
   },
   "outputs": [
    {
     "name": "stdout",
     "output_type": "stream",
     "text": [
      "0.8.1\n"
     ]
    }
   ],
   "source": [
    "print(imblearn.__version__)"
   ]
  },
  {
   "cell_type": "code",
   "execution_count": 11,
   "metadata": {
    "executionInfo": {
     "elapsed": 11,
     "status": "ok",
     "timestamp": 1633321633425,
     "user": {
      "displayName": "Yongjin Jeong",
      "photoUrl": "https://lh3.googleusercontent.com/a/default-user=s64",
      "userId": "03658406798560557048"
     },
     "user_tz": -540
    },
    "id": "vY_GqMBv-SXV"
   },
   "outputs": [],
   "source": [
    "import numpy as np\n",
    "import pandas as pd\n",
    "import matplotlib.pyplot as plt\n",
    "%matplotlib inline\n",
    "from sklearn.ensemble import RandomForestClassifier\n",
    "from sklearn.model_selection import train_test_split\n",
    "from sklearn.metrics import confusion_matrix, classification_report, roc_curve, auc"
   ]
  },
  {
   "cell_type": "markdown",
   "metadata": {},
   "source": [
    "### Make dataset"
   ]
  },
  {
   "cell_type": "code",
   "execution_count": 7,
   "metadata": {
    "executionInfo": {
     "elapsed": 11,
     "status": "ok",
     "timestamp": 1633321633425,
     "user": {
      "displayName": "Yongjin Jeong",
      "photoUrl": "https://lh3.googleusercontent.com/a/default-user=s64",
      "userId": "03658406798560557048"
     },
     "user_tz": -540
    },
    "id": "fQE4pWtR8cNK"
   },
   "outputs": [],
   "source": [
    "# define dataset\n",
    "from sklearn.datasets import make_classification\n",
    "X_org, y_org = make_classification(n_samples=10000, n_features=2, n_redundant=0,\n",
    "\t                       n_clusters_per_class=1, weights=[0.99], flip_y=0, \n",
    "                           random_state=1)"
   ]
  },
  {
   "cell_type": "code",
   "execution_count": 8,
   "metadata": {
    "colab": {
     "base_uri": "https://localhost:8080/"
    },
    "executionInfo": {
     "elapsed": 10,
     "status": "ok",
     "timestamp": 1633321633425,
     "user": {
      "displayName": "Yongjin Jeong",
      "photoUrl": "https://lh3.googleusercontent.com/a/default-user=s64",
      "userId": "03658406798560557048"
     },
     "user_tz": -540
    },
    "id": "JJtfRr9l9W7i",
    "outputId": "dfcfe0ad-48f7-499e-833a-377bd424f98a"
   },
   "outputs": [
    {
     "data": {
      "text/plain": [
       "((10000, 2), (10000,))"
      ]
     },
     "execution_count": 8,
     "metadata": {},
     "output_type": "execute_result"
    }
   ],
   "source": [
    "X_org.shape, y_org.shape"
   ]
  },
  {
   "cell_type": "code",
   "execution_count": 9,
   "metadata": {
    "colab": {
     "base_uri": "https://localhost:8080/"
    },
    "executionInfo": {
     "elapsed": 8,
     "status": "ok",
     "timestamp": 1633321633426,
     "user": {
      "displayName": "Yongjin Jeong",
      "photoUrl": "https://lh3.googleusercontent.com/a/default-user=s64",
      "userId": "03658406798560557048"
     },
     "user_tz": -540
    },
    "id": "M5Ud3His_Eos",
    "outputId": "237de07e-ab9d-4fd1-ba4d-1cad734e27ff"
   },
   "outputs": [
    {
     "data": {
      "text/plain": [
       "(9900, 100)"
      ]
     },
     "execution_count": 9,
     "metadata": {},
     "output_type": "execute_result"
    }
   ],
   "source": [
    "# Imbalanced dataset\n",
    "len(y_org[y_org==0]), len(y_org[y_org==1])"
   ]
  },
  {
   "cell_type": "code",
   "execution_count": 10,
   "metadata": {
    "colab": {
     "base_uri": "https://localhost:8080/",
     "height": 265
    },
    "executionInfo": {
     "elapsed": 706,
     "status": "ok",
     "timestamp": 1633321634126,
     "user": {
      "displayName": "Yongjin Jeong",
      "photoUrl": "https://lh3.googleusercontent.com/a/default-user=s64",
      "userId": "03658406798560557048"
     },
     "user_tz": -540
    },
    "id": "P44deaO3AFo0",
    "outputId": "c6f57c24-d0e1-4c8f-a40b-72cdc814565c"
   },
   "outputs": [
    {
     "data": {
      "image/png": "[encoded data removed]",
      "text/plain": [
       "<Figure size 432x288 with 1 Axes>"
      ]
     },
     "metadata": {
      "needs_background": "light"
     },
     "output_type": "display_data"
    }
   ],
   "source": [
    "markers = ['o', '+']\n",
    "for i in range(2):\n",
    "    xs = X_org[:, 0][y_org == i]\n",
    "    ys = X_org[:, 1][y_org == i]\n",
    "    plt.scatter(xs, ys, marker=markers[i], label=str(i), s=3)\n",
    "plt.legend()\n",
    "plt.show()"
   ]
  },
  {
   "cell_type": "code",
   "execution_count": 43,
   "metadata": {
    "executionInfo": {
     "elapsed": 17,
     "status": "ok",
     "timestamp": 1633321634127,
     "user": {
      "displayName": "Yongjin Jeong",
      "photoUrl": "https://lh3.googleusercontent.com/a/default-user=s64",
      "userId": "03658406798560557048"
     },
     "user_tz": -540
    },
    "id": "e-X5Un86E2oH"
   },
   "outputs": [],
   "source": [
    "# Utility function for printing result\n",
    "\n",
    "def print_result(X_train, X_test, y_train, y_test):\n",
    "\n",
    "    model = RandomForestClassifier(n_estimators=100, max_depth=5)\n",
    "    print(\"Shapes: \", X_train.shape, X_test.shape, y_train.shape, y_test.shape)\n",
    "    model.fit(X_train, y_train)\n",
    "\n",
    "    y_pred = model.predict(X_test)\n",
    "    print(\"Static performance: \", \"\\n\", confusion_matrix(y_test, y_pred))\n",
    "    print()\n",
    "    print(classification_report(y_test, y_pred))\n",
    "\n",
    "    y_pred_proba = model.predict_proba(X_test)\n",
    "    fpr, tpr, _ = roc_curve(y_test, y_pred_proba[:,1])\n",
    "    print(\"AUC score: \", auc(fpr, tpr))\n",
    "    print()"
   ]
  },
  {
   "cell_type": "markdown",
   "metadata": {},
   "source": [
    "### classification on original dataset"
   ]
  },
  {
   "cell_type": "code",
   "execution_count": 13,
   "metadata": {
    "colab": {
     "base_uri": "https://localhost:8080/"
    },
    "executionInfo": {
     "elapsed": 847,
     "status": "ok",
     "timestamp": 1633321634957,
     "user": {
      "displayName": "Yongjin Jeong",
      "photoUrl": "https://lh3.googleusercontent.com/a/default-user=s64",
      "userId": "03658406798560557048"
     },
     "user_tz": -540
    },
    "id": "3fDrIHBr6Zqk",
    "outputId": "cc59a840-77cf-48ac-b3e7-2548e7e4cf87"
   },
   "outputs": [
    {
     "name": "stdout",
     "output_type": "stream",
     "text": [
      "original distribution:  0.99 0.01\n",
      "Train data distribution:  0.99 0.01\n",
      "Test data distribution:  0.99 0.01\n",
      "Shapes:  (7000, 2) (3000, 2) (7000,) (3000,)\n",
      "Static performance:  \n",
      " [[2969    1]\n",
      " [  18   12]]\n",
      "\n",
      "              precision    recall  f1-score   support\n",
      "\n",
      "           0       0.99      1.00      1.00      2970\n",
      "           1       0.92      0.40      0.56        30\n",
      "\n",
      "    accuracy                           0.99      3000\n",
      "   macro avg       0.96      0.70      0.78      3000\n",
      "weighted avg       0.99      0.99      0.99      3000\n",
      "\n",
      "AUC score:  0.9161672278338945\n"
     ]
    }
   ],
   "source": [
    "# classification on original dataset\n",
    "\n",
    "X, y = X_org.copy(), y_org.copy()\n",
    "X_train, X_test, y_train, y_test = train_test_split(X, y, test_size=0.3, stratify=y)\n",
    "print(\"original distribution: \", len(y[y==0])/len(y), len(y[y==1])/len(y))\n",
    "print(\"Train data distribution: \", len(y_train[y_train==0])/len(y_train), len(y_train[y_train==1])/len(y_train))\n",
    "print(\"Test data distribution: \", len(y_test[y_test==0])/len(y_test), len(y_test[y_test==1])/len(y_test))\n",
    "\n",
    "print_result(X_train, X_test, y_train, y_test)"
   ]
  },
  {
   "cell_type": "markdown",
   "metadata": {
    "id": "aVtsOH-GYm-0"
   },
   "source": [
    "- look at <span style=\"color:red\">**Bad Recall1 score. (40%)**</span>\n",
    "  - Because of <span style=\"color:red\">imbalance.</span> (Think of it as detecting threatening objects such as guns and knives)\n",
    "  \n",
    "Minority class (1)에 대해 현저히 낮은 성능을 보인다. "
   ]
  },
  {
   "cell_type": "markdown",
   "metadata": {},
   "source": [
    "### SMOTEed dataset\n",
    "\n",
    "**oversampling**"
   ]
  },
  {
   "cell_type": "code",
   "execution_count": 16,
   "metadata": {
    "executionInfo": {
     "elapsed": 4,
     "status": "ok",
     "timestamp": 1633321634957,
     "user": {
      "displayName": "Yongjin Jeong",
      "photoUrl": "https://lh3.googleusercontent.com/a/default-user=s64",
      "userId": "03658406798560557048"
     },
     "user_tz": -540
    },
    "id": "fTGSm4vGB85L"
   },
   "outputs": [],
   "source": [
    "from imblearn.over_sampling import SMOTE\n",
    "oversample = SMOTE()\n",
    "X, y = oversample.fit_resample(X_org, y_org)"
   ]
  },
  {
   "cell_type": "code",
   "execution_count": 17,
   "metadata": {
    "colab": {
     "base_uri": "https://localhost:8080/"
    },
    "executionInfo": {
     "elapsed": 5,
     "status": "ok",
     "timestamp": 1633321634958,
     "user": {
      "displayName": "Yongjin Jeong",
      "photoUrl": "https://lh3.googleusercontent.com/a/default-user=s64",
      "userId": "03658406798560557048"
     },
     "user_tz": -540
    },
    "id": "hJdfigB0Cfuh",
    "outputId": "a0f73b60-e96e-4296-bf7c-3c22b170e5e0"
   },
   "outputs": [
    {
     "data": {
      "text/plain": [
       "((19800, 2), (19800,), 9900, 9900)"
      ]
     },
     "execution_count": 17,
     "metadata": {},
     "output_type": "execute_result"
    }
   ],
   "source": [
    "X.shape, y.shape , len(y[y==0]), len(y[y==1])"
   ]
  },
  {
   "cell_type": "code",
   "execution_count": 18,
   "metadata": {
    "colab": {
     "base_uri": "https://localhost:8080/",
     "height": 265
    },
    "executionInfo": {
     "elapsed": 851,
     "status": "ok",
     "timestamp": 1633321635806,
     "user": {
      "displayName": "Yongjin Jeong",
      "photoUrl": "https://lh3.googleusercontent.com/a/default-user=s64",
      "userId": "03658406798560557048"
     },
     "user_tz": -540
    },
    "id": "-fHCjfaECfrs",
    "outputId": "2a798299-b375-4cc1-b5d7-2d5c2c7b79d6"
   },
   "outputs": [
    {
     "data": {
      "image/png": "[encoded data removed]",
      "text/plain": [
       "<Figure size 432x288 with 1 Axes>"
      ]
     },
     "metadata": {
      "needs_background": "light"
     },
     "output_type": "display_data"
    }
   ],
   "source": [
    "markers = ['o', '+']\n",
    "for i in range(2):\n",
    "    xs = X[:, 0][y == i]\n",
    "    ys = X[:, 1][y == i]\n",
    "    plt.scatter(xs, ys, marker=markers[i], label=str(i), s=3)\n",
    "plt.legend()\n",
    "plt.show()"
   ]
  },
  {
   "cell_type": "markdown",
   "metadata": {},
   "source": [
    "### Undersampled dataset\n",
    "\n",
    "**Undersampling**"
   ]
  },
  {
   "cell_type": "code",
   "execution_count": 19,
   "metadata": {
    "colab": {
     "base_uri": "https://localhost:8080/"
    },
    "executionInfo": {
     "elapsed": 27,
     "status": "ok",
     "timestamp": 1633321635807,
     "user": {
      "displayName": "Yongjin Jeong",
      "photoUrl": "https://lh3.googleusercontent.com/a/default-user=s64",
      "userId": "03658406798560557048"
     },
     "user_tz": -540
    },
    "id": "iCH-RFFELVVy",
    "outputId": "7b8a05d5-efac-4036-899a-1580e9dff9a4"
   },
   "outputs": [
    {
     "name": "stdout",
     "output_type": "stream",
     "text": [
      "100 100\n"
     ]
    }
   ],
   "source": [
    "from imblearn.under_sampling import RandomUnderSampler\n",
    "\n",
    "under = RandomUnderSampler()\n",
    "X, y = under.fit_resample(X_org, y_org)\n",
    "print(len(y[y==0]), len(y[y==1]))"
   ]
  },
  {
   "cell_type": "code",
   "execution_count": 20,
   "metadata": {
    "colab": {
     "base_uri": "https://localhost:8080/",
     "height": 265
    },
    "executionInfo": {
     "elapsed": 23,
     "status": "ok",
     "timestamp": 1633321635808,
     "user": {
      "displayName": "Yongjin Jeong",
      "photoUrl": "https://lh3.googleusercontent.com/a/default-user=s64",
      "userId": "03658406798560557048"
     },
     "user_tz": -540
    },
    "id": "QgOH5InuLfxb",
    "outputId": "3de50eb9-7bf6-4e15-be05-162122381a8e"
   },
   "outputs": [
    {
     "data": {
      "image/png": "[encoded data removed]",
      "text/plain": [
       "<Figure size 432x288 with 1 Axes>"
      ]
     },
     "metadata": {
      "needs_background": "light"
     },
     "output_type": "display_data"
    }
   ],
   "source": [
    "markers = ['o', '+']\n",
    "for i in range(2):\n",
    "    xs = X[:, 0][y == i]\n",
    "    ys = X[:, 1][y == i]\n",
    "    plt.scatter(xs, ys, marker=markers[i], label=str(i))\n",
    "plt.legend()\n",
    "plt.show()"
   ]
  },
  {
   "cell_type": "markdown",
   "metadata": {
    "id": "w6zUANpUZXBT"
   },
   "source": [
    "### Original paper on SMOTE\n",
    "- combine SMOTE and Undersampler()"
   ]
  },
  {
   "cell_type": "markdown",
   "metadata": {
    "id": "vDNHBxldZr0A"
   },
   "source": [
    "- The original paper on SMOTE suggested combining SMOTE with random undersampling of the majority class.\n",
    "- We can update the example to first oversample the minority class to have 10 percent the number of examples of the majority class (e.g. about 1,000), then use random undersampling to reduce the number of examples in the majority class to have 50 percent more than the minority class (e.g. about 2,000)."
   ]
  },
  {
   "cell_type": "code",
   "execution_count": 21,
   "metadata": {
    "colab": {
     "base_uri": "https://localhost:8080/"
    },
    "executionInfo": {
     "elapsed": 22,
     "status": "ok",
     "timestamp": 1633321635809,
     "user": {
      "displayName": "Yongjin Jeong",
      "photoUrl": "https://lh3.googleusercontent.com/a/default-user=s64",
      "userId": "03658406798560557048"
     },
     "user_tz": -540
    },
    "id": "FU8HiqEVZ1l7",
    "outputId": "776f3ed2-1a33-44d3-e92b-d78dceed4d6e"
   },
   "outputs": [
    {
     "name": "stdout",
     "output_type": "stream",
     "text": [
      "oversampled:  9900 990\n"
     ]
    }
   ],
   "source": [
    "over = SMOTE(sampling_strategy=0.1)\n",
    "X, y = over.fit_resample(X_org, y_org)\n",
    "print(\"oversampled: \", len(y[y==0]), len(y[y==1]))"
   ]
  },
  {
   "cell_type": "code",
   "execution_count": 22,
   "metadata": {
    "colab": {
     "base_uri": "https://localhost:8080/"
    },
    "executionInfo": {
     "elapsed": 21,
     "status": "ok",
     "timestamp": 1633321635811,
     "user": {
      "displayName": "Yongjin Jeong",
      "photoUrl": "https://lh3.googleusercontent.com/a/default-user=s64",
      "userId": "03658406798560557048"
     },
     "user_tz": -540
    },
    "id": "uTiScHBmZ41Y",
    "outputId": "3a00fdf0-4551-4c91-c9ee-b420f6ab11fd"
   },
   "outputs": [
    {
     "name": "stdout",
     "output_type": "stream",
     "text": [
      "under-sampled:  1980 990\n"
     ]
    }
   ],
   "source": [
    "under = RandomUnderSampler(sampling_strategy=0.5)  # ratio\n",
    "X, y = under.fit_resample(X, y)\n",
    "print(\"under-sampled: \", len(y[y==0]), len(y[y==1]))"
   ]
  },
  {
   "cell_type": "code",
   "execution_count": 23,
   "metadata": {
    "colab": {
     "base_uri": "https://localhost:8080/",
     "height": 265
    },
    "executionInfo": {
     "elapsed": 18,
     "status": "ok",
     "timestamp": 1633321635812,
     "user": {
      "displayName": "Yongjin Jeong",
      "photoUrl": "https://lh3.googleusercontent.com/a/default-user=s64",
      "userId": "03658406798560557048"
     },
     "user_tz": -540
    },
    "id": "YtloT7juZ7iu",
    "outputId": "956abf95-1ddd-4575-d149-4a3840ce52e6"
   },
   "outputs": [
    {
     "data": {
      "image/png": "[encoded data removed]",
      "text/plain": [
       "<Figure size 432x288 with 1 Axes>"
      ]
     },
     "metadata": {
      "needs_background": "light"
     },
     "output_type": "display_data"
    }
   ],
   "source": [
    "markers = ['o', '+']\n",
    "for i in range(2):\n",
    "    xs = X[:, 0][y == i]\n",
    "    ys = X[:, 1][y == i]\n",
    "    plt.scatter(xs, ys, marker=markers[i], label=str(i))\n",
    "plt.legend()\n",
    "plt.show()"
   ]
  },
  {
   "cell_type": "markdown",
   "metadata": {
    "id": "JodtceZBjWCX"
   },
   "source": [
    "- SMOTE creates a line bridge with the majority class."
   ]
  },
  {
   "cell_type": "markdown",
   "metadata": {
    "id": "mvxtlfg9aIS6"
   },
   "source": [
    "### Borderline-SMOTE\n",
    "\n",
    "- ignore noise points (all the neighbors are majority class) and normal minority class points\n",
    "- resample only from border points (have both majority and minority classes as neighbors)\n",
    "- end up giving more attention to extreme points"
   ]
  },
  {
   "cell_type": "code",
   "execution_count": 26,
   "metadata": {
    "colab": {
     "base_uri": "https://localhost:8080/",
     "height": 282
    },
    "executionInfo": {
     "elapsed": 707,
     "status": "ok",
     "timestamp": 1633321636502,
     "user": {
      "displayName": "Yongjin Jeong",
      "photoUrl": "https://lh3.googleusercontent.com/a/default-user=s64",
      "userId": "03658406798560557048"
     },
     "user_tz": -540
    },
    "id": "mjEUkLlgaN7r",
    "outputId": "c25fb735-04b1-474d-f4bb-5507c0a20009"
   },
   "outputs": [
    {
     "name": "stdout",
     "output_type": "stream",
     "text": [
      "9900 990\n"
     ]
    },
    {
     "data": {
      "image/png": "[encoded data removed]",
      "text/plain": [
       "<Figure size 432x288 with 1 Axes>"
      ]
     },
     "metadata": {
      "needs_background": "light"
     },
     "output_type": "display_data"
    }
   ],
   "source": [
    "# Borderline-SMOTE\n",
    "from imblearn.over_sampling import BorderlineSMOTE\n",
    "oversample = BorderlineSMOTE(0.1)\n",
    "X, y = oversample.fit_resample(X_org, y_org)\n",
    "print(len(y[y==0]), len(y[y==1]))\n",
    "\n",
    "markers = ['o', '+']\n",
    "for i in range(2):\n",
    "    xs = X[:, 0][y == i]\n",
    "    ys = X[:, 1][y == i]\n",
    "    plt.scatter(xs, ys, marker=markers[i], label=str(i))\n",
    "plt.legend()\n",
    "plt.show()"
   ]
  },
  {
   "cell_type": "markdown",
   "metadata": {
    "id": "mHu9TWOWaY4r"
   },
   "source": [
    "- The plot shows that those examples far from the decision boundary are not oversampled. This includes both examples that are easier to classify (those orange points toward the top left of the plot) and those that are overwhelmingly difficult to classify given the strong class overlap (those orange points toward the bottom right of the plot)."
   ]
  },
  {
   "cell_type": "markdown",
   "metadata": {
    "id": "ZMBvEcU2KyxT"
   },
   "source": [
    "## Classification"
   ]
  },
  {
   "cell_type": "markdown",
   "metadata": {},
   "source": [
    "### SMOTEed dataset"
   ]
  },
  {
   "cell_type": "markdown",
   "metadata": {},
   "source": [
    "#### Wrong Example\n",
    "\n",
    "데이터셋에 대해 처음부터 **resampling**을 진행하면 안된다. \n",
    "\n",
    "Resampling은 **Train set**에 대해서만 이루어지고 **Test set**에는 실제 데이터만이 있어야 한다. "
   ]
  },
  {
   "cell_type": "code",
   "execution_count": 27,
   "metadata": {
    "colab": {
     "base_uri": "https://localhost:8080/"
    },
    "executionInfo": {
     "elapsed": 511,
     "status": "ok",
     "timestamp": 1633321637004,
     "user": {
      "displayName": "Yongjin Jeong",
      "photoUrl": "https://lh3.googleusercontent.com/a/default-user=s64",
      "userId": "03658406798560557048"
     },
     "user_tz": -540
    },
    "id": "eQXJrjAbFurV",
    "outputId": "67dbe3b4-a6c5-40f9-c27f-784d65989dd3"
   },
   "outputs": [
    {
     "name": "stdout",
     "output_type": "stream",
     "text": [
      "*** Resample First *** \n",
      "\n",
      "Shapes:  (13860, 2) (5940, 2) (13860,) (5940,)\n",
      "Static performance:  \n",
      " [[2859  111]\n",
      " [ 323 2647]]\n",
      "\n",
      "              precision    recall  f1-score   support\n",
      "\n",
      "           0       0.90      0.96      0.93      2970\n",
      "           1       0.96      0.89      0.92      2970\n",
      "\n",
      "    accuracy                           0.93      5940\n",
      "   macro avg       0.93      0.93      0.93      5940\n",
      "weighted avg       0.93      0.93      0.93      5940\n",
      "\n",
      "AUC score:  0.9809971771587933\n",
      "Don't be confused...\n"
     ]
    }
   ],
   "source": [
    "# resampling first - No !\n",
    "\n",
    "print(\"*** Resample First *** \\n\")\n",
    "oversample = SMOTE()\n",
    "X, y = oversample.fit_resample(X_org, y_org)\n",
    "X_train, X_test, y_train, y_test = train_test_split(X, y, test_size=0.3, stratify=y)\n",
    "print_result(X_train, X_test, y_train, y_test)\n",
    "print(\"Don't be confused...\")"
   ]
  },
  {
   "cell_type": "markdown",
   "metadata": {},
   "source": [
    "#### Correct Example\n",
    "\n",
    "데이터셋을 train/test set으로 먼저 나눈다.\n",
    "\n",
    "그러고 난 후 train set에 대해서만 resampling을 진행한다. "
   ]
  },
  {
   "cell_type": "code",
   "execution_count": 29,
   "metadata": {
    "colab": {
     "base_uri": "https://localhost:8080/"
    },
    "executionInfo": {
     "elapsed": 1252,
     "status": "ok",
     "timestamp": 1633321638249,
     "user": {
      "displayName": "Yongjin Jeong",
      "photoUrl": "https://lh3.googleusercontent.com/a/default-user=s64",
      "userId": "03658406798560557048"
     },
     "user_tz": -540
    },
    "id": "baQ0qVPcIiL0",
    "outputId": "33e59ea4-10bf-4031-ed9c-e63bda932255",
    "scrolled": true
   },
   "outputs": [
    {
     "name": "stdout",
     "output_type": "stream",
     "text": [
      "*** Split First *** \n",
      "\n",
      "Shapes:  (13860, 2) (3000, 2) (13860,) (3000,)\n",
      "Static performance:  \n",
      " [[2840  130]\n",
      " [   5   25]]\n",
      "\n",
      "              precision    recall  f1-score   support\n",
      "\n",
      "           0       1.00      0.96      0.98      2970\n",
      "           1       0.16      0.83      0.27        30\n",
      "\n",
      "    accuracy                           0.95      3000\n",
      "   macro avg       0.58      0.89      0.62      3000\n",
      "weighted avg       0.99      0.95      0.97      3000\n",
      "\n",
      "AUC score:  0.9396801346801347\n"
     ]
    }
   ],
   "source": [
    "# resample only on Train dataset ! - this is right !\n",
    "print(\"*** Split First *** \\n\")\n",
    "X_train, X_test, y_train, y_test = train_test_split(X_org, y_org, test_size=0.3, stratify=y_org)\n",
    "oversample = SMOTE()\n",
    "X_train, y_train = oversample.fit_resample(X_train, y_train)\n",
    "print_result(X_train, X_test, y_train, y_test)"
   ]
  },
  {
   "cell_type": "markdown",
   "metadata": {},
   "source": [
    "<span style=\"color:red\">**Recall1 이 83% 까지 향상되었다.**</span>"
   ]
  },
  {
   "cell_type": "markdown",
   "metadata": {},
   "source": [
    "### Undersampled dataset\n",
    "\n",
    "Train set 의 수가 너무 작아 **Overfitting**될 위험이 있다. "
   ]
  },
  {
   "cell_type": "code",
   "execution_count": 30,
   "metadata": {
    "colab": {
     "base_uri": "https://localhost:8080/"
    },
    "executionInfo": {
     "elapsed": 12,
     "status": "ok",
     "timestamp": 1633321638250,
     "user": {
      "displayName": "Yongjin Jeong",
      "photoUrl": "https://lh3.googleusercontent.com/a/default-user=s64",
      "userId": "03658406798560557048"
     },
     "user_tz": -540
    },
    "id": "Aw3IaSNzLoCD",
    "outputId": "6d7f1c5b-0281-4421-e46a-8951c12cdfef"
   },
   "outputs": [
    {
     "name": "stdout",
     "output_type": "stream",
     "text": [
      "*** Undersampling *** \n",
      "\n",
      "Shapes:  (140, 2) (3000, 2) (140,) (3000,)\n",
      "Static performance:  \n",
      " [[2567  403]\n",
      " [   2   28]]\n",
      "\n",
      "              precision    recall  f1-score   support\n",
      "\n",
      "           0       1.00      0.86      0.93      2970\n",
      "           1       0.06      0.93      0.12        30\n",
      "\n",
      "    accuracy                           0.86      3000\n",
      "   macro avg       0.53      0.90      0.52      3000\n",
      "weighted avg       0.99      0.86      0.92      3000\n",
      "\n",
      "AUC score:  0.967996632996633\n"
     ]
    }
   ],
   "source": [
    "# undersampling\n",
    "print(\"*** Undersampling *** \\n\")\n",
    "X_train, X_test, y_train, y_test = train_test_split(X_org, y_org, test_size=0.3, stratify=y_org)\n",
    "under = RandomUnderSampler()\n",
    "X_train, y_train = under.fit_resample(X_train, y_train)\n",
    "print_result(X_train, X_test, y_train, y_test)"
   ]
  },
  {
   "cell_type": "markdown",
   "metadata": {
    "id": "X8wwb-7BFSeV"
   },
   "source": [
    "### Use both SMOTE & Undersampling"
   ]
  },
  {
   "cell_type": "code",
   "execution_count": 32,
   "metadata": {
    "executionInfo": {
     "elapsed": 8,
     "status": "ok",
     "timestamp": 1633321638252,
     "user": {
      "displayName": "Yongjin Jeong",
      "photoUrl": "https://lh3.googleusercontent.com/a/default-user=s64",
      "userId": "03658406798560557048"
     },
     "user_tz": -540
    },
    "id": "BZDdAN4D6GDL"
   },
   "outputs": [],
   "source": [
    "from sklearn.tree import DecisionTreeClassifier\n",
    "from sklearn.model_selection import RepeatedStratifiedKFold, cross_val_score"
   ]
  },
  {
   "cell_type": "code",
   "execution_count": 33,
   "metadata": {
    "colab": {
     "base_uri": "https://localhost:8080/"
    },
    "executionInfo": {
     "elapsed": 731,
     "status": "ok",
     "timestamp": 1633321638976,
     "user": {
      "displayName": "Yongjin Jeong",
      "photoUrl": "https://lh3.googleusercontent.com/a/default-user=s64",
      "userId": "03658406798560557048"
     },
     "user_tz": -540
    },
    "id": "Dghm3vCpPYO0",
    "outputId": "5eccb038-a303-4b2a-d31e-4be225ae4b5f"
   },
   "outputs": [
    {
     "name": "stdout",
     "output_type": "stream",
     "text": [
      "Shapes:  (2079, 2) (3000, 2) (2079,) (3000,)\n",
      "Static performance:  \n",
      " [[2887   83]\n",
      " [   7   23]]\n",
      "\n",
      "              precision    recall  f1-score   support\n",
      "\n",
      "           0       1.00      0.97      0.98      2970\n",
      "           1       0.22      0.77      0.34        30\n",
      "\n",
      "    accuracy                           0.97      3000\n",
      "   macro avg       0.61      0.87      0.66      3000\n",
      "weighted avg       0.99      0.97      0.98      3000\n",
      "\n",
      "AUC score:  0.9530695847362514\n"
     ]
    }
   ],
   "source": [
    "# use both SMOTE and Underssampler\n",
    "X_train, X_test, y_train, y_test = train_test_split(X_org, y_org, test_size=0.3, stratify=y_org)\n",
    "over = SMOTE(sampling_strategy=0.1)\n",
    "X_train, y_train = over.fit_resample(X_train, y_train)\n",
    "under = RandomUnderSampler(sampling_strategy=0.5)\n",
    "X_train, y_train = under.fit_resample(X_train, y_train)\n",
    "print_result(X_train, X_test, y_train, y_test)"
   ]
  },
  {
   "cell_type": "code",
   "execution_count": 44,
   "metadata": {
    "colab": {
     "base_uri": "https://localhost:8080/"
    },
    "executionInfo": {
     "elapsed": 1766,
     "status": "ok",
     "timestamp": 1633321861004,
     "user": {
      "displayName": "Yongjin Jeong",
      "photoUrl": "https://lh3.googleusercontent.com/a/default-user=s64",
      "userId": "03658406798560557048"
     },
     "user_tz": -540
    },
    "id": "8bZ_YHvFY6Lp",
    "outputId": "d9d6aedd-b9dc-424a-e8c7-c30ea1f0d974"
   },
   "outputs": [
    {
     "name": "stdout",
     "output_type": "stream",
     "text": [
      "Shapes:  (2376, 2) (2000, 2) (2376,) (2000,)\n",
      "Static performance:  \n",
      " [[1920   60]\n",
      " [   3   17]]\n",
      "\n",
      "              precision    recall  f1-score   support\n",
      "\n",
      "           0       1.00      0.97      0.98      1980\n",
      "           1       0.22      0.85      0.35        20\n",
      "\n",
      "    accuracy                           0.97      2000\n",
      "   macro avg       0.61      0.91      0.67      2000\n",
      "weighted avg       0.99      0.97      0.98      2000\n",
      "\n",
      "AUC score:  0.9767424242424242\n",
      "\n",
      "Shapes:  (2376, 2) (2000, 2) (2376,) (2000,)\n",
      "Static performance:  \n",
      " [[1937   43]\n",
      " [   5   15]]\n",
      "\n",
      "              precision    recall  f1-score   support\n",
      "\n",
      "           0       1.00      0.98      0.99      1980\n",
      "           1       0.26      0.75      0.38        20\n",
      "\n",
      "    accuracy                           0.98      2000\n",
      "   macro avg       0.63      0.86      0.69      2000\n",
      "weighted avg       0.99      0.98      0.98      2000\n",
      "\n",
      "AUC score:  0.9520454545454544\n",
      "\n",
      "Shapes:  (2376, 2) (2000, 2) (2376,) (2000,)\n",
      "Static performance:  \n",
      " [[1938   42]\n",
      " [   4   16]]\n",
      "\n",
      "              precision    recall  f1-score   support\n",
      "\n",
      "           0       1.00      0.98      0.99      1980\n",
      "           1       0.28      0.80      0.41        20\n",
      "\n",
      "    accuracy                           0.98      2000\n",
      "   macro avg       0.64      0.89      0.70      2000\n",
      "weighted avg       0.99      0.98      0.98      2000\n",
      "\n",
      "AUC score:  0.9510858585858586\n",
      "\n",
      "Shapes:  (2376, 2) (2000, 2) (2376,) (2000,)\n",
      "Static performance:  \n",
      " [[1939   41]\n",
      " [   6   14]]\n",
      "\n",
      "              precision    recall  f1-score   support\n",
      "\n",
      "           0       1.00      0.98      0.99      1980\n",
      "           1       0.25      0.70      0.37        20\n",
      "\n",
      "    accuracy                           0.98      2000\n",
      "   macro avg       0.63      0.84      0.68      2000\n",
      "weighted avg       0.99      0.98      0.98      2000\n",
      "\n",
      "AUC score:  0.9346464646464646\n",
      "\n",
      "Shapes:  (2376, 2) (2000, 2) (2376,) (2000,)\n",
      "Static performance:  \n",
      " [[1939   41]\n",
      " [   4   16]]\n",
      "\n",
      "              precision    recall  f1-score   support\n",
      "\n",
      "           0       1.00      0.98      0.99      1980\n",
      "           1       0.28      0.80      0.42        20\n",
      "\n",
      "    accuracy                           0.98      2000\n",
      "   macro avg       0.64      0.89      0.70      2000\n",
      "weighted avg       0.99      0.98      0.98      2000\n",
      "\n",
      "AUC score:  0.9304671717171717\n",
      "\n"
     ]
    }
   ],
   "source": [
    "# Use stratified K-Fold \n",
    "\n",
    "from sklearn.model_selection import StratifiedKFold\n",
    "\n",
    "X, y = X_org.copy(), y_org.copy()\n",
    "cv = StratifiedKFold(n_splits=5, shuffle=True)\n",
    "score = []\n",
    "\n",
    "for train_idx, test_idx in cv.split(X_org, y_org): # 5 repetition\n",
    "    X_train, y_train = X[train_idx], y[train_idx]\n",
    "    X_test, y_test = X[test_idx], y[test_idx]\n",
    "   \n",
    "    over = SMOTE(sampling_strategy=0.1)\n",
    "    X_train, y_train = over.fit_resample(X_train, y_train)\n",
    "    under = RandomUnderSampler(sampling_strategy=0.5)  # ratio\n",
    "    X_train, y_train = under.fit_resample(X_train, y_train)\n",
    "\n",
    "    print_result(X_train, X_test, y_train, y_test)\n"
   ]
  },
  {
   "cell_type": "markdown",
   "metadata": {
    "id": "-t1U79bTBoJp"
   },
   "source": [
    "### Different values of the k-nearest neighbors selected in the SMOTE"
   ]
  },
  {
   "cell_type": "code",
   "execution_count": 45,
   "metadata": {
    "colab": {
     "base_uri": "https://localhost:8080/"
    },
    "executionInfo": {
     "elapsed": 1880,
     "status": "ok",
     "timestamp": 1633321642392,
     "user": {
      "displayName": "Yongjin Jeong",
      "photoUrl": "https://lh3.googleusercontent.com/a/default-user=s64",
      "userId": "03658406798560557048"
     },
     "user_tz": -540
    },
    "id": "bF7lfUstB7eB",
    "outputId": "233b5c66-0728-4166-c95b-61aa13e93de4"
   },
   "outputs": [
    {
     "name": "stdout",
     "output_type": "stream",
     "text": [
      "Shapes:  (2079, 2) (3000, 2) (2079,) (3000,)\n",
      "Static performance:  \n",
      " [[2872   98]\n",
      " [   6   24]]\n",
      "\n",
      "              precision    recall  f1-score   support\n",
      "\n",
      "           0       1.00      0.97      0.98      2970\n",
      "           1       0.20      0.80      0.32        30\n",
      "\n",
      "    accuracy                           0.97      3000\n",
      "   macro avg       0.60      0.88      0.65      3000\n",
      "weighted avg       0.99      0.97      0.98      3000\n",
      "\n",
      "AUC score:  0.9604545454545456\n",
      "\n",
      "Shapes:  (2079, 2) (3000, 2) (2079,) (3000,)\n",
      "Static performance:  \n",
      " [[2908   62]\n",
      " [   7   23]]\n",
      "\n",
      "              precision    recall  f1-score   support\n",
      "\n",
      "           0       1.00      0.98      0.99      2970\n",
      "           1       0.27      0.77      0.40        30\n",
      "\n",
      "    accuracy                           0.98      3000\n",
      "   macro avg       0.63      0.87      0.69      3000\n",
      "weighted avg       0.99      0.98      0.98      3000\n",
      "\n",
      "AUC score:  0.9728451178451178\n",
      "\n",
      "Shapes:  (2079, 2) (3000, 2) (2079,) (3000,)\n",
      "Static performance:  \n",
      " [[2869  101]\n",
      " [   3   27]]\n",
      "\n",
      "              precision    recall  f1-score   support\n",
      "\n",
      "           0       1.00      0.97      0.98      2970\n",
      "           1       0.21      0.90      0.34        30\n",
      "\n",
      "    accuracy                           0.97      3000\n",
      "   macro avg       0.60      0.93      0.66      3000\n",
      "weighted avg       0.99      0.97      0.98      3000\n",
      "\n",
      "AUC score:  0.92172278338945\n",
      "\n",
      "Shapes:  (2079, 2) (3000, 2) (2079,) (3000,)\n",
      "Static performance:  \n",
      " [[2902   68]\n",
      " [   9   21]]\n",
      "\n",
      "              precision    recall  f1-score   support\n",
      "\n",
      "           0       1.00      0.98      0.99      2970\n",
      "           1       0.24      0.70      0.35        30\n",
      "\n",
      "    accuracy                           0.97      3000\n",
      "   macro avg       0.62      0.84      0.67      3000\n",
      "weighted avg       0.99      0.97      0.98      3000\n",
      "\n",
      "AUC score:  0.9804545454545455\n",
      "\n",
      "Shapes:  (2079, 2) (3000, 2) (2079,) (3000,)\n",
      "Static performance:  \n",
      " [[2919   51]\n",
      " [   6   24]]\n",
      "\n",
      "              precision    recall  f1-score   support\n",
      "\n",
      "           0       1.00      0.98      0.99      2970\n",
      "           1       0.32      0.80      0.46        30\n",
      "\n",
      "    accuracy                           0.98      3000\n",
      "   macro avg       0.66      0.89      0.72      3000\n",
      "weighted avg       0.99      0.98      0.98      3000\n",
      "\n",
      "AUC score:  0.9852020202020202\n",
      "\n"
     ]
    }
   ],
   "source": [
    "X_org, y_org = make_classification(n_samples=10000, n_features=2, n_redundant=0,\n",
    "\t                       n_clusters_per_class=1, weights=[0.99], flip_y=0, \n",
    "                           random_state=1)\n",
    "k_values = [1,10,20,30,40]\n",
    "\n",
    "for k in k_values:\n",
    "    X_train, X_test, y_train, y_test = train_test_split(X_org, y_org, test_size=0.3, stratify=y_org)\n",
    "    over = SMOTE(sampling_strategy=0.1, k_neighbors=k) # k_neighbors defualt=5\n",
    "    X_train, y_train = over.fit_resample(X_train, y_train)\n",
    "    under = RandomUnderSampler(sampling_strategy=0.5)\n",
    "    X_train, y_train = under.fit_resample(X_train, y_train)\n",
    "    \n",
    "    print_result(X_train, X_test, y_train, y_test)\n"
   ]
  },
  {
   "cell_type": "markdown",
   "metadata": {
    "id": "p64A_5rRN1fo"
   },
   "source": [
    "### Borderline-SMOTE"
   ]
  },
  {
   "cell_type": "code",
   "execution_count": 49,
   "metadata": {
    "colab": {
     "base_uri": "https://localhost:8080/"
    },
    "executionInfo": {
     "elapsed": 5038,
     "status": "ok",
     "timestamp": 1633321647420,
     "user": {
      "displayName": "Yongjin Jeong",
      "photoUrl": "https://lh3.googleusercontent.com/a/default-user=s64",
      "userId": "03658406798560557048"
     },
     "user_tz": -540
    },
    "id": "BRwqg4wTpCBA",
    "outputId": "a9123ef7-1f72-42c2-be0f-06728e52d0a4",
    "scrolled": true
   },
   "outputs": [
    {
     "name": "stdout",
     "output_type": "stream",
     "text": [
      "Shapes:  (2376, 2) (2000, 2) (2376,) (2000,)\n",
      "Static performance:  \n",
      " [[1954   26]\n",
      " [   5   15]]\n",
      "\n",
      "              precision    recall  f1-score   support\n",
      "\n",
      "           0       1.00      0.99      0.99      1980\n",
      "           1       0.37      0.75      0.49        20\n",
      "\n",
      "    accuracy                           0.98      2000\n",
      "   macro avg       0.68      0.87      0.74      2000\n",
      "weighted avg       0.99      0.98      0.99      2000\n",
      "\n",
      "AUC score:  0.9435606060606061\n",
      "\n",
      "Shapes:  (2376, 2) (2000, 2) (2376,) (2000,)\n",
      "Static performance:  \n",
      " [[1936   44]\n",
      " [   0   20]]\n",
      "\n",
      "              precision    recall  f1-score   support\n",
      "\n",
      "           0       1.00      0.98      0.99      1980\n",
      "           1       0.31      1.00      0.48        20\n",
      "\n",
      "    accuracy                           0.98      2000\n",
      "   macro avg       0.66      0.99      0.73      2000\n",
      "weighted avg       0.99      0.98      0.98      2000\n",
      "\n",
      "AUC score:  0.9959469696969697\n",
      "\n",
      "Shapes:  (2376, 2) (2000, 2) (2376,) (2000,)\n",
      "Static performance:  \n",
      " [[1960   20]\n",
      " [   7   13]]\n",
      "\n",
      "              precision    recall  f1-score   support\n",
      "\n",
      "           0       1.00      0.99      0.99      1980\n",
      "           1       0.39      0.65      0.49        20\n",
      "\n",
      "    accuracy                           0.99      2000\n",
      "   macro avg       0.70      0.82      0.74      2000\n",
      "weighted avg       0.99      0.99      0.99      2000\n",
      "\n",
      "AUC score:  0.9078030303030303\n",
      "\n",
      "Shapes:  (2376, 2) (2000, 2) (2376,) (2000,)\n",
      "Static performance:  \n",
      " [[1960   20]\n",
      " [   8   12]]\n",
      "\n",
      "              precision    recall  f1-score   support\n",
      "\n",
      "           0       1.00      0.99      0.99      1980\n",
      "           1       0.38      0.60      0.46        20\n",
      "\n",
      "    accuracy                           0.99      2000\n",
      "   macro avg       0.69      0.79      0.73      2000\n",
      "weighted avg       0.99      0.99      0.99      2000\n",
      "\n",
      "AUC score:  0.9350883838383839\n",
      "\n",
      "Shapes:  (2376, 2) (2000, 2) (2376,) (2000,)\n",
      "Static performance:  \n",
      " [[1956   24]\n",
      " [   5   15]]\n",
      "\n",
      "              precision    recall  f1-score   support\n",
      "\n",
      "           0       1.00      0.99      0.99      1980\n",
      "           1       0.38      0.75      0.51        20\n",
      "\n",
      "    accuracy                           0.99      2000\n",
      "   macro avg       0.69      0.87      0.75      2000\n",
      "weighted avg       0.99      0.99      0.99      2000\n",
      "\n",
      "AUC score:  0.961590909090909\n",
      "\n"
     ]
    }
   ],
   "source": [
    "from sklearn.model_selection import RepeatedStratifiedKFold\n",
    "from imblearn.over_sampling import BorderlineSMOTE\n",
    "\n",
    "cv = RepeatedStratifiedKFold(n_splits=5, n_repeats=1)\n",
    "\n",
    "for train_idx, test_idx in cv.split(X_org, y_org):\n",
    "    X_train, y_train = X[train_idx], y[train_idx]\n",
    "    X_test, y_test = X[test_idx], y[test_idx]\n",
    "   \n",
    "    over = BorderlineSMOTE(sampling_strategy=0.1)\n",
    "    X_train, y_train = over.fit_resample(X_train, y_train)\n",
    "    under = RandomUnderSampler(sampling_strategy=0.5)  # ratio\n",
    "    X_train, y_train = under.fit_resample(X_train, y_train)\n",
    "    \n",
    "    print_result(X_train, X_test, y_train, y_test)\n"
   ]
  }
 ],
 "metadata": {
  "colab": {
   "authorship_tag": "ABX9TyPomIpT1lXvq1KXuVJxd2zu",
   "collapsed_sections": [],
   "name": "lab34b_imbalance_SMOTE_rev1.ipynb",
   "provenance": [],
   "toc_visible": true
  },
  "kernelspec": {
   "display_name": "Python 3",
   "language": "python",
   "name": "python3"
  },
  "language_info": {
   "codemirror_mode": {
    "name": "ipython",
    "version": 3
   },
   "file_extension": ".py",
   "mimetype": "text/x-python",
   "name": "python",
   "nbconvert_exporter": "python",
   "pygments_lexer": "ipython3",
   "version": "3.8.8"
  }
 },
 "nbformat": 4,
 "nbformat_minor": 1
}
