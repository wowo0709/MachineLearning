{
 "cells": [
  {
   "cell_type": "markdown",
   "metadata": {
    "id": "view-in-github"
   },
   "source": [
    "<a href=\"https://colab.research.google.com/github/StillWork/c9/blob/master/gg_67_%EB%8B%A8%EC%96%B4%EB%B2%A1%ED%84%B0_IMDB.ipynb\" target=\"_parent\"><img src=\"https://colab.research.google.com/assets/colab-badge.svg\" alt=\"Open In Colab\"/></a>"
   ]
  },
  {
   "cell_type": "markdown",
   "metadata": {
    "id": "2Pa94qBD7EKp"
   },
   "source": [
    "## Word Embedding with Keras.Embedding() Layer\n",
    "\n",
    "- 정수 인덱스를 벡터로 매핑하는 딕셔너리 구조 (인덱스 크기, 벡터 크기)\n",
    "- 학습 시키는 데이터에 따라 다른 임베딩이 만들어진다.\n",
    "\n",
    "- IMDB 영화 리뷰 데이터를 사용한 임베딩 예제\n",
    "  - IMDB: (internet movie database) the world's most popular and authoritative source for movie, TV and celebrity content\n",
    "\n"
   ]
  },
  {
   "cell_type": "code",
   "execution_count": 1,
   "metadata": {
    "executionInfo": {
     "elapsed": 3350,
     "status": "ok",
     "timestamp": 1636767640878,
     "user": {
      "displayName": "Yongjin Jeong",
      "photoUrl": "https://lh3.googleusercontent.com/a/default-user=s64",
      "userId": "03658406798560557048"
     },
     "user_tz": -540
    },
    "id": "y8hRGgn85LtI"
   },
   "outputs": [],
   "source": [
    "import tensorflow as tf\n",
    "import tensorflow.keras as keras \n",
    "from tensorflow.keras.models import Sequential\n",
    "from tensorflow.keras.layers import Flatten, Dense, Embedding, Dropout\n",
    "from tensorflow.keras.layers import Conv1D, MaxPooling1D, GlobalMaxPooling1D\n",
    "import os, os.path\n",
    "import zipfile\n",
    "from tensorflow.keras.datasets import imdb\n",
    "from tensorflow.keras import preprocessing\n",
    "from tensorflow.keras.preprocessing.text import Tokenizer\n",
    "from tensorflow.keras.preprocessing.sequence import pad_sequences\n",
    "import numpy as np\n",
    "import matplotlib.pyplot as plt\n",
    "%matplotlib inline"
   ]
  },
  {
   "cell_type": "markdown",
   "metadata": {
    "id": "LIZeMWh1AX2i"
   },
   "source": [
    "- 5000 개의 단어만 사용하고, 각 문장에서는 뒤에서부터 500 개의 단어만 사용하겠음."
   ]
  },
  {
   "cell_type": "code",
   "execution_count": 2,
   "metadata": {
    "colab": {
     "base_uri": "https://localhost:8080/"
    },
    "executionInfo": {
     "elapsed": 6347,
     "status": "ok",
     "timestamp": 1636767647205,
     "user": {
      "displayName": "Yongjin Jeong",
      "photoUrl": "https://lh3.googleusercontent.com/a/default-user=s64",
      "userId": "03658406798560557048"
     },
     "user_tz": -540
    },
    "id": "9Tu8xAnn_nGl",
    "outputId": "e48c1937-3b9a-4126-d8cc-176375f0ed9f"
   },
   "outputs": [
    {
     "name": "stdout",
     "output_type": "stream",
     "text": [
      "Downloading data from https://storage.googleapis.com/tensorflow/tf-keras-datasets/imdb.npz\n",
      "17465344/17464789 [==============================] - 1s 0us/step\n"
     ]
    },
    {
     "name": "stderr",
     "output_type": "stream",
     "text": [
      "<__array_function__ internals>:5: VisibleDeprecationWarning: Creating an ndarray from ragged nested sequences (which is a list-or-tuple of lists-or-tuples-or ndarrays with different lengths or shapes) is deprecated. If you meant to do this, you must specify 'dtype=object' when creating the ndarray\n",
      "C:\\Users\\wjsdu\\anaconda3\\lib\\site-packages\\tensorflow\\python\\keras\\datasets\\imdb.py:155: VisibleDeprecationWarning: Creating an ndarray from ragged nested sequences (which is a list-or-tuple of lists-or-tuples-or ndarrays with different lengths or shapes) is deprecated. If you meant to do this, you must specify 'dtype=object' when creating the ndarray\n",
      "  x_train, y_train = np.array(xs[:idx]), np.array(labels[:idx])\n",
      "C:\\Users\\wjsdu\\anaconda3\\lib\\site-packages\\tensorflow\\python\\keras\\datasets\\imdb.py:156: VisibleDeprecationWarning: Creating an ndarray from ragged nested sequences (which is a list-or-tuple of lists-or-tuples-or ndarrays with different lengths or shapes) is deprecated. If you meant to do this, you must specify 'dtype=object' when creating the ndarray\n",
      "  x_test, y_test = np.array(xs[idx:]), np.array(labels[idx:])\n"
     ]
    }
   ],
   "source": [
    "max_features = 5000\n",
    "(x_train, y_train), (x_test, y_test) = imdb.load_data(num_words=max_features)"
   ]
  },
  {
   "cell_type": "code",
   "execution_count": 3,
   "metadata": {
    "colab": {
     "base_uri": "https://localhost:8080/"
    },
    "executionInfo": {
     "elapsed": 21,
     "status": "ok",
     "timestamp": 1636767647206,
     "user": {
      "displayName": "Yongjin Jeong",
      "photoUrl": "https://lh3.googleusercontent.com/a/default-user=s64",
      "userId": "03658406798560557048"
     },
     "user_tz": -540
    },
    "id": "aMQILBgDlBKu",
    "outputId": "174a362a-ccb8-405c-b1a8-aa18db00f566"
   },
   "outputs": [
    {
     "data": {
      "text/plain": [
       "(494, 498)"
      ]
     },
     "execution_count": 3,
     "metadata": {},
     "output_type": "execute_result"
    }
   ],
   "source": [
    "y_train[:1000].sum(), y_train[-1000:].sum()   # can assume equally distributed"
   ]
  },
  {
   "cell_type": "code",
   "execution_count": 4,
   "metadata": {
    "colab": {
     "base_uri": "https://localhost:8080/"
    },
    "executionInfo": {
     "elapsed": 19,
     "status": "ok",
     "timestamp": 1636767647206,
     "user": {
      "displayName": "Yongjin Jeong",
      "photoUrl": "https://lh3.googleusercontent.com/a/default-user=s64",
      "userId": "03658406798560557048"
     },
     "user_tz": -540
    },
    "id": "gXuG1WkZeq6L",
    "outputId": "32b0e20e-0c6f-4b6a-a1eb-a33ee7ce24b3"
   },
   "outputs": [
    {
     "data": {
      "text/plain": [
       "((25000,), (25000,), (25000,), (25000,))"
      ]
     },
     "execution_count": 4,
     "metadata": {},
     "output_type": "execute_result"
    }
   ],
   "source": [
    "x_train.shape, x_test.shape, y_train.shape, y_test.shape"
   ]
  },
  {
   "cell_type": "code",
   "execution_count": 5,
   "metadata": {
    "colab": {
     "base_uri": "https://localhost:8080/"
    },
    "executionInfo": {
     "elapsed": 18,
     "status": "ok",
     "timestamp": 1636767647207,
     "user": {
      "displayName": "Yongjin Jeong",
      "photoUrl": "https://lh3.googleusercontent.com/a/default-user=s64",
      "userId": "03658406798560557048"
     },
     "user_tz": -540
    },
    "id": "l3AbuPD9rNde",
    "outputId": "42465b03-6371-40c0-854a-e960babf85d1"
   },
   "outputs": [
    {
     "name": "stdout",
     "output_type": "stream",
     "text": [
      "1\n",
      "[1, 2, 365, 1234, 5, 1156, 354, 11, 14, 2, 2, 7, 1016, 2, 2, 356, 44, 4, 1349, 500, 746, 5, 200, 4, 4132, 11, 2, 2, 1117, 1831, 2, 5, 4831, 26, 6, 2, 4183, 17, 369, 37, 215, 1345, 143, 2, 5, 1838, 8, 1974, 15, 36, 119, 257, 85, 52, 486, 9, 6, 2, 2, 63, 271, 6, 196, 96, 949, 4121, 4, 2, 7, 4, 2212, 2436, 819, 63, 47, 77, 2, 180, 6, 227, 11, 94, 2494, 2, 13, 423, 4, 168, 7, 4, 22, 5, 89, 665, 71, 270, 56, 5, 13, 197, 12, 161, 2, 99, 76, 23, 2, 7, 419, 665, 40, 91, 85, 108, 7, 4, 2084, 5, 4773, 81, 55, 52, 1901]\n"
     ]
    }
   ],
   "source": [
    "print(y_train[6])\n",
    "print(x_train[6])"
   ]
  },
  {
   "cell_type": "code",
   "execution_count": 6,
   "metadata": {
    "colab": {
     "base_uri": "https://localhost:8080/"
    },
    "executionInfo": {
     "elapsed": 16,
     "status": "ok",
     "timestamp": 1636767647207,
     "user": {
      "displayName": "Yongjin Jeong",
      "photoUrl": "https://lh3.googleusercontent.com/a/default-user=s64",
      "userId": "03658406798560557048"
     },
     "user_tz": -540
    },
    "id": "iRes_J4al_XR",
    "outputId": "468e4c18-dc7e-4645-e6d1-4100e8f1c1ac"
   },
   "outputs": [
    {
     "name": "stdout",
     "output_type": "stream",
     "text": [
      "Downloading data from https://storage.googleapis.com/tensorflow/tf-keras-datasets/imdb_word_index.json\n",
      "1646592/1641221 [==============================] - 0s 0us/step\n",
      "---review with words---\n",
      "['the', 'and', 'full', 'involving', 'to', 'impressive', 'boring', 'this', 'as', 'and', 'and', 'br', 'villain', 'and', 'and', 'need', 'has', 'of', 'costumes', 'b', 'message', 'to', 'may', 'of', 'props', 'this', 'and', 'and', 'concept', 'issue', 'and', 'to', \"god's\", 'he', 'is', 'and', 'unfolds', 'movie', 'women', 'like', \"isn't\", 'surely', \"i'm\", 'and', 'to', 'toward', 'in', \"here's\", 'for', 'from', 'did', 'having', 'because', 'very', 'quality', 'it', 'is', 'and', 'and', 'really', 'book', 'is', 'both', 'too', 'worked', 'carl', 'of', 'and', 'br', 'of', 'reviewer', 'closer', 'figure', 'really', 'there', 'will', 'and', 'things', 'is', 'far', 'this', 'make', 'mistakes', 'and', 'was', \"couldn't\", 'of', 'few', 'br', 'of', 'you', 'to', \"don't\", 'female', 'than', 'place', 'she', 'to', 'was', 'between', 'that', 'nothing', 'and', 'movies', 'get', 'are', 'and', 'br', 'yes', 'female', 'just', 'its', 'because', 'many', 'br', 'of', 'overly', 'to', 'descent', 'people', 'time', 'very', 'bland']\n",
      "---label---\n",
      "1\n"
     ]
    }
   ],
   "source": [
    "word2id = imdb.get_word_index()\n",
    "id2word = {i: word for word, i in word2id.items()}\n",
    "print('---review with words---')\n",
    "print([id2word.get(i, ' ') for i in x_train[6]])\n",
    "print('---label---')\n",
    "print(y_train[6])"
   ]
  },
  {
   "cell_type": "code",
   "execution_count": 7,
   "metadata": {
    "colab": {
     "base_uri": "https://localhost:8080/"
    },
    "executionInfo": {
     "elapsed": 11,
     "status": "ok",
     "timestamp": 1636767647207,
     "user": {
      "displayName": "Yongjin Jeong",
      "photoUrl": "https://lh3.googleusercontent.com/a/default-user=s64",
      "userId": "03658406798560557048"
     },
     "user_tz": -540
    },
    "id": "XEmlO1XkY2tZ",
    "outputId": "3c9298fa-da00-4440-bf25-bbb8278bafca"
   },
   "outputs": [
    {
     "data": {
      "text/plain": [
       "[218, 189, 141, 550, 147, 43, 123, 562, 233, 130]"
      ]
     },
     "execution_count": 7,
     "metadata": {},
     "output_type": "execute_result"
    }
   ],
   "source": [
    "# 각 문장이 몇개의 단어로 구성되어 있는지 확인\n",
    "[len(x_train[i]) for i in range(10)]"
   ]
  },
  {
   "cell_type": "code",
   "execution_count": 8,
   "metadata": {
    "colab": {
     "base_uri": "https://localhost:8080/"
    },
    "executionInfo": {
     "elapsed": 10,
     "status": "ok",
     "timestamp": 1636767647208,
     "user": {
      "displayName": "Yongjin Jeong",
      "photoUrl": "https://lh3.googleusercontent.com/a/default-user=s64",
      "userId": "03658406798560557048"
     },
     "user_tz": -540
    },
    "id": "qLoVqejFhYXK",
    "outputId": "144479d0-67c0-49cc-9c09-33ae97f08a0e"
   },
   "outputs": [
    {
     "name": "stdout",
     "output_type": "stream",
     "text": [
      "2494 11\n",
      "2315 7\n"
     ]
    }
   ],
   "source": [
    "print(max([len(x_train[i]) for i in range(25000)]), min([len(x_train[i]) for i in range(25000)]))\n",
    "print(max([len(x_test[i]) for i in range(25000)]), min([len(x_test[i]) for i in range(25000)]))"
   ]
  },
  {
   "cell_type": "code",
   "execution_count": 9,
   "metadata": {
    "colab": {
     "base_uri": "https://localhost:8080/"
    },
    "executionInfo": {
     "elapsed": 6,
     "status": "ok",
     "timestamp": 1636767647711,
     "user": {
      "displayName": "Yongjin Jeong",
      "photoUrl": "https://lh3.googleusercontent.com/a/default-user=s64",
      "userId": "03658406798560557048"
     },
     "user_tz": -540
    },
    "id": "J4w1ON5Z7SvH",
    "outputId": "23cf8d2e-dcc4-4b37-a587-cd2639c02b75",
    "scrolled": true
   },
   "outputs": [
    {
     "data": {
      "text/plain": [
       "array([list([1, 14, 22, 16, 43, 530, 973, 1622, 1385, 65, 458, 4468, 66, 3941, 4, 173, 36, 256, 5, 25, 100, 43, 838, 112, 50, 670, 2, 9, 35, 480, 284, 5, 150, 4, 172, 112, 167, 2, 336, 385, 39, 4, 172, 4536, 1111, 17, 546, 38, 13, 447, 4, 192, 50, 16, 6, 147, 2025, 19, 14, 22, 4, 1920, 4613, 469, 4, 22, 71, 87, 12, 16, 43, 530, 38, 76, 15, 13, 1247, 4, 22, 17, 515, 17, 12, 16, 626, 18, 2, 5, 62, 386, 12, 8, 316, 8, 106, 5, 4, 2223, 2, 16, 480, 66, 3785, 33, 4, 130, 12, 16, 38, 619, 5, 25, 124, 51, 36, 135, 48, 25, 1415, 33, 6, 22, 12, 215, 28, 77, 52, 5, 14, 407, 16, 82, 2, 8, 4, 107, 117, 2, 15, 256, 4, 2, 7, 3766, 5, 723, 36, 71, 43, 530, 476, 26, 400, 317, 46, 7, 4, 2, 1029, 13, 104, 88, 4, 381, 15, 297, 98, 32, 2071, 56, 26, 141, 6, 194, 2, 18, 4, 226, 22, 21, 134, 476, 26, 480, 5, 144, 30, 2, 18, 51, 36, 28, 224, 92, 25, 104, 4, 226, 65, 16, 38, 1334, 88, 12, 16, 283, 5, 16, 4472, 113, 103, 32, 15, 16, 2, 19, 178, 32]),\n",
       "       list([1, 194, 1153, 194, 2, 78, 228, 5, 6, 1463, 4369, 2, 134, 26, 4, 715, 8, 118, 1634, 14, 394, 20, 13, 119, 954, 189, 102, 5, 207, 110, 3103, 21, 14, 69, 188, 8, 30, 23, 7, 4, 249, 126, 93, 4, 114, 9, 2300, 1523, 5, 647, 4, 116, 9, 35, 2, 4, 229, 9, 340, 1322, 4, 118, 9, 4, 130, 4901, 19, 4, 1002, 5, 89, 29, 952, 46, 37, 4, 455, 9, 45, 43, 38, 1543, 1905, 398, 4, 1649, 26, 2, 5, 163, 11, 3215, 2, 4, 1153, 9, 194, 775, 7, 2, 2, 349, 2637, 148, 605, 2, 2, 15, 123, 125, 68, 2, 2, 15, 349, 165, 4362, 98, 5, 4, 228, 9, 43, 2, 1157, 15, 299, 120, 5, 120, 174, 11, 220, 175, 136, 50, 9, 4373, 228, 2, 5, 2, 656, 245, 2350, 5, 4, 2, 131, 152, 491, 18, 2, 32, 2, 1212, 14, 9, 6, 371, 78, 22, 625, 64, 1382, 9, 8, 168, 145, 23, 4, 1690, 15, 16, 4, 1355, 5, 28, 6, 52, 154, 462, 33, 89, 78, 285, 16, 145, 95])],\n",
       "      dtype=object)"
      ]
     },
     "execution_count": 9,
     "metadata": {},
     "output_type": "execute_result"
    }
   ],
   "source": [
    "x_train[0:2]   # words tokenized and expressed by (word) numbers"
   ]
  },
  {
   "cell_type": "code",
   "execution_count": 10,
   "metadata": {
    "colab": {
     "base_uri": "https://localhost:8080/"
    },
    "executionInfo": {
     "elapsed": 1575,
     "status": "ok",
     "timestamp": 1636767649282,
     "user": {
      "displayName": "Yongjin Jeong",
      "photoUrl": "https://lh3.googleusercontent.com/a/default-user=s64",
      "userId": "03658406798560557048"
     },
     "user_tz": -540
    },
    "id": "blQtfwq4e3NP",
    "outputId": "6c0d117f-f6f2-4210-ec03-4929b055a6e6"
   },
   "outputs": [
    {
     "name": "stdout",
     "output_type": "stream",
     "text": [
      "(25000, 500) (25000, 500)\n"
     ]
    }
   ],
   "source": [
    "# 마지막 500개의 단어들만 사용한다. -> 500개보다 적으면 똑같은 길이로 만들어 준다.\n",
    "maxlen = 500\n",
    "x_train_p=preprocessing.sequence.pad_sequences(x_train, maxlen=maxlen)\n",
    "x_test_p=preprocessing.sequence.pad_sequences(x_test, maxlen=maxlen)\n",
    "print(x_train_p.shape, x_test_p.shape)"
   ]
  },
  {
   "cell_type": "code",
   "execution_count": 11,
   "metadata": {
    "colab": {
     "base_uri": "https://localhost:8080/"
    },
    "executionInfo": {
     "elapsed": 7,
     "status": "ok",
     "timestamp": 1636767649283,
     "user": {
      "displayName": "Yongjin Jeong",
      "photoUrl": "https://lh3.googleusercontent.com/a/default-user=s64",
      "userId": "03658406798560557048"
     },
     "user_tz": -540
    },
    "id": "tsMHjZ2LP8DZ",
    "outputId": "495b5dfc-95b2-43d8-a881-887cfd323b7f"
   },
   "outputs": [
    {
     "data": {
      "text/plain": [
       "((25000,), (25000,))"
      ]
     },
     "execution_count": 11,
     "metadata": {},
     "output_type": "execute_result"
    }
   ],
   "source": [
    "y_train.shape, y_test.shape"
   ]
  },
  {
   "cell_type": "markdown",
   "metadata": {
    "id": "NVALCBnksmms"
   },
   "source": [
    "- Embedding()은 (number of samples, input_length)인 2D 정수 텐서를 입력받습니다. 이 때 각 sample은 정수 인코딩이 된 결과로, 정수의 시퀀스입니다. Embedding()은 워드 임베딩 작업을 수행하고 (number of samples, input_length, embedding word dimensionality)인 3D 텐서를 리턴합니다."
   ]
  },
  {
   "cell_type": "code",
   "execution_count": 12,
   "metadata": {
    "colab": {
     "base_uri": "https://localhost:8080/"
    },
    "executionInfo": {
     "elapsed": 324,
     "status": "ok",
     "timestamp": 1636768730291,
     "user": {
      "displayName": "Yongjin Jeong",
      "photoUrl": "https://lh3.googleusercontent.com/a/default-user=s64",
      "userId": "03658406798560557048"
     },
     "user_tz": -540
    },
    "id": "KD5dWA__fqO1",
    "outputId": "25727463-3837-4a82-9090-1ba9454613f7"
   },
   "outputs": [
    {
     "name": "stdout",
     "output_type": "stream",
     "text": [
      "Model: \"sequential\"\n",
      "_________________________________________________________________\n",
      "Layer (type)                 Output Shape              Param #   \n",
      "=================================================================\n",
      "embedding (Embedding)        (None, 500, 32)           160000    \n",
      "_________________________________________________________________\n",
      "flatten (Flatten)            (None, 16000)             0         \n",
      "_________________________________________________________________\n",
      "dense (Dense)                (None, 1)                 16001     \n",
      "=================================================================\n",
      "Total params: 176,001\n",
      "Trainable params: 176,001\n",
      "Non-trainable params: 0\n",
      "_________________________________________________________________\n"
     ]
    }
   ],
   "source": [
    "model = Sequential()\n",
    "model.add(Embedding(5000, 32, input_length=maxlen)) # input 각 단어에 대해 32-vector 로 임베딩\n",
    "model.add(Flatten())\n",
    "model.add(Dense(1, activation='sigmoid'))\n",
    "\n",
    "model.compile(loss='binary_crossentropy',\n",
    "              optimizer='adam',\n",
    "              metrics=['acc'])\n",
    "model.summary()"
   ]
  },
  {
   "cell_type": "code",
   "execution_count": 13,
   "metadata": {
    "colab": {
     "base_uri": "https://localhost:8080/"
    },
    "executionInfo": {
     "elapsed": 329,
     "status": "ok",
     "timestamp": 1636768736797,
     "user": {
      "displayName": "Yongjin Jeong",
      "photoUrl": "https://lh3.googleusercontent.com/a/default-user=s64",
      "userId": "03658406798560557048"
     },
     "user_tz": -540
    },
    "id": "pJ1nCmD0ANHD",
    "outputId": "5c3a885f-7225-4e3f-b6a3-290d0a6ecf90"
   },
   "outputs": [
    {
     "data": {
      "text/plain": [
       "((None, 500), (None, 1))"
      ]
     },
     "execution_count": 13,
     "metadata": {},
     "output_type": "execute_result"
    }
   ],
   "source": [
    "model.input_shape, model.output_shape"
   ]
  },
  {
   "cell_type": "code",
   "execution_count": 14,
   "metadata": {
    "colab": {
     "base_uri": "https://localhost:8080/"
    },
    "executionInfo": {
     "elapsed": 4,
     "status": "ok",
     "timestamp": 1636768738125,
     "user": {
      "displayName": "Yongjin Jeong",
      "photoUrl": "https://lh3.googleusercontent.com/a/default-user=s64",
      "userId": "03658406798560557048"
     },
     "user_tz": -540
    },
    "id": "zuIvdP-tFJq-",
    "outputId": "4aadd883-1797-4cf1-80c3-b9b12b758da1"
   },
   "outputs": [
    {
     "data": {
      "text/plain": [
       "((25000, 500), (25000,))"
      ]
     },
     "execution_count": 14,
     "metadata": {},
     "output_type": "execute_result"
    }
   ],
   "source": [
    "x_train_p.shape, y_train.shape"
   ]
  },
  {
   "cell_type": "code",
   "execution_count": 15,
   "metadata": {
    "colab": {
     "base_uri": "https://localhost:8080/"
    },
    "executionInfo": {
     "elapsed": 18877,
     "status": "ok",
     "timestamp": 1636768757466,
     "user": {
      "displayName": "Yongjin Jeong",
      "photoUrl": "https://lh3.googleusercontent.com/a/default-user=s64",
      "userId": "03658406798560557048"
     },
     "user_tz": -540
    },
    "id": "LiMsP3C96RRg",
    "outputId": "d064be00-6466-4856-876f-ed9682c80753",
    "scrolled": true
   },
   "outputs": [
    {
     "name": "stdout",
     "output_type": "stream",
     "text": [
      "Epoch 1/10\n",
      "40/40 [==============================] - 2s 28ms/step - loss: 0.6844 - acc: 0.5545 - val_loss: 0.6608 - val_acc: 0.6428\n",
      "Epoch 2/10\n",
      "40/40 [==============================] - 1s 22ms/step - loss: 0.5709 - acc: 0.7512 - val_loss: 0.4776 - val_acc: 0.8088\n",
      "Epoch 3/10\n",
      "40/40 [==============================] - 1s 22ms/step - loss: 0.3771 - acc: 0.8635 - val_loss: 0.3511 - val_acc: 0.8644\n",
      "Epoch 4/10\n",
      "40/40 [==============================] - 1s 22ms/step - loss: 0.2804 - acc: 0.8971 - val_loss: 0.3099 - val_acc: 0.8748\n",
      "Epoch 5/10\n",
      "40/40 [==============================] - 1s 22ms/step - loss: 0.2327 - acc: 0.9154 - val_loss: 0.2925 - val_acc: 0.8826\n",
      "Epoch 6/10\n",
      "40/40 [==============================] - 1s 22ms/step - loss: 0.2003 - acc: 0.9297 - val_loss: 0.2842 - val_acc: 0.8870\n",
      "Epoch 7/10\n",
      "40/40 [==============================] - 1s 22ms/step - loss: 0.1757 - acc: 0.9414 - val_loss: 0.2804 - val_acc: 0.8872\n",
      "Epoch 8/10\n",
      "40/40 [==============================] - 1s 23ms/step - loss: 0.1565 - acc: 0.9492 - val_loss: 0.2818 - val_acc: 0.8834\n",
      "Epoch 9/10\n",
      "40/40 [==============================] - 1s 22ms/step - loss: 0.1387 - acc: 0.9578 - val_loss: 0.2821 - val_acc: 0.8826\n",
      "Epoch 10/10\n",
      "40/40 [==============================] - 1s 22ms/step - loss: 0.1239 - acc: 0.9635 - val_loss: 0.2851 - val_acc: 0.8860\n"
     ]
    }
   ],
   "source": [
    "history = model.fit(x_train_p, y_train,\n",
    "                    epochs=10, batch_size=500,\n",
    "                    validation_split=0.2)"
   ]
  },
  {
   "cell_type": "code",
   "execution_count": 16,
   "metadata": {
    "colab": {
     "base_uri": "https://localhost:8080/",
     "height": 407
    },
    "executionInfo": {
     "elapsed": 729,
     "status": "ok",
     "timestamp": 1636768767461,
     "user": {
      "displayName": "Yongjin Jeong",
      "photoUrl": "https://lh3.googleusercontent.com/a/default-user=s64",
      "userId": "03658406798560557048"
     },
     "user_tz": -540
    },
    "id": "qrfH6XMajbuF",
    "outputId": "b644a76b-a63f-41ca-f8d5-79803d46f1f6"
   },
   "outputs": [
    {
     "data": {
      "text/plain": [
       "Text(0.5, 1.0, 'Training(--) and validation loss')"
      ]
     },
     "execution_count": 16,
     "metadata": {},
     "output_type": "execute_result"
    },
    {
     "data": {
      "image/png": "[encoded data removed]",
      "text/plain": [
       "<Figure size 720x432 with 2 Axes>"
      ]
     },
     "metadata": {
      "needs_background": "light"
     },
     "output_type": "display_data"
    }
   ],
   "source": [
    "acc = history.history['acc']\n",
    "val_acc = history.history['val_acc']\n",
    "loss = history.history['loss']\n",
    "val_loss = history.history['val_loss']\n",
    "\n",
    "plt.figure(figsize=(10,6))\n",
    "plt.subplot(1,2,1)\n",
    "epochs = range(len(acc))\n",
    "\n",
    "plt.plot(epochs, acc, '--')\n",
    "plt.plot(epochs, val_acc)\n",
    "plt.title('Training(--) and validation accuracy')\n",
    "\n",
    "plt.subplot(1,2,2)\n",
    "plt.plot(epochs, loss,  '--')\n",
    "plt.plot(epochs, val_loss)\n",
    "plt.title('Training(--) and validation loss')"
   ]
  },
  {
   "cell_type": "code",
   "execution_count": 17,
   "metadata": {
    "colab": {
     "base_uri": "https://localhost:8080/"
    },
    "executionInfo": {
     "elapsed": 2059,
     "status": "ok",
     "timestamp": 1636768775206,
     "user": {
      "displayName": "Yongjin Jeong",
      "photoUrl": "https://lh3.googleusercontent.com/a/default-user=s64",
      "userId": "03658406798560557048"
     },
     "user_tz": -540
    },
    "id": "5H2I2prIq29i",
    "outputId": "0aa351db-fb6e-4846-e4f9-8c9e29dde42b"
   },
   "outputs": [
    {
     "name": "stdout",
     "output_type": "stream",
     "text": [
      "Test accuracy: 0.8815600275993347\n"
     ]
    }
   ],
   "source": [
    "# test score\n",
    "scores = model.evaluate(x_test_p, y_test, verbose=0)\n",
    "print('Test accuracy:', scores[1])"
   ]
  },
  {
   "cell_type": "markdown",
   "metadata": {
    "id": "3NYmQslQ_Edk"
   },
   "source": [
    "- 위의 결과는 500 개의 단어만 고려한 것임. \n",
    "- 각 단어를 독립적으로 다루었으며, 문장의 구성 정보를 고려하지 않음\n",
    "- 문장의 구조 정보를 고려하려면 임베딩 층 위에 합성곱이나 순환신경망 층을 추가한다"
   ]
  },
  {
   "cell_type": "markdown",
   "metadata": {
    "id": "yHmJcvvgLXsI"
   },
   "source": [
    "## CNN (1D)"
   ]
  },
  {
   "cell_type": "code",
   "execution_count": 18,
   "metadata": {
    "colab": {
     "base_uri": "https://localhost:8080/"
    },
    "executionInfo": {
     "elapsed": 441,
     "status": "ok",
     "timestamp": 1636722516556,
     "user": {
      "displayName": "Yongjin Jeong",
      "photoUrl": "https://lh3.googleusercontent.com/a/default-user=s64",
      "userId": "03658406798560557048"
     },
     "user_tz": -540
    },
    "id": "cUk-HKHMLZdp",
    "outputId": "110d10b8-172d-4cfb-dcbb-11c8bafe1e10"
   },
   "outputs": [
    {
     "name": "stdout",
     "output_type": "stream",
     "text": [
      "Model: \"sequential_1\"\n",
      "_________________________________________________________________\n",
      "Layer (type)                 Output Shape              Param #   \n",
      "=================================================================\n",
      "embedding_1 (Embedding)      (None, 500, 32)           160000    \n",
      "_________________________________________________________________\n",
      "conv1d (Conv1D)              (None, 496, 128)          20608     \n",
      "_________________________________________________________________\n",
      "max_pooling1d (MaxPooling1D) (None, 99, 128)           0         \n",
      "_________________________________________________________________\n",
      "conv1d_1 (Conv1D)            (None, 95, 128)           82048     \n",
      "_________________________________________________________________\n",
      "max_pooling1d_1 (MaxPooling1 (None, 19, 128)           0         \n",
      "_________________________________________________________________\n",
      "conv1d_2 (Conv1D)            (None, 15, 128)           82048     \n",
      "_________________________________________________________________\n",
      "global_max_pooling1d (Global (None, 128)               0         \n",
      "_________________________________________________________________\n",
      "dense_1 (Dense)              (None, 128)               16512     \n",
      "_________________________________________________________________\n",
      "dropout (Dropout)            (None, 128)               0         \n",
      "_________________________________________________________________\n",
      "dense_2 (Dense)              (None, 1)                 129       \n",
      "=================================================================\n",
      "Total params: 361,345\n",
      "Trainable params: 361,345\n",
      "Non-trainable params: 0\n",
      "_________________________________________________________________\n"
     ]
    }
   ],
   "source": [
    "model = Sequential()\n",
    "model.add(Embedding(input_dim=5000, output_dim=32, input_length=maxlen))\n",
    "model.add(Conv1D(128, 5, activation=\"relu\"))\n",
    "model.add(MaxPooling1D(5))\n",
    "model.add(Conv1D(128, 5, activation=\"relu\"))\n",
    "model.add(MaxPooling1D(5))\n",
    "model.add(Conv1D(128, 5, activation=\"relu\"))\n",
    "model.add(GlobalMaxPooling1D())\n",
    "model.add(Dense(128, activation=\"relu\"))\n",
    "model.add(Dropout(0.5))\n",
    "model.add(Dense(1, activation=\"sigmoid\"))\n",
    "model.summary()"
   ]
  },
  {
   "cell_type": "code",
   "execution_count": 19,
   "metadata": {
    "colab": {
     "base_uri": "https://localhost:8080/",
     "height": 371
    },
    "executionInfo": {
     "elapsed": 28731,
     "status": "error",
     "timestamp": 1636722548778,
     "user": {
      "displayName": "Yongjin Jeong",
      "photoUrl": "https://lh3.googleusercontent.com/a/default-user=s64",
      "userId": "03658406798560557048"
     },
     "user_tz": -540
    },
    "id": "mYv_eFXZMxC0",
    "outputId": "1ca20875-56b5-431e-d28e-df30a2ce6157"
   },
   "outputs": [
    {
     "name": "stdout",
     "output_type": "stream",
     "text": [
      "Epoch 1/10\n",
      "40/40 [==============================] - 5s 57ms/step - loss: 0.6925 - acc: 0.5101 - val_loss: 0.6844 - val_acc: 0.6734\n",
      "Epoch 2/10\n",
      "40/40 [==============================] - 2s 54ms/step - loss: 0.4900 - acc: 0.7635 - val_loss: 0.3572 - val_acc: 0.8464\n",
      "Epoch 3/10\n",
      "40/40 [==============================] - 2s 54ms/step - loss: 0.2674 - acc: 0.8935 - val_loss: 0.3032 - val_acc: 0.8742\n",
      "Epoch 4/10\n",
      "40/40 [==============================] - 2s 54ms/step - loss: 0.2060 - acc: 0.9268 - val_loss: 0.3187 - val_acc: 0.8730\n",
      "Epoch 5/10\n",
      "40/40 [==============================] - 2s 55ms/step - loss: 0.1684 - acc: 0.9433 - val_loss: 0.3390 - val_acc: 0.8762\n",
      "Epoch 6/10\n",
      "40/40 [==============================] - 2s 54ms/step - loss: 0.1412 - acc: 0.9534 - val_loss: 0.3635 - val_acc: 0.8692\n",
      "Epoch 7/10\n",
      "40/40 [==============================] - 2s 55ms/step - loss: 0.1232 - acc: 0.9609 - val_loss: 0.4320 - val_acc: 0.8588\n",
      "Epoch 8/10\n",
      "40/40 [==============================] - 2s 54ms/step - loss: 0.1046 - acc: 0.9673 - val_loss: 0.4516 - val_acc: 0.8654\n",
      "Epoch 9/10\n",
      "40/40 [==============================] - 2s 54ms/step - loss: 0.0799 - acc: 0.9758 - val_loss: 0.5012 - val_acc: 0.8618\n",
      "Epoch 10/10\n",
      "40/40 [==============================] - 2s 54ms/step - loss: 0.0622 - acc: 0.9817 - val_loss: 0.5348 - val_acc: 0.8644\n"
     ]
    }
   ],
   "source": [
    "model.compile(loss='binary_crossentropy',\n",
    "              optimizer='adam',\n",
    "              metrics=['acc'])\n",
    "history = model.fit(x_train_p, y_train,\n",
    "                    epochs=10, batch_size=500,\n",
    "                    validation_split=0.2)"
   ]
  },
  {
   "cell_type": "code",
   "execution_count": 20,
   "metadata": {
    "id": "dt9ZeGdTNSLv"
   },
   "outputs": [
    {
     "data": {
      "text/plain": [
       "Text(0.5, 1.0, 'Training(--) and validation loss')"
      ]
     },
     "execution_count": 20,
     "metadata": {},
     "output_type": "execute_result"
    },
    {
     "data": {
      "image/png": "[encoded data removed]",
      "text/plain": [
       "<Figure size 720x432 with 2 Axes>"
      ]
     },
     "metadata": {
      "needs_background": "light"
     },
     "output_type": "display_data"
    }
   ],
   "source": [
    "acc = history.history['acc']\n",
    "val_acc = history.history['val_acc']\n",
    "loss = history.history['loss']\n",
    "val_loss = history.history['val_loss']\n",
    "\n",
    "plt.figure(figsize=(10,6))\n",
    "plt.subplot(1,2,1)\n",
    "epochs = range(len(acc))\n",
    "\n",
    "plt.plot(epochs, acc, '--')\n",
    "plt.plot(epochs, val_acc)\n",
    "plt.title('Training(--) and validation accuracy')\n",
    "\n",
    "plt.subplot(1,2,2)\n",
    "plt.plot(epochs, loss,  '--')\n",
    "plt.plot(epochs, val_loss)\n",
    "plt.title('Training(--) and validation loss')"
   ]
  },
  {
   "cell_type": "code",
   "execution_count": 21,
   "metadata": {
    "id": "No-dhvuHNWK2"
   },
   "outputs": [
    {
     "name": "stdout",
     "output_type": "stream",
     "text": [
      "Test accuracy: 0.8475599884986877\n"
     ]
    }
   ],
   "source": [
    "# test score\n",
    "scores = model.evaluate(x_test_p, y_test, verbose=0)\n",
    "print('Test accuracy:', scores[1])"
   ]
  },
  {
   "cell_type": "code",
   "execution_count": 22,
   "metadata": {
    "id": "MbqsvmjoNkuV"
   },
   "outputs": [
    {
     "data": {
      "text/plain": [
       "array([[0.01152737],\n",
       "       [0.99999976],\n",
       "       [0.06551089],\n",
       "       [0.02209353],\n",
       "       [0.9896063 ]], dtype=float32)"
      ]
     },
     "execution_count": 22,
     "metadata": {},
     "output_type": "execute_result"
    }
   ],
   "source": [
    "# prediction\n",
    "model.predict(x_test_p[0:5])"
   ]
  },
  {
   "cell_type": "code",
   "execution_count": 23,
   "metadata": {
    "id": "i1PGjr-6Nywz"
   },
   "outputs": [
    {
     "data": {
      "text/plain": [
       "array([0, 1, 1, 0, 1], dtype=int64)"
      ]
     },
     "execution_count": 23,
     "metadata": {},
     "output_type": "execute_result"
    }
   ],
   "source": [
    "# ground truth\n",
    "y_test[0:5]"
   ]
  },
  {
   "cell_type": "markdown",
   "metadata": {
    "id": "VNRUc-dA0i9C"
   },
   "source": [
    "## GRU (RNN)"
   ]
  },
  {
   "cell_type": "code",
   "execution_count": 24,
   "metadata": {
    "id": "NrnA5C8y30oX"
   },
   "outputs": [
    {
     "data": {
      "text/plain": [
       "(25000, 500)"
      ]
     },
     "execution_count": 24,
     "metadata": {},
     "output_type": "execute_result"
    }
   ],
   "source": [
    "x_train_p.shape"
   ]
  },
  {
   "cell_type": "code",
   "execution_count": 25,
   "metadata": {
    "id": "HGNtU9Bz0idI"
   },
   "outputs": [
    {
     "name": "stdout",
     "output_type": "stream",
     "text": [
      "Model: \"sequential_2\"\n",
      "_________________________________________________________________\n",
      "Layer (type)                 Output Shape              Param #   \n",
      "=================================================================\n",
      "embedding_2 (Embedding)      (None, 500, 32)           160000    \n",
      "_________________________________________________________________\n",
      "gru (GRU)                    (None, 32)                6336      \n",
      "_________________________________________________________________\n",
      "dense_3 (Dense)              (None, 32)                1056      \n",
      "_________________________________________________________________\n",
      "dropout_1 (Dropout)          (None, 32)                0         \n",
      "_________________________________________________________________\n",
      "dense_4 (Dense)              (None, 1)                 33        \n",
      "=================================================================\n",
      "Total params: 167,425\n",
      "Trainable params: 167,425\n",
      "Non-trainable params: 0\n",
      "_________________________________________________________________\n"
     ]
    }
   ],
   "source": [
    "from tensorflow.keras.models import Sequential\n",
    "from tensorflow.keras.layers import SimpleRNN, Dense, LSTM, GRU\n",
    "\n",
    "model = Sequential()\n",
    "model.add(Embedding(input_dim=5000, output_dim=32, input_length=maxlen))\n",
    "model.add(GRU(32))\n",
    "model.add(Dense(32, activation='relu'))\n",
    "model.add(Dropout(0.5))\n",
    "model.add(Dense(1, activation='sigmoid'))\n",
    "\n",
    "model.compile(loss='binary_crossentropy', optimizer='adam', metrics=['acc'])\n",
    "model.summary()"
   ]
  },
  {
   "cell_type": "code",
   "execution_count": 26,
   "metadata": {
    "id": "TqusSXm75Lun"
   },
   "outputs": [
    {
     "name": "stdout",
     "output_type": "stream",
     "text": [
      "Epoch 1/10\n",
      "40/40 [==============================] - 4s 50ms/step - loss: 0.6888 - acc: 0.5610 - val_loss: 0.6766 - val_acc: 0.6250\n",
      "Epoch 2/10\n",
      "40/40 [==============================] - 2s 43ms/step - loss: 0.5811 - acc: 0.7189 - val_loss: 0.4436 - val_acc: 0.7910\n",
      "Epoch 3/10\n",
      "40/40 [==============================] - 2s 44ms/step - loss: 0.3639 - acc: 0.8551 - val_loss: 0.3525 - val_acc: 0.8454\n",
      "Epoch 4/10\n",
      "40/40 [==============================] - 2s 44ms/step - loss: 0.2771 - acc: 0.8986 - val_loss: 0.3253 - val_acc: 0.8618\n",
      "Epoch 5/10\n",
      "40/40 [==============================] - ETA: 0s - loss: 0.2310 - acc: 0.922 - 2s 43ms/step - loss: 0.2312 - acc: 0.9221 - val_loss: 0.3231 - val_acc: 0.8678\n",
      "Epoch 6/10\n",
      "40/40 [==============================] - 2s 43ms/step - loss: 0.2050 - acc: 0.9326 - val_loss: 0.3424 - val_acc: 0.8686\n",
      "Epoch 7/10\n",
      "40/40 [==============================] - 2s 43ms/step - loss: 0.1915 - acc: 0.9384 - val_loss: 0.3404 - val_acc: 0.8712\n",
      "Epoch 8/10\n",
      "40/40 [==============================] - 2s 43ms/step - loss: 0.1696 - acc: 0.9483 - val_loss: 0.3643 - val_acc: 0.8662\n",
      "Epoch 9/10\n",
      "40/40 [==============================] - 2s 44ms/step - loss: 0.1805 - acc: 0.9401 - val_loss: 0.3841 - val_acc: 0.8694\n",
      "Epoch 10/10\n",
      "40/40 [==============================] - 2s 43ms/step - loss: 0.1485 - acc: 0.9554 - val_loss: 0.3976 - val_acc: 0.8702\n",
      "Wall time: 19.4 s\n"
     ]
    }
   ],
   "source": [
    "%time history = model.fit(x_train_p, y_train, epochs=10, batch_size=500, validation_split=0.2)"
   ]
  },
  {
   "cell_type": "code",
   "execution_count": 27,
   "metadata": {
    "id": "yA_TcVV1pAya"
   },
   "outputs": [
    {
     "name": "stdout",
     "output_type": "stream",
     "text": [
      "Test accuracy: 0.8632000088691711\n"
     ]
    }
   ],
   "source": [
    "# test score\n",
    "scores = model.evaluate(x_test_p, y_test, verbose=0)\n",
    "print('Test accuracy:', scores[1])"
   ]
  },
  {
   "cell_type": "code",
   "execution_count": 28,
   "metadata": {
    "id": "Rq5L0l6QlihN"
   },
   "outputs": [
    {
     "data": {
      "text/plain": [
       "Text(0.5, 1.0, 'Training(--) and validation loss')"
      ]
     },
     "execution_count": 28,
     "metadata": {},
     "output_type": "execute_result"
    },
    {
     "data": {
      "image/png": "[encoded data removed]",
      "text/plain": [
       "<Figure size 720x432 with 2 Axes>"
      ]
     },
     "metadata": {
      "needs_background": "light"
     },
     "output_type": "display_data"
    }
   ],
   "source": [
    "acc = history.history['acc']\n",
    "val_acc = history.history['val_acc']\n",
    "loss = history.history['loss']\n",
    "val_loss = history.history['val_loss']\n",
    "\n",
    "plt.figure(figsize=(10,6))\n",
    "plt.subplot(1,2,1)\n",
    "epochs = range(len(acc))\n",
    "\n",
    "plt.plot(epochs, acc, '--')\n",
    "plt.plot(epochs, val_acc)\n",
    "plt.title('Training(--) and validation accuracy')\n",
    "\n",
    "plt.subplot(1,2,2)\n",
    "plt.plot(epochs, loss,  '--')\n",
    "plt.plot(epochs, val_loss)\n",
    "plt.title('Training(--) and validation loss')"
   ]
  },
  {
   "cell_type": "code",
   "execution_count": 29,
   "metadata": {
    "id": "vm9V6OoRP1rF"
   },
   "outputs": [
    {
     "data": {
      "text/plain": [
       "array([[0.11125369],\n",
       "       [0.99512935],\n",
       "       [0.9718255 ],\n",
       "       [0.20294943],\n",
       "       [0.99939275]], dtype=float32)"
      ]
     },
     "execution_count": 29,
     "metadata": {},
     "output_type": "execute_result"
    }
   ],
   "source": [
    "# prediction\n",
    "model.predict(x_test_p[0:5])"
   ]
  },
  {
   "cell_type": "code",
   "execution_count": 30,
   "metadata": {
    "id": "q5NQQz44P7HW"
   },
   "outputs": [
    {
     "data": {
      "text/plain": [
       "array([0, 1, 1, 0, 1], dtype=int64)"
      ]
     },
     "execution_count": 30,
     "metadata": {},
     "output_type": "execute_result"
    }
   ],
   "source": [
    "# ground truth\n",
    "y_test[0:5]"
   ]
  },
  {
   "cell_type": "markdown",
   "metadata": {
    "id": "vtt8gK4WQdsm"
   },
   "source": [
    "- y_test[2] 는 무슨 문장일까?"
   ]
  },
  {
   "cell_type": "code",
   "execution_count": 31,
   "metadata": {
    "id": "YOWf6HbcQQg9"
   },
   "outputs": [
    {
     "name": "stdout",
     "output_type": "stream",
     "text": [
      "['the', 'plot', 'near', 'ears', 'recent', 'and', 'and', 'of', 'him', 'flicks', 'frank', 'br', 'by', 'excellent', 'and', 'br', 'of', 'past', 'and', 'near', 'really', 'all', 'and', 'family', 'four', 'and', 'to', 'movie', 'that', 'obvious', 'family', 'brave', 'movie', 'is', 'got', 'say', 'and', 'with', 'up', 'comment', 'this', 'and', 'been', 'of', 'entertaining', 'not', 'be', 'and', 'james', 'in', 'you', 'seen', 'and', 'and', 'portrayed', 'dirty', 'in', 'so', 'washington', 'and', 'this', 'you', 'minutes', 'no', 'all', 'station', 'all', 'after', 'and', 'promising', 'who', 'and', 'and', 'and', 'to', 'and', 'any', 'by', 'speed', 'they', 'is', 'my', 'as', 'screams', 'dirty', 'in', 'of', 'full', 'br', 'pacino', 'dignity', 'need', 'men', 'of', 'and', 'popular', 'really', 'all', 'way', 'this', 'and', 'this', 'and', 'they', 'is', 'my', 'no', 'standard', 'certainly', 'near', 'br', 'an', 'beach', 'with', 'this', 'make', 'and', 'i', 'i', 'of', 'fails', 'and', 'br', 'of', 'finished', 'wear', 'psycho', 'and', 'in', 'learn', 'in', 'twice', 'know', 'by', 'br', 'be', 'how', 'rings', 'and', 'with', 'is', 'seemed', 'fails', 'visually', 'and', 'extremely', 'movie', 'and', \"it's\", 'of', 'and', 'like', 'children', 'is', 'easily', 'is', 'and', 'br', 'simply', 'must', 'well', 'at', 'although', 'this', 'family', 'an', 'br', 'many', 'not', 'scene', 'that', 'it', 'time', 'seemed', 'de', 'ignored', 'up', 'they', 'boat', 'morning', 'like', 'well', 'force', 'of', 'and', 'sent', 'been', 'history', 'like', 'story', 'its', 'disappointing', 'same', 'of', 'club', 'and', 'watching', 'husband', 'reviewer', 'to', 'although', 'that', 'around', 'and', 'except', 'to', 'de', 'and', 'br', 'of', 'you', 'available', 'but', 'hours', 'animals', 'showing', 'br', 'of', 'and', 'than', 'dead', 'white', 'splatter', 'waiting', 'film', 'and', 'to', 'and', 'this', 'documentary', 'in', '3', 'and', 'of', 'accents', 'and', 'br', 'of', 'ann', 'i', 'i', 'comes', '9', 'it', 'place', 'this', 'is', 'and', 'of', 'and', 'and', 'know', 'of', 'and', 'he', 'bonus', 'film', 'were', 'central', 'to', 'one', 'oh', 'is', 'excellent', 'and', 'in', 'can', 'when', 'from', 'well', 'people', 'in', \"characters'\", 'chief', 'from', 'leaving', 'in', 'and', 'and', 'but', 'is', 'easily', 'of', 'and', 'he', 'and', 'speak', 'this', 'as', 'today', 'paul', 'that', 'against', 'one', 'will', 'actual', 'in', 'could', 'her', 'plot', 'and', 'and', 'few', 'grade', 'and', 'go', 'and', 'but', 'be', 'lot', 'it', 'oliver', 'movie', 'is', 'and', 'picture', 'and', 'feel', 'this', 'of', 'and', 'like', 'different', 'just', 'clichéd', 'girl', 'at', 'finds', 'is', 'and', 'no', 'and', 'glory', 'any', 'is', \"children's\", 'just', 'moment', 'like', 'and', 'any', 'of', 'and', 'leaving', 'for', 'as', 'it', 'even', 'cliche', 'to', 'purchased', 'is', 'money', 'easily', 'and', 'and', 'glory', 'any', 'is', 'and', 'i', 'i', 'and', 'film', 'as', 'and', 'set', 'actually', 'easily', 'like', 'and', 'sequel', 'any', 'of', 'and', 'ryan', 'made', 'film', 'is', 'and', 'br', 'and', 'constant', 'and', 'of', '90s', 'letting', 'deep', 'in', 'act', 'made', 'of', 'road', 'in', 'of', 'and', 'movie', 'and', 'rural', 'vhs', 'of', 'share', 'in', 'reaching', 'fact', 'of', 'and', 'and', 'and', 'of', '90s', 'to', 'them', 'book', 'are', 'is', 'and', 'and', 'and', 'and', 'they', 'funniest', 'is', 'white', 'courage', 'and', 'vegas', 'wooden', 'br', 'of', 'gender', 'and', 'unfortunately', 'of', '1968', 'no', 'of', 'years', 'and', 'and', 'true', 'up', 'and', 'and', 'but', '3', 'all', 'ordinary', 'be', 'and', 'to', 'and', 'were', 'deserve', 'film', 'and', 'and', 'of', 'creative', 'br', 'comes', 'their', 'kung', 'who', 'is', 'and', 'and', 'out', 'new', 'all', 'it', 'incomprehensible', 'it', 'episode', 'much', \"that's\", 'including', 'i', 'i', 'cartoon', 'of', 'my', 'certain', 'no', 'as', 'and', 'over', 'you', 'with', 'way', 'to', 'cartoon', 'of', 'enough', 'for', 'that', 'with', 'way', 'who', 'is', 'finished', 'and', 'they', 'of', 'and', 'br', 'for', 'and', 'and', 'stunts', 'black', 'that', 'story', 'at', 'actual', 'in', 'can', 'as', 'movie', 'is', 'and', 'has', 'though', 'songs', 'and', 'action', \"it's\", 'action', 'his', 'one', 'me', 'and', 'and', 'this', 'second', 'no', 'all', 'way', 'and', 'not', 'lee', 'and', 'be', 'moves', 'br', 'figure', 'of', 'you', 'boss', 'movie', 'is', 'and', '9', 'br', 'propaganda', 'and', 'and', 'after', 'at', 'of', 'smoke', 'splendid', 'snow', 'saturday', \"it's\", 'results', 'this', 'of', 'load', \"it's\", 'think', 'class', 'br', 'think', 'cop', 'for', 'games', 'make', 'southern', 'things', 'to', 'it', 'and', 'who', 'and', 'if', 'is', 'boyfriend', 'you', 'which', 'is', 'tony', 'by', 'this', 'make', 'and', 'too', 'not', 'make', 'above', 'it', 'even', 'background']\n",
      "1\n"
     ]
    }
   ],
   "source": [
    "word2id = imdb.get_word_index()\n",
    "id2word = {i: word for word, i in word2id.items()}\n",
    "print([id2word.get(i, ' ') for i in x_test[2]])\n",
    "print(y_test[2])"
   ]
  },
  {
   "cell_type": "markdown",
   "metadata": {
    "id": "EhK0axgbkxt9"
   },
   "source": [
    "## Combine CNN and RNN together"
   ]
  },
  {
   "cell_type": "code",
   "execution_count": 32,
   "metadata": {
    "id": "-Go1FrAhk1FK"
   },
   "outputs": [
    {
     "name": "stdout",
     "output_type": "stream",
     "text": [
      "Model: \"sequential_3\"\n",
      "_________________________________________________________________\n",
      "Layer (type)                 Output Shape              Param #   \n",
      "=================================================================\n",
      "embedding_3 (Embedding)      (None, 500, 32)           160000    \n",
      "_________________________________________________________________\n",
      "dropout_2 (Dropout)          (None, 500, 32)           0         \n",
      "_________________________________________________________________\n",
      "conv1d_3 (Conv1D)            (None, 496, 64)           10304     \n",
      "_________________________________________________________________\n",
      "max_pooling1d_2 (MaxPooling1 (None, 124, 64)           0         \n",
      "_________________________________________________________________\n",
      "lstm (LSTM)                  (None, 55)                26400     \n",
      "_________________________________________________________________\n",
      "dense_5 (Dense)              (None, 1)                 56        \n",
      "=================================================================\n",
      "Total params: 196,760\n",
      "Trainable params: 196,760\n",
      "Non-trainable params: 0\n",
      "_________________________________________________________________\n"
     ]
    }
   ],
   "source": [
    "model = Sequential()\n",
    "model.add(Embedding(input_dim=5000, output_dim=32, input_length=maxlen))\n",
    "model.add(Dropout(0.5))\n",
    "model.add(Conv1D(64, 5, padding='valid', activation='relu',strides=1))\n",
    "model.add(MaxPooling1D(pool_size=4))\n",
    "model.add(LSTM(55))\n",
    "model.add(Dense(1, activation='sigmoid'))\n",
    "model.summary()"
   ]
  },
  {
   "cell_type": "code",
   "execution_count": 33,
   "metadata": {
    "id": "PL84uNxmlKCS"
   },
   "outputs": [],
   "source": [
    "model.compile(loss='binary_crossentropy', optimizer='adam', metrics=['acc'])"
   ]
  },
  {
   "cell_type": "code",
   "execution_count": 34,
   "metadata": {
    "id": "KlvrGeI5lRXB"
   },
   "outputs": [
    {
     "name": "stdout",
     "output_type": "stream",
     "text": [
      "Epoch 1/10\n",
      "40/40 [==============================] - 3s 54ms/step - loss: 0.6757 - acc: 0.5888 - val_loss: 0.6171 - val_acc: 0.6452\n",
      "Epoch 2/10\n",
      "40/40 [==============================] - 2s 46ms/step - loss: 0.4993 - acc: 0.7772 - val_loss: 0.3533 - val_acc: 0.8546\n",
      "Epoch 3/10\n",
      "40/40 [==============================] - 2s 47ms/step - loss: 0.2935 - acc: 0.8804 - val_loss: 0.3060 - val_acc: 0.8748\n",
      "Epoch 4/10\n",
      "40/40 [==============================] - 2s 46ms/step - loss: 0.2487 - acc: 0.9032 - val_loss: 0.2871 - val_acc: 0.8826\n",
      "Epoch 5/10\n",
      "40/40 [==============================] - 2s 46ms/step - loss: 0.2156 - acc: 0.9172 - val_loss: 0.2741 - val_acc: 0.8882\n",
      "Epoch 6/10\n",
      "40/40 [==============================] - 2s 45ms/step - loss: 0.1965 - acc: 0.9249 - val_loss: 0.2989 - val_acc: 0.8758\n",
      "Epoch 7/10\n",
      "40/40 [==============================] - 2s 45ms/step - loss: 0.1802 - acc: 0.9329 - val_loss: 0.3007 - val_acc: 0.8772\n",
      "Epoch 8/10\n",
      "40/40 [==============================] - 2s 46ms/step - loss: 0.1711 - acc: 0.9355 - val_loss: 0.2820 - val_acc: 0.8846\n",
      "Epoch 9/10\n",
      "40/40 [==============================] - 2s 45ms/step - loss: 0.1563 - acc: 0.9444 - val_loss: 0.2924 - val_acc: 0.8828\n",
      "Epoch 10/10\n",
      "40/40 [==============================] - 2s 46ms/step - loss: 0.1449 - acc: 0.9482 - val_loss: 0.3144 - val_acc: 0.8800\n",
      "Wall time: 19.7 s\n"
     ]
    }
   ],
   "source": [
    "%time history = model.fit(x_train_p, y_train, epochs=10, batch_size=500, validation_split=0.2)"
   ]
  },
  {
   "cell_type": "code",
   "execution_count": 35,
   "metadata": {
    "id": "0GjAJjZ3lUS2"
   },
   "outputs": [
    {
     "name": "stdout",
     "output_type": "stream",
     "text": [
      "Test accuracy: 0.8714799880981445\n"
     ]
    }
   ],
   "source": [
    "# test score\n",
    "scores = model.evaluate(x_test_p, y_test, verbose=0)\n",
    "print('Test accuracy:', scores[1])"
   ]
  },
  {
   "cell_type": "code",
   "execution_count": 36,
   "metadata": {
    "id": "beLgT_aMlVbq"
   },
   "outputs": [
    {
     "data": {
      "text/plain": [
       "Text(0.5, 1.0, 'Training(--) and validation loss')"
      ]
     },
     "execution_count": 36,
     "metadata": {},
     "output_type": "execute_result"
    },
    {
     "data": {
      "image/png": "[encoded data removed]",
      "text/plain": [
       "<Figure size 720x432 with 2 Axes>"
      ]
     },
     "metadata": {
      "needs_background": "light"
     },
     "output_type": "display_data"
    }
   ],
   "source": [
    "acc = history.history['acc']\n",
    "val_acc = history.history['val_acc']\n",
    "loss = history.history['loss']\n",
    "val_loss = history.history['val_loss']\n",
    "\n",
    "plt.figure(figsize=(10,6))\n",
    "plt.subplot(1,2,1)\n",
    "epochs = range(len(acc))\n",
    "\n",
    "plt.plot(epochs, acc, '--')\n",
    "plt.plot(epochs, val_acc)\n",
    "plt.title('Training(--) and validation accuracy')\n",
    "\n",
    "plt.subplot(1,2,2)\n",
    "plt.plot(epochs, loss,  '--')\n",
    "plt.plot(epochs, val_loss)\n",
    "plt.title('Training(--) and validation loss')"
   ]
  },
  {
   "cell_type": "markdown",
   "metadata": {
    "id": "POhP6d5oEbBw"
   },
   "source": [
    "## Exercise (연습)\n",
    "- By default, if a GPU is available, the embedding matrix will be placed on the GPU. This achieves the best performance.\n",
    "- in order to use CPU (too big to fit on GPU), you should use CPU\n",
    "  - with tf.device('cpu:0'): \n",
    "  -embedding_layer = Embedding(...)\n",
    "  - embedding_layer.build()"
   ]
  },
  {
   "cell_type": "code",
   "execution_count": 37,
   "metadata": {
    "id": "HoaeBMEeEec0"
   },
   "outputs": [
    {
     "name": "stdout",
     "output_type": "stream",
     "text": [
      "[[ 0.01560372 -0.04292933]\n",
      " [ 0.0303275  -0.00451677]\n",
      " [-0.00240674 -0.01646507]\n",
      " [ 0.01426259 -0.02349484]\n",
      " [ 0.00645077 -0.04100402]\n",
      " [-0.01287322 -0.01720787]\n",
      " [ 0.02342038 -0.00832408]]\n"
     ]
    }
   ],
   "source": [
    "import tensorflow as tf\n",
    "# 문장 토큰화와 단어 토큰화\n",
    "text=[['Hope', 'to', 'see', 'you', 'soon'],\n",
    "      ['Nice', 'to', 'see', 'you', 'again']]\n",
    "\n",
    "# 각 단어에 대한 정수 인코딩\n",
    "text=[[0, 1, 2, 3, 4],[5, 1, 2, 3, 6]]\n",
    "\n",
    "# 위 데이터가 아래의 임베딩 층의 입력이 된다. (훈련 없이 모양만 보기 위함)\n",
    "embedding_layer = Embedding(7, 2, input_length=5)\n",
    "result = embedding_layer(tf.constant([0, 1, 2, 3, 4, 5, 6]))\n",
    "print(result.numpy())\n",
    "\n",
    "# 7은 단어의 개수. 즉, 단어 집합(vocabulary)의 크기이다.\n",
    "# 2는 임베딩한 후의 벡터의 크기이다.\n",
    "# 5는 각 입력 시퀀스의 길이. 즉, input_length이다.\n"
   ]
  },
  {
   "cell_type": "code",
   "execution_count": 41,
   "metadata": {
    "id": "q08IEz9YryFE"
   },
   "outputs": [
    {
     "name": "stdout",
     "output_type": "stream",
     "text": [
      "Model: \"sequential_7\"\n",
      "_________________________________________________________________\n",
      "Layer (type)                 Output Shape              Param #   \n",
      "=================================================================\n",
      "embedding_8 (Embedding)      (None, None, 2)           14        \n",
      "_________________________________________________________________\n",
      "flatten_3 (Flatten)          (None, None)              0         \n",
      "=================================================================\n",
      "Total params: 14\n",
      "Trainable params: 14\n",
      "Non-trainable params: 0\n",
      "_________________________________________________________________\n"
     ]
    }
   ],
   "source": [
    "# input_legnth를 지정하지 않았을 때 (가변 길이 문장, None)\n",
    "model = Sequential()\n",
    "model.add(Embedding(7, 2))\n",
    "model.add(Flatten())\n",
    "model.summary()"
   ]
  },
  {
   "cell_type": "code",
   "execution_count": 42,
   "metadata": {
    "id": "QkkSasRbCZDR"
   },
   "outputs": [
    {
     "name": "stdout",
     "output_type": "stream",
     "text": [
      "Model: \"sequential_8\"\n",
      "_________________________________________________________________\n",
      "Layer (type)                 Output Shape              Param #   \n",
      "=================================================================\n",
      "embedding_9 (Embedding)      (None, 5, 2)              14        \n",
      "_________________________________________________________________\n",
      "flatten_4 (Flatten)          (None, 10)                0         \n",
      "=================================================================\n",
      "Total params: 14\n",
      "Trainable params: 14\n",
      "Non-trainable params: 0\n",
      "_________________________________________________________________\n"
     ]
    }
   ],
   "source": [
    "# input_length를 지정했을 때 (불변 길이 문장, input_length)\n",
    "model = Sequential()\n",
    "model.add(Embedding(7, 2, input_length=5)) # need input_length to be connected to Flatten then Dense layers\n",
    "model.add(Flatten())\n",
    "model.summary()"
   ]
  }
 ],
 "metadata": {
  "accelerator": "GPU",
  "colab": {
   "collapsed_sections": [],
   "name": "lab_63_keras_embedding_imdb.ipynb",
   "provenance": [
    {
     "file_id": "1vglMMavBgTKqscKfwZNdGa_b-oTwBaYU",
     "timestamp": 1604891467879
    }
   ]
  },
  "kernelspec": {
   "display_name": "Python 3",
   "language": "python",
   "name": "python3"
  },
  "language_info": {
   "codemirror_mode": {
    "name": "ipython",
    "version": 3
   },
   "file_extension": ".py",
   "mimetype": "text/x-python",
   "name": "python",
   "nbconvert_exporter": "python",
   "pygments_lexer": "ipython3",
   "version": "3.8.8"
  }
 },
 "nbformat": 4,
 "nbformat_minor": 1
}
