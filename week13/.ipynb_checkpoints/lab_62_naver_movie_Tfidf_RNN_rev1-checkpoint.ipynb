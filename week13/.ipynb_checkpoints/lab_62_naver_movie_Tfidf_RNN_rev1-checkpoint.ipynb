{
 "cells": [
  {
   "cell_type": "markdown",
   "metadata": {
    "id": "QC56DBCixpFQ"
   },
   "source": [
    "## Naver Movie sentiment analysis\n",
    "- using Tfidf vectorizer"
   ]
  },
  {
   "cell_type": "markdown",
   "metadata": {
    "id": "qOZVTcEODvqS"
   },
   "source": [
    "- 감성분석\n",
    "- 네이버 영화평점 (Naver sentiment movie corpus v.1.0) 데이터(https://github.com/e9t/nsmc)\n",
    "- 영화 리뷰 20만건이 저장됨. 각 평가 데이터는 0(부정), 1(긍정)으로 label 됨.\n",
    "\n",
    "한글 자연어 처리\n",
    "- KoNLPy(“코엔엘파이”라고 읽습니다)는 한국어 정보처리를 위한 파이썬 패키지입니다.\n",
    "- konlpy 패키지에서 제공하는 Twitter라는 문서 분석 라이브러리 사용 (트위터 분석 뿐 아니라 한글 텍스트 \n",
    "  처리도 가능)\n",
    "- colab 사용 권장"
   ]
  },
  {
   "cell_type": "code",
   "execution_count": 7,
   "metadata": {
    "colab": {
     "base_uri": "https://localhost:8080/"
    },
    "executionInfo": {
     "elapsed": 6990,
     "status": "ok",
     "timestamp": 1638158185538,
     "user": {
      "displayName": "Yongjin Jeong",
      "photoUrl": "https://lh3.googleusercontent.com/a/default-user=s64",
      "userId": "03658406798560557048"
     },
     "user_tz": -540
    },
    "id": "zHoKWwCbZoAm",
    "outputId": "d51eb286-a91d-4605-9e59-4b6293b7dd1e"
   },
   "outputs": [
    {
     "name": "stdout",
     "output_type": "stream",
     "text": [
      "Collecting konlpy\n",
      "  Downloading konlpy-0.5.2-py2.py3-none-any.whl (19.4 MB)\n",
      "\u001b[K     |████████████████████████████████| 19.4 MB 1.5 MB/s \n",
      "\u001b[?25hRequirement already satisfied: tweepy>=3.7.0 in /usr/local/lib/python3.7/dist-packages (from konlpy) (3.10.0)\n",
      "Requirement already satisfied: numpy>=1.6 in /usr/local/lib/python3.7/dist-packages (from konlpy) (1.19.5)\n",
      "Collecting colorama\n",
      "  Downloading colorama-0.4.4-py2.py3-none-any.whl (16 kB)\n",
      "Collecting JPype1>=0.7.0\n",
      "  Downloading JPype1-1.3.0-cp37-cp37m-manylinux_2_5_x86_64.manylinux1_x86_64.whl (448 kB)\n",
      "\u001b[K     |████████████████████████████████| 448 kB 33.9 MB/s \n",
      "\u001b[?25hRequirement already satisfied: lxml>=4.1.0 in /usr/local/lib/python3.7/dist-packages (from konlpy) (4.2.6)\n",
      "Collecting beautifulsoup4==4.6.0\n",
      "  Downloading beautifulsoup4-4.6.0-py3-none-any.whl (86 kB)\n",
      "\u001b[K     |████████████████████████████████| 86 kB 5.3 MB/s \n",
      "\u001b[?25hRequirement already satisfied: typing-extensions in /usr/local/lib/python3.7/dist-packages (from JPype1>=0.7.0->konlpy) (3.10.0.2)\n",
      "Requirement already satisfied: requests[socks]>=2.11.1 in /usr/local/lib/python3.7/dist-packages (from tweepy>=3.7.0->konlpy) (2.23.0)\n",
      "Requirement already satisfied: six>=1.10.0 in /usr/local/lib/python3.7/dist-packages (from tweepy>=3.7.0->konlpy) (1.15.0)\n",
      "Requirement already satisfied: requests-oauthlib>=0.7.0 in /usr/local/lib/python3.7/dist-packages (from tweepy>=3.7.0->konlpy) (1.3.0)\n",
      "Requirement already satisfied: oauthlib>=3.0.0 in /usr/local/lib/python3.7/dist-packages (from requests-oauthlib>=0.7.0->tweepy>=3.7.0->konlpy) (3.1.1)\n",
      "Requirement already satisfied: idna<3,>=2.5 in /usr/local/lib/python3.7/dist-packages (from requests[socks]>=2.11.1->tweepy>=3.7.0->konlpy) (2.10)\n",
      "Requirement already satisfied: urllib3!=1.25.0,!=1.25.1,<1.26,>=1.21.1 in /usr/local/lib/python3.7/dist-packages (from requests[socks]>=2.11.1->tweepy>=3.7.0->konlpy) (1.24.3)\n",
      "Requirement already satisfied: chardet<4,>=3.0.2 in /usr/local/lib/python3.7/dist-packages (from requests[socks]>=2.11.1->tweepy>=3.7.0->konlpy) (3.0.4)\n",
      "Requirement already satisfied: certifi>=2017.4.17 in /usr/local/lib/python3.7/dist-packages (from requests[socks]>=2.11.1->tweepy>=3.7.0->konlpy) (2021.10.8)\n",
      "Requirement already satisfied: PySocks!=1.5.7,>=1.5.6 in /usr/local/lib/python3.7/dist-packages (from requests[socks]>=2.11.1->tweepy>=3.7.0->konlpy) (1.7.1)\n",
      "Installing collected packages: JPype1, colorama, beautifulsoup4, konlpy\n",
      "  Attempting uninstall: beautifulsoup4\n",
      "    Found existing installation: beautifulsoup4 4.6.3\n",
      "    Uninstalling beautifulsoup4-4.6.3:\n",
      "      Successfully uninstalled beautifulsoup4-4.6.3\n",
      "Successfully installed JPype1-1.3.0 beautifulsoup4-4.6.0 colorama-0.4.4 konlpy-0.5.2\n"
     ]
    }
   ],
   "source": [
    "!pip install konlpy"
   ]
  },
  {
   "cell_type": "code",
   "execution_count": 8,
   "metadata": {
    "executionInfo": {
     "elapsed": 2631,
     "status": "ok",
     "timestamp": 1638158188164,
     "user": {
      "displayName": "Yongjin Jeong",
      "photoUrl": "https://lh3.googleusercontent.com/a/default-user=s64",
      "userId": "03658406798560557048"
     },
     "user_tz": -540
    },
    "id": "vUusS2vgZ_Zx"
   },
   "outputs": [],
   "source": [
    "# 패키지 설치\n",
    "import konlpy\n",
    "import pandas as pd\n",
    "import numpy as np\n",
    "from konlpy.tag import Twitter # Okt\n",
    "from sklearn.feature_extraction.text import TfidfVectorizer\n",
    "from tensorflow.keras.models import Sequential\n",
    "from tensorflow.keras.layers import Dense, Dropout, Activation\n",
    "from sklearn import model_selection, metrics\n",
    "\n",
    "# 토큰 파서(품사별)\n",
    "def twitter_tokenizer(text):\n",
    "    return Twitter().morphs(text)"
   ]
  },
  {
   "cell_type": "code",
   "execution_count": 12,
   "metadata": {
    "colab": {
     "base_uri": "https://localhost:8080/"
    },
    "executionInfo": {
     "elapsed": 8151,
     "status": "ok",
     "timestamp": 1638158231846,
     "user": {
      "displayName": "Yongjin Jeong",
      "photoUrl": "https://lh3.googleusercontent.com/a/default-user=s64",
      "userId": "03658406798560557048"
     },
     "user_tz": -540
    },
    "id": "PYD7eARjMZ7d",
    "outputId": "7a591389-ee6d-4e7c-ca25-fa69825446fa"
   },
   "outputs": [
    {
     "name": "stderr",
     "output_type": "stream",
     "text": [
      "/usr/local/lib/python3.7/dist-packages/konlpy/tag/_okt.py:16: UserWarning: \"Twitter\" has changed to \"Okt\" since KoNLPy v0.4.5.\n",
      "  warn('\"Twitter\" has changed to \"Okt\" since KoNLPy v0.4.5.')\n"
     ]
    },
    {
     "data": {
      "text/plain": [
       "['Welcome',\n",
       " 'to',\n",
       " 'data',\n",
       " 'science',\n",
       " 'world',\n",
       " '!...',\n",
       " '한국말',\n",
       " '도',\n",
       " '똑',\n",
       " '같아요',\n",
       " '...']"
      ]
     },
     "execution_count": 12,
     "metadata": {},
     "output_type": "execute_result"
    }
   ],
   "source": [
    "twitter_tokenizer(\"Welcome to data science world!...한국말도 똑 같아요...\")"
   ]
  },
  {
   "cell_type": "code",
   "execution_count": 11,
   "metadata": {
    "colab": {
     "base_uri": "https://localhost:8080/"
    },
    "executionInfo": {
     "elapsed": 2566,
     "status": "ok",
     "timestamp": 1638158217364,
     "user": {
      "displayName": "Yongjin Jeong",
      "photoUrl": "https://lh3.googleusercontent.com/a/default-user=s64",
      "userId": "03658406798560557048"
     },
     "user_tz": -540
    },
    "id": "R0svk5kdfrBs",
    "outputId": "e31f1a59-669d-4265-d99e-4d941ffc6a51"
   },
   "outputs": [
    {
     "name": "stdout",
     "output_type": "stream",
     "text": [
      "  % Total    % Received % Xferd  Average Speed   Time    Time     Time  Current\n",
      "                                 Dload  Upload   Total   Spent    Left  Speed\n",
      "100   152  100   152    0     0   1831      0 --:--:-- --:--:-- --:--:--  1831\n",
      "100   148    0   148    0     0    452      0 --:--:-- --:--:-- --:--:--   452\n",
      "100   318  100   318    0     0    624      0 --:--:-- --:--:-- --:--:--  1939\n",
      "100 14.0M  100 14.0M    0     0  12.5M      0  0:00:01  0:00:01 --:--:-- 12.5M\n",
      "  % Total    % Received % Xferd  Average Speed   Time    Time     Time  Current\n",
      "                                 Dload  Upload   Total   Spent    Left  Speed\n",
      "100   151  100   151    0     0   3081      0 --:--:-- --:--:-- --:--:--  3081\n",
      "100   147    0   147    0     0    578      0 --:--:-- --:--:-- --:--:--   907\n",
      "100   318  100   318    0     0    757      0 --:--:-- --:--:-- --:--:--   757\n",
      "100 4827k  100 4827k    0     0  5510k      0 --:--:-- --:--:-- --:--:-- 5510k\n"
     ]
    }
   ],
   "source": [
    "!curl -L https://bit.ly/2X9Owwr -o ratings_train.txt\n",
    "!curl -L https://bit.ly/2WuLd5I -o ratings_test.txt"
   ]
  },
  {
   "cell_type": "code",
   "execution_count": 13,
   "metadata": {
    "executionInfo": {
     "elapsed": 840,
     "status": "ok",
     "timestamp": 1638158232680,
     "user": {
      "displayName": "Yongjin Jeong",
      "photoUrl": "https://lh3.googleusercontent.com/a/default-user=s64",
      "userId": "03658406798560557048"
     },
     "user_tz": -540
    },
    "id": "yUHPI7zrhcQ-"
   },
   "outputs": [],
   "source": [
    "# 데이터 로드\n",
    "df_train = pd.read_csv('ratings_train.txt', delimiter='\\t', keep_default_na=False)\n",
    "df_test = pd.read_csv('ratings_test.txt', delimiter='\\t', keep_default_na=False)\n"
   ]
  },
  {
   "cell_type": "code",
   "execution_count": 14,
   "metadata": {
    "colab": {
     "base_uri": "https://localhost:8080/",
     "height": 206
    },
    "executionInfo": {
     "elapsed": 54,
     "status": "ok",
     "timestamp": 1638158232681,
     "user": {
      "displayName": "Yongjin Jeong",
      "photoUrl": "https://lh3.googleusercontent.com/a/default-user=s64",
      "userId": "03658406798560557048"
     },
     "user_tz": -540
    },
    "id": "aTYJbZvmheI1",
    "outputId": "82cd6738-8bca-469d-8773-f549ad681544"
   },
   "outputs": [
    {
     "data": {
      "text/html": [
       "<div>\n",
       "<style scoped>\n",
       "    .dataframe tbody tr th:only-of-type {\n",
       "        vertical-align: middle;\n",
       "    }\n",
       "\n",
       "    .dataframe tbody tr th {\n",
       "        vertical-align: top;\n",
       "    }\n",
       "\n",
       "    .dataframe thead th {\n",
       "        text-align: right;\n",
       "    }\n",
       "</style>\n",
       "<table border=\"1\" class=\"dataframe\">\n",
       "  <thead>\n",
       "    <tr style=\"text-align: right;\">\n",
       "      <th></th>\n",
       "      <th>id</th>\n",
       "      <th>document</th>\n",
       "      <th>label</th>\n",
       "    </tr>\n",
       "  </thead>\n",
       "  <tbody>\n",
       "    <tr>\n",
       "      <th>0</th>\n",
       "      <td>9976970</td>\n",
       "      <td>아 더빙.. 진짜 짜증나네요 목소리</td>\n",
       "      <td>0</td>\n",
       "    </tr>\n",
       "    <tr>\n",
       "      <th>1</th>\n",
       "      <td>3819312</td>\n",
       "      <td>흠...포스터보고 초딩영화줄....오버연기조차 가볍지 않구나</td>\n",
       "      <td>1</td>\n",
       "    </tr>\n",
       "    <tr>\n",
       "      <th>2</th>\n",
       "      <td>10265843</td>\n",
       "      <td>너무재밓었다그래서보는것을추천한다</td>\n",
       "      <td>0</td>\n",
       "    </tr>\n",
       "    <tr>\n",
       "      <th>3</th>\n",
       "      <td>9045019</td>\n",
       "      <td>교도소 이야기구먼 ..솔직히 재미는 없다..평점 조정</td>\n",
       "      <td>0</td>\n",
       "    </tr>\n",
       "    <tr>\n",
       "      <th>4</th>\n",
       "      <td>6483659</td>\n",
       "      <td>사이몬페그의 익살스런 연기가 돋보였던 영화!스파이더맨에서 늙어보이기만 했던 커스틴 ...</td>\n",
       "      <td>1</td>\n",
       "    </tr>\n",
       "  </tbody>\n",
       "</table>\n",
       "</div>"
      ],
      "text/plain": [
       "         id                                           document  label\n",
       "0   9976970                                아 더빙.. 진짜 짜증나네요 목소리      0\n",
       "1   3819312                  흠...포스터보고 초딩영화줄....오버연기조차 가볍지 않구나      1\n",
       "2  10265843                                  너무재밓었다그래서보는것을추천한다      0\n",
       "3   9045019                      교도소 이야기구먼 ..솔직히 재미는 없다..평점 조정      0\n",
       "4   6483659  사이몬페그의 익살스런 연기가 돋보였던 영화!스파이더맨에서 늙어보이기만 했던 커스틴 ...      1"
      ]
     },
     "execution_count": 14,
     "metadata": {},
     "output_type": "execute_result"
    }
   ],
   "source": [
    "df_train[:5]"
   ]
  },
  {
   "cell_type": "code",
   "execution_count": 15,
   "metadata": {
    "colab": {
     "base_uri": "https://localhost:8080/",
     "height": 206
    },
    "executionInfo": {
     "elapsed": 45,
     "status": "ok",
     "timestamp": 1638158232681,
     "user": {
      "displayName": "Yongjin Jeong",
      "photoUrl": "https://lh3.googleusercontent.com/a/default-user=s64",
      "userId": "03658406798560557048"
     },
     "user_tz": -540
    },
    "id": "F49W1A3WA1o9",
    "outputId": "3c355139-3704-4b4c-c332-81c93aca1e23"
   },
   "outputs": [
    {
     "data": {
      "text/html": [
       "<div>\n",
       "<style scoped>\n",
       "    .dataframe tbody tr th:only-of-type {\n",
       "        vertical-align: middle;\n",
       "    }\n",
       "\n",
       "    .dataframe tbody tr th {\n",
       "        vertical-align: top;\n",
       "    }\n",
       "\n",
       "    .dataframe thead th {\n",
       "        text-align: right;\n",
       "    }\n",
       "</style>\n",
       "<table border=\"1\" class=\"dataframe\">\n",
       "  <thead>\n",
       "    <tr style=\"text-align: right;\">\n",
       "      <th></th>\n",
       "      <th>id</th>\n",
       "      <th>document</th>\n",
       "      <th>label</th>\n",
       "    </tr>\n",
       "  </thead>\n",
       "  <tbody>\n",
       "    <tr>\n",
       "      <th>0</th>\n",
       "      <td>6270596</td>\n",
       "      <td>굳 ㅋ</td>\n",
       "      <td>1</td>\n",
       "    </tr>\n",
       "    <tr>\n",
       "      <th>1</th>\n",
       "      <td>9274899</td>\n",
       "      <td>GDNTOPCLASSINTHECLUB</td>\n",
       "      <td>0</td>\n",
       "    </tr>\n",
       "    <tr>\n",
       "      <th>2</th>\n",
       "      <td>8544678</td>\n",
       "      <td>뭐야 이 평점들은.... 나쁘진 않지만 10점 짜리는 더더욱 아니잖아</td>\n",
       "      <td>0</td>\n",
       "    </tr>\n",
       "    <tr>\n",
       "      <th>3</th>\n",
       "      <td>6825595</td>\n",
       "      <td>지루하지는 않은데 완전 막장임... 돈주고 보기에는....</td>\n",
       "      <td>0</td>\n",
       "    </tr>\n",
       "    <tr>\n",
       "      <th>4</th>\n",
       "      <td>6723715</td>\n",
       "      <td>3D만 아니었어도 별 다섯 개 줬을텐데.. 왜 3D로 나와서 제 심기를 불편하게 하죠??</td>\n",
       "      <td>0</td>\n",
       "    </tr>\n",
       "  </tbody>\n",
       "</table>\n",
       "</div>"
      ],
      "text/plain": [
       "        id                                           document  label\n",
       "0  6270596                                                굳 ㅋ      1\n",
       "1  9274899                               GDNTOPCLASSINTHECLUB      0\n",
       "2  8544678             뭐야 이 평점들은.... 나쁘진 않지만 10점 짜리는 더더욱 아니잖아      0\n",
       "3  6825595                   지루하지는 않은데 완전 막장임... 돈주고 보기에는....      0\n",
       "4  6723715  3D만 아니었어도 별 다섯 개 줬을텐데.. 왜 3D로 나와서 제 심기를 불편하게 하죠??      0"
      ]
     },
     "execution_count": 15,
     "metadata": {},
     "output_type": "execute_result"
    }
   ],
   "source": [
    "df_test[:5]"
   ]
  },
  {
   "cell_type": "code",
   "execution_count": 16,
   "metadata": {
    "colab": {
     "base_uri": "https://localhost:8080/"
    },
    "executionInfo": {
     "elapsed": 41,
     "status": "ok",
     "timestamp": 1638158232682,
     "user": {
      "displayName": "Yongjin Jeong",
      "photoUrl": "https://lh3.googleusercontent.com/a/default-user=s64",
      "userId": "03658406798560557048"
     },
     "user_tz": -540
    },
    "id": "UKrYF8xLqkSq",
    "outputId": "13f885ae-6183-44f0-d035-bd54bd6bd831"
   },
   "outputs": [
    {
     "data": {
      "text/plain": [
       "array([ True,  True,  True, ...,  True,  True,  True])"
      ]
     },
     "execution_count": 16,
     "metadata": {},
     "output_type": "execute_result"
    }
   ],
   "source": [
    "df_train['document'].values == df_train['document'].to_numpy()"
   ]
  },
  {
   "cell_type": "code",
   "execution_count": 17,
   "metadata": {
    "executionInfo": {
     "elapsed": 33,
     "status": "ok",
     "timestamp": 1638158232682,
     "user": {
      "displayName": "Yongjin Jeong",
      "photoUrl": "https://lh3.googleusercontent.com/a/default-user=s64",
      "userId": "03658406798560557048"
     },
     "user_tz": -540
    },
    "id": "vXK-nf2zbPFf"
   },
   "outputs": [],
   "source": [
    "text_train, y_train = df_train['document'].to_numpy(), df_train['label'].to_numpy()\n",
    "text_test, y_test = df_test['document'].to_numpy(), df_test['label'].to_numpy()"
   ]
  },
  {
   "cell_type": "code",
   "execution_count": null,
   "metadata": {
    "colab": {
     "base_uri": "https://localhost:8080/"
    },
    "executionInfo": {
     "elapsed": 13,
     "status": "ok",
     "timestamp": 1636198477790,
     "user": {
      "displayName": "Yongjin Jeong",
      "photoUrl": "https://lh3.googleusercontent.com/a/default-user=s64",
      "userId": "03658406798560557048"
     },
     "user_tz": -540
    },
    "id": "r3DQGNzQPvDT",
    "outputId": "a53dee8d-899f-4312-a537-b4cd990dea18"
   },
   "outputs": [
    {
     "data": {
      "text/plain": [
       "((150000,), (150000,), (50000,), (50000,))"
      ]
     },
     "execution_count": 19,
     "metadata": {},
     "output_type": "execute_result"
    }
   ],
   "source": [
    "text_train.shape, y_train.shape, text_test.shape, y_test.shape"
   ]
  },
  {
   "cell_type": "code",
   "execution_count": null,
   "metadata": {
    "id": "8DFLqtiMQPqS"
   },
   "outputs": [],
   "source": [
    "# too much... -> let's take few of them\n",
    "text_train, y_train = text_train[:2000], y_train[:2000]\n",
    "text_test, y_test = text_test[:1000], y_test[:1000]"
   ]
  },
  {
   "cell_type": "code",
   "execution_count": null,
   "metadata": {
    "colab": {
     "base_uri": "https://localhost:8080/"
    },
    "executionInfo": {
     "elapsed": 11,
     "status": "ok",
     "timestamp": 1636198477790,
     "user": {
      "displayName": "Yongjin Jeong",
      "photoUrl": "https://lh3.googleusercontent.com/a/default-user=s64",
      "userId": "03658406798560557048"
     },
     "user_tz": -540
    },
    "id": "5rpWKybsuFXX",
    "outputId": "8f7af7a2-fd28-46ac-8c93-c8f013272546"
   },
   "outputs": [
    {
     "data": {
      "text/plain": [
       "((2000,), (1000,))"
      ]
     },
     "execution_count": 21,
     "metadata": {},
     "output_type": "execute_result"
    }
   ],
   "source": [
    "y_train.shape, y_test.shape"
   ]
  },
  {
   "cell_type": "code",
   "execution_count": null,
   "metadata": {
    "colab": {
     "base_uri": "https://localhost:8080/"
    },
    "executionInfo": {
     "elapsed": 10,
     "status": "ok",
     "timestamp": 1636198477791,
     "user": {
      "displayName": "Yongjin Jeong",
      "photoUrl": "https://lh3.googleusercontent.com/a/default-user=s64",
      "userId": "03658406798560557048"
     },
     "user_tz": -540
    },
    "id": "Gmv2-UsduKM_",
    "outputId": "d57ed791-5834-432e-beaa-cad62f7099d4"
   },
   "outputs": [
    {
     "data": {
      "text/plain": [
       "(0.4945, 0.508)"
      ]
     },
     "execution_count": 22,
     "metadata": {},
     "output_type": "execute_result"
    }
   ],
   "source": [
    "y_train.mean(), y_test.mean()    # check distribution of classes 1 and 0"
   ]
  },
  {
   "cell_type": "code",
   "execution_count": null,
   "metadata": {
    "colab": {
     "base_uri": "https://localhost:8080/"
    },
    "executionInfo": {
     "elapsed": 13692,
     "status": "ok",
     "timestamp": 1636198491474,
     "user": {
      "displayName": "Yongjin Jeong",
      "photoUrl": "https://lh3.googleusercontent.com/a/default-user=s64",
      "userId": "03658406798560557048"
     },
     "user_tz": -540
    },
    "id": "mV7O1GW9uXJN",
    "outputId": "52ed2f6a-ee97-4fe1-b854-b431db5d8592"
   },
   "outputs": [
    {
     "name": "stderr",
     "output_type": "stream",
     "text": [
      "/usr/local/lib/python3.7/dist-packages/konlpy/tag/_okt.py:16: UserWarning: \"Twitter\" has changed to \"Okt\" since KoNLPy v0.4.5.\n",
      "  warn('\"Twitter\" has changed to \"Okt\" since KoNLPy v0.4.5.')\n",
      "/usr/local/lib/python3.7/dist-packages/konlpy/tag/_okt.py:16: UserWarning: \"Twitter\" has changed to \"Okt\" since KoNLPy v0.4.5.\n",
      "  warn('\"Twitter\" has changed to \"Okt\" since KoNLPy v0.4.5.')\n"
     ]
    }
   ],
   "source": [
    "cv = TfidfVectorizer(tokenizer=twitter_tokenizer, max_features=3000)\n",
    "X_train = cv.fit_transform(text_train)\n",
    "X_test = cv.transform(text_test) # cv.fit_transform(text_test) (X)"
   ]
  },
  {
   "cell_type": "code",
   "execution_count": null,
   "metadata": {
    "colab": {
     "base_uri": "https://localhost:8080/"
    },
    "executionInfo": {
     "elapsed": 11,
     "status": "ok",
     "timestamp": 1636198491475,
     "user": {
      "displayName": "Yongjin Jeong",
      "photoUrl": "https://lh3.googleusercontent.com/a/default-user=s64",
      "userId": "03658406798560557048"
     },
     "user_tz": -540
    },
    "id": "OQa7k9WDnvMC",
    "outputId": "614aca3b-f2fa-4212-cd13-b922ed9d0873"
   },
   "outputs": [
    {
     "data": {
      "text/plain": [
       "((2000, 3000), (2000,), (1000, 3000), (1000,))"
      ]
     },
     "execution_count": 24,
     "metadata": {},
     "output_type": "execute_result"
    }
   ],
   "source": [
    "X_train.shape, y_train.shape, X_test.shape, y_test.shape"
   ]
  },
  {
   "cell_type": "code",
   "execution_count": null,
   "metadata": {
    "colab": {
     "base_uri": "https://localhost:8080/"
    },
    "executionInfo": {
     "elapsed": 8,
     "status": "ok",
     "timestamp": 1636198491475,
     "user": {
      "displayName": "Yongjin Jeong",
      "photoUrl": "https://lh3.googleusercontent.com/a/default-user=s64",
      "userId": "03658406798560557048"
     },
     "user_tz": -540
    },
    "id": "ZNtFJNw_xMIE",
    "outputId": "0e4aca9a-c5df-488f-8185-17ec8343c565"
   },
   "outputs": [
    {
     "data": {
      "text/plain": [
       "['힘들건데', '힘들게', '힘들다', '힘들었네요', '힘들었음']"
      ]
     },
     "execution_count": 25,
     "metadata": {},
     "output_type": "execute_result"
    }
   ],
   "source": [
    "cv.get_feature_names()[-5:]"
   ]
  },
  {
   "cell_type": "markdown",
   "metadata": {
    "id": "GuZAXYBCuspQ"
   },
   "source": [
    "## Linear Classification"
   ]
  },
  {
   "cell_type": "code",
   "execution_count": null,
   "metadata": {
    "colab": {
     "base_uri": "https://localhost:8080/"
    },
    "executionInfo": {
     "elapsed": 8,
     "status": "ok",
     "timestamp": 1636198491476,
     "user": {
      "displayName": "Yongjin Jeong",
      "photoUrl": "https://lh3.googleusercontent.com/a/default-user=s64",
      "userId": "03658406798560557048"
     },
     "user_tz": -540
    },
    "id": "T80YGTWQuvg3",
    "outputId": "a43fd36b-a837-436e-c15b-46289a4ba764"
   },
   "outputs": [
    {
     "name": "stdout",
     "output_type": "stream",
     "text": [
      "Training :  0.985\n",
      "Testing :  0.739\n"
     ]
    }
   ],
   "source": [
    "from sklearn.linear_model import SGDClassifier\n",
    "clf = SGDClassifier()\n",
    "result = clf.fit(X_train,y_train)\n",
    "feature_names = cv.get_feature_names()\n",
    "print(\"Training : \", result.score(X_train, y_train))\n",
    "print(\"Testing : \", result.score(X_test, y_test))"
   ]
  },
  {
   "cell_type": "markdown",
   "metadata": {
    "id": "1xCm3OMurqM2"
   },
   "source": [
    "## Logistic Regression"
   ]
  },
  {
   "cell_type": "code",
   "execution_count": null,
   "metadata": {
    "colab": {
     "base_uri": "https://localhost:8080/"
    },
    "executionInfo": {
     "elapsed": 6,
     "status": "ok",
     "timestamp": 1636198491476,
     "user": {
      "displayName": "Yongjin Jeong",
      "photoUrl": "https://lh3.googleusercontent.com/a/default-user=s64",
      "userId": "03658406798560557048"
     },
     "user_tz": -540
    },
    "id": "z2nXu2qirWn-",
    "outputId": "760ab785-96b1-4270-fd3d-e336bd6f1f7e"
   },
   "outputs": [
    {
     "name": "stdout",
     "output_type": "stream",
     "text": [
      "Training :  0.916\n",
      "Testing :  0.771\n"
     ]
    }
   ],
   "source": [
    "from sklearn.linear_model import LogisticRegression\n",
    "lr = LogisticRegression()\n",
    "result = lr.fit(X_train,y_train)\n",
    "feature_names = cv.get_feature_names()\n",
    "print(\"Training : \", result.score(X_train, y_train))\n",
    "print(\"Testing : \", result.score(X_test, y_test))"
   ]
  },
  {
   "cell_type": "markdown",
   "metadata": {
    "id": "FVjDfOWKrnGG"
   },
   "source": [
    "## MLP"
   ]
  },
  {
   "cell_type": "code",
   "execution_count": null,
   "metadata": {
    "id": "qcOzFAiRIz3t"
   },
   "outputs": [],
   "source": [
    "# use one-hot encoded target (2 multi-class classification)\n",
    "from tensorflow.keras.utils import to_categorical\n",
    "y_train_ohe = to_categorical(y_train)\n",
    "y_test_ohe = to_categorical(y_test)\n",
    "max_words = X_train.shape[1]\n",
    "batch_size = 100\n",
    "nb_epoch = 5\n",
    "\n",
    "model = Sequential()\n",
    "model.add(Dense(64, input_shape=(max_words,), activation=\"relu\"))\n",
    "model.add(Dropout(0.2))\n",
    "model.add(Dense(64, activation=\"relu\"))\n",
    "model.add(Dropout(0.2))\n",
    "model.add(Dense(2, activation='softmax'))\n",
    "model.compile(loss='categorical_crossentropy', optimizer='adam',\n",
    "              metrics=['accuracy'])\n",
    "\n",
    "model.fit(X_train.toarray(), y_train_ohe, epochs=nb_epoch, \n",
    "          batch_size=batch_size) \n",
    "print(\"Training : \", model.evaluate(X_train.toarray(), y_train_ohe))\n",
    "print(\"Testing : \", model.evaluate(X_test.toarray(), y_test_ohe))"
   ]
  },
  {
   "cell_type": "code",
   "execution_count": null,
   "metadata": {
    "colab": {
     "base_uri": "https://localhost:8080/"
    },
    "executionInfo": {
     "elapsed": 2161,
     "status": "ok",
     "timestamp": 1636198505846,
     "user": {
      "displayName": "Yongjin Jeong",
      "photoUrl": "https://lh3.googleusercontent.com/a/default-user=s64",
      "userId": "03658406798560557048"
     },
     "user_tz": -540
    },
    "id": "vkSVmHKIWpSA",
    "outputId": "8b1d34b5-0018-4f63-d5e5-079b214dcf9d"
   },
   "outputs": [
    {
     "name": "stdout",
     "output_type": "stream",
     "text": [
      "Epoch 1/5\n",
      "20/20 [==============================] - 1s 3ms/step - loss: 0.6910 - accuracy: 0.5560\n",
      "Epoch 2/5\n",
      "20/20 [==============================] - 0s 3ms/step - loss: 0.6697 - accuracy: 0.7800\n",
      "Epoch 3/5\n",
      "20/20 [==============================] - 0s 4ms/step - loss: 0.5963 - accuracy: 0.8635\n",
      "Epoch 4/5\n",
      "20/20 [==============================] - 0s 3ms/step - loss: 0.4505 - accuracy: 0.8945\n",
      "Epoch 5/5\n",
      "20/20 [==============================] - 0s 3ms/step - loss: 0.2864 - accuracy: 0.9310\n",
      "63/63 [==============================] - 1s 3ms/step - loss: 0.2006 - accuracy: 0.9540\n",
      "Training :  [0.20061413943767548, 0.9539999961853027]\n",
      "32/32 [==============================] - 0s 3ms/step - loss: 0.4924 - accuracy: 0.7530\n",
      "Testing :  [0.4923769235610962, 0.753000020980835]\n"
     ]
    }
   ],
   "source": [
    "# use binary target (binary classifiaction)\n",
    "max_words = X_train.shape[1]\n",
    "batch_size = 100\n",
    "nb_epoch = 5\n",
    "\n",
    "model = Sequential()\n",
    "model.add(Dense(64, input_shape=(max_words,)))\n",
    "model.add(Activation('relu'))\n",
    "model.add(Dropout(0.2))\n",
    "model.add(Dense(64, activation=\"relu\"))\n",
    "model.add(Dropout(0.2))\n",
    "model.add(Dense(1, activation='sigmoid'))\n",
    "model.compile(loss='binary_crossentropy', optimizer='adam',\n",
    "              metrics=['accuracy'])\n",
    "\n",
    "model.fit(X_train.toarray(), y_train, epochs=nb_epoch, \n",
    "          batch_size=batch_size) \n",
    "print(\"Training : \", model.evaluate(X_train.toarray(), y_train))\n",
    "print(\"Testing : \", model.evaluate(X_test.toarray(), y_test))"
   ]
  },
  {
   "cell_type": "markdown",
   "metadata": {
    "id": "HPxkhfIbrj3s"
   },
   "source": [
    "## RNN"
   ]
  },
  {
   "cell_type": "code",
   "execution_count": null,
   "metadata": {
    "colab": {
     "base_uri": "https://localhost:8080/"
    },
    "executionInfo": {
     "elapsed": 9,
     "status": "ok",
     "timestamp": 1636198505846,
     "user": {
      "displayName": "Yongjin Jeong",
      "photoUrl": "https://lh3.googleusercontent.com/a/default-user=s64",
      "userId": "03658406798560557048"
     },
     "user_tz": -540
    },
    "id": "FO0oSWc6uuqZ",
    "outputId": "c4f28b07-f9ee-44c0-d19b-616490c4e6e4"
   },
   "outputs": [
    {
     "data": {
      "text/plain": [
       "array([ True,  True,  True, ...,  True,  True,  True])"
      ]
     },
     "execution_count": 30,
     "metadata": {},
     "output_type": "execute_result"
    }
   ],
   "source": [
    "# just for checking\n",
    "X_train.A[0] == X_train.toarray()[0]"
   ]
  },
  {
   "cell_type": "code",
   "execution_count": null,
   "metadata": {
    "colab": {
     "base_uri": "https://localhost:8080/"
    },
    "executionInfo": {
     "elapsed": 5,
     "status": "ok",
     "timestamp": 1636198505847,
     "user": {
      "displayName": "Yongjin Jeong",
      "photoUrl": "https://lh3.googleusercontent.com/a/default-user=s64",
      "userId": "03658406798560557048"
     },
     "user_tz": -540
    },
    "id": "XrnHPa9-ZjMv",
    "outputId": "7c370d4b-570a-4615-db3b-a03d1b6e3009"
   },
   "outputs": [
    {
     "data": {
      "text/plain": [
       "((2000, 3000), (1000, 3000), (2000,), (1000,))"
      ]
     },
     "execution_count": 31,
     "metadata": {},
     "output_type": "execute_result"
    }
   ],
   "source": [
    "X_train.shape, X_test.shape, y_train.shape, y_test.shape"
   ]
  },
  {
   "cell_type": "code",
   "execution_count": null,
   "metadata": {
    "colab": {
     "base_uri": "https://localhost:8080/"
    },
    "executionInfo": {
     "elapsed": 4,
     "status": "ok",
     "timestamp": 1636198505847,
     "user": {
      "displayName": "Yongjin Jeong",
      "photoUrl": "https://lh3.googleusercontent.com/a/default-user=s64",
      "userId": "03658406798560557048"
     },
     "user_tz": -540
    },
    "id": "6CniODJt9RSV",
    "outputId": "144763f8-782e-46b5-bdcc-2a30d1d41c54"
   },
   "outputs": [
    {
     "name": "stdout",
     "output_type": "stream",
     "text": [
      "(2000, 1, 3000) (1000, 1, 3000)\n"
     ]
    }
   ],
   "source": [
    "# RNN 학습을 위한 데이터 재배열\n",
    "X_train_rnn = X_train.A.reshape((X_train.shape[0], 1, X_train.shape[1]))\n",
    "X_test_rnn = X_test.A.reshape((X_test.shape[0], 1, X_test.shape[1]))\n",
    "\n",
    "print(X_train_rnn.shape, X_test_rnn.shape)"
   ]
  },
  {
   "cell_type": "code",
   "execution_count": null,
   "metadata": {
    "id": "RcczPT0RnZBj"
   },
   "outputs": [],
   "source": [
    "from tensorflow.keras.models import Sequential\n",
    "from tensorflow.keras.layers import SimpleRNN, Dense\n",
    "\n",
    "model = Sequential()\n",
    "model.add(SimpleRNN(128, \n",
    "                    input_shape=(X_train_rnn.shape[1], X_train_rnn.shape[2]), \n",
    "                    return_sequences=True))\n",
    "# return_sequences: return the last output in the output sequence, or the full sequence\n",
    "# By this, it is possible to access the hidden state output for each input time step.\n",
    "model.add(Activation('relu'))\n",
    "model.add(Dropout(0.2))\n",
    "model.add(SimpleRNN(128))\n",
    "model.add(Activation('relu'))\n",
    "model.add(Dropout(0.2))\n",
    "model.add(Dense(2, activation=\"softmax\"))\n",
    "model.compile(loss='categorical_crossentropy', \n",
    "              optimizer='adam', metrics=['accuracy'])   "
   ]
  },
  {
   "cell_type": "code",
   "execution_count": null,
   "metadata": {
    "colab": {
     "base_uri": "https://localhost:8080/"
    },
    "executionInfo": {
     "elapsed": 7,
     "status": "ok",
     "timestamp": 1636198507041,
     "user": {
      "displayName": "Yongjin Jeong",
      "photoUrl": "https://lh3.googleusercontent.com/a/default-user=s64",
      "userId": "03658406798560557048"
     },
     "user_tz": -540
    },
    "id": "khpbDJzeviTx",
    "outputId": "563850e5-7769-4944-e98b-85aaff7989a3"
   },
   "outputs": [
    {
     "name": "stdout",
     "output_type": "stream",
     "text": [
      "Model: \"sequential_2\"\n",
      "_________________________________________________________________\n",
      "Layer (type)                 Output Shape              Param #   \n",
      "=================================================================\n",
      "simple_rnn (SimpleRNN)       (None, 1, 128)            400512    \n",
      "_________________________________________________________________\n",
      "activation_1 (Activation)    (None, 1, 128)            0         \n",
      "_________________________________________________________________\n",
      "dropout_4 (Dropout)          (None, 1, 128)            0         \n",
      "_________________________________________________________________\n",
      "simple_rnn_1 (SimpleRNN)     (None, 128)               32896     \n",
      "_________________________________________________________________\n",
      "activation_2 (Activation)    (None, 128)               0         \n",
      "_________________________________________________________________\n",
      "dropout_5 (Dropout)          (None, 128)               0         \n",
      "_________________________________________________________________\n",
      "dense_6 (Dense)              (None, 2)                 258       \n",
      "=================================================================\n",
      "Total params: 433,666\n",
      "Trainable params: 433,666\n",
      "Non-trainable params: 0\n",
      "_________________________________________________________________\n"
     ]
    }
   ],
   "source": [
    "model.summary()"
   ]
  },
  {
   "cell_type": "code",
   "execution_count": null,
   "metadata": {
    "colab": {
     "base_uri": "https://localhost:8080/"
    },
    "executionInfo": {
     "elapsed": 2673,
     "status": "ok",
     "timestamp": 1636198509710,
     "user": {
      "displayName": "Yongjin Jeong",
      "photoUrl": "https://lh3.googleusercontent.com/a/default-user=s64",
      "userId": "03658406798560557048"
     },
     "user_tz": -540
    },
    "id": "Xyg_34khnY-z",
    "outputId": "92ef240c-1925-4a7b-db4f-9ca5711d2cf0"
   },
   "outputs": [
    {
     "name": "stdout",
     "output_type": "stream",
     "text": [
      "Epoch 1/5\n",
      "20/20 [==============================] - 2s 24ms/step - loss: 0.6887 - accuracy: 0.5465\n",
      "Epoch 2/5\n",
      "20/20 [==============================] - 0s 6ms/step - loss: 0.6325 - accuracy: 0.7965\n",
      "Epoch 3/5\n",
      "20/20 [==============================] - 0s 6ms/step - loss: 0.4334 - accuracy: 0.8890\n",
      "Epoch 4/5\n",
      "20/20 [==============================] - 0s 6ms/step - loss: 0.2157 - accuracy: 0.9240\n",
      "Epoch 5/5\n",
      "20/20 [==============================] - 0s 7ms/step - loss: 0.1026 - accuracy: 0.9690\n"
     ]
    },
    {
     "data": {
      "text/plain": [
       "<keras.callbacks.History at 0x7f174c21f3d0>"
      ]
     },
     "execution_count": 35,
     "metadata": {},
     "output_type": "execute_result"
    }
   ],
   "source": [
    "model.fit(X_train_rnn, y_train_ohe, batch_size = 100,\n",
    "          epochs=nb_epoch)"
   ]
  },
  {
   "cell_type": "code",
   "execution_count": null,
   "metadata": {
    "colab": {
     "base_uri": "https://localhost:8080/"
    },
    "executionInfo": {
     "elapsed": 2666,
     "status": "ok",
     "timestamp": 1636198512369,
     "user": {
      "displayName": "Yongjin Jeong",
      "photoUrl": "https://lh3.googleusercontent.com/a/default-user=s64",
      "userId": "03658406798560557048"
     },
     "user_tz": -540
    },
    "id": "MVlbejnyAKvF",
    "outputId": "e4eb9ad1-efae-45b2-e66c-69e50db0083f"
   },
   "outputs": [
    {
     "name": "stdout",
     "output_type": "stream",
     "text": [
      "accuracy score:  0.765\n",
      "63/63 [==============================] - 1s 4ms/step - loss: 0.0617 - accuracy: 0.9870\n",
      "Training :  [0.061724983155727386, 0.9869999885559082]\n",
      "32/32 [==============================] - 0s 3ms/step - loss: 0.5956 - accuracy: 0.7650\n",
      "Testing :  [0.5956090688705444, 0.7649999856948853]\n"
     ]
    }
   ],
   "source": [
    "y_pred = np.argmax(model.predict(X_test_rnn), axis=1)\n",
    "print(\"accuracy score: \", metrics.accuracy_score(y_test, y_pred))\n",
    "print(\"Training : \", model.evaluate(X_train_rnn, y_train_ohe))\n",
    "print(\"Testing : \", model.evaluate(X_test_rnn, y_test_ohe))"
   ]
  },
  {
   "cell_type": "markdown",
   "metadata": {
    "id": "D932OfhL4tsv"
   },
   "source": [
    "## LSTM\n",
    "- https://colah.github.io/posts/2015-08-Understanding-LSTMs/"
   ]
  },
  {
   "cell_type": "code",
   "execution_count": null,
   "metadata": {
    "id": "1DMmgcPpnY7_"
   },
   "outputs": [],
   "source": [
    "from keras.layers import LSTM\n",
    "model = Sequential()\n",
    "model.add(LSTM(128, \n",
    "               input_shape=(X_train_rnn.shape[1], X_train_rnn.shape[2]), \n",
    "               return_sequences=True))\n",
    "model.add(Activation('relu'))\n",
    "model.add(Dropout(0.2))\n",
    "model.add(LSTM(128))\n",
    "model.add(Activation('relu'))\n",
    "model.add(Dropout(0.2))\n",
    "model.add(Dense(2, activation='softmax'))\n",
    "model.compile(loss='categorical_crossentropy', optimizer='adam', metrics=['accuracy'])"
   ]
  },
  {
   "cell_type": "code",
   "execution_count": null,
   "metadata": {
    "colab": {
     "base_uri": "https://localhost:8080/"
    },
    "executionInfo": {
     "elapsed": 7158,
     "status": "ok",
     "timestamp": 1636198520422,
     "user": {
      "displayName": "Yongjin Jeong",
      "photoUrl": "https://lh3.googleusercontent.com/a/default-user=s64",
      "userId": "03658406798560557048"
     },
     "user_tz": -540
    },
    "id": "1_lAhezqnY1b",
    "outputId": "a5bab216-a548-4329-8fdd-cc6a9f5b8828"
   },
   "outputs": [
    {
     "name": "stdout",
     "output_type": "stream",
     "text": [
      "Epoch 1/5\n",
      "20/20 [==============================] - 6s 10ms/step - loss: 0.6931 - accuracy: 0.5375\n",
      "Epoch 2/5\n",
      "20/20 [==============================] - 0s 10ms/step - loss: 0.6903 - accuracy: 0.8005\n",
      "Epoch 3/5\n",
      "20/20 [==============================] - 0s 10ms/step - loss: 0.6703 - accuracy: 0.8725\n",
      "Epoch 4/5\n",
      "20/20 [==============================] - 0s 10ms/step - loss: 0.5868 - accuracy: 0.8930\n",
      "Epoch 5/5\n",
      "20/20 [==============================] - 0s 10ms/step - loss: 0.4041 - accuracy: 0.9105\n"
     ]
    },
    {
     "data": {
      "text/plain": [
       "<keras.callbacks.History at 0x7f174c60d350>"
      ]
     },
     "execution_count": 38,
     "metadata": {},
     "output_type": "execute_result"
    }
   ],
   "source": [
    "model.fit(X_train_rnn, y_train_ohe, batch_size = 100,\n",
    "          epochs=nb_epoch)"
   ]
  },
  {
   "cell_type": "code",
   "execution_count": null,
   "metadata": {
    "colab": {
     "base_uri": "https://localhost:8080/"
    },
    "executionInfo": {
     "elapsed": 4095,
     "status": "ok",
     "timestamp": 1636198524497,
     "user": {
      "displayName": "Yongjin Jeong",
      "photoUrl": "https://lh3.googleusercontent.com/a/default-user=s64",
      "userId": "03658406798560557048"
     },
     "user_tz": -540
    },
    "id": "NuF_snQCnYym",
    "outputId": "fdad3a80-3bf5-4036-e815-ca6db05d4f32"
   },
   "outputs": [
    {
     "name": "stdout",
     "output_type": "stream",
     "text": [
      "accuracy score:  0.774\n",
      "63/63 [==============================] - 1s 5ms/step - loss: 0.2751 - accuracy: 0.9315\n",
      "Training :  [0.27514004707336426, 0.9315000176429749]\n",
      "32/32 [==============================] - 0s 5ms/step - loss: 0.4868 - accuracy: 0.7740\n",
      "Testing :  [0.4867841601371765, 0.7739999890327454]\n"
     ]
    }
   ],
   "source": [
    "y_pred = np.argmax(model.predict(X_test_rnn), axis=1)\n",
    "print(\"accuracy score: \", metrics.accuracy_score(y_test, y_pred))\n",
    "print(\"Training : \", model.evaluate(X_train_rnn, y_train_ohe))\n",
    "print(\"Testing : \", model.evaluate(X_test_rnn, y_test_ohe))"
   ]
  },
  {
   "cell_type": "markdown",
   "metadata": {
    "id": "m31cOdUC46HW"
   },
   "source": [
    "## GRU"
   ]
  },
  {
   "cell_type": "code",
   "execution_count": null,
   "metadata": {
    "id": "E4ny8IcNQvQX"
   },
   "outputs": [],
   "source": [
    "from keras.layers import GRU\n",
    "model = Sequential()\n",
    "model.add(GRU(128, input_shape=(X_train_rnn.shape[1], X_train_rnn.shape[2]), return_sequences=True))\n",
    "model.add(Activation('relu'))\n",
    "model.add(Dropout(0.2))\n",
    "model.add(GRU(128))\n",
    "model.add(Activation('relu'))\n",
    "model.add(Dropout(0.2))\n",
    "model.add(Dense(2, activation='softmax'))\n",
    "model.compile(loss='categorical_crossentropy', optimizer='adam', metrics=['accuracy'])"
   ]
  },
  {
   "cell_type": "code",
   "execution_count": null,
   "metadata": {
    "colab": {
     "base_uri": "https://localhost:8080/"
    },
    "executionInfo": {
     "elapsed": 5957,
     "status": "ok",
     "timestamp": 1636198531069,
     "user": {
      "displayName": "Yongjin Jeong",
      "photoUrl": "https://lh3.googleusercontent.com/a/default-user=s64",
      "userId": "03658406798560557048"
     },
     "user_tz": -540
    },
    "id": "36JZepib5BUG",
    "outputId": "8057529b-c7b2-4f51-a465-ef3d4f7c2246"
   },
   "outputs": [
    {
     "name": "stdout",
     "output_type": "stream",
     "text": [
      "Epoch 1/5\n",
      "20/20 [==============================] - 4s 10ms/step - loss: 0.6921 - accuracy: 0.5170\n",
      "Epoch 2/5\n",
      "20/20 [==============================] - 0s 10ms/step - loss: 0.6716 - accuracy: 0.7150\n",
      "Epoch 3/5\n",
      "20/20 [==============================] - 0s 10ms/step - loss: 0.5628 - accuracy: 0.8495\n",
      "Epoch 4/5\n",
      "20/20 [==============================] - 0s 11ms/step - loss: 0.3357 - accuracy: 0.9130\n",
      "Epoch 5/5\n",
      "20/20 [==============================] - 0s 10ms/step - loss: 0.1801 - accuracy: 0.9390\n"
     ]
    },
    {
     "data": {
      "text/plain": [
       "<keras.callbacks.History at 0x7f1749542e10>"
      ]
     },
     "execution_count": 41,
     "metadata": {},
     "output_type": "execute_result"
    }
   ],
   "source": [
    "model.fit(X_train_rnn, y_train_ohe, batch_size = 100,\n",
    "          epochs=nb_epoch)"
   ]
  },
  {
   "cell_type": "code",
   "execution_count": null,
   "metadata": {
    "colab": {
     "base_uri": "https://localhost:8080/"
    },
    "executionInfo": {
     "elapsed": 3358,
     "status": "ok",
     "timestamp": 1636198534419,
     "user": {
      "displayName": "Yongjin Jeong",
      "photoUrl": "https://lh3.googleusercontent.com/a/default-user=s64",
      "userId": "03658406798560557048"
     },
     "user_tz": -540
    },
    "id": "4DDCYicE5i11",
    "outputId": "1a3881c8-c846-4d7b-d065-55d28600afc3"
   },
   "outputs": [
    {
     "name": "stdout",
     "output_type": "stream",
     "text": [
      "accuracy score:  0.766\n",
      "63/63 [==============================] - 1s 5ms/step - loss: 0.1123 - accuracy: 0.9670\n",
      "Training :  [0.11229105293750763, 0.9670000076293945]\n",
      "32/32 [==============================] - 0s 5ms/step - loss: 0.5520 - accuracy: 0.7660\n",
      "Testing :  [0.552036702632904, 0.765999972820282]\n"
     ]
    }
   ],
   "source": [
    "y_pred = np.argmax(model.predict(X_test_rnn), axis=1)\n",
    "print(\"accuracy score: \", metrics.accuracy_score(y_test, y_pred))\n",
    "print(\"Training : \", model.evaluate(X_train_rnn, y_train_ohe))\n",
    "print(\"Testing : \", model.evaluate(X_test_rnn, y_test_ohe))"
   ]
  },
  {
   "cell_type": "markdown",
   "metadata": {
    "id": "f3aEgdk_ERG7"
   },
   "source": [
    "## Exercise"
   ]
  },
  {
   "cell_type": "markdown",
   "metadata": {
    "id": "2tlsGoCFEckK"
   },
   "source": [
    "### 한국어 불용어 처리\n",
    "- 한국어  불용어 확인은 형태소 분석 라이브러리인 KonLPy 를 이용하면 됨.\n",
    "- (예) 한국어 품사 중 조사를 추출하는 예\n",
    "- pos (part-of-speech): 품사 (명사, 동사, ...)"
   ]
  },
  {
   "cell_type": "code",
   "execution_count": null,
   "metadata": {
    "id": "dClfCoqdEVWr"
   },
   "outputs": [],
   "source": [
    "from konlpy.tag import Twitter"
   ]
  },
  {
   "cell_type": "code",
   "execution_count": null,
   "metadata": {
    "colab": {
     "base_uri": "https://localhost:8080/"
    },
    "executionInfo": {
     "elapsed": 2,
     "status": "ok",
     "timestamp": 1636199192644,
     "user": {
      "displayName": "Yongjin Jeong",
      "photoUrl": "https://lh3.googleusercontent.com/a/default-user=s64",
      "userId": "03658406798560557048"
     },
     "user_tz": -540
    },
    "id": "-yeIxkT_EgLL",
    "outputId": "b5bebc22-8d88-441d-9277-db75cf2a5929"
   },
   "outputs": [
    {
     "name": "stderr",
     "output_type": "stream",
     "text": [
      "/usr/local/lib/python3.7/dist-packages/konlpy/tag/_okt.py:16: UserWarning: \"Twitter\" has changed to \"Okt\" since KoNLPy v0.4.5.\n",
      "  warn('\"Twitter\" has changed to \"Okt\" since KoNLPy v0.4.5.')\n"
     ]
    },
    {
     "data": {
      "text/plain": [
       "['텍스트',\n",
       " '데이터',\n",
       " '를',\n",
       " '이용',\n",
       " '해서',\n",
       " '불',\n",
       " '용어',\n",
       " '사전',\n",
       " '을',\n",
       " '구축',\n",
       " '하기',\n",
       " '위',\n",
       " '한',\n",
       " '간단',\n",
       " '예제']"
      ]
     },
     "execution_count": 44,
     "metadata": {},
     "output_type": "execute_result"
    }
   ],
   "source": [
    "Twitter().morphs(\"텍스트 데이터를 이용해서 불용어 사전을 구축하기 위한 간단 예제\")"
   ]
  },
  {
   "cell_type": "code",
   "execution_count": null,
   "metadata": {
    "colab": {
     "base_uri": "https://localhost:8080/"
    },
    "executionInfo": {
     "elapsed": 344,
     "status": "ok",
     "timestamp": 1636199247725,
     "user": {
      "displayName": "Yongjin Jeong",
      "photoUrl": "https://lh3.googleusercontent.com/a/default-user=s64",
      "userId": "03658406798560557048"
     },
     "user_tz": -540
    },
    "id": "18atX5HKExzq",
    "outputId": "ed3f7a2c-6c21-4550-ec33-793af8104c99"
   },
   "outputs": [
    {
     "name": "stderr",
     "output_type": "stream",
     "text": [
      "/usr/local/lib/python3.7/dist-packages/konlpy/tag/_okt.py:16: UserWarning: \"Twitter\" has changed to \"Okt\" since KoNLPy v0.4.5.\n",
      "  warn('\"Twitter\" has changed to \"Okt\" since KoNLPy v0.4.5.')\n"
     ]
    },
    {
     "data": {
      "text/plain": [
       "[('텍스트', 'Noun'),\n",
       " ('데이터', 'Noun'),\n",
       " ('를', 'Josa'),\n",
       " ('이용', 'Noun'),\n",
       " ('해서', 'Verb'),\n",
       " ('불', 'Noun'),\n",
       " ('용어', 'Noun'),\n",
       " ('사잔', 'Noun'),\n",
       " ('을', 'Josa'),\n",
       " ('구축', 'Noun'),\n",
       " ('하기', 'Verb'),\n",
       " ('위', 'Noun'),\n",
       " ('한', 'Josa'),\n",
       " ('간단', 'Noun'),\n",
       " ('예제', 'Noun')]"
      ]
     },
     "execution_count": 45,
     "metadata": {},
     "output_type": "execute_result"
    }
   ],
   "source": [
    "Twitter().pos(\"텍스트 데이터를 이용해서 불용어 사잔을 구축하기 위한 간단 예제\")"
   ]
  },
  {
   "cell_type": "code",
   "execution_count": null,
   "metadata": {
    "colab": {
     "base_uri": "https://localhost:8080/"
    },
    "executionInfo": {
     "elapsed": 534,
     "status": "ok",
     "timestamp": 1636199263151,
     "user": {
      "displayName": "Yongjin Jeong",
      "photoUrl": "https://lh3.googleusercontent.com/a/default-user=s64",
      "userId": "03658406798560557048"
     },
     "user_tz": -540
    },
    "id": "MvUaoyprE13a",
    "outputId": "049eda61-f2c7-42fe-ca0b-e90735fd811e"
   },
   "outputs": [
    {
     "name": "stderr",
     "output_type": "stream",
     "text": [
      "/usr/local/lib/python3.7/dist-packages/konlpy/tag/_okt.py:16: UserWarning: \"Twitter\" has changed to \"Okt\" since KoNLPy v0.4.5.\n",
      "  warn('\"Twitter\" has changed to \"Okt\" since KoNLPy v0.4.5.')\n"
     ]
    },
    {
     "data": {
      "text/plain": [
       "[('텍스트', 'Noun'),\n",
       " ('데이터', 'Noun'),\n",
       " ('를', 'Josa'),\n",
       " ('이용', 'Noun'),\n",
       " ('해서', 'Verb'),\n",
       " ('불', 'Noun'),\n",
       " ('용어', 'Noun'),\n",
       " ('사전', 'Noun'),\n",
       " ('을', 'Josa'),\n",
       " ('구축', 'Noun'),\n",
       " ('하기', 'Verb'),\n",
       " ('위', 'Noun'),\n",
       " ('한', 'Josa'),\n",
       " ('간단', 'Noun'),\n",
       " ('예제', 'Noun')]"
      ]
     },
     "execution_count": 46,
     "metadata": {},
     "output_type": "execute_result"
    }
   ],
   "source": [
    "Twitter().pos(\"텍스트 데이터를 이용해서 불용어 사전을 구축하기 위한 간단 예제\", norm=True)   # norm - 오타 수정 (사잔->사전)"
   ]
  },
  {
   "cell_type": "code",
   "execution_count": null,
   "metadata": {
    "colab": {
     "base_uri": "https://localhost:8080/"
    },
    "executionInfo": {
     "elapsed": 522,
     "status": "ok",
     "timestamp": 1636199277618,
     "user": {
      "displayName": "Yongjin Jeong",
      "photoUrl": "https://lh3.googleusercontent.com/a/default-user=s64",
      "userId": "03658406798560557048"
     },
     "user_tz": -540
    },
    "id": "d1YtWTj3E5ix",
    "outputId": "3432a197-b98d-434b-a791-a7d31129f623"
   },
   "outputs": [
    {
     "name": "stderr",
     "output_type": "stream",
     "text": [
      "/usr/local/lib/python3.7/dist-packages/konlpy/tag/_okt.py:16: UserWarning: \"Twitter\" has changed to \"Okt\" since KoNLPy v0.4.5.\n",
      "  warn('\"Twitter\" has changed to \"Okt\" since KoNLPy v0.4.5.')\n"
     ]
    },
    {
     "data": {
      "text/plain": [
       "['텍스트', '데이터', '이용', '불', '용어', '사전', '구축', '위', '간단', '예제']"
      ]
     },
     "execution_count": 47,
     "metadata": {},
     "output_type": "execute_result"
    }
   ],
   "source": [
    "Twitter().nouns(\"텍스트 데이터를 이용해서 불용어 사전을 구축하기 위한 간단 예제\")"
   ]
  },
  {
   "cell_type": "markdown",
   "metadata": {
    "id": "Cvu-QUmoE9oB"
   },
   "source": [
    "- norm: 오타수정, stem: 어근 찾기"
   ]
  },
  {
   "cell_type": "code",
   "execution_count": null,
   "metadata": {
    "colab": {
     "base_uri": "https://localhost:8080/"
    },
    "executionInfo": {
     "elapsed": 341,
     "status": "ok",
     "timestamp": 1636199311424,
     "user": {
      "displayName": "Yongjin Jeong",
      "photoUrl": "https://lh3.googleusercontent.com/a/default-user=s64",
      "userId": "03658406798560557048"
     },
     "user_tz": -540
    },
    "id": "fv4sweKpE-Rj",
    "outputId": "50bf763e-9189-4d10-dbc2-043ba2f106f1"
   },
   "outputs": [
    {
     "name": "stdout",
     "output_type": "stream",
     "text": [
      "[('텍스트', 'Noun'), ('데이터', 'Noun'), ('를', 'Josa'), ('이용', 'Noun'), ('하다', 'Verb'), ('불', 'Noun'), ('용어', 'Noun'), ('사전', 'Noun'), ('을', 'Josa'), ('구축', 'Noun'), ('하다', 'Verb'), ('위', 'Noun'), ('한', 'Josa'), ('간단', 'Noun'), ('예제', 'Noun')]\n",
      "['를', '을', '한']\n"
     ]
    },
    {
     "name": "stderr",
     "output_type": "stream",
     "text": [
      "/usr/local/lib/python3.7/dist-packages/konlpy/tag/_okt.py:16: UserWarning: \"Twitter\" has changed to \"Okt\" since KoNLPy v0.4.5.\n",
      "  warn('\"Twitter\" has changed to \"Okt\" since KoNLPy v0.4.5.')\n"
     ]
    }
   ],
   "source": [
    "from konlpy.tag import Twitter\n",
    "\n",
    "word_tags = Twitter().pos(\"텍스트 데이터를 이용해서 불용어 사전을 구축하기 위한 간단 예제\", norm=True, stem=True)\n",
    "print(word_tags)\n",
    "stop_words = [word[0] for word in word_tags if word[1]==\"Josa\"]\n",
    "print (stop_words)"
   ]
  },
  {
   "cell_type": "markdown",
   "metadata": {
    "id": "T3PYb_LlFKtz"
   },
   "source": [
    "### Pickling\n",
    "\n",
    "- “Pickling” is the process whereby a Python object hierarchy is converted into a byte stream, and “unpickling” is the inverse operation, whereby a byte stream (from a binary file or bytes-like object) is converted back into an object hierarchy.\n",
    "- Pickling (and unpickling) is alternatively known as “serialization”, “marshalling,” or “flattening”; however, to avoid confusion, the terms “pickling” and “unpickling” are being mostly used.\n",
    "- Comparison with json\n",
    "  - There are fundamental differences between the pickle protocols and JSON (JavaScript Object Notation):\n",
    "\n",
    "  - JSON is a text serialization format (it outputs unicode text, although most of the time it is then encoded to utf-8), while pickle is a binary serialization format;\n",
    "  - JSON is human-readable, while pickle is not;\n",
    "  - JSON is interoperable and widely used outside of the Python ecosystem, while pickle is Python-specific;\n",
    "  - JSON, by default, can only represent a subset of the Python built-in types, and no custom classes; pickle can represent an extremely large number of Python types (many of them automatically, by clever usage of Python’s introspection facilities; complex cases can be tackled by implementing specific object APIs);\n",
    "  - Unlike pickle, deserializing untrusted JSON does not in itself create an arbitrary code execution vulnerability."
   ]
  },
  {
   "cell_type": "code",
   "execution_count": 9,
   "metadata": {
    "executionInfo": {
     "elapsed": 353,
     "status": "ok",
     "timestamp": 1638158193312,
     "user": {
      "displayName": "Yongjin Jeong",
      "photoUrl": "https://lh3.googleusercontent.com/a/default-user=s64",
      "userId": "03658406798560557048"
     },
     "user_tz": -540
    },
    "id": "XwJadYciFqL6"
   },
   "outputs": [],
   "source": [
    "from sklearn.feature_extraction.text import TfidfVectorizer, CountVectorizer\n",
    "cv_ = TfidfVectorizer(tokenizer=twitter_tokenizer, max_features=10)"
   ]
  },
  {
   "cell_type": "code",
   "execution_count": 18,
   "metadata": {
    "colab": {
     "base_uri": "https://localhost:8080/",
     "height": 415
    },
    "executionInfo": {
     "elapsed": 130082,
     "status": "error",
     "timestamp": 1638158369901,
     "user": {
      "displayName": "Yongjin Jeong",
      "photoUrl": "https://lh3.googleusercontent.com/a/default-user=s64",
      "userId": "03658406798560557048"
     },
     "user_tz": -540
    },
    "id": "n0yny8GjFjDa",
    "outputId": "1a6767c1-2c3f-4016-8467-531eb2c55165"
   },
   "outputs": [
    {
     "name": "stdout",
     "output_type": "stream",
     "text": [
      "file does not exists\n"
     ]
    },
    {
     "name": "stderr",
     "output_type": "stream",
     "text": [
      "/usr/local/lib/python3.7/dist-packages/konlpy/tag/_okt.py:16: UserWarning: \"Twitter\" has changed to \"Okt\" since KoNLPy v0.4.5.\n",
      "  warn('\"Twitter\" has changed to \"Okt\" since KoNLPy v0.4.5.')\n"
     ]
    },
    {
     "ename": "KeyboardInterrupt",
     "evalue": "ignored",
     "output_type": "error",
     "traceback": [
      "\u001b[0;31m---------------------------------------------------------------------------\u001b[0m",
      "\u001b[0;31mKeyboardInterrupt\u001b[0m                         Traceback (most recent call last)",
      "\u001b[0;32m<ipython-input-18-fd059d5d6d54>\u001b[0m in \u001b[0;36m<module>\u001b[0;34m()\u001b[0m\n\u001b[1;32m      3\u001b[0m \u001b[0;32mif\u001b[0m \u001b[0;32mnot\u001b[0m \u001b[0mos\u001b[0m\u001b[0;34m.\u001b[0m\u001b[0mpath\u001b[0m\u001b[0;34m.\u001b[0m\u001b[0misfile\u001b[0m\u001b[0;34m(\u001b[0m\u001b[0;34m\"X_data.pickle\"\u001b[0m\u001b[0;34m)\u001b[0m\u001b[0;34m:\u001b[0m\u001b[0;34m\u001b[0m\u001b[0;34m\u001b[0m\u001b[0m\n\u001b[1;32m      4\u001b[0m     \u001b[0mprint\u001b[0m\u001b[0;34m(\u001b[0m\u001b[0;34m'file does not exists'\u001b[0m\u001b[0;34m)\u001b[0m\u001b[0;34m\u001b[0m\u001b[0;34m\u001b[0m\u001b[0m\n\u001b[0;32m----> 5\u001b[0;31m     \u001b[0mX_data_pre\u001b[0m \u001b[0;34m=\u001b[0m \u001b[0mcv_\u001b[0m\u001b[0;34m.\u001b[0m\u001b[0mfit_transform\u001b[0m\u001b[0;34m(\u001b[0m\u001b[0mtext_train\u001b[0m\u001b[0;34m)\u001b[0m\u001b[0;34m\u001b[0m\u001b[0;34m\u001b[0m\u001b[0m\n\u001b[0m\u001b[1;32m      6\u001b[0m     \u001b[0mpickle\u001b[0m\u001b[0;34m.\u001b[0m\u001b[0mdump\u001b[0m\u001b[0;34m(\u001b[0m\u001b[0mX_data_pre\u001b[0m\u001b[0;34m,\u001b[0m \u001b[0mopen\u001b[0m\u001b[0;34m(\u001b[0m\u001b[0;34m\"X_data.pickle\"\u001b[0m\u001b[0;34m,\u001b[0m \u001b[0;34m\"wb\"\u001b[0m\u001b[0;34m)\u001b[0m\u001b[0;34m)\u001b[0m\u001b[0;34m\u001b[0m\u001b[0;34m\u001b[0m\u001b[0m\n",
      "\u001b[0;32m/usr/local/lib/python3.7/dist-packages/sklearn/feature_extraction/text.py\u001b[0m in \u001b[0;36mfit_transform\u001b[0;34m(self, raw_documents, y)\u001b[0m\n\u001b[1;32m   2075\u001b[0m         \"\"\"\n\u001b[1;32m   2076\u001b[0m         \u001b[0mself\u001b[0m\u001b[0;34m.\u001b[0m\u001b[0m_check_params\u001b[0m\u001b[0;34m(\u001b[0m\u001b[0;34m)\u001b[0m\u001b[0;34m\u001b[0m\u001b[0;34m\u001b[0m\u001b[0m\n\u001b[0;32m-> 2077\u001b[0;31m         \u001b[0mX\u001b[0m \u001b[0;34m=\u001b[0m \u001b[0msuper\u001b[0m\u001b[0;34m(\u001b[0m\u001b[0;34m)\u001b[0m\u001b[0;34m.\u001b[0m\u001b[0mfit_transform\u001b[0m\u001b[0;34m(\u001b[0m\u001b[0mraw_documents\u001b[0m\u001b[0;34m)\u001b[0m\u001b[0;34m\u001b[0m\u001b[0;34m\u001b[0m\u001b[0m\n\u001b[0m\u001b[1;32m   2078\u001b[0m         \u001b[0mself\u001b[0m\u001b[0;34m.\u001b[0m\u001b[0m_tfidf\u001b[0m\u001b[0;34m.\u001b[0m\u001b[0mfit\u001b[0m\u001b[0;34m(\u001b[0m\u001b[0mX\u001b[0m\u001b[0;34m)\u001b[0m\u001b[0;34m\u001b[0m\u001b[0;34m\u001b[0m\u001b[0m\n\u001b[1;32m   2079\u001b[0m         \u001b[0;31m# X is already a transformed view of raw_documents so\u001b[0m\u001b[0;34m\u001b[0m\u001b[0;34m\u001b[0m\u001b[0;34m\u001b[0m\u001b[0m\n",
      "\u001b[0;32m/usr/local/lib/python3.7/dist-packages/sklearn/feature_extraction/text.py\u001b[0m in \u001b[0;36mfit_transform\u001b[0;34m(self, raw_documents, y)\u001b[0m\n\u001b[1;32m   1328\u001b[0m                     \u001b[0;32mbreak\u001b[0m\u001b[0;34m\u001b[0m\u001b[0;34m\u001b[0m\u001b[0m\n\u001b[1;32m   1329\u001b[0m \u001b[0;34m\u001b[0m\u001b[0m\n\u001b[0;32m-> 1330\u001b[0;31m         \u001b[0mvocabulary\u001b[0m\u001b[0;34m,\u001b[0m \u001b[0mX\u001b[0m \u001b[0;34m=\u001b[0m \u001b[0mself\u001b[0m\u001b[0;34m.\u001b[0m\u001b[0m_count_vocab\u001b[0m\u001b[0;34m(\u001b[0m\u001b[0mraw_documents\u001b[0m\u001b[0;34m,\u001b[0m \u001b[0mself\u001b[0m\u001b[0;34m.\u001b[0m\u001b[0mfixed_vocabulary_\u001b[0m\u001b[0;34m)\u001b[0m\u001b[0;34m\u001b[0m\u001b[0;34m\u001b[0m\u001b[0m\n\u001b[0m\u001b[1;32m   1331\u001b[0m \u001b[0;34m\u001b[0m\u001b[0m\n\u001b[1;32m   1332\u001b[0m         \u001b[0;32mif\u001b[0m \u001b[0mself\u001b[0m\u001b[0;34m.\u001b[0m\u001b[0mbinary\u001b[0m\u001b[0;34m:\u001b[0m\u001b[0;34m\u001b[0m\u001b[0;34m\u001b[0m\u001b[0m\n",
      "\u001b[0;32m/usr/local/lib/python3.7/dist-packages/sklearn/feature_extraction/text.py\u001b[0m in \u001b[0;36m_count_vocab\u001b[0;34m(self, raw_documents, fixed_vocab)\u001b[0m\n\u001b[1;32m   1199\u001b[0m         \u001b[0;32mfor\u001b[0m \u001b[0mdoc\u001b[0m \u001b[0;32min\u001b[0m \u001b[0mraw_documents\u001b[0m\u001b[0;34m:\u001b[0m\u001b[0;34m\u001b[0m\u001b[0;34m\u001b[0m\u001b[0m\n\u001b[1;32m   1200\u001b[0m             \u001b[0mfeature_counter\u001b[0m \u001b[0;34m=\u001b[0m \u001b[0;34m{\u001b[0m\u001b[0;34m}\u001b[0m\u001b[0;34m\u001b[0m\u001b[0;34m\u001b[0m\u001b[0m\n\u001b[0;32m-> 1201\u001b[0;31m             \u001b[0;32mfor\u001b[0m \u001b[0mfeature\u001b[0m \u001b[0;32min\u001b[0m \u001b[0manalyze\u001b[0m\u001b[0;34m(\u001b[0m\u001b[0mdoc\u001b[0m\u001b[0;34m)\u001b[0m\u001b[0;34m:\u001b[0m\u001b[0;34m\u001b[0m\u001b[0;34m\u001b[0m\u001b[0m\n\u001b[0m\u001b[1;32m   1202\u001b[0m                 \u001b[0;32mtry\u001b[0m\u001b[0;34m:\u001b[0m\u001b[0;34m\u001b[0m\u001b[0;34m\u001b[0m\u001b[0m\n\u001b[1;32m   1203\u001b[0m                     \u001b[0mfeature_idx\u001b[0m \u001b[0;34m=\u001b[0m \u001b[0mvocabulary\u001b[0m\u001b[0;34m[\u001b[0m\u001b[0mfeature\u001b[0m\u001b[0;34m]\u001b[0m\u001b[0;34m\u001b[0m\u001b[0;34m\u001b[0m\u001b[0m\n",
      "\u001b[0;32m/usr/local/lib/python3.7/dist-packages/sklearn/feature_extraction/text.py\u001b[0m in \u001b[0;36m_analyze\u001b[0;34m(doc, analyzer, tokenizer, ngrams, preprocessor, decoder, stop_words)\u001b[0m\n\u001b[1;32m    113\u001b[0m             \u001b[0mdoc\u001b[0m \u001b[0;34m=\u001b[0m \u001b[0mpreprocessor\u001b[0m\u001b[0;34m(\u001b[0m\u001b[0mdoc\u001b[0m\u001b[0;34m)\u001b[0m\u001b[0;34m\u001b[0m\u001b[0;34m\u001b[0m\u001b[0m\n\u001b[1;32m    114\u001b[0m         \u001b[0;32mif\u001b[0m \u001b[0mtokenizer\u001b[0m \u001b[0;32mis\u001b[0m \u001b[0;32mnot\u001b[0m \u001b[0;32mNone\u001b[0m\u001b[0;34m:\u001b[0m\u001b[0;34m\u001b[0m\u001b[0;34m\u001b[0m\u001b[0m\n\u001b[0;32m--> 115\u001b[0;31m             \u001b[0mdoc\u001b[0m \u001b[0;34m=\u001b[0m \u001b[0mtokenizer\u001b[0m\u001b[0;34m(\u001b[0m\u001b[0mdoc\u001b[0m\u001b[0;34m)\u001b[0m\u001b[0;34m\u001b[0m\u001b[0;34m\u001b[0m\u001b[0m\n\u001b[0m\u001b[1;32m    116\u001b[0m         \u001b[0;32mif\u001b[0m \u001b[0mngrams\u001b[0m \u001b[0;32mis\u001b[0m \u001b[0;32mnot\u001b[0m \u001b[0;32mNone\u001b[0m\u001b[0;34m:\u001b[0m\u001b[0;34m\u001b[0m\u001b[0;34m\u001b[0m\u001b[0m\n\u001b[1;32m    117\u001b[0m             \u001b[0;32mif\u001b[0m \u001b[0mstop_words\u001b[0m \u001b[0;32mis\u001b[0m \u001b[0;32mnot\u001b[0m \u001b[0;32mNone\u001b[0m\u001b[0;34m:\u001b[0m\u001b[0;34m\u001b[0m\u001b[0;34m\u001b[0m\u001b[0m\n",
      "\u001b[0;32m<ipython-input-8-830ff43c5ffe>\u001b[0m in \u001b[0;36mtwitter_tokenizer\u001b[0;34m(text)\u001b[0m\n\u001b[1;32m     11\u001b[0m \u001b[0;31m# 토큰 파서\u001b[0m\u001b[0;34m\u001b[0m\u001b[0;34m\u001b[0m\u001b[0;34m\u001b[0m\u001b[0m\n\u001b[1;32m     12\u001b[0m \u001b[0;32mdef\u001b[0m \u001b[0mtwitter_tokenizer\u001b[0m\u001b[0;34m(\u001b[0m\u001b[0mtext\u001b[0m\u001b[0;34m)\u001b[0m\u001b[0;34m:\u001b[0m\u001b[0;34m\u001b[0m\u001b[0;34m\u001b[0m\u001b[0m\n\u001b[0;32m---> 13\u001b[0;31m     \u001b[0;32mreturn\u001b[0m \u001b[0mTwitter\u001b[0m\u001b[0;34m(\u001b[0m\u001b[0;34m)\u001b[0m\u001b[0;34m.\u001b[0m\u001b[0mmorphs\u001b[0m\u001b[0;34m(\u001b[0m\u001b[0mtext\u001b[0m\u001b[0;34m)\u001b[0m\u001b[0;34m\u001b[0m\u001b[0;34m\u001b[0m\u001b[0m\n\u001b[0m",
      "\u001b[0;32m/usr/local/lib/python3.7/dist-packages/konlpy/tag/_okt.py\u001b[0m in \u001b[0;36mmorphs\u001b[0;34m(self, phrase, norm, stem)\u001b[0m\n\u001b[1;32m     76\u001b[0m         \u001b[0;34m\"\"\"Parse phrase to morphemes.\"\"\"\u001b[0m\u001b[0;34m\u001b[0m\u001b[0;34m\u001b[0m\u001b[0m\n\u001b[1;32m     77\u001b[0m \u001b[0;34m\u001b[0m\u001b[0m\n\u001b[0;32m---> 78\u001b[0;31m         \u001b[0;32mreturn\u001b[0m \u001b[0;34m[\u001b[0m\u001b[0ms\u001b[0m \u001b[0;32mfor\u001b[0m \u001b[0ms\u001b[0m\u001b[0;34m,\u001b[0m \u001b[0mt\u001b[0m \u001b[0;32min\u001b[0m \u001b[0mself\u001b[0m\u001b[0;34m.\u001b[0m\u001b[0mpos\u001b[0m\u001b[0;34m(\u001b[0m\u001b[0mphrase\u001b[0m\u001b[0;34m,\u001b[0m \u001b[0mnorm\u001b[0m\u001b[0;34m=\u001b[0m\u001b[0mnorm\u001b[0m\u001b[0;34m,\u001b[0m \u001b[0mstem\u001b[0m\u001b[0;34m=\u001b[0m\u001b[0mstem\u001b[0m\u001b[0;34m)\u001b[0m\u001b[0;34m]\u001b[0m\u001b[0;34m\u001b[0m\u001b[0;34m\u001b[0m\u001b[0m\n\u001b[0m\u001b[1;32m     79\u001b[0m \u001b[0;34m\u001b[0m\u001b[0m\n\u001b[1;32m     80\u001b[0m     \u001b[0;32mdef\u001b[0m \u001b[0mphrases\u001b[0m\u001b[0;34m(\u001b[0m\u001b[0mself\u001b[0m\u001b[0;34m,\u001b[0m \u001b[0mphrase\u001b[0m\u001b[0;34m)\u001b[0m\u001b[0;34m:\u001b[0m\u001b[0;34m\u001b[0m\u001b[0;34m\u001b[0m\u001b[0m\n",
      "\u001b[0;32m/usr/local/lib/python3.7/dist-packages/konlpy/tag/_okt.py\u001b[0m in \u001b[0;36mpos\u001b[0;34m(self, phrase, norm, stem, join)\u001b[0m\n\u001b[1;32m     61\u001b[0m                     \u001b[0mphrase\u001b[0m\u001b[0;34m,\u001b[0m\u001b[0;34m\u001b[0m\u001b[0;34m\u001b[0m\u001b[0m\n\u001b[1;32m     62\u001b[0m                     \u001b[0mjpype\u001b[0m\u001b[0;34m.\u001b[0m\u001b[0mjava\u001b[0m\u001b[0;34m.\u001b[0m\u001b[0mlang\u001b[0m\u001b[0;34m.\u001b[0m\u001b[0mBoolean\u001b[0m\u001b[0;34m(\u001b[0m\u001b[0mnorm\u001b[0m\u001b[0;34m)\u001b[0m\u001b[0;34m,\u001b[0m\u001b[0;34m\u001b[0m\u001b[0;34m\u001b[0m\u001b[0m\n\u001b[0;32m---> 63\u001b[0;31m                     jpype.java.lang.Boolean(stem)).toArray()\n\u001b[0m\u001b[1;32m     64\u001b[0m         \u001b[0;32mif\u001b[0m \u001b[0mjoin\u001b[0m\u001b[0;34m:\u001b[0m\u001b[0;34m\u001b[0m\u001b[0;34m\u001b[0m\u001b[0m\n\u001b[1;32m     65\u001b[0m             \u001b[0;32mreturn\u001b[0m \u001b[0;34m[\u001b[0m\u001b[0mt\u001b[0m \u001b[0;32mfor\u001b[0m \u001b[0mt\u001b[0m \u001b[0;32min\u001b[0m \u001b[0mtokens\u001b[0m\u001b[0;34m]\u001b[0m\u001b[0;34m\u001b[0m\u001b[0;34m\u001b[0m\u001b[0m\n",
      "\u001b[0;31mKeyboardInterrupt\u001b[0m: "
     ]
    }
   ],
   "source": [
    "import os\n",
    "import pickle\n",
    "if not os.path.isfile(\"X_data.pickle\"): \n",
    "    print('file does not exist')\n",
    "    X_data_pre = cv_.fit_transform(text_train)\n",
    "    pickle.dump(X_data_pre, open(\"X_data.pickle\", \"wb\"))"
   ]
  },
  {
   "cell_type": "code",
   "execution_count": null,
   "metadata": {
    "executionInfo": {
     "elapsed": 9,
     "status": "aborted",
     "timestamp": 1638158369899,
     "user": {
      "displayName": "Yongjin Jeong",
      "photoUrl": "https://lh3.googleusercontent.com/a/default-user=s64",
      "userId": "03658406798560557048"
     },
     "user_tz": -540
    },
    "id": "2l0YzuI4FoyS"
   },
   "outputs": [],
   "source": [
    "# 저장된 tfidf vector 데이터 읽기\n",
    "with open('X_data.pickle', 'rb') as f:\n",
    "    X_data_post = pickle.load(f)"
   ]
  },
  {
   "cell_type": "code",
   "execution_count": null,
   "metadata": {
    "colab": {
     "base_uri": "https://localhost:8080/"
    },
    "executionInfo": {
     "elapsed": 409,
     "status": "ok",
     "timestamp": 1636199860112,
     "user": {
      "displayName": "Yongjin Jeong",
      "photoUrl": "https://lh3.googleusercontent.com/a/default-user=s64",
      "userId": "03658406798560557048"
     },
     "user_tz": -540
    },
    "id": "BEMoQ6eyGxsy",
    "outputId": "c17d9a7d-d7cb-4a5d-9f53-aa14c9598507"
   },
   "outputs": [
    {
     "data": {
      "text/plain": [
       "array([[ True,  True,  True, ...,  True,  True,  True],\n",
       "       [ True,  True,  True, ...,  True,  True,  True],\n",
       "       [ True,  True,  True, ...,  True,  True,  True],\n",
       "       ...,\n",
       "       [ True,  True,  True, ...,  True,  True,  True],\n",
       "       [ True,  True,  True, ...,  True,  True,  True],\n",
       "       [ True,  True,  True, ...,  True,  True,  True]])"
      ]
     },
     "execution_count": 63,
     "metadata": {},
     "output_type": "execute_result"
    }
   ],
   "source": [
    "X_data_pre.toarray() == X_data_post.toarray()"
   ]
  },
  {
   "cell_type": "markdown",
   "metadata": {},
   "source": [
    "### Vectorizing"
   ]
  },
  {
   "cell_type": "markdown",
   "metadata": {
    "id": "zb8AxO3B2ShS"
   },
   "source": [
    "- BoW (Bag of Words)\n",
    "  - document-term matrix\n",
    "  - tfidf matrix"
   ]
  },
  {
   "cell_type": "code",
   "execution_count": 22,
   "metadata": {
    "colab": {
     "base_uri": "https://localhost:8080/"
    },
    "executionInfo": {
     "elapsed": 314,
     "status": "ok",
     "timestamp": 1638158449141,
     "user": {
      "displayName": "Yongjin Jeong",
      "photoUrl": "https://lh3.googleusercontent.com/a/default-user=s64",
      "userId": "03658406798560557048"
     },
     "user_tz": -540
    },
    "id": "rFj5CSq302Jy",
    "outputId": "9b76cd9d-c41f-468c-ff7d-47231fe05ed1"
   },
   "outputs": [
    {
     "name": "stdout",
     "output_type": "stream",
     "text": [
      "['and', 'document', 'first', 'is', 'one', 'second', 'the', 'third', 'this']\n",
      "[[0 1 1 1 0 0 1 0 1]\n",
      " [0 2 0 1 0 1 1 0 1]\n",
      " [1 0 0 1 1 0 1 1 1]\n",
      " [0 1 1 1 0 0 1 0 1]]\n"
     ]
    },
    {
     "name": "stderr",
     "output_type": "stream",
     "text": [
      "/usr/local/lib/python3.7/dist-packages/sklearn/utils/deprecation.py:87: FutureWarning: Function get_feature_names is deprecated; get_feature_names is deprecated in 1.0 and will be removed in 1.2. Please use get_feature_names_out instead.\n",
      "  warnings.warn(msg, category=FutureWarning)\n"
     ]
    }
   ],
   "source": [
    "from sklearn.feature_extraction.text import CountVectorizer\n",
    "corpus = [\n",
    "        'This is the first document.',\n",
    "        'This document is the second document.',\n",
    "        'And this is the third one.',\n",
    "        'Is this the first document?',\n",
    "]\n",
    "vectorizer1 = CountVectorizer()\n",
    "X = vectorizer1.fit_transform(corpus)\n",
    "print(vectorizer1.get_feature_names())\n",
    "print(X.toarray())"
   ]
  },
  {
   "cell_type": "code",
   "execution_count": 24,
   "metadata": {
    "colab": {
     "base_uri": "https://localhost:8080/"
    },
    "executionInfo": {
     "elapsed": 320,
     "status": "ok",
     "timestamp": 1638158491942,
     "user": {
      "displayName": "Yongjin Jeong",
      "photoUrl": "https://lh3.googleusercontent.com/a/default-user=s64",
      "userId": "03658406798560557048"
     },
     "user_tz": -540
    },
    "id": "jHHMwWwS2l0x",
    "outputId": "f0dd956e-2231-4e9d-bf0d-0f35d8844297"
   },
   "outputs": [
    {
     "name": "stdout",
     "output_type": "stream",
     "text": [
      "['and', 'document', 'first', 'is', 'one', 'second', 'the', 'third', 'this']\n",
      "[[0.   0.47 0.58 0.38 0.   0.   0.38 0.   0.38]\n",
      " [0.   0.69 0.   0.28 0.   0.54 0.28 0.   0.28]\n",
      " [0.51 0.   0.   0.27 0.51 0.   0.27 0.51 0.27]\n",
      " [0.   0.47 0.58 0.38 0.   0.   0.38 0.   0.38]]\n"
     ]
    },
    {
     "name": "stderr",
     "output_type": "stream",
     "text": [
      "/usr/local/lib/python3.7/dist-packages/sklearn/utils/deprecation.py:87: FutureWarning: Function get_feature_names is deprecated; get_feature_names is deprecated in 1.0 and will be removed in 1.2. Please use get_feature_names_out instead.\n",
      "  warnings.warn(msg, category=FutureWarning)\n"
     ]
    }
   ],
   "source": [
    "vectorizer2 = TfidfVectorizer()\n",
    "X = vectorizer2.fit_transform(corpus)\n",
    "print(vectorizer2.get_feature_names())\n",
    "print(X.toarray().round(2))"
   ]
  },
  {
   "cell_type": "code",
   "execution_count": null,
   "metadata": {
    "id": "9lHhng4i2t4Y"
   },
   "outputs": [],
   "source": []
  }
 ],
 "metadata": {
  "accelerator": "GPU",
  "colab": {
   "collapsed_sections": [],
   "name": "lab_62_naver_movie_Tfidf_RNN_rev1.ipynb",
   "provenance": [
    {
     "file_id": "1UU_m369jin9__0GWCwa-GAppqSEggZIf",
     "timestamp": 1604567184788
    }
   ],
   "toc_visible": true
  },
  "kernelspec": {
   "display_name": "Python 3",
   "language": "python",
   "name": "python3"
  },
  "language_info": {
   "codemirror_mode": {
    "name": "ipython",
    "version": 3
   },
   "file_extension": ".py",
   "mimetype": "text/x-python",
   "name": "python",
   "nbconvert_exporter": "python",
   "pygments_lexer": "ipython3",
   "version": "3.8.8"
  }
 },
 "nbformat": 4,
 "nbformat_minor": 1
}
