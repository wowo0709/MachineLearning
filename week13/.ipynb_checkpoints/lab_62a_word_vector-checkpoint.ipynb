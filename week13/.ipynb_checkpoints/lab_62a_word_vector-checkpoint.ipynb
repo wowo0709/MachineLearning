{
 "cells": [
  {
   "cell_type": "markdown",
   "metadata": {
    "id": "view-in-github"
   },
   "source": [
    "<a href=\"https://colab.research.google.com/github/StillWork/c9/blob/master/gg_46_%E1%84%83%E1%85%A1%E1%86%AB%E1%84%8B%E1%85%A5%E1%84%87%E1%85%A6%E1%86%A8%E1%84%90%E1%85%A5_2.ipynb\" target=\"_parent\"><img src=\"https://colab.research.google.com/assets/colab-badge.svg\" alt=\"Open In Colab\"/></a>"
   ]
  },
  {
   "cell_type": "markdown",
   "metadata": {
    "id": "RSiTy5MDXBnt"
   },
   "source": [
    "## Word Embedding\n",
    "- express words using vectors\n",
    "- vectors are trained"
   ]
  },
  {
   "cell_type": "markdown",
   "metadata": {
    "id": "VAXirxchUD43"
   },
   "source": [
    "## Word2Vec - 한국어\n",
    "\n",
    "- 지금까지의 텍스트 코딩 방식인 One-hot encoding, BoW(단어모음)-문서-단어 행렬 방식은 모두 단어마다 고유번호를 배정하여 사용하지만, 이 번호들에는 아무런 의미가 포함되어 있지 않고 단지 인덱스 역할만 함.\n",
    "- Word Vector 에서는 \n",
    " - 단어를 고차원 공간상의 벡터로 표현함으로 단어간 거리 표현 가능. 차원이 높을수록 정교한 의미 구분 가능.\n",
    " - 보통 50~300 개 정도의 차원을 사용함\n",
    " - 단어간의 거리 (유사도) 뿐 아니라 방향성(벡터)도 찾을 수 있음.\n",
    " - 단어벡터의 각 성분이 어떤 의미를 갖는지는 알 수 없다.\n",
    "\n",
    "- 빅카인즈 뉴스기사 데이터 활용(https://www.bigkinds.or.kr/)"
   ]
  },
  {
   "cell_type": "markdown",
   "metadata": {
    "id": "6VHnsDHlXBn7"
   },
   "source": [
    "### 뉴스를 이용한 단어 벡터 생성\n",
    "- 단어 추출: konlpy 의 kkma() 사용\n",
    "- 단어 벡터 생성: gensim 의 word2vec() 사용"
   ]
  },
  {
   "cell_type": "code",
   "execution_count": null,
   "metadata": {
    "colab": {
     "base_uri": "https://localhost:8080/"
    },
    "executionInfo": {
     "elapsed": 7127,
     "status": "ok",
     "timestamp": 1636168404378,
     "user": {
      "displayName": "Yongjin Jeong",
      "photoUrl": "https://lh3.googleusercontent.com/a/default-user=s64",
      "userId": "03658406798560557048"
     },
     "user_tz": -540
    },
    "id": "xDM2364masZe",
    "outputId": "a7c405b4-4c0b-4ee7-9800-aea61b3616e3"
   },
   "outputs": [
    {
     "name": "stdout",
     "output_type": "stream",
     "text": [
      "Collecting konlpy\n",
      "  Downloading konlpy-0.5.2-py2.py3-none-any.whl (19.4 MB)\n",
      "\u001b[K     |████████████████████████████████| 19.4 MB 1.4 MB/s \n",
      "\u001b[?25hRequirement already satisfied: lxml>=4.1.0 in /usr/local/lib/python3.7/dist-packages (from konlpy) (4.2.6)\n",
      "Requirement already satisfied: tweepy>=3.7.0 in /usr/local/lib/python3.7/dist-packages (from konlpy) (3.10.0)\n",
      "Requirement already satisfied: numpy>=1.6 in /usr/local/lib/python3.7/dist-packages (from konlpy) (1.19.5)\n",
      "Collecting JPype1>=0.7.0\n",
      "  Downloading JPype1-1.3.0-cp37-cp37m-manylinux_2_5_x86_64.manylinux1_x86_64.whl (448 kB)\n",
      "\u001b[K     |████████████████████████████████| 448 kB 46.3 MB/s \n",
      "\u001b[?25hCollecting beautifulsoup4==4.6.0\n",
      "  Downloading beautifulsoup4-4.6.0-py3-none-any.whl (86 kB)\n",
      "\u001b[K     |████████████████████████████████| 86 kB 5.6 MB/s \n",
      "\u001b[?25hCollecting colorama\n",
      "  Downloading colorama-0.4.4-py2.py3-none-any.whl (16 kB)\n",
      "Requirement already satisfied: typing-extensions in /usr/local/lib/python3.7/dist-packages (from JPype1>=0.7.0->konlpy) (3.7.4.3)\n",
      "Requirement already satisfied: requests-oauthlib>=0.7.0 in /usr/local/lib/python3.7/dist-packages (from tweepy>=3.7.0->konlpy) (1.3.0)\n",
      "Requirement already satisfied: six>=1.10.0 in /usr/local/lib/python3.7/dist-packages (from tweepy>=3.7.0->konlpy) (1.15.0)\n",
      "Requirement already satisfied: requests[socks]>=2.11.1 in /usr/local/lib/python3.7/dist-packages (from tweepy>=3.7.0->konlpy) (2.23.0)\n",
      "Requirement already satisfied: oauthlib>=3.0.0 in /usr/local/lib/python3.7/dist-packages (from requests-oauthlib>=0.7.0->tweepy>=3.7.0->konlpy) (3.1.1)\n",
      "Requirement already satisfied: chardet<4,>=3.0.2 in /usr/local/lib/python3.7/dist-packages (from requests[socks]>=2.11.1->tweepy>=3.7.0->konlpy) (3.0.4)\n",
      "Requirement already satisfied: certifi>=2017.4.17 in /usr/local/lib/python3.7/dist-packages (from requests[socks]>=2.11.1->tweepy>=3.7.0->konlpy) (2021.5.30)\n",
      "Requirement already satisfied: idna<3,>=2.5 in /usr/local/lib/python3.7/dist-packages (from requests[socks]>=2.11.1->tweepy>=3.7.0->konlpy) (2.10)\n",
      "Requirement already satisfied: urllib3!=1.25.0,!=1.25.1,<1.26,>=1.21.1 in /usr/local/lib/python3.7/dist-packages (from requests[socks]>=2.11.1->tweepy>=3.7.0->konlpy) (1.24.3)\n",
      "Requirement already satisfied: PySocks!=1.5.7,>=1.5.6 in /usr/local/lib/python3.7/dist-packages (from requests[socks]>=2.11.1->tweepy>=3.7.0->konlpy) (1.7.1)\n",
      "Installing collected packages: JPype1, colorama, beautifulsoup4, konlpy\n",
      "  Attempting uninstall: beautifulsoup4\n",
      "    Found existing installation: beautifulsoup4 4.6.3\n",
      "    Uninstalling beautifulsoup4-4.6.3:\n",
      "      Successfully uninstalled beautifulsoup4-4.6.3\n",
      "Successfully installed JPype1-1.3.0 beautifulsoup4-4.6.0 colorama-0.4.4 konlpy-0.5.2\n"
     ]
    }
   ],
   "source": [
    "!pip install konlpy"
   ]
  },
  {
   "cell_type": "code",
   "execution_count": null,
   "metadata": {
    "id": "TcpN2NDuXBn9"
   },
   "outputs": [],
   "source": [
    "from konlpy.tag import Kkma     # 형태소 분석 및 자연어 처리 모듈 (서울대)\n",
    "from gensim.models.word2vec import Word2Vec"
   ]
  },
  {
   "cell_type": "code",
   "execution_count": null,
   "metadata": {
    "colab": {
     "base_uri": "https://localhost:8080/"
    },
    "executionInfo": {
     "elapsed": 2862,
     "status": "ok",
     "timestamp": 1636168408932,
     "user": {
      "displayName": "Yongjin Jeong",
      "photoUrl": "https://lh3.googleusercontent.com/a/default-user=s64",
      "userId": "03658406798560557048"
     },
     "user_tz": -540
    },
    "id": "7R5lqDRhXBoy",
    "outputId": "10f5b8d0-1bc3-400d-96ff-264bf861db57"
   },
   "outputs": [
    {
     "name": "stdout",
     "output_type": "stream",
     "text": [
      "--2021-11-06 03:13:25--  https://bit.ly/2X7UON2\n",
      "Resolving bit.ly (bit.ly)... 67.199.248.11, 67.199.248.10\n",
      "Connecting to bit.ly (bit.ly)|67.199.248.11|:443... connected.\n",
      "HTTP request sent, awaiting response... 301 Moved Permanently\n",
      "Location: https://www.dropbox.com/s/gr5jhlshp8m3iqn/NewsResult_20181128-20190228.xlsx [following]\n",
      "--2021-11-06 03:13:25--  https://www.dropbox.com/s/gr5jhlshp8m3iqn/NewsResult_20181128-20190228.xlsx\n",
      "Resolving www.dropbox.com (www.dropbox.com)... 162.125.81.18, 2620:100:6035:18::a27d:5512\n",
      "Connecting to www.dropbox.com (www.dropbox.com)|162.125.81.18|:443... connected.\n",
      "HTTP request sent, awaiting response... 301 Moved Permanently\n",
      "Location: /s/raw/gr5jhlshp8m3iqn/NewsResult_20181128-20190228.xlsx [following]\n",
      "--2021-11-06 03:13:26--  https://www.dropbox.com/s/raw/gr5jhlshp8m3iqn/NewsResult_20181128-20190228.xlsx\n",
      "Reusing existing connection to www.dropbox.com:443.\n",
      "HTTP request sent, awaiting response... 302 Found\n",
      "Location: https://ucde43a2d0b1dfbdbc5caa01b6d4.dl.dropboxusercontent.com/cd/0/inline/BZYCAoVK_gkBbTO7wWS0Gd6TXqrlueWSWWB80uvS2pwP0xqMuPKY9UICI73zSb_yLvM1mLvzZwJb0FoLJk9G9_0MtBUqCJnR3hHyHqHyJklfLys3e808rx5DjhxPzsaDoedrm-XpIQmiIPA4q6T-yoRW/file# [following]\n",
      "--2021-11-06 03:13:26--  https://ucde43a2d0b1dfbdbc5caa01b6d4.dl.dropboxusercontent.com/cd/0/inline/BZYCAoVK_gkBbTO7wWS0Gd6TXqrlueWSWWB80uvS2pwP0xqMuPKY9UICI73zSb_yLvM1mLvzZwJb0FoLJk9G9_0MtBUqCJnR3hHyHqHyJklfLys3e808rx5DjhxPzsaDoedrm-XpIQmiIPA4q6T-yoRW/file\n",
      "Resolving ucde43a2d0b1dfbdbc5caa01b6d4.dl.dropboxusercontent.com (ucde43a2d0b1dfbdbc5caa01b6d4.dl.dropboxusercontent.com)... 162.125.81.15, 2620:100:6035:15::a27d:550f\n",
      "Connecting to ucde43a2d0b1dfbdbc5caa01b6d4.dl.dropboxusercontent.com (ucde43a2d0b1dfbdbc5caa01b6d4.dl.dropboxusercontent.com)|162.125.81.15|:443... connected.\n",
      "HTTP request sent, awaiting response... 302 Found\n",
      "Location: /cd/0/inline2/BZYZzBSvLQVU-rZ0utyjdcNWynhF5it3aVFrVLPm5sekQ-Mrz22_nbUe8nR-0udhkDqu-bhqBtVfyuOjbPVA861tc6mAlrH1TnwSW7skJZ1RDUGvJ1sKrNE1-Sbt9-v1bynkUL-B6imQ0pf-dZXQRnN_WwQj607Ni8lzuejss3LMfibLpVVNR6g4Tm7lm74zZY8WCcPbol5WQ2bBWwFFSRbMFGSOiaxe1sbPo2GaBbPyR2-ZbaZMKh7cNzVCI7eFQeNIE33evGpEtD7GlonDDDES0-qbmFr7wfXBdcF6-rxaFJaOW_xr-Rl1ScEGakQbTVksoEFJXyOg7_GGkV_4Kmsb01JlSDSH6HASfTH-TQJFkLBv80GQVRqW-HnYEd_GuXs/file [following]\n",
      "--2021-11-06 03:13:27--  https://ucde43a2d0b1dfbdbc5caa01b6d4.dl.dropboxusercontent.com/cd/0/inline2/BZYZzBSvLQVU-rZ0utyjdcNWynhF5it3aVFrVLPm5sekQ-Mrz22_nbUe8nR-0udhkDqu-bhqBtVfyuOjbPVA861tc6mAlrH1TnwSW7skJZ1RDUGvJ1sKrNE1-Sbt9-v1bynkUL-B6imQ0pf-dZXQRnN_WwQj607Ni8lzuejss3LMfibLpVVNR6g4Tm7lm74zZY8WCcPbol5WQ2bBWwFFSRbMFGSOiaxe1sbPo2GaBbPyR2-ZbaZMKh7cNzVCI7eFQeNIE33evGpEtD7GlonDDDES0-qbmFr7wfXBdcF6-rxaFJaOW_xr-Rl1ScEGakQbTVksoEFJXyOg7_GGkV_4Kmsb01JlSDSH6HASfTH-TQJFkLBv80GQVRqW-HnYEd_GuXs/file\n",
      "Reusing existing connection to ucde43a2d0b1dfbdbc5caa01b6d4.dl.dropboxusercontent.com:443.\n",
      "HTTP request sent, awaiting response... 200 OK\n",
      "Length: 1832194 (1.7M) [application/vnd.openxmlformats-officedocument.spreadsheetml.sheet]\n",
      "Saving to: ‘news2018.xlsx’\n",
      "\n",
      "news2018.xlsx       100%[===================>]   1.75M  3.60MB/s    in 0.5s    \n",
      "\n",
      "2021-11-06 03:13:28 (3.60 MB/s) - ‘news2018.xlsx’ saved [1832194/1832194]\n",
      "\n"
     ]
    }
   ],
   "source": [
    "# IT 뉴스기사를 이용한다\n",
    "!wget https://bit.ly/2X7UON2 -O news2018.xlsx"
   ]
  },
  {
   "cell_type": "code",
   "execution_count": null,
   "metadata": {
    "id": "tGECncx5p1oY"
   },
   "outputs": [],
   "source": [
    "import pandas as pd\n",
    "news = pd.read_excel(\"news2018.xlsx\")"
   ]
  },
  {
   "cell_type": "code",
   "execution_count": null,
   "metadata": {
    "colab": {
     "base_uri": "https://localhost:8080/"
    },
    "executionInfo": {
     "elapsed": 4,
     "status": "ok",
     "timestamp": 1636168409481,
     "user": {
      "displayName": "Yongjin Jeong",
      "photoUrl": "https://lh3.googleusercontent.com/a/default-user=s64",
      "userId": "03658406798560557048"
     },
     "user_tz": -540
    },
    "id": "ldUcy_23Vh9_",
    "outputId": "069cba23-a081-4143-8f69-a397ecea3a65"
   },
   "outputs": [
    {
     "data": {
      "text/plain": [
       "0    - 비핵화 수준 상응 조치 놓고\\n- 양국 협상팀 막판까지 ‘밀당’\\n- 1차 때와...\n",
       "1    김정은 국무위원장이 27일 시작되는 제2차 북미정상회담 성공을 위해 심혈을 기울이고...\n",
       "2    북미가 처음으로 정상 간 단독회담과 만찬을 가지며 또다시 새로운 역사 창조에 나섰다...\n",
       "3    지난해 9월 남북정상회담 당시 리선권 북한 조국평화통일위원장의 '냉면' 발언으로 정...\n",
       "Name: 본문, dtype: object"
      ]
     },
     "execution_count": 5,
     "metadata": {},
     "output_type": "execute_result"
    }
   ],
   "source": [
    "news[\"본문\"][:4]"
   ]
  },
  {
   "cell_type": "code",
   "execution_count": null,
   "metadata": {
    "id": "-DmqWk6KVf9f"
   },
   "outputs": [],
   "source": [
    "kkma = Kkma()"
   ]
  },
  {
   "cell_type": "code",
   "execution_count": null,
   "metadata": {
    "id": "2Ka2_a8xq-P3"
   },
   "outputs": [],
   "source": [
    "sentence_list = []\n",
    "for sent in news[\"본문\"]:\n",
    "    \n",
    "    sent_kkma_pos = kkma.nouns(sent)   # 명사만 추출\n",
    "    word_list = []\n",
    "    for word_pos in sent_kkma_pos:\n",
    "        word_list.append(word_pos)\n",
    "\n",
    "    sentence_list.append(word_list)"
   ]
  },
  {
   "cell_type": "code",
   "execution_count": null,
   "metadata": {
    "colab": {
     "base_uri": "https://localhost:8080/"
    },
    "executionInfo": {
     "elapsed": 15,
     "status": "ok",
     "timestamp": 1636168654802,
     "user": {
      "displayName": "Yongjin Jeong",
      "photoUrl": "https://lh3.googleusercontent.com/a/default-user=s64",
      "userId": "03658406798560557048"
     },
     "user_tz": -540
    },
    "id": "oN3-GABiWT9E",
    "outputId": "ce03761d-89d7-4139-a625-5b93620a0760"
   },
   "outputs": [
    {
     "name": "stdout",
     "output_type": "stream",
     "text": [
      "['비핵화', '수준', '상응', '조치', '양국', '협상', '협상팀', '팀', '막판', '당', '1', '1차', '차', '때', '시간', '조율', '단계적', '접근', '동의', '예상', '종전', '종전선언', '선언', '연락', '연락사무소', '사무소', '개설', '등', '조건', '조건부', '부', '제재', '완화', '명시', '가능성', '북미', '북미회담', '회담', '빅딜', '성공', '김', '김정은', '정은', '답방', '결과', '연관', '북한', '국무', '국무위원장', '위원장', '도', '도널드', '널드', '트럼프', '미국', '대통령', '27', '27일', '일', '친교', '만찬']\n",
      "['김', '김정은', '정은', '국무', '국무위원장', '위원장', '27', '27일', '일', '시작', '저', '2', '2차', '차', '북미', '북미정상회담', '정상', '회담', '성공', '심혈', '조선', '조선중앙통신', '중앙', '통신', '이날', '26', '26일', '하노이', '도착', '리', '호텔', '실무', '실무대표단', '대표단', '보고', '조미', '수뇌', '수뇌회담', '성공적', '보장', '나라', '현지', '파견', '사이', '접촉', '정형', '결과', '을', '구체적', '청취']\n",
      "['북미', '처음', '정상', '간', '단독', '단독회담', '회담', '만찬', '역사', '창조', '결', '물', '도출', '북측', '영', '영변', '변', '핵', '핵시설', '시설', '폐기', '외', '추가', '추가적인', '적인', '비핵화', '조치', '미국', '금강산', '금강산관광', '관광', '등', '경제적', '체제', '체제보장', '보장', '여부', '양', '간', '톱', '담판', '김', '북한', '국무', '국무위원장', '위원장', '도', '도널드', '널드', '트럼프', '대통령', '27', '27일', '일', '오후', '6', '6시30분', '시', '30', '분', '현지', '현지시간', '시간']\n"
     ]
    }
   ],
   "source": [
    "for i in range(3):\n",
    "    print(sentence_list[i])"
   ]
  },
  {
   "cell_type": "code",
   "execution_count": null,
   "metadata": {
    "colab": {
     "base_uri": "https://localhost:8080/"
    },
    "executionInfo": {
     "elapsed": 9,
     "status": "ok",
     "timestamp": 1636168654802,
     "user": {
      "displayName": "Yongjin Jeong",
      "photoUrl": "https://lh3.googleusercontent.com/a/default-user=s64",
      "userId": "03658406798560557048"
     },
     "user_tz": -540
    },
    "id": "dTq-vtCar0JC",
    "outputId": "058b6dc7-c24e-4526-c030-4820b48e6734",
    "scrolled": true
   },
   "outputs": [
    {
     "data": {
      "text/plain": [
       "((1543, 19), 1543)"
      ]
     },
     "execution_count": 9,
     "metadata": {},
     "output_type": "execute_result"
    }
   ],
   "source": [
    "news.shape, len(sentence_list)"
   ]
  },
  {
   "cell_type": "code",
   "execution_count": null,
   "metadata": {
    "colab": {
     "base_uri": "https://localhost:8080/"
    },
    "executionInfo": {
     "elapsed": 7,
     "status": "ok",
     "timestamp": 1636168654803,
     "user": {
      "displayName": "Yongjin Jeong",
      "photoUrl": "https://lh3.googleusercontent.com/a/default-user=s64",
      "userId": "03658406798560557048"
     },
     "user_tz": -540
    },
    "id": "KXw8yAntaJlm",
    "outputId": "7d6b62f3-c50a-40ad-8e63-a3e3b2a1031b"
   },
   "outputs": [
    {
     "data": {
      "text/plain": [
       "[61, 50, 63, 48, 44, 38, 38, 60, 52, 39]"
      ]
     },
     "execution_count": 10,
     "metadata": {},
     "output_type": "execute_result"
    }
   ],
   "source": [
    "[len(w) for w in sentence_list][:10]"
   ]
  },
  {
   "cell_type": "code",
   "execution_count": null,
   "metadata": {
    "id": "WvEiKwbiXBo7",
    "scrolled": true
   },
   "outputs": [],
   "source": [
    "model = Word2Vec(sentence_list, sg=1, size=100)   #sg=1 (skip-gram), 0(CBOW)"
   ]
  },
  {
   "cell_type": "code",
   "execution_count": null,
   "metadata": {
    "colab": {
     "base_uri": "https://localhost:8080/"
    },
    "executionInfo": {
     "elapsed": 22,
     "status": "ok",
     "timestamp": 1636168657195,
     "user": {
      "displayName": "Yongjin Jeong",
      "photoUrl": "https://lh3.googleusercontent.com/a/default-user=s64",
      "userId": "03658406798560557048"
     },
     "user_tz": -540
    },
    "id": "eccEwqqHw3jv",
    "outputId": "ca2336c1-2c8e-4ac0-a19f-7276a9054ae6"
   },
   "outputs": [
    {
     "name": "stderr",
     "output_type": "stream",
     "text": [
      "/usr/local/lib/python3.7/dist-packages/ipykernel_launcher.py:1: DeprecationWarning: Call to deprecated `__getitem__` (Method will be removed in 4.0.0, use self.wv.__getitem__() instead).\n",
      "  \"\"\"Entry point for launching an IPython kernel.\n"
     ]
    },
    {
     "data": {
      "text/plain": [
       "array([-2.4107585e-02, -7.4946046e-02,  1.5689157e-03,  1.7300507e-02,\n",
       "        7.7659652e-02, -4.3071166e-02,  8.3631985e-02,  1.6745523e-01,\n",
       "       -8.2903586e-02, -1.7553378e-02,  3.9016213e-02, -1.0054115e-01,\n",
       "        4.1688729e-02,  1.7242630e-01, -1.8903978e-02,  1.2952442e-01,\n",
       "        4.8356697e-02,  4.0910381e-01, -7.0913650e-02, -5.0823655e-02,\n",
       "        1.4685905e-01, -1.2997684e-01,  2.2543812e-02, -3.7712879e-02,\n",
       "        9.6920088e-02,  1.3099691e-01, -1.3746825e-01, -1.0660959e-01,\n",
       "        1.1127534e-01,  1.2975276e-01, -2.8525587e-02, -1.2853998e-01,\n",
       "       -8.3741836e-02, -9.9310517e-02, -2.4495709e-01, -4.1113162e-01,\n",
       "        1.0418992e-02,  7.9034410e-02,  1.3711397e-01, -5.1028132e-02,\n",
       "       -1.4102933e-01, -4.6473064e-02, -7.5484976e-02, -6.2391542e-02,\n",
       "       -4.0519308e-02, -1.5226401e-01, -1.3334070e-01, -1.7248647e-01,\n",
       "       -9.5049895e-02,  9.9440172e-02, -2.9708706e-02,  8.7483376e-02,\n",
       "        8.1404611e-02,  1.3708833e-01, -1.1457676e-01, -9.5910830e-03,\n",
       "       -6.4596653e-02, -2.4731688e-01,  3.0563422e-02,  1.2345860e-01,\n",
       "       -3.4807574e-02,  1.6530770e-01,  1.2371200e-01, -1.2324062e-02,\n",
       "        1.4210464e-01, -1.4213949e-01,  1.7249145e-01, -7.8410409e-02,\n",
       "       -6.2629886e-02, -9.0875283e-02,  2.9489502e-02,  2.1956262e-01,\n",
       "        3.4037119e-01,  1.0848373e-01,  3.6547065e-02, -1.5146755e-01,\n",
       "        5.6681294e-02,  6.6085658e-03,  1.9274153e-02,  1.9991216e-01,\n",
       "       -1.5090431e-01,  9.0067700e-02,  5.1970325e-02,  2.0268182e-01,\n",
       "        4.6885550e-02, -5.2929554e-02,  6.6083498e-02, -5.8406308e-02,\n",
       "       -1.1952946e-01,  5.5076398e-02,  1.2351151e-04, -3.8982730e-02,\n",
       "       -1.3962780e-01,  1.2789361e-01, -1.5078008e-01, -1.4386822e-01,\n",
       "       -1.3026667e-01, -1.1459819e-01, -7.1221814e-02,  1.1928054e-01],\n",
       "      dtype=float32)"
      ]
     },
     "execution_count": 12,
     "metadata": {},
     "output_type": "execute_result"
    }
   ],
   "source": [
    "model[\"대한민국\"]"
   ]
  },
  {
   "cell_type": "code",
   "execution_count": null,
   "metadata": {
    "colab": {
     "base_uri": "https://localhost:8080/"
    },
    "executionInfo": {
     "elapsed": 15,
     "status": "ok",
     "timestamp": 1636168657195,
     "user": {
      "displayName": "Yongjin Jeong",
      "photoUrl": "https://lh3.googleusercontent.com/a/default-user=s64",
      "userId": "03658406798560557048"
     },
     "user_tz": -540
    },
    "id": "HQRyjNe2byhF",
    "outputId": "b0c19d8c-4574-4112-cd7c-dc7565884f6a"
   },
   "outputs": [
    {
     "data": {
      "text/plain": [
       "array([-2.4107585e-02, -7.4946046e-02,  1.5689157e-03,  1.7300507e-02,\n",
       "        7.7659652e-02, -4.3071166e-02,  8.3631985e-02,  1.6745523e-01,\n",
       "       -8.2903586e-02, -1.7553378e-02,  3.9016213e-02, -1.0054115e-01,\n",
       "        4.1688729e-02,  1.7242630e-01, -1.8903978e-02,  1.2952442e-01,\n",
       "        4.8356697e-02,  4.0910381e-01, -7.0913650e-02, -5.0823655e-02,\n",
       "        1.4685905e-01, -1.2997684e-01,  2.2543812e-02, -3.7712879e-02,\n",
       "        9.6920088e-02,  1.3099691e-01, -1.3746825e-01, -1.0660959e-01,\n",
       "        1.1127534e-01,  1.2975276e-01, -2.8525587e-02, -1.2853998e-01,\n",
       "       -8.3741836e-02, -9.9310517e-02, -2.4495709e-01, -4.1113162e-01,\n",
       "        1.0418992e-02,  7.9034410e-02,  1.3711397e-01, -5.1028132e-02,\n",
       "       -1.4102933e-01, -4.6473064e-02, -7.5484976e-02, -6.2391542e-02,\n",
       "       -4.0519308e-02, -1.5226401e-01, -1.3334070e-01, -1.7248647e-01,\n",
       "       -9.5049895e-02,  9.9440172e-02, -2.9708706e-02,  8.7483376e-02,\n",
       "        8.1404611e-02,  1.3708833e-01, -1.1457676e-01, -9.5910830e-03,\n",
       "       -6.4596653e-02, -2.4731688e-01,  3.0563422e-02,  1.2345860e-01,\n",
       "       -3.4807574e-02,  1.6530770e-01,  1.2371200e-01, -1.2324062e-02,\n",
       "        1.4210464e-01, -1.4213949e-01,  1.7249145e-01, -7.8410409e-02,\n",
       "       -6.2629886e-02, -9.0875283e-02,  2.9489502e-02,  2.1956262e-01,\n",
       "        3.4037119e-01,  1.0848373e-01,  3.6547065e-02, -1.5146755e-01,\n",
       "        5.6681294e-02,  6.6085658e-03,  1.9274153e-02,  1.9991216e-01,\n",
       "       -1.5090431e-01,  9.0067700e-02,  5.1970325e-02,  2.0268182e-01,\n",
       "        4.6885550e-02, -5.2929554e-02,  6.6083498e-02, -5.8406308e-02,\n",
       "       -1.1952946e-01,  5.5076398e-02,  1.2351151e-04, -3.8982730e-02,\n",
       "       -1.3962780e-01,  1.2789361e-01, -1.5078008e-01, -1.4386822e-01,\n",
       "       -1.3026667e-01, -1.1459819e-01, -7.1221814e-02,  1.1928054e-01],\n",
       "      dtype=float32)"
      ]
     },
     "execution_count": 13,
     "metadata": {},
     "output_type": "execute_result"
    }
   ],
   "source": [
    "model.wv['대한민국']"
   ]
  },
  {
   "cell_type": "code",
   "execution_count": null,
   "metadata": {
    "colab": {
     "base_uri": "https://localhost:8080/"
    },
    "executionInfo": {
     "elapsed": 15,
     "status": "ok",
     "timestamp": 1636168657198,
     "user": {
      "displayName": "Yongjin Jeong",
      "photoUrl": "https://lh3.googleusercontent.com/a/default-user=s64",
      "userId": "03658406798560557048"
     },
     "user_tz": -540
    },
    "id": "IBXhPZbIbJHs",
    "outputId": "ff2aa106-f38d-4b6e-f5ed-5ba9f8159bfe"
   },
   "outputs": [
    {
     "name": "stdout",
     "output_type": "stream",
     "text": [
      "word 0/1956 is 회담\n",
      "word 1/1956 is 일\n",
      "word 2/1956 is 북미\n",
      "word 3/1956 is 차\n",
      "word 4/1956 is 2\n",
      "word 5/1956 is 정상\n",
      "word 6/1956 is 2차\n",
      "word 7/1956 is 김\n",
      "word 8/1956 is 북한\n",
      "word 9/1956 is 미국\n"
     ]
    }
   ],
   "source": [
    "for index, word in enumerate(model.wv.index2word):\n",
    "    if index == 10:\n",
    "        break\n",
    "    print(f\"word {index}/{len(model.wv.index2word)} is {word}\")"
   ]
  },
  {
   "cell_type": "code",
   "execution_count": null,
   "metadata": {
    "colab": {
     "base_uri": "https://localhost:8080/"
    },
    "executionInfo": {
     "elapsed": 13,
     "status": "ok",
     "timestamp": 1636168657198,
     "user": {
      "displayName": "Yongjin Jeong",
      "photoUrl": "https://lh3.googleusercontent.com/a/default-user=s64",
      "userId": "03658406798560557048"
     },
     "user_tz": -540
    },
    "id": "Pjiz6wLRXBpB",
    "outputId": "b6b55093-a6d5-4f73-f471-0b1492d90e94"
   },
   "outputs": [
    {
     "name": "stdout",
     "output_type": "stream",
     "text": [
      "[('대한', 0.9968054294586182), ('민국', 0.9958725571632385), ('터닝포인트', 0.9953158497810364), ('근', 0.9948737621307373), ('터닝', 0.994050920009613), ('마감', 0.993889570236206), ('국내증시', 0.9935024976730347), ('정치인', 0.992567777633667), ('글로벌', 0.9920015335083008), ('외국인', 0.9918369650840759)]\n"
     ]
    }
   ],
   "source": [
    "print(model.wv.most_similar(\"대한민국\"))"
   ]
  },
  {
   "cell_type": "code",
   "execution_count": null,
   "metadata": {
    "colab": {
     "base_uri": "https://localhost:8080/"
    },
    "executionInfo": {
     "elapsed": 12,
     "status": "ok",
     "timestamp": 1636168657199,
     "user": {
      "displayName": "Yongjin Jeong",
      "photoUrl": "https://lh3.googleusercontent.com/a/default-user=s64",
      "userId": "03658406798560557048"
     },
     "user_tz": -540
    },
    "id": "fgR0CKVCYUvd",
    "outputId": "88e64720-12e6-4327-86be-afbc6e7b19c3"
   },
   "outputs": [
    {
     "name": "stdout",
     "output_type": "stream",
     "text": [
      "0.19900209\n",
      "0.45370853\n",
      "0.7131777\n"
     ]
    }
   ],
   "source": [
    "print(model.wv.similarity(\"한국\",\"미국\"))\n",
    "print(model.wv.similarity(\"한국\",\"일본\"))\n",
    "print(model.wv.similarity(\"미국\",\"일본\"))"
   ]
  },
  {
   "cell_type": "code",
   "execution_count": null,
   "metadata": {
    "id": "adGZopNdcp22"
   },
   "outputs": [],
   "source": [
    "# storing and loading the model\n",
    "model.save('tmp_word2vec.model')\n",
    "model = Word2Vec.load(\"tmp_word2vec.model\")"
   ]
  },
  {
   "cell_type": "code",
   "execution_count": null,
   "metadata": {
    "colab": {
     "base_uri": "https://localhost:8080/"
    },
    "executionInfo": {
     "elapsed": 9,
     "status": "ok",
     "timestamp": 1636168657199,
     "user": {
      "displayName": "Yongjin Jeong",
      "photoUrl": "https://lh3.googleusercontent.com/a/default-user=s64",
      "userId": "03658406798560557048"
     },
     "user_tz": -540
    },
    "id": "cPHymVsXejom",
    "outputId": "1da5bb64-60fd-4552-cb42-789647115759"
   },
   "outputs": [
    {
     "data": {
      "text/plain": [
       "[('핵', 0.6568202376365662),\n",
       " ('미', 0.6307210922241211),\n",
       " ('북핵', 0.6297447681427002),\n",
       " ('북', 0.6209843754768372),\n",
       " ('북ㆍ미', 0.6095261573791504),\n",
       " ('ㆍ', 0.6072773337364197),\n",
       " ('성명', 0.601407527923584),\n",
       " ('정상회담', 0.6000897884368896),\n",
       " ('변', 0.5984941720962524),\n",
       " ('월말', 0.5965142250061035)]"
      ]
     },
     "execution_count": 18,
     "metadata": {},
     "output_type": "execute_result"
    }
   ],
   "source": [
    "# a:b = c: ? \n",
    "model.wv.most_similar(positive=['한국', '미국'], negative=['서울'])"
   ]
  },
  {
   "cell_type": "markdown",
   "metadata": {
    "id": "Q8BGvf7nfW1J"
   },
   "source": [
    "### Keras 에서 word2vec 훈련된 모델 사용하기 (그림형제 동화 예제)"
   ]
  },
  {
   "cell_type": "code",
   "execution_count": null,
   "metadata": {
    "id": "221jHvYjffO1"
   },
   "outputs": [],
   "source": [
    "import requests\n",
    "import re\n",
    "res = requests.get('https://www.gutenberg.org/files/2591/2591-0.txt') \n",
    "grimm = res.text[2801:530661]    # 그림형제의 동화 일부만 사용\n",
    "grimm = re.sub(r'[^a-zA-Z\\. ]', ' ', grimm)\n",
    "sentences = grimm.split('. ')  # 문장 단위로 자름\n",
    "data = [s.lower().split() for s in sentences]"
   ]
  },
  {
   "cell_type": "code",
   "execution_count": null,
   "metadata": {
    "colab": {
     "base_uri": "https://localhost:8080/"
    },
    "executionInfo": {
     "elapsed": 13,
     "status": "ok",
     "timestamp": 1636168659055,
     "user": {
      "displayName": "Yongjin Jeong",
      "photoUrl": "https://lh3.googleusercontent.com/a/default-user=s64",
      "userId": "03658406798560557048"
     },
     "user_tz": -540
    },
    "id": "n6b19aeNygXM",
    "outputId": "aec761fc-b730-49b0-e4c5-82c1783170f6"
   },
   "outputs": [
    {
     "data": {
      "text/plain": [
       "3468"
      ]
     },
     "execution_count": 20,
     "metadata": {},
     "output_type": "execute_result"
    }
   ],
   "source": [
    "len(data)  # number of sentences"
   ]
  },
  {
   "cell_type": "code",
   "execution_count": null,
   "metadata": {
    "colab": {
     "base_uri": "https://localhost:8080/"
    },
    "executionInfo": {
     "elapsed": 6,
     "status": "ok",
     "timestamp": 1636168659055,
     "user": {
      "displayName": "Yongjin Jeong",
      "photoUrl": "https://lh3.googleusercontent.com/a/default-user=s64",
      "userId": "03658406798560557048"
     },
     "user_tz": -540
    },
    "id": "lVjyfFbCgANn",
    "outputId": "e274eba6-cd34-4b88-9129-54b563a53a69"
   },
   "outputs": [
    {
     "name": "stdout",
     "output_type": "stream",
     "text": [
      "[['second', 'story', 'the', 'salad', 'the', 'story', 'of', 'the', 'youth', 'who', 'went', 'forth', 'to', 'learn', 'what', 'fear', 'was', 'king', 'grisly', 'beard', 'iron', 'hans', 'cat', 'skin', 'snow', 'white', 'and', 'rose', 'red', 'the', 'brothers', 'grimm', 'fairy', 'tales', 'the', 'golden', 'bird', 'a', 'certain', 'king', 'had', 'a', 'beautiful', 'garden', 'and', 'in', 'the', 'garden', 'stood', 'a', 'tree', 'which', 'bore', 'golden', 'apples'], ['these', 'apples', 'were', 'always', 'counted', 'and', 'about', 'the', 'time', 'when', 'they', 'began', 'to', 'grow', 'ripe', 'it', 'was', 'found', 'that', 'every', 'night', 'one', 'of', 'them', 'was', 'gone']]\n"
     ]
    }
   ],
   "source": [
    "print(data[:2])"
   ]
  },
  {
   "cell_type": "code",
   "execution_count": null,
   "metadata": {
    "colab": {
     "base_uri": "https://localhost:8080/"
    },
    "executionInfo": {
     "elapsed": 5,
     "status": "ok",
     "timestamp": 1636168659055,
     "user": {
      "displayName": "Yongjin Jeong",
      "photoUrl": "https://lh3.googleusercontent.com/a/default-user=s64",
      "userId": "03658406798560557048"
     },
     "user_tz": -540
    },
    "id": "au09jqEBgNE9",
    "outputId": "ba91580b-88f8-436a-f8b5-c6b05034464a"
   },
   "outputs": [
    {
     "data": {
      "text/plain": [
       "(3468, [55, 26, 19, 26, 23, 41, 48, 21, 18, 32])"
      ]
     },
     "execution_count": 22,
     "metadata": {},
     "output_type": "execute_result"
    }
   ],
   "source": [
    "len(data), [len(data[i]) for i in range(10)]"
   ]
  },
  {
   "cell_type": "code",
   "execution_count": null,
   "metadata": {
    "id": "2eJo4MgSfoZF"
   },
   "outputs": [],
   "source": [
    "model = Word2Vec(data,         # 리스트 형태의 데이터\n",
    "                 sg=1,         # 0: CBOW, 1: Skip-gram\n",
    "                 size=100,     # 벡터 크기\n",
    "                 window=3,     # 고려할 앞뒤 폭(앞뒤 3단어)\n",
    "                 min_count=3,  # 사용할 단어의 최소 빈도(3회 이하 단어 무시)\n",
    "                 workers=4)    # 동시에 처리할 작업 수(코어 수와 비슷하게 설정)"
   ]
  },
  {
   "cell_type": "code",
   "execution_count": null,
   "metadata": {
    "id": "96uHMaPLga6q"
   },
   "outputs": [],
   "source": [
    "import tensorflow as tf\n",
    "from tensorflow import keras\n",
    "from tensorflow.keras.models import Sequential\n",
    "from tensorflow.keras.layers import Embedding"
   ]
  },
  {
   "cell_type": "code",
   "execution_count": null,
   "metadata": {
    "colab": {
     "base_uri": "https://localhost:8080/"
    },
    "executionInfo": {
     "elapsed": 10,
     "status": "ok",
     "timestamp": 1636168667928,
     "user": {
      "displayName": "Yongjin Jeong",
      "photoUrl": "https://lh3.googleusercontent.com/a/default-user=s64",
      "userId": "03658406798560557048"
     },
     "user_tz": -540
    },
    "id": "tWTC7DUmgk3y",
    "outputId": "a28ce523-b58a-4dbc-b783-db2e19ca1341"
   },
   "outputs": [
    {
     "data": {
      "text/plain": [
       "(2278, 100)"
      ]
     },
     "execution_count": 25,
     "metadata": {},
     "output_type": "execute_result"
    }
   ],
   "source": [
    "model.wv.vectors.shape"
   ]
  },
  {
   "cell_type": "code",
   "execution_count": null,
   "metadata": {
    "colab": {
     "base_uri": "https://localhost:8080/"
    },
    "executionInfo": {
     "elapsed": 6420,
     "status": "ok",
     "timestamp": 1636168674345,
     "user": {
      "displayName": "Yongjin Jeong",
      "photoUrl": "https://lh3.googleusercontent.com/a/default-user=s64",
      "userId": "03658406798560557048"
     },
     "user_tz": -540
    },
    "id": "EDkUVLSMgx3O",
    "outputId": "6c733194-4537-4389-bbf5-13ca689218e2"
   },
   "outputs": [
    {
     "name": "stdout",
     "output_type": "stream",
     "text": [
      "Model: \"sequential\"\n",
      "_________________________________________________________________\n",
      "Layer (type)                 Output Shape              Param #   \n",
      "=================================================================\n",
      "embedding (Embedding)        (None, None, 100)         227800    \n",
      "=================================================================\n",
      "Total params: 227,800\n",
      "Trainable params: 0\n",
      "Non-trainable params: 227,800\n",
      "_________________________________________________________________\n"
     ]
    }
   ],
   "source": [
    "NUM_WORDS, EMB_DIM = model.wv.vectors.shape\n",
    "\n",
    "emb = Embedding(input_dim=NUM_WORDS, output_dim=EMB_DIM,\n",
    "                trainable=False, weights=[model.wv.vectors])   # pre-trained weights\n",
    "keras_model = Sequential()\n",
    "keras_model.add(emb)\n",
    "keras_model.summary()"
   ]
  },
  {
   "cell_type": "code",
   "execution_count": null,
   "metadata": {
    "colab": {
     "base_uri": "https://localhost:8080/"
    },
    "executionInfo": {
     "elapsed": 15,
     "status": "ok",
     "timestamp": 1636168674345,
     "user": {
      "displayName": "Yongjin Jeong",
      "photoUrl": "https://lh3.googleusercontent.com/a/default-user=s64",
      "userId": "03658406798560557048"
     },
     "user_tz": -540
    },
    "id": "_aoIvPLvhdX9",
    "outputId": "4bcfd3b4-cd5d-46a3-de8e-8d406e86fbb6"
   },
   "outputs": [
    {
     "data": {
      "text/plain": [
       "150"
      ]
     },
     "execution_count": 27,
     "metadata": {},
     "output_type": "execute_result"
    }
   ],
   "source": [
    "i = model.wv.index2word.index('princess'); i"
   ]
  },
  {
   "cell_type": "code",
   "execution_count": null,
   "metadata": {
    "colab": {
     "base_uri": "https://localhost:8080/"
    },
    "executionInfo": {
     "elapsed": 11,
     "status": "ok",
     "timestamp": 1636168674346,
     "user": {
      "displayName": "Yongjin Jeong",
      "photoUrl": "https://lh3.googleusercontent.com/a/default-user=s64",
      "userId": "03658406798560557048"
     },
     "user_tz": -540
    },
    "id": "9VqyeUrbiKx4",
    "outputId": "9caafd94-05b4-446d-ac20-fbdea6aa758b"
   },
   "outputs": [
    {
     "data": {
      "text/plain": [
       "<tf.Tensor: shape=(100,), dtype=float32, numpy=\n",
       "array([ 0.17783275, -0.08774558,  0.09323502, -0.07242519,  0.20657292,\n",
       "        0.03197189,  0.16224365, -0.15539818,  0.01945902,  0.09025002,\n",
       "        0.17573437, -0.06973731,  0.11954256,  0.01534615, -0.37158963,\n",
       "       -0.02288678,  0.01575112,  0.05553897,  0.17502707, -0.08478002,\n",
       "       -0.21321169, -0.02501886, -0.27250507,  0.11078458, -0.21503918,\n",
       "        0.27691916,  0.08938914, -0.08242173, -0.11613622, -0.20222554,\n",
       "        0.04449013, -0.2559901 , -0.03157396,  0.0605896 , -0.15382041,\n",
       "       -0.32093048, -0.04655121, -0.11977814,  0.04055993,  0.05245483,\n",
       "        0.06287044,  0.09412678, -0.08609053, -0.13557422,  0.17934753,\n",
       "       -0.09852032,  0.19760892, -0.006117  , -0.18912947, -0.09823273,\n",
       "        0.1347044 ,  0.09133997, -0.06159864,  0.19485788,  0.04612151,\n",
       "        0.31897318, -0.05191209, -0.06640887,  0.16498116,  0.144308  ,\n",
       "       -0.30118912,  0.03162405, -0.04633264,  0.0622423 , -0.43333298,\n",
       "       -0.01807583,  0.01292471, -0.14541416, -0.11620581, -0.05903935,\n",
       "       -0.15599987,  0.14573784,  0.2046689 , -0.04925594, -0.09984405,\n",
       "        0.15318435, -0.07531588,  0.07737457,  0.3179089 , -0.15710369,\n",
       "        0.10327742,  0.01241986, -0.03649237,  0.05266789, -0.12705217,\n",
       "       -0.1036229 ,  0.12542848,  0.03066339, -0.08837936, -0.08336505,\n",
       "       -0.19087036,  0.1684691 , -0.01485604, -0.02229792,  0.1531238 ,\n",
       "       -0.08944845,  0.03167198,  0.07329231,  0.1653206 ,  0.059671  ],\n",
       "      dtype=float32)>"
      ]
     },
     "execution_count": 28,
     "metadata": {},
     "output_type": "execute_result"
    }
   ],
   "source": [
    "keras_model(i)"
   ]
  },
  {
   "cell_type": "code",
   "execution_count": null,
   "metadata": {
    "colab": {
     "base_uri": "https://localhost:8080/"
    },
    "executionInfo": {
     "elapsed": 8,
     "status": "ok",
     "timestamp": 1636168674346,
     "user": {
      "displayName": "Yongjin Jeong",
      "photoUrl": "https://lh3.googleusercontent.com/a/default-user=s64",
      "userId": "03658406798560557048"
     },
     "user_tz": -540
    },
    "id": "yDLKPpomhzXV",
    "outputId": "dd3bb2b6-d29a-4ac5-b56f-fa7c397cd610"
   },
   "outputs": [
    {
     "data": {
      "text/plain": [
       "<tf.Tensor: shape=(1, 1, 100), dtype=bool, numpy=\n",
       "array([[[ True,  True,  True,  True,  True,  True,  True,  True,  True,\n",
       "          True,  True,  True,  True,  True,  True,  True,  True,  True,\n",
       "          True,  True,  True,  True,  True,  True,  True,  True,  True,\n",
       "          True,  True,  True,  True,  True,  True,  True,  True,  True,\n",
       "          True,  True,  True,  True,  True,  True,  True,  True,  True,\n",
       "          True,  True,  True,  True,  True,  True,  True,  True,  True,\n",
       "          True,  True,  True,  True,  True,  True,  True,  True,  True,\n",
       "          True,  True,  True,  True,  True,  True,  True,  True,  True,\n",
       "          True,  True,  True,  True,  True,  True,  True,  True,  True,\n",
       "          True,  True,  True,  True,  True,  True,  True,  True,  True,\n",
       "          True,  True,  True,  True,  True,  True,  True,  True,  True,\n",
       "          True]]])>"
      ]
     },
     "execution_count": 29,
     "metadata": {},
     "output_type": "execute_result"
    }
   ],
   "source": [
    "keras_model(i) == keras_model.predict([i])"
   ]
  },
  {
   "cell_type": "code",
   "execution_count": null,
   "metadata": {
    "colab": {
     "base_uri": "https://localhost:8080/"
    },
    "executionInfo": {
     "elapsed": 528,
     "status": "ok",
     "timestamp": 1636168674869,
     "user": {
      "displayName": "Yongjin Jeong",
      "photoUrl": "https://lh3.googleusercontent.com/a/default-user=s64",
      "userId": "03658406798560557048"
     },
     "user_tz": -540
    },
    "id": "oc9XoWCwiO6k",
    "outputId": "0059e05a-695f-4646-913c-f12b74c6b44b"
   },
   "outputs": [
    {
     "name": "stderr",
     "output_type": "stream",
     "text": [
      "/usr/local/lib/python3.7/dist-packages/ipykernel_launcher.py:1: DeprecationWarning: Call to deprecated `__getitem__` (Method will be removed in 4.0.0, use self.wv.__getitem__() instead).\n",
      "  \"\"\"Entry point for launching an IPython kernel.\n"
     ]
    },
    {
     "data": {
      "text/plain": [
       "<tf.Tensor: shape=(100,), dtype=bool, numpy=\n",
       "array([ True,  True,  True,  True,  True,  True,  True,  True,  True,\n",
       "        True,  True,  True,  True,  True,  True,  True,  True,  True,\n",
       "        True,  True,  True,  True,  True,  True,  True,  True,  True,\n",
       "        True,  True,  True,  True,  True,  True,  True,  True,  True,\n",
       "        True,  True,  True,  True,  True,  True,  True,  True,  True,\n",
       "        True,  True,  True,  True,  True,  True,  True,  True,  True,\n",
       "        True,  True,  True,  True,  True,  True,  True,  True,  True,\n",
       "        True,  True,  True,  True,  True,  True,  True,  True,  True,\n",
       "        True,  True,  True,  True,  True,  True,  True,  True,  True,\n",
       "        True,  True,  True,  True,  True,  True,  True,  True,  True,\n",
       "        True,  True,  True,  True,  True,  True,  True,  True,  True,\n",
       "        True])>"
      ]
     },
     "execution_count": 30,
     "metadata": {},
     "output_type": "execute_result"
    }
   ],
   "source": [
    "model['princess'] == keras_model(i)"
   ]
  },
  {
   "cell_type": "markdown",
   "metadata": {
    "id": "nVFMTc1NjJSi"
   },
   "source": [
    "### Keras 에서 직접 Word2Vec 훈련도 가능\n",
    "- http://doc.mindscale.kr/km/unstructured/11.html"
   ]
  },
  {
   "cell_type": "markdown",
   "metadata": {
    "id": "cPa-oF9bXBpP"
   },
   "source": [
    "### NLTK 이용한 문장의 유사도\n",
    "- NLTK (Natural Language ToolKit) 라이브러리 사용"
   ]
  },
  {
   "cell_type": "code",
   "execution_count": null,
   "metadata": {
    "colab": {
     "base_uri": "https://localhost:8080/"
    },
    "executionInfo": {
     "elapsed": 3070,
     "status": "ok",
     "timestamp": 1636168677937,
     "user": {
      "displayName": "Yongjin Jeong",
      "photoUrl": "https://lh3.googleusercontent.com/a/default-user=s64",
      "userId": "03658406798560557048"
     },
     "user_tz": -540
    },
    "id": "2DIso7TWX-yl",
    "outputId": "88eaaa36-6bd7-4b8d-e3e6-04f834f02d04"
   },
   "outputs": [
    {
     "name": "stdout",
     "output_type": "stream",
     "text": [
      "Requirement already satisfied: nltk in /usr/local/lib/python3.7/dist-packages (3.2.5)\n",
      "Requirement already satisfied: six in /usr/local/lib/python3.7/dist-packages (from nltk) (1.15.0)\n"
     ]
    }
   ],
   "source": [
    "!pip install nltk"
   ]
  },
  {
   "cell_type": "code",
   "execution_count": null,
   "metadata": {
    "colab": {
     "base_uri": "https://localhost:8080/"
    },
    "executionInfo": {
     "elapsed": 1056,
     "status": "ok",
     "timestamp": 1636168678991,
     "user": {
      "displayName": "Yongjin Jeong",
      "photoUrl": "https://lh3.googleusercontent.com/a/default-user=s64",
      "userId": "03658406798560557048"
     },
     "user_tz": -540
    },
    "id": "DcU6fzqcX-ym",
    "outputId": "8612fef3-dd97-4b82-df06-d6d63c7526d3"
   },
   "outputs": [
    {
     "name": "stdout",
     "output_type": "stream",
     "text": [
      "[nltk_data] Downloading package punkt to /root/nltk_data...\n",
      "[nltk_data]   Unzipping tokenizers/punkt.zip.\n"
     ]
    },
    {
     "data": {
      "text/plain": [
       "['At',\n",
       " 'eight',\n",
       " \"o'clock\",\n",
       " 'on',\n",
       " 'Thursday',\n",
       " 'morning',\n",
       " 'Arthur',\n",
       " 'did',\n",
       " \"n't\",\n",
       " 'feel',\n",
       " 'very',\n",
       " 'good',\n",
       " '.']"
      ]
     },
     "execution_count": 32,
     "metadata": {},
     "output_type": "execute_result"
    }
   ],
   "source": [
    "# simple exercise\n",
    "import nltk\n",
    "nltk.download('punkt')\n",
    "sentence = \"At eight o'clock on Thursday morning Arthur didn't feel very good.\"\n",
    "tokens = nltk.word_tokenize(sentence)\n",
    "tokens"
   ]
  },
  {
   "cell_type": "code",
   "execution_count": null,
   "metadata": {
    "colab": {
     "base_uri": "https://localhost:8080/"
    },
    "executionInfo": {
     "elapsed": 1460,
     "status": "ok",
     "timestamp": 1636168680448,
     "user": {
      "displayName": "Yongjin Jeong",
      "photoUrl": "https://lh3.googleusercontent.com/a/default-user=s64",
      "userId": "03658406798560557048"
     },
     "user_tz": -540
    },
    "id": "71KHyNHlX-ym",
    "outputId": "f6ec1f42-e98d-4f5e-93cc-243e2b72fa03"
   },
   "outputs": [
    {
     "name": "stdout",
     "output_type": "stream",
     "text": [
      "[nltk_data] Downloading package averaged_perceptron_tagger to\n",
      "[nltk_data]     /root/nltk_data...\n",
      "[nltk_data]   Unzipping taggers/averaged_perceptron_tagger.zip.\n"
     ]
    },
    {
     "data": {
      "text/plain": [
       "[('At', 'IN'),\n",
       " ('eight', 'CD'),\n",
       " (\"o'clock\", 'NN'),\n",
       " ('on', 'IN'),\n",
       " ('Thursday', 'NNP'),\n",
       " ('morning', 'NN')]"
      ]
     },
     "execution_count": 33,
     "metadata": {},
     "output_type": "execute_result"
    }
   ],
   "source": [
    "nltk.download('averaged_perceptron_tagger')\n",
    "tagged = nltk.pos_tag(tokens)\n",
    "tagged[0:6]"
   ]
  },
  {
   "cell_type": "code",
   "execution_count": null,
   "metadata": {
    "colab": {
     "base_uri": "https://localhost:8080/"
    },
    "executionInfo": {
     "elapsed": 32,
     "status": "ok",
     "timestamp": 1636168680448,
     "user": {
      "displayName": "Yongjin Jeong",
      "photoUrl": "https://lh3.googleusercontent.com/a/default-user=s64",
      "userId": "03658406798560557048"
     },
     "user_tz": -540
    },
    "id": "bn7sVEJdXBpR",
    "outputId": "462c8cb2-0983-46a3-e2a2-28b21e7a421d"
   },
   "outputs": [
    {
     "name": "stdout",
     "output_type": "stream",
     "text": [
      "' 우리 모두 함께 놀자 '\n",
      "\t 우리 모두 함께 놀자  : 0\n",
      "\t 모두 같이 놀자  : 5\n",
      "\t 놀자  : 9\n",
      "\t 모두 다 같이  : 7\n",
      "\n",
      "' 모두 같이 놀자 '\n",
      "\t 우리 모두 함께 놀자  : 5\n",
      "\t 모두 같이 놀자  : 0\n",
      "\t 놀자  : 6\n",
      "\t 모두 다 같이  : 4\n",
      "\n",
      "' 놀자 '\n",
      "\t 우리 모두 함께 놀자  : 9\n",
      "\t 모두 같이 놀자  : 6\n",
      "\t 놀자  : 0\n",
      "\t 모두 다 같이  : 7\n",
      "\n",
      "' 모두 다 같이 '\n",
      "\t 우리 모두 함께 놀자  : 7\n",
      "\t 모두 같이 놀자  : 4\n",
      "\t 놀자  : 7\n",
      "\t 모두 다 같이  : 0\n",
      "\n"
     ]
    }
   ],
   "source": [
    "# edit_distance: 문자열이 얼마나 다른지 편집거리를 이용해 유사도 판단\n",
    "sentence_list = [\"우리 모두 함께 놀자\", \"모두 같이 놀자\", \"놀자\", \"모두 다 같이\"]\n",
    "\n",
    "for i in sentence_list:\n",
    "    print(\"'\", i, \"'\")\n",
    "    for j in sentence_list:\n",
    "        print(\"\\t\", j, \" : \", end='')\n",
    "        print(nltk.edit_distance(i, j), )\n",
    "    print()"
   ]
  },
  {
   "cell_type": "code",
   "execution_count": null,
   "metadata": {
    "id": "wgkIida2XBpX"
   },
   "outputs": [],
   "source": [
    "from sklearn.feature_extraction.text import TfidfVectorizer, CountVectorizer\n",
    " \n",
    "sentence_list = ['우리 모두 함께 놀자','모두 같이 놀자']\n",
    " \n",
    "tfidf = TfidfVectorizer()\n",
    "tfidf_vec = tfidf.fit_transform(sentence_list)\n",
    "\n",
    "count = CountVectorizer()\n",
    "count_vec = count.fit_transform(sentence_list)"
   ]
  },
  {
   "cell_type": "code",
   "execution_count": null,
   "metadata": {
    "colab": {
     "base_uri": "https://localhost:8080/"
    },
    "executionInfo": {
     "elapsed": 22,
     "status": "ok",
     "timestamp": 1636168680449,
     "user": {
      "displayName": "Yongjin Jeong",
      "photoUrl": "https://lh3.googleusercontent.com/a/default-user=s64",
      "userId": "03658406798560557048"
     },
     "user_tz": -540
    },
    "id": "h6bVb7w2X-yq",
    "outputId": "a9cec8d6-36fa-4d79-942a-b813e2c1014f"
   },
   "outputs": [
    {
     "data": {
      "text/plain": [
       "array([[0.        , 0.40993715, 0.40993715, 0.57615236, 0.57615236]])"
      ]
     },
     "execution_count": 36,
     "metadata": {},
     "output_type": "execute_result"
    }
   ],
   "source": [
    "tfidf_vec[0].toarray()"
   ]
  },
  {
   "cell_type": "code",
   "execution_count": null,
   "metadata": {
    "colab": {
     "base_uri": "https://localhost:8080/"
    },
    "executionInfo": {
     "elapsed": 17,
     "status": "ok",
     "timestamp": 1636168680449,
     "user": {
      "displayName": "Yongjin Jeong",
      "photoUrl": "https://lh3.googleusercontent.com/a/default-user=s64",
      "userId": "03658406798560557048"
     },
     "user_tz": -540
    },
    "id": "ayjiiYS5XBpd",
    "outputId": "6af94f9b-acb2-4e01-a69d-c04bbf6c2cb5"
   },
   "outputs": [
    {
     "name": "stdout",
     "output_type": "stream",
     "text": [
      "tfidf consine similarity :  0.4112070550676187\n",
      "countvectorizer consine similarity :  0.5773502691896258\n"
     ]
    }
   ],
   "source": [
    "from sklearn.metrics.pairwise import cosine_similarity\n",
    "\n",
    "tfidf_cosine = cosine_similarity(tfidf_vec[0].toarray(), tfidf_vec[1].toarray())[0][0]\n",
    "count_cosine = cosine_similarity(count_vec[0].toarray(), count_vec[1].toarray())[0][0]\n",
    "\n",
    "print(\"tfidf consine similarity : \", tfidf_cosine)\n",
    "print(\"countvectorizer consine similarity : \", count_cosine)"
   ]
  },
  {
   "cell_type": "code",
   "execution_count": null,
   "metadata": {
    "colab": {
     "base_uri": "https://localhost:8080/"
    },
    "executionInfo": {
     "elapsed": 15,
     "status": "ok",
     "timestamp": 1636168680450,
     "user": {
      "displayName": "Yongjin Jeong",
      "photoUrl": "https://lh3.googleusercontent.com/a/default-user=s64",
      "userId": "03658406798560557048"
     },
     "user_tz": -540
    },
    "id": "M5JsfLKlleje",
    "outputId": "30b0dbe6-1482-4d47-9a82-5b7f38d4aa22"
   },
   "outputs": [
    {
     "name": "stdout",
     "output_type": "stream",
     "text": [
      "my tfidf consine similarity :  0.4112070550676187\n",
      "my countvectorizer consine similarity :  0.5773502691896258\n"
     ]
    }
   ],
   "source": [
    "# 직접 구현시 코사인 유사도\n",
    "import numpy as np\n",
    "def my_cosine_similarity(x, y):  # x, y arrays\n",
    "    return np.sum(x*y) / np.sqrt((np.sum(x**2)*np.sum(y**2)))\n",
    "\n",
    "my_tfidf = my_cosine_similarity(tfidf_vec.toarray()[0], tfidf_vec.toarray()[1])\n",
    "my_count = my_cosine_similarity(count_vec.toarray()[0], count_vec.toarray()[1])\n",
    "\n",
    "print(\"my tfidf consine similarity : \", my_tfidf)\n",
    "print(\"my countvectorizer consine similarity : \", my_count)"
   ]
  },
  {
   "cell_type": "code",
   "execution_count": null,
   "metadata": {
    "colab": {
     "base_uri": "https://localhost:8080/"
    },
    "executionInfo": {
     "elapsed": 12,
     "status": "ok",
     "timestamp": 1636168680450,
     "user": {
      "displayName": "Yongjin Jeong",
      "photoUrl": "https://lh3.googleusercontent.com/a/default-user=s64",
      "userId": "03658406798560557048"
     },
     "user_tz": -540
    },
    "id": "P6L32oerX-yt",
    "outputId": "f225af54-dd15-4ccd-c82b-ad35e9097664"
   },
   "outputs": [
    {
     "data": {
      "text/plain": [
       "0.4"
      ]
     },
     "execution_count": 39,
     "metadata": {},
     "output_type": "execute_result"
    }
   ],
   "source": [
    "# Jaccard similarity\n",
    "sentence_list = ['우리 모두 함께 놀자','모두 같이 놀자']\n",
    "def get_jaccard_sim(str1, str2): \n",
    "    a = set(str1.split()) \n",
    "    b = set(str2.split())\n",
    "    c = a.intersection(b)\n",
    "    return float(len(c)) / (len(a) + len(b) - len(c))\n",
    "\n",
    "get_jaccard_sim(sentence_list[0], sentence_list[1])"
   ]
  },
  {
   "cell_type": "markdown",
   "metadata": {
    "id": "k52GBZL85vhE"
   },
   "source": [
    "## Word2Vec - English\n",
    "- https://machinelearningmastery.com/develop-word-embeddings-python-gensim/"
   ]
  },
  {
   "cell_type": "code",
   "execution_count": null,
   "metadata": {
    "colab": {
     "base_uri": "https://localhost:8080/"
    },
    "executionInfo": {
     "elapsed": 10,
     "status": "ok",
     "timestamp": 1636168680450,
     "user": {
      "displayName": "Yongjin Jeong",
      "photoUrl": "https://lh3.googleusercontent.com/a/default-user=s64",
      "userId": "03658406798560557048"
     },
     "user_tz": -540
    },
    "id": "t-zErPLY5vhF",
    "outputId": "21502c53-82f9-465a-8cc4-72d12be07913"
   },
   "outputs": [
    {
     "name": "stdout",
     "output_type": "stream",
     "text": [
      "Word2Vec(vocab=14, size=5, alpha=0.025)\n"
     ]
    }
   ],
   "source": [
    "from gensim.models import Word2Vec\n",
    "# define training data\n",
    "sentences = [['this', 'is', 'the', 'first', 'sentence', 'for', 'word2vec'],\n",
    "\t\t\t['this', 'is', 'the', 'second', 'sentence'],\n",
    "\t\t\t['yet', 'another', 'sentence'],\n",
    "\t\t\t['one', 'more', 'sentence'],\n",
    "\t\t\t['and', 'the', 'final', 'sentence']]\n",
    "# train model\n",
    "model = Word2Vec(sentences, min_count=1, size=5)\n",
    "# summarize the loaded model\n",
    "print(model)"
   ]
  },
  {
   "cell_type": "code",
   "execution_count": null,
   "metadata": {
    "colab": {
     "base_uri": "https://localhost:8080/"
    },
    "executionInfo": {
     "elapsed": 8,
     "status": "ok",
     "timestamp": 1636168680451,
     "user": {
      "displayName": "Yongjin Jeong",
      "photoUrl": "https://lh3.googleusercontent.com/a/default-user=s64",
      "userId": "03658406798560557048"
     },
     "user_tz": -540
    },
    "id": "pVEq24EH5vhG",
    "outputId": "99e6c225-10ff-4e03-bdf4-68e2624a3653"
   },
   "outputs": [
    {
     "name": "stdout",
     "output_type": "stream",
     "text": [
      "['this', 'is', 'the', 'first', 'sentence', 'for', 'word2vec', 'second', 'yet', 'another', 'one', 'more', 'and', 'final']\n",
      "[-0.02676655 -0.01335588 -0.03907884 -0.0286011   0.0530019 ]\n",
      "Word2Vec(vocab=14, size=5, alpha=0.025)\n"
     ]
    },
    {
     "name": "stderr",
     "output_type": "stream",
     "text": [
      "/usr/local/lib/python3.7/dist-packages/ipykernel_launcher.py:5: DeprecationWarning: Call to deprecated `__getitem__` (Method will be removed in 4.0.0, use self.wv.__getitem__() instead).\n",
      "  \"\"\"\n"
     ]
    }
   ],
   "source": [
    "# summarize vocabulary (to see learned vocabulary of tokens (words) )\n",
    "words = list(model.wv.vocab)\n",
    "print(words)\n",
    "# access vector for one word\n",
    "print(model['sentence'])\n",
    "# save model\n",
    "model.save('model.bin')\n",
    "# load model\n",
    "new_model = Word2Vec.load('model.bin')\n",
    "print(new_model)"
   ]
  },
  {
   "cell_type": "code",
   "execution_count": null,
   "metadata": {
    "colab": {
     "base_uri": "https://localhost:8080/",
     "height": 318
    },
    "executionInfo": {
     "elapsed": 514,
     "status": "ok",
     "timestamp": 1636168680959,
     "user": {
      "displayName": "Yongjin Jeong",
      "photoUrl": "https://lh3.googleusercontent.com/a/default-user=s64",
      "userId": "03658406798560557048"
     },
     "user_tz": -540
    },
    "id": "wcEldlZC5vhH",
    "outputId": "6a6d2876-f042-4b7e-baf8-b7201d7be8d5"
   },
   "outputs": [
    {
     "name": "stderr",
     "output_type": "stream",
     "text": [
      "/usr/local/lib/python3.7/dist-packages/ipykernel_launcher.py:5: DeprecationWarning: Call to deprecated `__getitem__` (Method will be removed in 4.0.0, use self.wv.__getitem__() instead).\n",
      "  \"\"\"\n"
     ]
    },
    {
     "data": {
      "image/png": "[encoded data removed]",
      "text/plain": [
       "<Figure size 432x288 with 1 Axes>"
      ]
     },
     "metadata": {
      "needs_background": "light"
     },
     "output_type": "display_data"
    }
   ],
   "source": [
    "from sklearn.decomposition import PCA\n",
    "import matplotlib.pyplot as plt\n",
    "%matplotlib inline\n",
    "\n",
    "X = model[model.wv.vocab]\n",
    "pca = PCA(n_components=2)\n",
    "result = pca.fit_transform(X)\n",
    "\n",
    "plt.scatter(result[:, 0], result[:, 1])\n",
    "words = list(model.wv.vocab)\n",
    "for i, word in enumerate(words):\n",
    "    plt.annotate(word, xy=(result[i, 0], result[i, 1]))\n",
    "plt.show()"
   ]
  },
  {
   "cell_type": "code",
   "execution_count": null,
   "metadata": {
    "colab": {
     "base_uri": "https://localhost:8080/"
    },
    "executionInfo": {
     "elapsed": 6,
     "status": "ok",
     "timestamp": 1636168680960,
     "user": {
      "displayName": "Yongjin Jeong",
      "photoUrl": "https://lh3.googleusercontent.com/a/default-user=s64",
      "userId": "03658406798560557048"
     },
     "user_tz": -540
    },
    "id": "GEel5dpu5vhI",
    "outputId": "d93107e0-ffde-49c2-bcee-ab76cbc91a70"
   },
   "outputs": [
    {
     "data": {
      "text/plain": [
       "(0, 2)"
      ]
     },
     "execution_count": 43,
     "metadata": {},
     "output_type": "execute_result"
    }
   ],
   "source": [
    "# you can continue training it later\n",
    "model.train([[\"hello\", \"world\"]], total_examples=1, epochs=1)"
   ]
  },
  {
   "cell_type": "markdown",
   "metadata": {
    "id": "gCcWi_BU2UHh"
   },
   "source": [
    "## Using pre-trained Word2Vec model\n",
    "- GoogleNews-vectors-negative300.bin\n",
    "- Korean version \"ko.vec\" available"
   ]
  },
  {
   "cell_type": "code",
   "execution_count": 1,
   "metadata": {
    "executionInfo": {
     "elapsed": 999,
     "status": "ok",
     "timestamp": 1637383177274,
     "user": {
      "displayName": "Yongjin Jeong",
      "photoUrl": "https://lh3.googleusercontent.com/a/default-user=s64",
      "userId": "03658406798560557048"
     },
     "user_tz": -540
    },
    "id": "TrabgKiToBNl"
   },
   "outputs": [],
   "source": [
    "import gensim\n",
    "from gensim.models import word2vec\n",
    "from gensim.models import KeyedVectors\n",
    "from sklearn.metrics.pairwise import cosine_similarity"
   ]
  },
  {
   "cell_type": "code",
   "execution_count": 2,
   "metadata": {
    "colab": {
     "base_uri": "https://localhost:8080/"
    },
    "executionInfo": {
     "elapsed": 23988,
     "status": "ok",
     "timestamp": 1637383201249,
     "user": {
      "displayName": "Yongjin Jeong",
      "photoUrl": "https://lh3.googleusercontent.com/a/default-user=s64",
      "userId": "03658406798560557048"
     },
     "user_tz": -540
    },
    "id": "YPs7X9fOoB6w",
    "outputId": "c61106f4-a3b6-4b73-f46d-d6530ea27fde"
   },
   "outputs": [
    {
     "name": "stdout",
     "output_type": "stream",
     "text": [
      "--2021-11-20 04:39:38--  https://s3.amazonaws.com/dl4j-distribution/GoogleNews-vectors-negative300.bin.gz\n",
      "Resolving s3.amazonaws.com (s3.amazonaws.com)... 52.217.193.96\n",
      "Connecting to s3.amazonaws.com (s3.amazonaws.com)|52.217.193.96|:443... connected.\n",
      "HTTP request sent, awaiting response... 200 OK\n",
      "Length: 1647046227 (1.5G) [application/x-gzip]\n",
      "Saving to: ‘./GoogleNews-vectors-negative300.bin.gz’\n",
      "\n",
      "GoogleNews-vectors- 100%[===================>]   1.53G  69.6MB/s    in 24s     \n",
      "\n",
      "2021-11-20 04:40:02 (66.2 MB/s) - ‘./GoogleNews-vectors-negative300.bin.gz’ saved [1647046227/1647046227]\n",
      "\n"
     ]
    }
   ],
   "source": [
    "!wget -P ./ -c \"https://s3.amazonaws.com/dl4j-distribution/GoogleNews-vectors-negative300.bin.gz\""
   ]
  },
  {
   "cell_type": "code",
   "execution_count": 3,
   "metadata": {
    "colab": {
     "base_uri": "https://localhost:8080/"
    },
    "executionInfo": {
     "elapsed": 420,
     "status": "ok",
     "timestamp": 1637383204863,
     "user": {
      "displayName": "Yongjin Jeong",
      "photoUrl": "https://lh3.googleusercontent.com/a/default-user=s64",
      "userId": "03658406798560557048"
     },
     "user_tz": -540
    },
    "id": "-us2xkjgoFwJ",
    "outputId": "3d97549a-84a8-4d81-8470-75e9fc0648bb"
   },
   "outputs": [
    {
     "name": "stdout",
     "output_type": "stream",
     "text": [
      "total 1608452\n",
      "-rw-r--r-- 1 root root 1647046227 Mar  5  2015 GoogleNews-vectors-negative300.bin.gz\n",
      "drwxr-xr-x 1 root root       4096 Nov 18 14:36 sample_data\n"
     ]
    }
   ],
   "source": [
    "!ls -l "
   ]
  },
  {
   "cell_type": "code",
   "execution_count": 4,
   "metadata": {
    "executionInfo": {
     "elapsed": 154385,
     "status": "ok",
     "timestamp": 1637383363226,
     "user": {
      "displayName": "Yongjin Jeong",
      "photoUrl": "https://lh3.googleusercontent.com/a/default-user=s64",
      "userId": "03658406798560557048"
     },
     "user_tz": -540
    },
    "id": "U0vpVfFroHIF"
   },
   "outputs": [],
   "source": [
    "EMBEDDING_FILE = './GoogleNews-vectors-negative300.bin.gz'\n",
    "word_vectors = KeyedVectors.load_word2vec_format(EMBEDDING_FILE, binary=True)"
   ]
  },
  {
   "cell_type": "code",
   "execution_count": 5,
   "metadata": {
    "colab": {
     "base_uri": "https://localhost:8080/"
    },
    "executionInfo": {
     "elapsed": 22,
     "status": "ok",
     "timestamp": 1637383363226,
     "user": {
      "displayName": "Yongjin Jeong",
      "photoUrl": "https://lh3.googleusercontent.com/a/default-user=s64",
      "userId": "03658406798560557048"
     },
     "user_tz": -540
    },
    "id": "PadHwwom2W02",
    "outputId": "6cb1b241-0567-4743-9aab-d5f8f1387bfe"
   },
   "outputs": [
    {
     "data": {
      "text/plain": [
       "(3000000, 300)"
      ]
     },
     "execution_count": 5,
     "metadata": {},
     "output_type": "execute_result"
    }
   ],
   "source": [
    "word_vectors.vectors.shape"
   ]
  },
  {
   "cell_type": "code",
   "execution_count": 6,
   "metadata": {
    "colab": {
     "base_uri": "https://localhost:8080/"
    },
    "executionInfo": {
     "elapsed": 9,
     "status": "ok",
     "timestamp": 1637383363227,
     "user": {
      "displayName": "Yongjin Jeong",
      "photoUrl": "https://lh3.googleusercontent.com/a/default-user=s64",
      "userId": "03658406798560557048"
     },
     "user_tz": -540
    },
    "id": "pfr5_QCNoK1f",
    "outputId": "8f1f7db8-53a9-476a-f02f-0dc8afe7d70e"
   },
   "outputs": [
    {
     "name": "stdout",
     "output_type": "stream",
     "text": [
      "(300,)\n",
      "(300,)\n"
     ]
    },
    {
     "data": {
      "text/plain": [
       "array([[0.57518554]], dtype=float32)"
      ]
     },
     "execution_count": 6,
     "metadata": {},
     "output_type": "execute_result"
    }
   ],
   "source": [
    "v_apple = word_vectors[\"apple\"] \n",
    "v_mango = word_vectors[\"mango\"]\n",
    "print(v_apple.shape)\n",
    "print(v_mango.shape)\n",
    "cosine_similarity([v_mango],[v_apple])"
   ]
  },
  {
   "cell_type": "code",
   "execution_count": 7,
   "metadata": {
    "colab": {
     "base_uri": "https://localhost:8080/"
    },
    "executionInfo": {
     "elapsed": 8606,
     "status": "ok",
     "timestamp": 1637383371828,
     "user": {
      "displayName": "Yongjin Jeong",
      "photoUrl": "https://lh3.googleusercontent.com/a/default-user=s64",
      "userId": "03658406798560557048"
     },
     "user_tz": -540
    },
    "id": "JcTyNa3doNDp",
    "outputId": "f613d94d-6984-4535-9113-95530b8edc03"
   },
   "outputs": [
    {
     "data": {
      "text/plain": [
       "([('apples', 0.7203598022460938),\n",
       "  ('pear', 0.6450696587562561),\n",
       "  ('fruit', 0.6410146355628967),\n",
       "  ('berry', 0.6302294731140137),\n",
       "  ('pears', 0.6133961081504822),\n",
       "  ('strawberry', 0.6058261394500732),\n",
       "  ('peach', 0.6025873422622681),\n",
       "  ('potato', 0.596093475818634),\n",
       "  ('grape', 0.5935864448547363),\n",
       "  ('blueberry', 0.5866668224334717)],\n",
       " [('tigers', 0.8028031587600708),\n",
       "  ('elephant', 0.6681442856788635),\n",
       "  ('rhino', 0.6406095027923584),\n",
       "  ('elephants', 0.6400991678237915),\n",
       "  ('panther', 0.6312947273254395),\n",
       "  ('Bengal_tiger', 0.6192330718040466),\n",
       "  ('leopard', 0.6132040023803711),\n",
       "  ('Siberian_tiger', 0.6061223745346069),\n",
       "  ('leopard_cub', 0.6012793183326721),\n",
       "  ('tigress', 0.5982028245925903)])"
      ]
     },
     "execution_count": 7,
     "metadata": {},
     "output_type": "execute_result"
    }
   ],
   "source": [
    "word_vectors.most_similar([\"apple\"]), word_vectors.most_similar(\"tiger\")"
   ]
  },
  {
   "cell_type": "markdown",
   "metadata": {
    "id": "dBXTJ7UgqxYr"
   },
   "source": [
    "- king - man + woman"
   ]
  },
  {
   "cell_type": "code",
   "execution_count": 8,
   "metadata": {
    "colab": {
     "base_uri": "https://localhost:8080/"
    },
    "executionInfo": {
     "elapsed": 581,
     "status": "ok",
     "timestamp": 1637383372405,
     "user": {
      "displayName": "Yongjin Jeong",
      "photoUrl": "https://lh3.googleusercontent.com/a/default-user=s64",
      "userId": "03658406798560557048"
     },
     "user_tz": -540
    },
    "id": "31c6m44topuq",
    "outputId": "2ca3c74c-fc0d-472d-a2ef-bd9f53a2ac53"
   },
   "outputs": [
    {
     "data": {
      "text/plain": [
       "[('queen', 0.5196164846420288),\n",
       " ('princess', 0.40039342641830444),\n",
       " ('Beauty_Pageants', 0.39205846190452576),\n",
       " ('crown_prince', 0.38563376665115356),\n",
       " ('monarch', 0.3831227421760559),\n",
       " ('NYC_anglophiles_aflutter', 0.38275885581970215),\n",
       " ('queendom', 0.38235384225845337),\n",
       " ('Princess_Sirindhorn', 0.37608852982521057),\n",
       " ('kings', 0.3758448660373688),\n",
       " ('sultan', 0.37523317337036133)]"
      ]
     },
     "execution_count": 8,
     "metadata": {},
     "output_type": "execute_result"
    }
   ],
   "source": [
    "word_vectors.most_similar(positive=[\"king\",\"Woman\"], negative=[\"man\"])"
   ]
  },
  {
   "cell_type": "code",
   "execution_count": 9,
   "metadata": {
    "colab": {
     "base_uri": "https://localhost:8080/"
    },
    "executionInfo": {
     "elapsed": 13,
     "status": "ok",
     "timestamp": 1637383372406,
     "user": {
      "displayName": "Yongjin Jeong",
      "photoUrl": "https://lh3.googleusercontent.com/a/default-user=s64",
      "userId": "03658406798560557048"
     },
     "user_tz": -540
    },
    "id": "paz1BOtfriIs",
    "outputId": "5f6430f3-9cd6-48ad-e43f-daf4e55f4f67"
   },
   "outputs": [
    {
     "data": {
      "text/plain": [
       "(22, 300)"
      ]
     },
     "execution_count": 9,
     "metadata": {},
     "output_type": "execute_result"
    }
   ],
   "source": [
    "words = [\"soccer\", \"football\", \"baseball\", \"volleyball\", \"basketball\", \"tennis\",\n",
    "         \"persimmon\", \"softball\", \"apple\", \"hockey\", \"orange\", \"pear\", \"strawberry\",\n",
    "         \"eat\", \"drink\", \"taste\", \"talk\", \"speak\", \"study\", \"research\", \"have\", \"take\"]\n",
    "mat = word_vectors[words]\n",
    "mat.shape"
   ]
  },
  {
   "cell_type": "code",
   "execution_count": 11,
   "metadata": {
    "colab": {
     "base_uri": "https://localhost:8080/",
     "height": 394
    },
    "executionInfo": {
     "elapsed": 962,
     "status": "ok",
     "timestamp": 1637383428787,
     "user": {
      "displayName": "Yongjin Jeong",
      "photoUrl": "https://lh3.googleusercontent.com/a/default-user=s64",
      "userId": "03658406798560557048"
     },
     "user_tz": -540
    },
    "id": "DM1kJgV9sUJK",
    "outputId": "4051cc61-2d59-4af1-e02d-136696eb27ad"
   },
   "outputs": [
    {
     "data": {
      "image/png": "[encoded data removed]",
      "text/plain": [
       "<Figure size 864x432 with 1 Axes>"
      ]
     },
     "metadata": {
      "needs_background": "light"
     },
     "output_type": "display_data"
    }
   ],
   "source": [
    "import matplotlib.pyplot as plt\n",
    "from sklearn.decomposition import PCA\n",
    "pca = PCA(n_components=2)\n",
    "xys = pca.fit_transform(mat)\n",
    "xs = xys[:,0]\n",
    "ys = xys[:,1]\n",
    "\n",
    "plt.figure(figsize=(12,6))\n",
    "plt.scatter(xs, ys)\n",
    "\n",
    "for i, word in enumerate(words):\n",
    "    plt.annotate(word, xy=(xs[i], ys[i]), rotation=30)\n",
    "plt.show()"
   ]
  },
  {
   "cell_type": "markdown",
   "metadata": {
    "id": "EOkmC9NyoJiU"
   },
   "source": [
    "- Pre-trained Word2Vec\n",
    "  - for english: (about 3 GB, and takes long to download): https://code.google.com/archive/p/word2vec \n",
    "  - word vectors of 30+ languages: https://github.com/Kyubyong/wordvectors"
   ]
  },
  {
   "cell_type": "markdown",
   "metadata": {
    "id": "h5IKa_teWpZ5"
   },
   "source": [
    "## Glove - pretrained word embedder"
   ]
  },
  {
   "cell_type": "code",
   "execution_count": null,
   "metadata": {
    "id": "b52stlpYWucB"
   },
   "outputs": [],
   "source": [
    "import gensim.downloader as api\n",
    "\n",
    "glove_model = api.load('glove-twitter-25')\n",
    "sample_glove_embedding=glove_model['computer']"
   ]
  },
  {
   "cell_type": "code",
   "execution_count": null,
   "metadata": {
    "id": "0g-qpQklX0WB"
   },
   "outputs": [],
   "source": [
    "sample_glove_embedding"
   ]
  },
  {
   "cell_type": "code",
   "execution_count": null,
   "metadata": {
    "id": "hwC7x3WsXtL-"
   },
   "outputs": [],
   "source": [
    "words = [\"soccer\", \"football\", \"baseball\", \"volleyball\", \"basketball\", \"tennis\",\n",
    "         \"persimmon\", \"softball\", \"apple\", \"hockey\", \"orange\", \"pear\", \"strawberry\",\n",
    "         \"eat\", \"drink\", \"taste\", \"talk\", \"speak\", \"study\", \"research\", \"have\", \"take\"]\n",
    "mat = glove_model[words]\n",
    "mat.shape"
   ]
  },
  {
   "cell_type": "code",
   "execution_count": null,
   "metadata": {
    "id": "mxR5cFVmYOcY"
   },
   "outputs": [],
   "source": [
    "import matplotlib.pyplot as plt"
   ]
  },
  {
   "cell_type": "code",
   "execution_count": null,
   "metadata": {
    "id": "re1q5inCYG2g"
   },
   "outputs": [],
   "source": [
    "from sklearn.decomposition import PCA\n",
    "pca = PCA(n_components=2)\n",
    "xys = pca.fit_transform(mat)\n",
    "xs = xys[:,0]\n",
    "ys = xys[:,1]\n",
    "\n",
    "plt.figure(figsize=(12,6))\n",
    "plt.scatter(xs, ys)\n",
    "\n",
    "for i, word in enumerate(words):\n",
    "    plt.annotate(word, xy=(xs[i], ys[i]), rotation=30)\n",
    "plt.show()"
   ]
  },
  {
   "cell_type": "markdown",
   "metadata": {
    "id": "r_6lEz7kXOwS"
   },
   "source": [
    "## difference between Glove and Word2Vec\n",
    "- Both word2vec and glove enable us to represent a word in the form of a vector (often called embedding). They are the two most popular algorithms for word embeddings that bring out the semantic similarity of words that captures different facets of the meaning of a word.\n",
    "- Word2vec embeddings are based on training a shallow feedforward neural network while glove embeddings are learnt based on matrix factorization techniques.\n",
    "- Glove model is based on leveraging global word to word co-occurance counts leveraging the entire corpus. Word2vec on the other hand leverages co-occurance within local context (neighbouring words).\n",
    "- In practice, however, both these models give similar results for many tasks. ​_Factors such as the dataset on which these models are trained, length of the vectors and so on seem to have a bigger impact than the models themselves. For instance, if I am using these models to derive  the features for a medical application, I can significantly improve performance by training on dataset from the medical domain."
   ]
  },
  {
   "cell_type": "markdown",
   "metadata": {
    "id": "Zf11GuuC9RQB"
   },
   "source": [
    "## Doc2Vec\n",
    "- extension of Word2Vec \n",
    "- https://lovit.github.io/nlp/representation/2018/03/26/word_doc_embedding/\n",
    "- doc2vec을 만드는 과정에서 word2vec 모델이 필요하므로 필연적으로 word2vec도 생성"
   ]
  },
  {
   "cell_type": "code",
   "execution_count": null,
   "metadata": {
    "id": "9MHxmSOgX-yz"
   },
   "outputs": [],
   "source": [
    "#Import all the dependencies\n",
    "from gensim.models.doc2vec import Doc2Vec, TaggedDocument\n",
    "from nltk.tokenize import word_tokenize"
   ]
  },
  {
   "cell_type": "code",
   "execution_count": null,
   "metadata": {
    "id": "JdrCqDa2_8fx"
   },
   "outputs": [],
   "source": [
    "import nltk\n",
    "nltk.download('punkt')"
   ]
  },
  {
   "cell_type": "code",
   "execution_count": null,
   "metadata": {
    "id": "OESglOcEMZ5p"
   },
   "outputs": [],
   "source": [
    "data = [\"I love machine learning. Its awesome.\",\n",
    "        \"I love coding in python\",\n",
    "        \"I love building chatbots\",\n",
    "        \"they chat amagingly well\"]\n",
    "\n",
    "tagged_data = [TaggedDocument(words=word_tokenize(_d.lower()), tags=[str(i)]) for i, _d in enumerate(data)]"
   ]
  },
  {
   "cell_type": "code",
   "execution_count": null,
   "metadata": {
    "id": "k3sM8cZoALxJ"
   },
   "outputs": [],
   "source": [
    "tagged_data"
   ]
  },
  {
   "cell_type": "code",
   "execution_count": null,
   "metadata": {
    "id": "zVD90lOAAWlr"
   },
   "outputs": [],
   "source": [
    "max_epochs = 100\n",
    "vec_size = 5\n",
    "alpha = 0.025\n",
    "\n",
    "model = Doc2Vec(vector_size=vec_size,\n",
    "                alpha=alpha, \n",
    "                min_alpha=0.00025,\n",
    "                min_count=1,\n",
    "                dm =1)    # dm=1:preserves word order, 0: do not preserve order\n",
    "  \n",
    "model.build_vocab(tagged_data)   # build a vocabulary"
   ]
  },
  {
   "cell_type": "code",
   "execution_count": null,
   "metadata": {
    "id": "6FmbclAvB2oM"
   },
   "outputs": [],
   "source": [
    "model.corpus_count, model.epochs"
   ]
  },
  {
   "cell_type": "code",
   "execution_count": null,
   "metadata": {
    "id": "iPCBwYhUBVbI"
   },
   "outputs": [],
   "source": [
    "for epoch in range(max_epochs):\n",
    "    model.train(tagged_data,\n",
    "                total_examples=model.corpus_count,\n",
    "                epochs=model.epochs)\n",
    "    \n",
    "    model.alpha -= 0.0002           # decrease the learning rate\n",
    "    model.min_alpha = model.alpha   # fix the learning rate, no decay\n",
    "\n",
    "model.save(\"d2v.model\")"
   ]
  },
  {
   "cell_type": "code",
   "execution_count": null,
   "metadata": {
    "id": "pCvFf76QCXb9"
   },
   "outputs": [],
   "source": [
    "model= Doc2Vec.load(\"d2v.model\")"
   ]
  },
  {
   "cell_type": "code",
   "execution_count": null,
   "metadata": {
    "id": "32F6LiYUN755"
   },
   "outputs": [],
   "source": [
    "# to infer a new document vector\n",
    "test_data = word_tokenize(\"I love chatbots\".lower())\n",
    "new_v = model.infer_vector(test_data)\n",
    "print(test_data)\n",
    "print(\"new vector inferred: \", new_v)"
   ]
  },
  {
   "cell_type": "code",
   "execution_count": null,
   "metadata": {
    "id": "zSSWNP1cOXJI"
   },
   "outputs": [],
   "source": [
    "model.wv.similar_by_vector(new_v)"
   ]
  },
  {
   "cell_type": "code",
   "execution_count": null,
   "metadata": {
    "id": "Ku_IZEasC1jn"
   },
   "outputs": [],
   "source": [
    "# to find most similar doc using tags (it uses word-vectors.)\n",
    "similar_doc = model.docvecs.most_similar('1')\n",
    "print(similar_doc)"
   ]
  },
  {
   "cell_type": "code",
   "execution_count": null,
   "metadata": {
    "id": "ObUfuJ6cC4lR"
   },
   "outputs": [],
   "source": [
    "# to find vector of doc in training data using tags or in other words, printing the vector of document at index 1 in training data\n",
    "print(model.docvecs['1'])"
   ]
  }
 ],
 "metadata": {
  "accelerator": "GPU",
  "colab": {
   "collapsed_sections": [],
   "name": "lab_62a_word_vector.ipynb",
   "provenance": [],
   "toc_visible": true
  },
  "kernelspec": {
   "display_name": "Python 3",
   "language": "python",
   "name": "python3"
  },
  "language_info": {
   "codemirror_mode": {
    "name": "ipython",
    "version": 3
   },
   "file_extension": ".py",
   "mimetype": "text/x-python",
   "name": "python",
   "nbconvert_exporter": "python",
   "pygments_lexer": "ipython3",
   "version": "3.8.8"
  }
 },
 "nbformat": 4,
 "nbformat_minor": 1
}
