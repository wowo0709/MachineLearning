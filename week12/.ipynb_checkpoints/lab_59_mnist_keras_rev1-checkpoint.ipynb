{
 "cells": [
  {
   "cell_type": "markdown",
   "metadata": {
    "id": "view-in-github"
   },
   "source": [
    "<a href=\"https://colab.research.google.com/github/StillWork/ds-lab/blob/master/gg_51_MNIST_keras.ipynb\" target=\"_parent\"><img src=\"https://colab.research.google.com/assets/colab-badge.svg\" alt=\"Open In Colab\"/></a>"
   ]
  },
  {
   "cell_type": "markdown",
   "metadata": {
    "id": "OO16CDUjp1Ax"
   },
   "source": [
    "## Keras with MNIST dataset"
   ]
  },
  {
   "cell_type": "code",
   "execution_count": 1,
   "metadata": {
    "executionInfo": {
     "elapsed": 2930,
     "status": "ok",
     "timestamp": 1636510266793,
     "user": {
      "displayName": "Yongjin Jeong",
      "photoUrl": "https://lh3.googleusercontent.com/a/default-user=s64",
      "userId": "03658406798560557048"
     },
     "user_tz": -540
    },
    "id": "-AQRftuEqGqx",
    "scrolled": true
   },
   "outputs": [],
   "source": [
    "import numpy as np\n",
    "import tensorflow as tf\n",
    "import tensorflow.keras as keras\n",
    "from tensorflow.keras import layers, models\n",
    "from tensorflow.keras.datasets import mnist\n",
    "from tensorflow.keras.utils import to_categorical"
   ]
  },
  {
   "cell_type": "markdown",
   "metadata": {
    "id": "vSwp3PZNHHha"
   },
   "source": [
    "### Data load"
   ]
  },
  {
   "cell_type": "code",
   "execution_count": 2,
   "metadata": {
    "colab": {
     "base_uri": "https://localhost:8080/"
    },
    "executionInfo": {
     "elapsed": 773,
     "status": "ok",
     "timestamp": 1636510267559,
     "user": {
      "displayName": "Yongjin Jeong",
      "photoUrl": "https://lh3.googleusercontent.com/a/default-user=s64",
      "userId": "03658406798560557048"
     },
     "user_tz": -540
    },
    "id": "vRUwM8gvqToI",
    "outputId": "ef21e88c-21e6-4d1f-81a9-07b74f2576b3"
   },
   "outputs": [
    {
     "name": "stdout",
     "output_type": "stream",
     "text": [
      "Downloading data from https://storage.googleapis.com/tensorflow/tf-keras-datasets/mnist.npz\n",
      "11493376/11490434 [==============================] - 0s 0us/step\n",
      "11501568/11490434 [==============================] - 0s 0us/step\n",
      "(60000, 28, 28) (10000, 28, 28)\n",
      "(60000,) (10000,)\n"
     ]
    }
   ],
   "source": [
    "(train_images, train_labels), (test_images, test_labels) = mnist.load_data()\n",
    "print(train_images.shape, test_images.shape)\n",
    "print(train_labels.shape, test_labels.shape)"
   ]
  },
  {
   "cell_type": "code",
   "execution_count": 3,
   "metadata": {
    "colab": {
     "base_uri": "https://localhost:8080/"
    },
    "executionInfo": {
     "elapsed": 17,
     "status": "ok",
     "timestamp": 1636510267559,
     "user": {
      "displayName": "Yongjin Jeong",
      "photoUrl": "https://lh3.googleusercontent.com/a/default-user=s64",
      "userId": "03658406798560557048"
     },
     "user_tz": -540
    },
    "id": "Qa7eVy32T1ji",
    "outputId": "decd9c3a-22eb-43b7-f170-9e23979167fa"
   },
   "outputs": [
    {
     "data": {
      "text/plain": [
       "255"
      ]
     },
     "execution_count": 3,
     "metadata": {},
     "output_type": "execute_result"
    }
   ],
   "source": [
    "train_images[0].max()   # 8-bit"
   ]
  },
  {
   "cell_type": "code",
   "execution_count": 4,
   "metadata": {
    "colab": {
     "base_uri": "https://localhost:8080/"
    },
    "executionInfo": {
     "elapsed": 14,
     "status": "ok",
     "timestamp": 1636510267560,
     "user": {
      "displayName": "Yongjin Jeong",
      "photoUrl": "https://lh3.googleusercontent.com/a/default-user=s64",
      "userId": "03658406798560557048"
     },
     "user_tz": -540
    },
    "id": "tIJD-M1vUV89",
    "outputId": "9ba91f87-783e-4e12-ef90-74f6078feed8"
   },
   "outputs": [
    {
     "data": {
      "text/plain": [
       "(numpy.ndarray, numpy.ndarray, (28, 28))"
      ]
     },
     "execution_count": 4,
     "metadata": {},
     "output_type": "execute_result"
    }
   ],
   "source": [
    "type(train_images), type(train_images[0]), train_images[0].shape"
   ]
  },
  {
   "cell_type": "code",
   "execution_count": 5,
   "metadata": {
    "colab": {
     "base_uri": "https://localhost:8080/"
    },
    "executionInfo": {
     "elapsed": 11,
     "status": "ok",
     "timestamp": 1636510267560,
     "user": {
      "displayName": "Yongjin Jeong",
      "photoUrl": "https://lh3.googleusercontent.com/a/default-user=s64",
      "userId": "03658406798560557048"
     },
     "user_tz": -540
    },
    "id": "mF-5-RTZcrwQ",
    "outputId": "25e19bef-50fd-4dbe-efe6-f11604395eb2"
   },
   "outputs": [
    {
     "data": {
      "text/plain": [
       "(numpy.ndarray, numpy.uint8, 5)"
      ]
     },
     "execution_count": 5,
     "metadata": {},
     "output_type": "execute_result"
    }
   ],
   "source": [
    "type(train_labels), type(train_labels[0]), train_labels[0]"
   ]
  },
  {
   "cell_type": "code",
   "execution_count": 6,
   "metadata": {
    "colab": {
     "base_uri": "https://localhost:8080/"
    },
    "executionInfo": {
     "elapsed": 9,
     "status": "ok",
     "timestamp": 1636510267561,
     "user": {
      "displayName": "Yongjin Jeong",
      "photoUrl": "https://lh3.googleusercontent.com/a/default-user=s64",
      "userId": "03658406798560557048"
     },
     "user_tz": -540
    },
    "id": "_HdoWLENcrwp",
    "outputId": "4bc1d2dc-f38e-42b0-d2ff-9ad27d24bddc"
   },
   "outputs": [
    {
     "data": {
      "text/plain": [
       "((60000, 28, 28), dtype('uint8'))"
      ]
     },
     "execution_count": 6,
     "metadata": {},
     "output_type": "execute_result"
    }
   ],
   "source": [
    "train_images.shape, train_labels.dtype"
   ]
  },
  {
   "cell_type": "markdown",
   "metadata": {
    "id": "JUaSP2MbtRiS"
   },
   "source": [
    "### MNIST image and Preprocessing"
   ]
  },
  {
   "cell_type": "code",
   "execution_count": 7,
   "metadata": {
    "colab": {
     "base_uri": "https://localhost:8080/",
     "height": 218
    },
    "executionInfo": {
     "elapsed": 640,
     "status": "ok",
     "timestamp": 1636510268194,
     "user": {
      "displayName": "Yongjin Jeong",
      "photoUrl": "https://lh3.googleusercontent.com/a/default-user=s64",
      "userId": "03658406798560557048"
     },
     "user_tz": -540
    },
    "id": "UZlBIBHpbRQF",
    "outputId": "3dc08ba2-142a-4035-dd76-78d8b4f56f1e"
   },
   "outputs": [
    {
     "data": {
      "text/plain": [
       "<function matplotlib.pyplot.show>"
      ]
     },
     "execution_count": 7,
     "metadata": {},
     "output_type": "execute_result"
    },
    {
     "data": {
      "image/png": "[encoded data removed]",
      "text/plain": [
       "<Figure size 432x288 with 2 Axes>"
      ]
     },
     "metadata": {
      "needs_background": "light"
     },
     "output_type": "display_data"
    }
   ],
   "source": [
    "import matplotlib.pyplot as plt\n",
    "%matplotlib inline\n",
    "plt.subplot(1,2,1)\n",
    "plt.imshow(train_images[0], cmap=plt.cm.binary)\n",
    "plt.subplot(1,2,2)\n",
    "plt.imshow(train_images[0]/255, cmap=plt.cm.binary)\n",
    "plt.show"
   ]
  },
  {
   "cell_type": "code",
   "execution_count": 8,
   "metadata": {
    "colab": {
     "base_uri": "https://localhost:8080/"
    },
    "executionInfo": {
     "elapsed": 22,
     "status": "ok",
     "timestamp": 1636510268196,
     "user": {
      "displayName": "Yongjin Jeong",
      "photoUrl": "https://lh3.googleusercontent.com/a/default-user=s64",
      "userId": "03658406798560557048"
     },
     "user_tz": -540
    },
    "id": "RnNmJ6N1crxc",
    "outputId": "d0654023-db08-4e9f-da85-654e4abdaffa"
   },
   "outputs": [
    {
     "name": "stdout",
     "output_type": "stream",
     "text": [
      "<class 'numpy.ndarray'> [5 0 4 1 9 2 1 3 1 4]\n"
     ]
    },
    {
     "data": {
      "text/plain": [
       "((60000, 28, 28), (60000,))"
      ]
     },
     "execution_count": 8,
     "metadata": {},
     "output_type": "execute_result"
    }
   ],
   "source": [
    "# just for checking\n",
    "print(type(train_labels), train_labels[:10])\n",
    "train_images.shape, train_labels.shape"
   ]
  },
  {
   "cell_type": "code",
   "execution_count": 9,
   "metadata": {
    "executionInfo": {
     "elapsed": 17,
     "status": "ok",
     "timestamp": 1636510268196,
     "user": {
      "displayName": "Yongjin Jeong",
      "photoUrl": "https://lh3.googleusercontent.com/a/default-user=s64",
      "userId": "03658406798560557048"
     },
     "user_tz": -540
    },
    "id": "EafiutHbqni_"
   },
   "outputs": [],
   "source": [
    "train_images = train_images.reshape((60000, 28, 28, 1))\n",
    "train_images = train_images.astype('float32')/255         # scaling\n",
    "\n",
    "test_images = test_images.reshape((10000, 28, 28, 1))\n",
    "test_images = test_images.astype('float32')/255\n",
    "\n",
    "train_labels = to_categorical(train_labels)   # one-hot encoding\n",
    "test_labels = to_categorical(test_labels)"
   ]
  },
  {
   "cell_type": "code",
   "execution_count": 10,
   "metadata": {
    "colab": {
     "base_uri": "https://localhost:8080/"
    },
    "executionInfo": {
     "elapsed": 17,
     "status": "ok",
     "timestamp": 1636510268197,
     "user": {
      "displayName": "Yongjin Jeong",
      "photoUrl": "https://lh3.googleusercontent.com/a/default-user=s64",
      "userId": "03658406798560557048"
     },
     "user_tz": -540
    },
    "id": "BoHSMVqj_Kzf",
    "outputId": "6be8e8d1-a85d-4b17-92a4-200ea4a2c231"
   },
   "outputs": [
    {
     "data": {
      "text/plain": [
       "((60000, 28, 28, 1), (60000, 10))"
      ]
     },
     "execution_count": 10,
     "metadata": {},
     "output_type": "execute_result"
    }
   ],
   "source": [
    "train_images.shape, train_labels.shape"
   ]
  },
  {
   "cell_type": "code",
   "execution_count": 11,
   "metadata": {
    "colab": {
     "base_uri": "https://localhost:8080/"
    },
    "executionInfo": {
     "elapsed": 13,
     "status": "ok",
     "timestamp": 1636510268197,
     "user": {
      "displayName": "Yongjin Jeong",
      "photoUrl": "https://lh3.googleusercontent.com/a/default-user=s64",
      "userId": "03658406798560557048"
     },
     "user_tz": -540
    },
    "id": "m9XjypZxcryK",
    "outputId": "dae74880-b616-45bd-b920-c70c6952a610"
   },
   "outputs": [
    {
     "name": "stdout",
     "output_type": "stream",
     "text": [
      "[[0. 0. 0. 0. 0. 1. 0. 0. 0. 0.]\n",
      " [1. 0. 0. 0. 0. 0. 0. 0. 0. 0.]\n",
      " [0. 0. 0. 0. 1. 0. 0. 0. 0. 0.]\n",
      " [0. 1. 0. 0. 0. 0. 0. 0. 0. 0.]\n",
      " [0. 0. 0. 0. 0. 0. 0. 0. 0. 1.]\n",
      " [0. 0. 1. 0. 0. 0. 0. 0. 0. 0.]\n",
      " [0. 1. 0. 0. 0. 0. 0. 0. 0. 0.]\n",
      " [0. 0. 0. 1. 0. 0. 0. 0. 0. 0.]\n",
      " [0. 1. 0. 0. 0. 0. 0. 0. 0. 0.]\n",
      " [0. 0. 0. 0. 1. 0. 0. 0. 0. 0.]] <class 'numpy.ndarray'>\n"
     ]
    }
   ],
   "source": [
    "print(train_labels[:10], type(train_labels), )"
   ]
  },
  {
   "cell_type": "markdown",
   "metadata": {
    "id": "Czew2EJub6Ja"
   },
   "source": [
    "### MLP"
   ]
  },
  {
   "cell_type": "markdown",
   "metadata": {
    "id": "CC-A1BKOGUOL"
   },
   "source": [
    "#### Single flattened layer"
   ]
  },
  {
   "cell_type": "code",
   "execution_count": 12,
   "metadata": {
    "executionInfo": {
     "elapsed": 315,
     "status": "ok",
     "timestamp": 1636510268502,
     "user": {
      "displayName": "Yongjin Jeong",
      "photoUrl": "https://lh3.googleusercontent.com/a/default-user=s64",
      "userId": "03658406798560557048"
     },
     "user_tz": -540
    },
    "id": "Gu8Z6K8eHzgn"
   },
   "outputs": [],
   "source": [
    "(train_images, train_labels), (test_images, test_labels) = mnist.load_data()\n",
    "train_images = train_images.reshape((60000, 28*28*1))\n",
    "train_images = train_images.astype('float32')/255         # scaling\n",
    "\n",
    "test_images = test_images.reshape((10000, 28*28*1))\n",
    "test_images = test_images.astype('float32')/255\n",
    "\n",
    "train_labels = to_categorical(train_labels)   # one-hot encoding\n",
    "test_labels = to_categorical(test_labels)"
   ]
  },
  {
   "cell_type": "code",
   "execution_count": 13,
   "metadata": {
    "colab": {
     "base_uri": "https://localhost:8080/"
    },
    "executionInfo": {
     "elapsed": 5987,
     "status": "ok",
     "timestamp": 1636510274481,
     "user": {
      "displayName": "Yongjin Jeong",
      "photoUrl": "https://lh3.googleusercontent.com/a/default-user=s64",
      "userId": "03658406798560557048"
     },
     "user_tz": -540
    },
    "id": "cTsZpuk1FuEc",
    "outputId": "b4e56a7c-78ab-4127-f62f-0fd306ff9c5b"
   },
   "outputs": [
    {
     "name": "stdout",
     "output_type": "stream",
     "text": [
      "Model: \"sequential\"\n",
      "_________________________________________________________________\n",
      " Layer (type)                Output Shape              Param #   \n",
      "=================================================================\n",
      " dense (Dense)               (None, 10)                7850      \n",
      "                                                                 \n",
      "=================================================================\n",
      "Total params: 7,850\n",
      "Trainable params: 7,850\n",
      "Non-trainable params: 0\n",
      "_________________________________________________________________\n"
     ]
    }
   ],
   "source": [
    "# a single MLP layer\n",
    "\n",
    "model = models.Sequential()\n",
    "model.add(layers.Dense(10, activation='softmax', input_shape = (28*28*1, )))\n",
    "model.summary()\n"
   ]
  },
  {
   "cell_type": "code",
   "execution_count": 14,
   "metadata": {
    "colab": {
     "base_uri": "https://localhost:8080/"
    },
    "executionInfo": {
     "elapsed": 43474,
     "status": "ok",
     "timestamp": 1636510317948,
     "user": {
      "displayName": "Yongjin Jeong",
      "photoUrl": "https://lh3.googleusercontent.com/a/default-user=s64",
      "userId": "03658406798560557048"
     },
     "user_tz": -540
    },
    "id": "piMtpeTIxFS2",
    "outputId": "4dcd5e28-54d4-49c1-acd9-015fb812c7c0"
   },
   "outputs": [
    {
     "name": "stdout",
     "output_type": "stream",
     "text": [
      "Epoch 1/30\n",
      "235/235 - 4s - loss: 0.7824 - accuracy: 0.8110 - 4s/epoch - 16ms/step\n",
      "Epoch 2/30\n",
      "235/235 - 1s - loss: 0.3706 - accuracy: 0.8993 - 787ms/epoch - 3ms/step\n",
      "Epoch 3/30\n",
      "235/235 - 1s - loss: 0.3237 - accuracy: 0.9101 - 755ms/epoch - 3ms/step\n",
      "Epoch 4/30\n",
      "235/235 - 1s - loss: 0.3037 - accuracy: 0.9149 - 771ms/epoch - 3ms/step\n",
      "Epoch 5/30\n",
      "235/235 - 1s - loss: 0.2922 - accuracy: 0.9177 - 778ms/epoch - 3ms/step\n",
      "Epoch 6/30\n",
      "235/235 - 1s - loss: 0.2845 - accuracy: 0.9203 - 777ms/epoch - 3ms/step\n",
      "Epoch 7/30\n",
      "235/235 - 1s - loss: 0.2788 - accuracy: 0.9225 - 779ms/epoch - 3ms/step\n",
      "Epoch 8/30\n",
      "235/235 - 1s - loss: 0.2743 - accuracy: 0.9235 - 772ms/epoch - 3ms/step\n",
      "Epoch 9/30\n",
      "235/235 - 1s - loss: 0.2707 - accuracy: 0.9246 - 780ms/epoch - 3ms/step\n",
      "Epoch 10/30\n",
      "235/235 - 1s - loss: 0.2679 - accuracy: 0.9247 - 758ms/epoch - 3ms/step\n",
      "Epoch 11/30\n",
      "235/235 - 1s - loss: 0.2656 - accuracy: 0.9264 - 774ms/epoch - 3ms/step\n",
      "Epoch 12/30\n",
      "235/235 - 1s - loss: 0.2634 - accuracy: 0.9271 - 757ms/epoch - 3ms/step\n",
      "Epoch 13/30\n",
      "235/235 - 1s - loss: 0.2616 - accuracy: 0.9271 - 758ms/epoch - 3ms/step\n",
      "Epoch 14/30\n",
      "235/235 - 1s - loss: 0.2600 - accuracy: 0.9284 - 765ms/epoch - 3ms/step\n",
      "Epoch 15/30\n",
      "235/235 - 1s - loss: 0.2585 - accuracy: 0.9287 - 777ms/epoch - 3ms/step\n",
      "Epoch 16/30\n",
      "235/235 - 1s - loss: 0.2568 - accuracy: 0.9291 - 755ms/epoch - 3ms/step\n",
      "Epoch 17/30\n",
      "235/235 - 1s - loss: 0.2557 - accuracy: 0.9295 - 775ms/epoch - 3ms/step\n",
      "Epoch 18/30\n",
      "235/235 - 1s - loss: 0.2550 - accuracy: 0.9300 - 797ms/epoch - 3ms/step\n",
      "Epoch 19/30\n",
      "235/235 - 1s - loss: 0.2538 - accuracy: 0.9300 - 765ms/epoch - 3ms/step\n",
      "Epoch 20/30\n",
      "235/235 - 1s - loss: 0.2528 - accuracy: 0.9308 - 745ms/epoch - 3ms/step\n",
      "Epoch 21/30\n",
      "235/235 - 1s - loss: 0.2520 - accuracy: 0.9305 - 760ms/epoch - 3ms/step\n",
      "Epoch 22/30\n",
      "235/235 - 1s - loss: 0.2512 - accuracy: 0.9308 - 772ms/epoch - 3ms/step\n",
      "Epoch 23/30\n",
      "235/235 - 1s - loss: 0.2505 - accuracy: 0.9310 - 751ms/epoch - 3ms/step\n",
      "Epoch 24/30\n",
      "235/235 - 1s - loss: 0.2499 - accuracy: 0.9316 - 766ms/epoch - 3ms/step\n",
      "Epoch 25/30\n",
      "235/235 - 1s - loss: 0.2493 - accuracy: 0.9322 - 766ms/epoch - 3ms/step\n",
      "Epoch 26/30\n",
      "235/235 - 1s - loss: 0.2486 - accuracy: 0.9324 - 751ms/epoch - 3ms/step\n",
      "Epoch 27/30\n",
      "235/235 - 1s - loss: 0.2482 - accuracy: 0.9323 - 762ms/epoch - 3ms/step\n",
      "Epoch 28/30\n",
      "235/235 - 1s - loss: 0.2473 - accuracy: 0.9328 - 755ms/epoch - 3ms/step\n",
      "Epoch 29/30\n",
      "235/235 - 1s - loss: 0.2470 - accuracy: 0.9330 - 787ms/epoch - 3ms/step\n",
      "Epoch 30/30\n",
      "235/235 - 1s - loss: 0.2466 - accuracy: 0.9331 - 765ms/epoch - 3ms/step\n",
      "313/313 [==============================] - 1s 4ms/step - loss: 0.2667 - accuracy: 0.9276\n",
      "test_acc =  0.9276000261306763\n"
     ]
    }
   ],
   "source": [
    "model.compile(optimizer= 'rmsprop',             # set up hyperparamers\n",
    "             loss = 'categorical_crossentropy',\n",
    "             metrics = ['accuracy'])\n",
    "\n",
    "model.fit(train_images, train_labels, epochs=30, batch_size=256, verbose=2)\n",
    "\n",
    "test_loss, test_acc = model.evaluate(test_images, test_labels) # default batch size=32\n",
    "print('test_acc = ',test_acc)"
   ]
  },
  {
   "cell_type": "code",
   "execution_count": 15,
   "metadata": {
    "colab": {
     "base_uri": "https://localhost:8080/",
     "height": 332
    },
    "executionInfo": {
     "elapsed": 702,
     "status": "ok",
     "timestamp": 1636510318623,
     "user": {
      "displayName": "Yongjin Jeong",
      "photoUrl": "https://lh3.googleusercontent.com/a/default-user=s64",
      "userId": "03658406798560557048"
     },
     "user_tz": -540
    },
    "id": "jJXC73RGkwjk",
    "outputId": "75e8f5ff-f48a-446f-8238-43322c364f35"
   },
   "outputs": [
    {
     "name": "stdout",
     "output_type": "stream",
     "text": [
      "(28, 28)\n"
     ]
    },
    {
     "data": {
      "text/plain": [
       "array([[0.0000000e+00, 0.0000000e+00, 9.9999988e-01, 0.0000000e+00,\n",
       "        0.0000000e+00, 0.0000000e+00, 0.0000000e+00, 1.0556226e-07,\n",
       "        0.0000000e+00, 0.0000000e+00]], dtype=float32)"
      ]
     },
     "execution_count": 15,
     "metadata": {},
     "output_type": "execute_result"
    },
    {
     "data": {
      "image/png": "[encoded data removed]",
      "text/plain": [
       "<Figure size 432x288 with 1 Axes>"
      ]
     },
     "metadata": {
      "needs_background": "light"
     },
     "output_type": "display_data"
    }
   ],
   "source": [
    "from PIL import Image, ImageOps\n",
    "import matplotlib.pyplot as plt\n",
    "image = Image.open('num_4_thin.png' ).convert('LA')\n",
    "image = ImageOps.grayscale(image)\n",
    "image = np.asarray(image.resize((28,28)))\n",
    "image = 255. - image\n",
    "plt.imshow(image, cmap='Greys')\n",
    "print(np.asarray(image).shape)\n",
    "# model.predict(image.reshape(1, 28,28,1).astype('float64') / 255)\n",
    "model.predict(image.reshape(1, 28*28))"
   ]
  },
  {
   "cell_type": "markdown",
   "metadata": {
    "id": "g5LUPZunF5Q8"
   },
   "source": [
    "#### MLP with hidden layers"
   ]
  },
  {
   "cell_type": "code",
   "execution_count": 16,
   "metadata": {
    "colab": {
     "base_uri": "https://localhost:8080/"
    },
    "executionInfo": {
     "elapsed": 60,
     "status": "ok",
     "timestamp": 1636510318623,
     "user": {
      "displayName": "Yongjin Jeong",
      "photoUrl": "https://lh3.googleusercontent.com/a/default-user=s64",
      "userId": "03658406798560557048"
     },
     "user_tz": -540
    },
    "id": "4tlDJdu8b5XD",
    "outputId": "09ed0703-1fa9-425d-fcd5-ca336e92a87d"
   },
   "outputs": [
    {
     "name": "stdout",
     "output_type": "stream",
     "text": [
      "Model: \"sequential_1\"\n",
      "_________________________________________________________________\n",
      " Layer (type)                Output Shape              Param #   \n",
      "=================================================================\n",
      " dense_1 (Dense)             (None, 100)               78500     \n",
      "                                                                 \n",
      " dense_2 (Dense)             (None, 100)               10100     \n",
      "                                                                 \n",
      " flatten (Flatten)           (None, 100)               0         \n",
      "                                                                 \n",
      " dense_3 (Dense)             (None, 10)                1010      \n",
      "                                                                 \n",
      "=================================================================\n",
      "Total params: 89,610\n",
      "Trainable params: 89,610\n",
      "Non-trainable params: 0\n",
      "_________________________________________________________________\n"
     ]
    }
   ],
   "source": [
    "model = models.Sequential()\n",
    "model.add(layers.Dense(100, activation='relu', input_shape = (28*28*1, ))) # fully-connected\n",
    "model.add(layers.Dense(100, activation='relu'))\n",
    "model.add(layers.Flatten())\n",
    "model.add(layers.Dense(10, activation='softmax'))\n",
    "model.summary()"
   ]
  },
  {
   "cell_type": "code",
   "execution_count": 17,
   "metadata": {
    "colab": {
     "base_uri": "https://localhost:8080/"
    },
    "executionInfo": {
     "elapsed": 52,
     "status": "ok",
     "timestamp": 1636510318624,
     "user": {
      "displayName": "Yongjin Jeong",
      "photoUrl": "https://lh3.googleusercontent.com/a/default-user=s64",
      "userId": "03658406798560557048"
     },
     "user_tz": -540
    },
    "id": "BxhtwGwIcryz",
    "outputId": "37ef0833-99e7-4ac1-8f04-6879f52f6744"
   },
   "outputs": [
    {
     "name": "stdout",
     "output_type": "stream",
     "text": [
      "KerasTensor(type_spec=TensorSpec(shape=(None, 784), dtype=tf.float32, name='dense_1_input'), name='dense_1_input', description=\"created by layer 'dense_1_input'\")\n",
      "KerasTensor(type_spec=TensorSpec(shape=(None, 10), dtype=tf.float32, name=None), name='dense_3/Softmax:0', description=\"created by layer 'dense_3'\")\n"
     ]
    }
   ],
   "source": [
    "print(model.input)\n",
    "print(model.output)"
   ]
  },
  {
   "cell_type": "code",
   "execution_count": 18,
   "metadata": {
    "colab": {
     "base_uri": "https://localhost:8080/"
    },
    "executionInfo": {
     "elapsed": 45,
     "status": "ok",
     "timestamp": 1636510318625,
     "user": {
      "displayName": "Yongjin Jeong",
      "photoUrl": "https://lh3.googleusercontent.com/a/default-user=s64",
      "userId": "03658406798560557048"
     },
     "user_tz": -540
    },
    "id": "FpY6d-bPif-9",
    "outputId": "5c2bcd3d-abbd-45b9-eaf4-5d7c4dd4d1ba"
   },
   "outputs": [
    {
     "name": "stdout",
     "output_type": "stream",
     "text": [
      "(None, 784)\n",
      "(None, 10)\n"
     ]
    },
    {
     "data": {
      "text/plain": [
       "<KerasTensor: shape=(None, 784) dtype=float32 (created by layer 'dense_1_input')>"
      ]
     },
     "execution_count": 18,
     "metadata": {},
     "output_type": "execute_result"
    }
   ],
   "source": [
    "print(model.input_shape)\n",
    "print(model.output_shape)\n",
    "model.input"
   ]
  },
  {
   "cell_type": "code",
   "execution_count": 19,
   "metadata": {
    "colab": {
     "base_uri": "https://localhost:8080/"
    },
    "executionInfo": {
     "elapsed": 38,
     "status": "ok",
     "timestamp": 1636510318625,
     "user": {
      "displayName": "Yongjin Jeong",
      "photoUrl": "https://lh3.googleusercontent.com/a/default-user=s64",
      "userId": "03658406798560557048"
     },
     "user_tz": -540
    },
    "id": "WY3Uk5x7irgJ",
    "outputId": "a3885b47-12f6-4886-c4fe-87acf724b4b2"
   },
   "outputs": [
    {
     "data": {
      "text/plain": [
       "(<KerasTensor: shape=(None, 784) dtype=float32 (created by layer 'dense_1_input')>,\n",
       " <KerasTensor: shape=(None, 100) dtype=float32 (created by layer 'dense_1')>,\n",
       " True)"
      ]
     },
     "execution_count": 19,
     "metadata": {},
     "output_type": "execute_result"
    }
   ],
   "source": [
    "model.layers[0].input, model.layers[0].output, model.layers[0].trainable"
   ]
  },
  {
   "cell_type": "code",
   "execution_count": 20,
   "metadata": {
    "executionInfo": {
     "elapsed": 33,
     "status": "ok",
     "timestamp": 1636510318626,
     "user": {
      "displayName": "Yongjin Jeong",
      "photoUrl": "https://lh3.googleusercontent.com/a/default-user=s64",
      "userId": "03658406798560557048"
     },
     "user_tz": -540
    },
    "id": "jiv81CMBcf88"
   },
   "outputs": [],
   "source": [
    "model.compile(optimizer= 'rmsprop',             # set up hyperparamers\n",
    "             loss = 'categorical_crossentropy',\n",
    "             metrics = ['accuracy'])"
   ]
  },
  {
   "cell_type": "code",
   "execution_count": 21,
   "metadata": {
    "colab": {
     "base_uri": "https://localhost:8080/"
    },
    "executionInfo": {
     "elapsed": 41833,
     "status": "ok",
     "timestamp": 1636510360427,
     "user": {
      "displayName": "Yongjin Jeong",
      "photoUrl": "https://lh3.googleusercontent.com/a/default-user=s64",
      "userId": "03658406798560557048"
     },
     "user_tz": -540
    },
    "id": "oV47F7rsb5EY",
    "outputId": "95597b4e-626b-4d0a-9e91-9e32a7ef7f7b"
   },
   "outputs": [
    {
     "name": "stdout",
     "output_type": "stream",
     "text": [
      "Epoch 1/30\n",
      "300/300 [==============================] - 2s 5ms/step - loss: 0.3613 - accuracy: 0.8972\n",
      "Epoch 2/30\n",
      "300/300 [==============================] - 1s 4ms/step - loss: 0.1645 - accuracy: 0.9519\n",
      "Epoch 3/30\n",
      "300/300 [==============================] - 1s 4ms/step - loss: 0.1160 - accuracy: 0.9657\n",
      "Epoch 4/30\n",
      "300/300 [==============================] - 1s 4ms/step - loss: 0.0891 - accuracy: 0.9730\n",
      "Epoch 5/30\n",
      "300/300 [==============================] - 1s 4ms/step - loss: 0.0723 - accuracy: 0.9778\n",
      "Epoch 6/30\n",
      "300/300 [==============================] - 1s 4ms/step - loss: 0.0585 - accuracy: 0.9823\n",
      "Epoch 7/30\n",
      "300/300 [==============================] - 1s 4ms/step - loss: 0.0490 - accuracy: 0.9848\n",
      "Epoch 8/30\n",
      "300/300 [==============================] - 1s 4ms/step - loss: 0.0415 - accuracy: 0.9873\n",
      "Epoch 9/30\n",
      "300/300 [==============================] - 1s 4ms/step - loss: 0.0357 - accuracy: 0.9889\n",
      "Epoch 10/30\n",
      "300/300 [==============================] - 1s 4ms/step - loss: 0.0300 - accuracy: 0.9907\n",
      "Epoch 11/30\n",
      "300/300 [==============================] - 1s 4ms/step - loss: 0.0254 - accuracy: 0.9920\n",
      "Epoch 12/30\n",
      "300/300 [==============================] - 1s 4ms/step - loss: 0.0225 - accuracy: 0.9934\n",
      "Epoch 13/30\n",
      "300/300 [==============================] - 1s 4ms/step - loss: 0.0185 - accuracy: 0.9946\n",
      "Epoch 14/30\n",
      "300/300 [==============================] - 1s 4ms/step - loss: 0.0160 - accuracy: 0.9952\n",
      "Epoch 15/30\n",
      "300/300 [==============================] - 1s 4ms/step - loss: 0.0139 - accuracy: 0.9958\n",
      "Epoch 16/30\n",
      "300/300 [==============================] - 1s 4ms/step - loss: 0.0124 - accuracy: 0.9960\n",
      "Epoch 17/30\n",
      "300/300 [==============================] - 1s 4ms/step - loss: 0.0107 - accuracy: 0.9969\n",
      "Epoch 18/30\n",
      "300/300 [==============================] - 1s 4ms/step - loss: 0.0093 - accuracy: 0.9973\n",
      "Epoch 19/30\n",
      "300/300 [==============================] - 1s 4ms/step - loss: 0.0077 - accuracy: 0.9978\n",
      "Epoch 20/30\n",
      "300/300 [==============================] - 1s 4ms/step - loss: 0.0064 - accuracy: 0.9982\n",
      "Epoch 21/30\n",
      "300/300 [==============================] - 1s 5ms/step - loss: 0.0058 - accuracy: 0.9983\n",
      "Epoch 22/30\n",
      "300/300 [==============================] - 1s 5ms/step - loss: 0.0054 - accuracy: 0.9984\n",
      "Epoch 23/30\n",
      "300/300 [==============================] - 1s 4ms/step - loss: 0.0047 - accuracy: 0.9985\n",
      "Epoch 24/30\n",
      "300/300 [==============================] - 1s 4ms/step - loss: 0.0041 - accuracy: 0.9987\n",
      "Epoch 25/30\n",
      "300/300 [==============================] - 1s 4ms/step - loss: 0.0041 - accuracy: 0.9987\n",
      "Epoch 26/30\n",
      "300/300 [==============================] - 1s 4ms/step - loss: 0.0030 - accuracy: 0.9991\n",
      "Epoch 27/30\n",
      "300/300 [==============================] - 1s 4ms/step - loss: 0.0034 - accuracy: 0.9990\n",
      "Epoch 28/30\n",
      "300/300 [==============================] - 1s 5ms/step - loss: 0.0037 - accuracy: 0.9988\n",
      "Epoch 29/30\n",
      "300/300 [==============================] - 1s 5ms/step - loss: 0.0024 - accuracy: 0.9993\n",
      "Epoch 30/30\n",
      "300/300 [==============================] - 1s 5ms/step - loss: 0.0029 - accuracy: 0.9991\n"
     ]
    },
    {
     "data": {
      "text/plain": [
       "<keras.callbacks.History at 0x7fab78335890>"
      ]
     },
     "execution_count": 21,
     "metadata": {},
     "output_type": "execute_result"
    }
   ],
   "source": [
    "model.fit(train_images, train_labels, epochs=30, batch_size=200) "
   ]
  },
  {
   "cell_type": "code",
   "execution_count": 22,
   "metadata": {
    "colab": {
     "base_uri": "https://localhost:8080/"
    },
    "executionInfo": {
     "elapsed": 1346,
     "status": "ok",
     "timestamp": 1636510361724,
     "user": {
      "displayName": "Yongjin Jeong",
      "photoUrl": "https://lh3.googleusercontent.com/a/default-user=s64",
      "userId": "03658406798560557048"
     },
     "user_tz": -540
    },
    "id": "JWGwyDRBdNqL",
    "outputId": "cb3e3525-8672-4f49-e509-0df72e7e42a1"
   },
   "outputs": [
    {
     "name": "stdout",
     "output_type": "stream",
     "text": [
      "313/313 [==============================] - 1s 4ms/step - loss: 0.1369 - accuracy: 0.9774\n",
      "test_acc =  0.977400004863739\n"
     ]
    }
   ],
   "source": [
    "test_loss, test_acc = model.evaluate(test_images, test_labels) # default batch size=32\n",
    "print('test_acc = ',test_acc)"
   ]
  },
  {
   "cell_type": "markdown",
   "metadata": {
    "id": "44tLYKCwtYc-"
   },
   "source": [
    "### CNN "
   ]
  },
  {
   "cell_type": "code",
   "execution_count": 23,
   "metadata": {
    "executionInfo": {
     "elapsed": 7,
     "status": "ok",
     "timestamp": 1636510361725,
     "user": {
      "displayName": "Yongjin Jeong",
      "photoUrl": "https://lh3.googleusercontent.com/a/default-user=s64",
      "userId": "03658406798560557048"
     },
     "user_tz": -540
    },
    "id": "GtGbjQ2Xcrzc"
   },
   "outputs": [],
   "source": [
    "# keras.layers.Conv2D(filters, kernel_size,...)\n",
    "# - filters: the dimensionality of the output space (the number of output filters).\n",
    "# - parameter 수: 입력채널수 X 필터폭 X 필터높이 X 출력채널수 \n",
    "# - bias 도 고려"
   ]
  },
  {
   "cell_type": "code",
   "execution_count": 24,
   "metadata": {
    "executionInfo": {
     "elapsed": 327,
     "status": "ok",
     "timestamp": 1636510362046,
     "user": {
      "displayName": "Yongjin Jeong",
      "photoUrl": "https://lh3.googleusercontent.com/a/default-user=s64",
      "userId": "03658406798560557048"
     },
     "user_tz": -540
    },
    "id": "8nuyNeduXF08"
   },
   "outputs": [],
   "source": [
    "(train_images, train_labels), (test_images, test_labels) = mnist.load_data()\n",
    "train_images = train_images.reshape(60000, 28, 28, 1)\n",
    "train_images = train_images.astype('float32')/255         # scaling\n",
    "\n",
    "test_images = test_images.reshape(10000, 28, 28, 1)\n",
    "test_images = test_images.astype('float32')/255\n",
    "\n",
    "train_labels = to_categorical(train_labels)   # one-hot encoding\n",
    "test_labels = to_categorical(test_labels)"
   ]
  },
  {
   "cell_type": "code",
   "execution_count": 25,
   "metadata": {
    "colab": {
     "base_uri": "https://localhost:8080/"
    },
    "executionInfo": {
     "elapsed": 8,
     "status": "ok",
     "timestamp": 1636510362367,
     "user": {
      "displayName": "Yongjin Jeong",
      "photoUrl": "https://lh3.googleusercontent.com/a/default-user=s64",
      "userId": "03658406798560557048"
     },
     "user_tz": -540
    },
    "id": "ZF7JkSQvrYAj",
    "outputId": "38fd23e4-b8b8-4614-9c0a-0a821dce1743"
   },
   "outputs": [
    {
     "name": "stdout",
     "output_type": "stream",
     "text": [
      "(None, 10)\n",
      "Model: \"sequential_2\"\n",
      "_________________________________________________________________\n",
      " Layer (type)                Output Shape              Param #   \n",
      "=================================================================\n",
      " conv2d (Conv2D)             (None, 26, 26, 32)        320       \n",
      "                                                                 \n",
      " max_pooling2d (MaxPooling2D  (None, 13, 13, 32)       0         \n",
      " )                                                               \n",
      "                                                                 \n",
      " conv2d_1 (Conv2D)           (None, 11, 11, 64)        18496     \n",
      "                                                                 \n",
      " max_pooling2d_1 (MaxPooling  (None, 5, 5, 64)         0         \n",
      " 2D)                                                             \n",
      "                                                                 \n",
      " conv2d_2 (Conv2D)           (None, 3, 3, 64)          36928     \n",
      "                                                                 \n",
      " flatten_1 (Flatten)         (None, 576)               0         \n",
      "                                                                 \n",
      " dense_4 (Dense)             (None, 10)                5770      \n",
      "                                                                 \n",
      "=================================================================\n",
      "Total params: 61,514\n",
      "Trainable params: 61,514\n",
      "Non-trainable params: 0\n",
      "_________________________________________________________________\n"
     ]
    }
   ],
   "source": [
    "from keras import layers\n",
    "from keras import models\n",
    "\n",
    "model = models.Sequential()\n",
    "\n",
    "model.add(layers.Conv2D(32, (3,3), activation='relu', input_shape = (28, 28, 1)))\n",
    "model.add(layers.MaxPooling2D((2,2)))\n",
    "model.add(layers.Conv2D(64, (3,3), activation='relu'))\n",
    "model.add(layers.MaxPooling2D((2,2)))\n",
    "model.add(layers.Conv2D(64, (3,3), activation='relu'))\n",
    "# print(model.output_shape)\n",
    "\n",
    "model.add(layers.Flatten())\n",
    "model.add(layers.Dense(10, activation='softmax'))\n",
    "print(model.output_shape)\n",
    "\n",
    "model.summary()   "
   ]
  },
  {
   "cell_type": "code",
   "execution_count": 26,
   "metadata": {
    "executionInfo": {
     "elapsed": 7,
     "status": "ok",
     "timestamp": 1636510362368,
     "user": {
      "displayName": "Yongjin Jeong",
      "photoUrl": "https://lh3.googleusercontent.com/a/default-user=s64",
      "userId": "03658406798560557048"
     },
     "user_tz": -540
    },
    "id": "SM-4br69crzu"
   },
   "outputs": [],
   "source": [
    "# number of parameters\n",
    "# conv2d_1 : 3*3*1*32 + 32 = 320\n",
    "# conv2d_2 : 3*3*32*64 + 64 = 18496\n",
    "# conv2d_3 : 3*3*64*64 + 64 = 36928\n",
    "# dense_6 : 3*3*64*10 + 10 = 5770"
   ]
  },
  {
   "cell_type": "code",
   "execution_count": 27,
   "metadata": {
    "executionInfo": {
     "elapsed": 7,
     "status": "ok",
     "timestamp": 1636510362368,
     "user": {
      "displayName": "Yongjin Jeong",
      "photoUrl": "https://lh3.googleusercontent.com/a/default-user=s64",
      "userId": "03658406798560557048"
     },
     "user_tz": -540
    },
    "id": "_ikkdb8qsx6d"
   },
   "outputs": [],
   "source": [
    "model.compile(optimizer= 'rmsprop',\n",
    "             loss = 'categorical_crossentropy',\n",
    "             metrics = ['accuracy'])"
   ]
  },
  {
   "cell_type": "code",
   "execution_count": 28,
   "metadata": {
    "colab": {
     "base_uri": "https://localhost:8080/"
    },
    "executionInfo": {
     "elapsed": 203036,
     "status": "ok",
     "timestamp": 1636510565397,
     "user": {
      "displayName": "Yongjin Jeong",
      "photoUrl": "https://lh3.googleusercontent.com/a/default-user=s64",
      "userId": "03658406798560557048"
     },
     "user_tz": -540
    },
    "id": "FWsfipcXu20x",
    "outputId": "5f786055-2d1c-403d-c2d4-2c70e98ab58a"
   },
   "outputs": [
    {
     "name": "stdout",
     "output_type": "stream",
     "text": [
      "Epoch 1/30\n",
      "300/300 [==============================] - 33s 15ms/step - loss: 0.3032 - accuracy: 0.9084\n",
      "Epoch 2/30\n",
      "300/300 [==============================] - 4s 15ms/step - loss: 0.0751 - accuracy: 0.9772\n",
      "Epoch 3/30\n",
      "300/300 [==============================] - 4s 14ms/step - loss: 0.0491 - accuracy: 0.9853\n",
      "Epoch 4/30\n",
      "300/300 [==============================] - 4s 14ms/step - loss: 0.0368 - accuracy: 0.9885\n",
      "Epoch 5/30\n",
      "300/300 [==============================] - 4s 14ms/step - loss: 0.0292 - accuracy: 0.9908\n",
      "Epoch 6/30\n",
      "300/300 [==============================] - 4s 14ms/step - loss: 0.0239 - accuracy: 0.9923\n",
      "Epoch 7/30\n",
      "300/300 [==============================] - 4s 14ms/step - loss: 0.0196 - accuracy: 0.9939\n",
      "Epoch 8/30\n",
      "300/300 [==============================] - 4s 14ms/step - loss: 0.0165 - accuracy: 0.9948\n",
      "Epoch 9/30\n",
      "300/300 [==============================] - 4s 14ms/step - loss: 0.0139 - accuracy: 0.9957\n",
      "Epoch 10/30\n",
      "300/300 [==============================] - 4s 14ms/step - loss: 0.0121 - accuracy: 0.9964\n",
      "Epoch 11/30\n",
      "300/300 [==============================] - 4s 14ms/step - loss: 0.0098 - accuracy: 0.9971\n",
      "Epoch 12/30\n",
      "300/300 [==============================] - 4s 14ms/step - loss: 0.0086 - accuracy: 0.9972\n",
      "Epoch 13/30\n",
      "300/300 [==============================] - 4s 14ms/step - loss: 0.0071 - accuracy: 0.9979\n",
      "Epoch 14/30\n",
      "300/300 [==============================] - 4s 14ms/step - loss: 0.0063 - accuracy: 0.9980\n",
      "Epoch 15/30\n",
      "300/300 [==============================] - 4s 14ms/step - loss: 0.0059 - accuracy: 0.9981\n",
      "Epoch 16/30\n",
      "300/300 [==============================] - 4s 14ms/step - loss: 0.0048 - accuracy: 0.9984\n",
      "Epoch 17/30\n",
      "300/300 [==============================] - 4s 14ms/step - loss: 0.0042 - accuracy: 0.9987\n",
      "Epoch 18/30\n",
      "300/300 [==============================] - 4s 14ms/step - loss: 0.0038 - accuracy: 0.9987\n",
      "Epoch 19/30\n",
      "300/300 [==============================] - 4s 14ms/step - loss: 0.0034 - accuracy: 0.9989\n",
      "Epoch 20/30\n",
      "300/300 [==============================] - 4s 14ms/step - loss: 0.0026 - accuracy: 0.9991\n",
      "Epoch 21/30\n",
      "300/300 [==============================] - 4s 14ms/step - loss: 0.0025 - accuracy: 0.9992\n",
      "Epoch 22/30\n",
      "300/300 [==============================] - 4s 14ms/step - loss: 0.0025 - accuracy: 0.9990\n",
      "Epoch 23/30\n",
      "300/300 [==============================] - 4s 14ms/step - loss: 0.0023 - accuracy: 0.9992\n",
      "Epoch 24/30\n",
      "300/300 [==============================] - 4s 14ms/step - loss: 0.0017 - accuracy: 0.9994\n",
      "Epoch 25/30\n",
      "300/300 [==============================] - 4s 14ms/step - loss: 0.0018 - accuracy: 0.9995\n",
      "Epoch 26/30\n",
      "300/300 [==============================] - 4s 15ms/step - loss: 0.0015 - accuracy: 0.9995\n",
      "Epoch 27/30\n",
      "300/300 [==============================] - 4s 14ms/step - loss: 0.0017 - accuracy: 0.9994\n",
      "Epoch 28/30\n",
      "300/300 [==============================] - 4s 14ms/step - loss: 0.0011 - accuracy: 0.9998\n",
      "Epoch 29/30\n",
      "300/300 [==============================] - 4s 14ms/step - loss: 0.0011 - accuracy: 0.9996\n",
      "Epoch 30/30\n",
      "300/300 [==============================] - 4s 14ms/step - loss: 8.3526e-04 - accuracy: 0.9997\n"
     ]
    },
    {
     "data": {
      "text/plain": [
       "<keras.callbacks.History at 0x7fab78146d50>"
      ]
     },
     "execution_count": 28,
     "metadata": {},
     "output_type": "execute_result"
    }
   ],
   "source": [
    "model.fit(train_images, train_labels, epochs=30, batch_size=200)"
   ]
  },
  {
   "cell_type": "code",
   "execution_count": 29,
   "metadata": {
    "colab": {
     "base_uri": "https://localhost:8080/"
    },
    "executionInfo": {
     "elapsed": 2746,
     "status": "ok",
     "timestamp": 1636510568132,
     "user": {
      "displayName": "Yongjin Jeong",
      "photoUrl": "https://lh3.googleusercontent.com/a/default-user=s64",
      "userId": "03658406798560557048"
     },
     "user_tz": -540
    },
    "id": "H4MhJEoUvCm0",
    "outputId": "17182ed2-2a21-4bb7-8b1c-ba7da65cfd27"
   },
   "outputs": [
    {
     "name": "stdout",
     "output_type": "stream",
     "text": [
      "313/313 [==============================] - 2s 5ms/step - loss: 0.0618 - accuracy: 0.9914\n",
      "test_acc =  0.9914000034332275\n"
     ]
    }
   ],
   "source": [
    "test_loss, test_acc = model.evaluate(test_images, test_labels)\n",
    "print('test_acc = ',test_acc)"
   ]
  },
  {
   "cell_type": "code",
   "execution_count": 30,
   "metadata": {
    "colab": {
     "base_uri": "https://localhost:8080/",
     "height": 298
    },
    "executionInfo": {
     "elapsed": 670,
     "status": "ok",
     "timestamp": 1636510568794,
     "user": {
      "displayName": "Yongjin Jeong",
      "photoUrl": "https://lh3.googleusercontent.com/a/default-user=s64",
      "userId": "03658406798560557048"
     },
     "user_tz": -540
    },
    "id": "HZrE6QuDUC2V",
    "outputId": "5085db61-4d2c-4e78-9671-c262c027df6c"
   },
   "outputs": [
    {
     "name": "stdout",
     "output_type": "stream",
     "text": [
      "(28, 28)\n"
     ]
    },
    {
     "data": {
      "text/plain": [
       "array([[0., 0., 0., 0., 1., 0., 0., 0., 0., 0.]], dtype=float32)"
      ]
     },
     "execution_count": 30,
     "metadata": {},
     "output_type": "execute_result"
    },
    {
     "data": {
      "image/png": "[encoded data removed]",
      "text/plain": [
       "<Figure size 432x288 with 1 Axes>"
      ]
     },
     "metadata": {
      "needs_background": "light"
     },
     "output_type": "display_data"
    }
   ],
   "source": [
    "from PIL import Image, ImageOps\n",
    "import matplotlib.pyplot as plt\n",
    "image = Image.open('num_4_thin.png' ).convert('LA')  # to gray\n",
    "image = ImageOps.grayscale(image)\n",
    "image = np.asarray(image.resize((28,28)))\n",
    "image = 255. - image\n",
    "plt.imshow(image, cmap='Greys')\n",
    "print(np.asarray(image).shape)\n",
    "# model.predict(image.reshape(1, 28,28,1).astype('float64') / 255)\n",
    "model.predict(image.reshape(1, 28,28,1))"
   ]
  },
  {
   "cell_type": "markdown",
   "metadata": {
    "id": "tlNf7x0ktFKT"
   },
   "source": [
    "## Without Deep Learning"
   ]
  },
  {
   "cell_type": "code",
   "execution_count": 31,
   "metadata": {
    "executionInfo": {
     "elapsed": 498,
     "status": "ok",
     "timestamp": 1636510569262,
     "user": {
      "displayName": "Yongjin Jeong",
      "photoUrl": "https://lh3.googleusercontent.com/a/default-user=s64",
      "userId": "03658406798560557048"
     },
     "user_tz": -540
    },
    "id": "uyXhUMT-tD4b"
   },
   "outputs": [],
   "source": [
    "# just for reference\n",
    "from sklearn.model_selection import train_test_split\n",
    "from sklearn import datasets, svm, metrics\n",
    "from sklearn.linear_model import SGDClassifier\n",
    "from sklearn.metrics import accuracy_score\n",
    "import numpy as np\n",
    "(train_images, train_labels), (test_images, test_labels) = mnist.load_data()\n",
    "train_images = train_images.reshape((60000, 28*28*1))\n",
    "X = train_images.astype('float32')/255         # scaling\n",
    "y = train_labels\n",
    "X_train, X_test, y_train, y_test = train_test_split(X, y, test_size=0.25)"
   ]
  },
  {
   "cell_type": "code",
   "execution_count": 32,
   "metadata": {
    "colab": {
     "base_uri": "https://localhost:8080/"
    },
    "executionInfo": {
     "elapsed": 4,
     "status": "ok",
     "timestamp": 1636510569263,
     "user": {
      "displayName": "Yongjin Jeong",
      "photoUrl": "https://lh3.googleusercontent.com/a/default-user=s64",
      "userId": "03658406798560557048"
     },
     "user_tz": -540
    },
    "id": "AyQX8koWuJey",
    "outputId": "c3691060-d8a3-4ead-e718-694ac1c15fa5"
   },
   "outputs": [
    {
     "data": {
      "text/plain": [
       "((45000, 784), (15000, 784), (45000,), (15000,))"
      ]
     },
     "execution_count": 32,
     "metadata": {},
     "output_type": "execute_result"
    }
   ],
   "source": [
    "X_train.shape, X_test.shape, y_train.shape, y_test.shape"
   ]
  },
  {
   "cell_type": "code",
   "execution_count": 33,
   "metadata": {
    "colab": {
     "base_uri": "https://localhost:8080/"
    },
    "executionInfo": {
     "elapsed": 15503,
     "status": "ok",
     "timestamp": 1636510584764,
     "user": {
      "displayName": "Yongjin Jeong",
      "photoUrl": "https://lh3.googleusercontent.com/a/default-user=s64",
      "userId": "03658406798560557048"
     },
     "user_tz": -540
    },
    "id": "-hFiwQZjutaq",
    "outputId": "aa8c2d7b-0484-42a0-ecbc-4ac2af7ad99d"
   },
   "outputs": [
    {
     "name": "stdout",
     "output_type": "stream",
     "text": [
      "0.9048\n"
     ]
    }
   ],
   "source": [
    "clf = SGDClassifier(max_iter=200)\n",
    "clf.fit(X_train, y_train)\n",
    "y_pred = clf.predict(X_test)\n",
    "print(accuracy_score(y_test, y_pred))"
   ]
  },
  {
   "cell_type": "code",
   "execution_count": 34,
   "metadata": {
    "colab": {
     "base_uri": "https://localhost:8080/"
    },
    "executionInfo": {
     "elapsed": 31,
     "status": "ok",
     "timestamp": 1636510584765,
     "user": {
      "displayName": "Yongjin Jeong",
      "photoUrl": "https://lh3.googleusercontent.com/a/default-user=s64",
      "userId": "03658406798560557048"
     },
     "user_tz": -540
    },
    "id": "5QWZz2sflK1a",
    "outputId": "9d13eb9f-4338-4e61-fd1e-56592754f730"
   },
   "outputs": [
    {
     "data": {
      "text/plain": [
       "array([3], dtype=uint8)"
      ]
     },
     "execution_count": 34,
     "metadata": {},
     "output_type": "execute_result"
    }
   ],
   "source": [
    "clf.predict(image.reshape(1, 28*28))  # wrong"
   ]
  }
 ],
 "metadata": {
  "accelerator": "GPU",
  "colab": {
   "collapsed_sections": [],
   "name": "lab_59_mnist_keras_rev1.ipynb",
   "provenance": [
    {
     "file_id": "1dKqy9n_yiKBpV7BPNMj45K1vnDrOu8DD",
     "timestamp": 1603856278261
    }
   ]
  },
  "kernelspec": {
   "display_name": "Python 3",
   "language": "python",
   "name": "python3"
  },
  "language_info": {
   "codemirror_mode": {
    "name": "ipython",
    "version": 3
   },
   "file_extension": ".py",
   "mimetype": "text/x-python",
   "name": "python",
   "nbconvert_exporter": "python",
   "pygments_lexer": "ipython3",
   "version": "3.8.8"
  }
 },
 "nbformat": 4,
 "nbformat_minor": 1
}
