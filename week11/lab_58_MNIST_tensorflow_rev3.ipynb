{
 "cells": [
  {
   "cell_type": "markdown",
   "metadata": {
    "id": "view-in-github"
   },
   "source": [
    "<a href=\"https://colab.research.google.com/github/StillWork/ds-lab/blob/master/gg_49_%ED%85%90%EC%84%9C%ED%94%8C%EB%A1%9C%EC%9A%B0%EA%B8%B0%EC%B4%88.ipynb\" target=\"_parent\"><img src=\"https://colab.research.google.com/assets/colab-badge.svg\" alt=\"Open In Colab\"/></a>"
   ]
  },
  {
   "cell_type": "markdown",
   "metadata": {
    "id": "RnFl97xDe3VJ"
   },
   "source": [
    "## MNIST with RandomForest"
   ]
  },
  {
   "cell_type": "code",
   "execution_count": 1,
   "metadata": {
    "colab": {
     "base_uri": "https://localhost:8080/"
    },
    "executionInfo": {
     "elapsed": 671,
     "status": "ok",
     "timestamp": 1630549461188,
     "user": {
      "displayName": "Yongjin Jeong",
      "photoUrl": "https://lh3.googleusercontent.com/a/default-user=s64",
      "userId": "03658406798560557048"
     },
     "user_tz": -540
    },
    "id": "XVZE1bRSe2kq",
    "outputId": "5b9d14fb-17c5-4503-c263-598e2139ad8d"
   },
   "outputs": [
    {
     "data": {
      "text/plain": [
       "((60000, 28, 28), (10000,))"
      ]
     },
     "execution_count": 1,
     "metadata": {},
     "output_type": "execute_result"
    }
   ],
   "source": [
    "import tensorflow as tf\n",
    "from tensorflow.keras.datasets import mnist\n",
    "from tensorflow.keras import utils\n",
    "import matplotlib.pyplot as plt\n",
    "\n",
    "(X_train, Y_class_train), (X_test, Y_class_test) = mnist.load_data()\n",
    "X_train.shape, Y_class_test.shape"
   ]
  },
  {
   "cell_type": "code",
   "execution_count": 2,
   "metadata": {
    "colab": {
     "base_uri": "https://localhost:8080/"
    },
    "executionInfo": {
     "elapsed": 19413,
     "status": "ok",
     "timestamp": 1630549483583,
     "user": {
      "displayName": "Yongjin Jeong",
      "photoUrl": "https://lh3.googleusercontent.com/a/default-user=s64",
      "userId": "03658406798560557048"
     },
     "user_tz": -540
    },
    "id": "wX1DFS8rfEqI",
    "outputId": "e1a0d534-f7d1-4f0e-e5b4-ebcb50d1f324"
   },
   "outputs": [
    {
     "data": {
      "text/plain": [
       "0.9685"
      ]
     },
     "execution_count": 2,
     "metadata": {},
     "output_type": "execute_result"
    }
   ],
   "source": [
    "import pandas as pd\n",
    "from sklearn.ensemble import RandomForestClassifier\n",
    "rfc = RandomForestClassifier(n_estimators=50)\n",
    "rfc.fit(X_train.reshape(X_train.shape[0], 28*28), Y_class_train)\n",
    "rfc.score(X_test.reshape(X_test.shape[0], 28*28), Y_class_test)"
   ]
  },
  {
   "cell_type": "markdown",
   "metadata": {
    "id": "zmAUXjRjaKl3"
   },
   "source": [
    "## MNIST with Tensorflow 2.0 (version 1)\n",
    "\n",
    "- from internet\n",
    "- Multi-class logistic regression (simple MLP without hidden layer)\n",
    "\n",
    "\n"
   ]
  },
  {
   "cell_type": "code",
   "execution_count": 4,
   "metadata": {
    "executionInfo": {
     "elapsed": 351,
     "status": "ok",
     "timestamp": 1630553144197,
     "user": {
      "displayName": "Yongjin Jeong",
      "photoUrl": "https://lh3.googleusercontent.com/a/default-user=s64",
      "userId": "03658406798560557048"
     },
     "user_tz": -540
    },
    "id": "XRcyJVVi7xoj"
   },
   "outputs": [],
   "source": [
    "# step 1: importing modules\n",
    "\n",
    "import tensorflow as tf\n",
    "import numpy as np"
   ]
  },
  {
   "cell_type": "code",
   "execution_count": 10,
   "metadata": {
    "executionInfo": {
     "elapsed": 483,
     "status": "ok",
     "timestamp": 1630553145898,
     "user": {
      "displayName": "Yongjin Jeong",
      "photoUrl": "https://lh3.googleusercontent.com/a/default-user=s64",
      "userId": "03658406798560557048"
     },
     "user_tz": -540
    },
    "id": "ePnKX-lG_giE"
   },
   "outputs": [],
   "source": [
    "# step 2: loading and preparing mnist dataset\n",
    "\n",
    "from tensorflow.keras.datasets import mnist\n",
    "num_classes = 10        # 0 to 9 digits\n",
    "num_features = 28 * 28\n",
    "(x_train, y_train), (x_test, y_test) = mnist.load_data()\n",
    "x_train, x_test = np.array(x_train, np.float32), np.array(x_test, np.float32)\n",
    "x_train, x_test = x_train.reshape([-1, num_features]), x_test.reshape([-1, num_features])\n",
    "x_train, x_test = x_train / 255., x_test / 255."
   ]
  },
  {
   "cell_type": "code",
   "execution_count": 11,
   "metadata": {
    "colab": {
     "base_uri": "https://localhost:8080/"
    },
    "executionInfo": {
     "elapsed": 4,
     "status": "ok",
     "timestamp": 1630553147523,
     "user": {
      "displayName": "Yongjin Jeong",
      "photoUrl": "https://lh3.googleusercontent.com/a/default-user=s64",
      "userId": "03658406798560557048"
     },
     "user_tz": -540
    },
    "id": "PE3PPsCGFFTt",
    "outputId": "f73b79b1-f8bc-4188-8ca7-13dbaefe417c"
   },
   "outputs": [
    {
     "data": {
      "text/plain": [
       "((60000, 784), (10000, 784), (60000,), (10000,))"
      ]
     },
     "execution_count": 11,
     "metadata": {},
     "output_type": "execute_result"
    }
   ],
   "source": [
    "x_train.shape, x_test.shape, y_train.shape, y_test.shape"
   ]
  },
  {
   "cell_type": "code",
   "execution_count": 12,
   "metadata": {
    "executionInfo": {
     "elapsed": 287,
     "status": "ok",
     "timestamp": 1630554757474,
     "user": {
      "displayName": "Yongjin Jeong",
      "photoUrl": "https://lh3.googleusercontent.com/a/default-user=s64",
      "userId": "03658406798560557048"
     },
     "user_tz": -540
    },
    "id": "dFr4-k3q7xos"
   },
   "outputs": [],
   "source": [
    "# step 3: setting up hyperparameters and dataset parameters\n",
    "\n",
    "learning_rate = 0.01\n",
    "training_steps = 4000\n",
    "batch_size = 32"
   ]
  },
  {
   "cell_type": "code",
   "execution_count": 13,
   "metadata": {
    "executionInfo": {
     "elapsed": 3,
     "status": "ok",
     "timestamp": 1630554758371,
     "user": {
      "displayName": "Yongjin Jeong",
      "photoUrl": "https://lh3.googleusercontent.com/a/default-user=s64",
      "userId": "03658406798560557048"
     },
     "user_tz": -540
    },
    "id": "32ndi_Kp7xoy"
   },
   "outputs": [],
   "source": [
    "# step 4: shuffling and batching the dataset\n",
    "\n",
    "train_data=tf.data.Dataset.from_tensor_slices((x_train,y_train))\n",
    "# train_data=train_data.repeat().shuffle(5000).batch(batch_size).prefetch(1)\n",
    "train_data=train_data.repeat().shuffle(5000).batch(batch_size)"
   ]
  },
  {
   "cell_type": "code",
   "execution_count": 14,
   "metadata": {
    "colab": {
     "base_uri": "https://localhost:8080/"
    },
    "executionInfo": {
     "elapsed": 485,
     "status": "ok",
     "timestamp": 1630554761496,
     "user": {
      "displayName": "Yongjin Jeong",
      "photoUrl": "https://lh3.googleusercontent.com/a/default-user=s64",
      "userId": "03658406798560557048"
     },
     "user_tz": -540
    },
    "id": "42RtscNxHJDV",
    "outputId": "d26bcf54-4678-4465-ee64-1c66ad01ac43"
   },
   "outputs": [
    {
     "data": {
      "text/plain": [
       "<BatchDataset shapes: ((None, 784), (None,)), types: (tf.float32, tf.uint8)>"
      ]
     },
     "execution_count": 14,
     "metadata": {},
     "output_type": "execute_result"
    }
   ],
   "source": [
    "train_data"
   ]
  },
  {
   "cell_type": "code",
   "execution_count": 15,
   "metadata": {
    "colab": {
     "base_uri": "https://localhost:8080/"
    },
    "executionInfo": {
     "elapsed": 12,
     "status": "ok",
     "timestamp": 1630554762739,
     "user": {
      "displayName": "Yongjin Jeong",
      "photoUrl": "https://lh3.googleusercontent.com/a/default-user=s64",
      "userId": "03658406798560557048"
     },
     "user_tz": -540
    },
    "id": "T94WY4on7xo_",
    "outputId": "52ae9527-db88-49da-943a-18ada79c5e93"
   },
   "outputs": [
    {
     "data": {
      "text/plain": [
       "(TensorShape([784, 10]), TensorShape([10]))"
      ]
     },
     "execution_count": 15,
     "metadata": {},
     "output_type": "execute_result"
    }
   ],
   "source": [
    "# step 5: initializing weights and biases\n",
    "\n",
    "W = tf.Variable(tf.random.normal([num_features, num_classes]), name=\"weight\") # (784,10)\n",
    "b = tf.Variable(tf.random.normal([num_classes]), name=\"bias\")                # (10,)\n",
    "W.shape, b.shape"
   ]
  },
  {
   "cell_type": "code",
   "execution_count": 16,
   "metadata": {
    "executionInfo": {
     "elapsed": 1,
     "status": "ok",
     "timestamp": 1630554764065,
     "user": {
      "displayName": "Yongjin Jeong",
      "photoUrl": "https://lh3.googleusercontent.com/a/default-user=s64",
      "userId": "03658406798560557048"
     },
     "user_tz": -540
    },
    "id": "vgclHQQP7xpT"
   },
   "outputs": [],
   "source": [
    "# step 6: defining logistic regression and cost function\n",
    "\n",
    "def logistic_regression(x):\n",
    "    # print(x.shape)    # (batch_size,784)\n",
    "    return tf.nn.softmax(tf.matmul(x, W) + b)"
   ]
  },
  {
   "cell_type": "code",
   "execution_count": 17,
   "metadata": {
    "colab": {
     "base_uri": "https://localhost:8080/"
    },
    "executionInfo": {
     "elapsed": 6,
     "status": "ok",
     "timestamp": 1630554764975,
     "user": {
      "displayName": "Yongjin Jeong",
      "photoUrl": "https://lh3.googleusercontent.com/a/default-user=s64",
      "userId": "03658406798560557048"
     },
     "user_tz": -540
    },
    "id": "27qiPDGMhu5M",
    "outputId": "1ed43656-8c0f-49b5-d6fb-aaf034389f1b"
   },
   "outputs": [
    {
     "data": {
      "text/plain": [
       "<tf.Tensor: shape=(4,), dtype=float32, numpy=array([0.36552927, 0.36552927, 0.13447072, 0.13447072], dtype=float32)>"
      ]
     },
     "execution_count": 17,
     "metadata": {},
     "output_type": "execute_result"
    }
   ],
   "source": [
    "# for exercise\n",
    "tf.nn.softmax([1.,1.,0.,0.])"
   ]
  },
  {
   "cell_type": "code",
   "execution_count": 18,
   "metadata": {
    "executionInfo": {
     "elapsed": 3,
     "status": "ok",
     "timestamp": 1630554766584,
     "user": {
      "displayName": "Yongjin Jeong",
      "photoUrl": "https://lh3.googleusercontent.com/a/default-user=s64",
      "userId": "03658406798560557048"
     },
     "user_tz": -540
    },
    "id": "uDwwIvLyhD04"
   },
   "outputs": [],
   "source": [
    "def cross_entropy(y_pred, y_true):\n",
    "    # print(y_pred.shape, y_true.shape)   # (batch_size, 10) (batch_size,)\n",
    "    y_true = tf.one_hot(y_true, depth=num_classes)\n",
    "    y_pred = tf.clip_by_value(y_pred, 1e-9, 1.)  # to avoid log(0) error\n",
    "    ce1 = tf.reduce_mean(-tf.reduce_sum(y_true * tf.math.log(y_pred), axis=1))\n",
    "    ce0 = tf.reduce_mean(-tf.reduce_sum(y_true * tf.math.log(y_pred)))       # wrong\n",
    "    ce2 = tf.reduce_mean(tf.losses.categorical_crossentropy(y_true, y_pred)) # function\n",
    "    return ce1"
   ]
  },
  {
   "cell_type": "code",
   "execution_count": 19,
   "metadata": {
    "colab": {
     "base_uri": "https://localhost:8080/"
    },
    "executionInfo": {
     "elapsed": 6,
     "status": "ok",
     "timestamp": 1630554768071,
     "user": {
      "displayName": "Yongjin Jeong",
      "photoUrl": "https://lh3.googleusercontent.com/a/default-user=s64",
      "userId": "03658406798560557048"
     },
     "user_tz": -540
    },
    "id": "J97qkWUJem2p",
    "outputId": "4d532dfa-29f9-4320-e9f4-7c3d2083b88e"
   },
   "outputs": [
    {
     "data": {
      "text/plain": [
       "(<tf.Tensor: shape=(2, 2), dtype=float32, numpy=\n",
       " array([[ 0.,  4.],\n",
       "        [12., 24.]], dtype=float32)>,\n",
       " <tf.Tensor: shape=(2,), dtype=float32, numpy=array([ 4., 36.], dtype=float32)>)"
      ]
     },
     "execution_count": 19,
     "metadata": {},
     "output_type": "execute_result"
    }
   ],
   "source": [
    "# for exercise\n",
    "tmp_a = tf.constant([[1.,2.],[3.,4.]])\n",
    "tmp_b = tf.constant([[0.,2.],[4.,6.]])\n",
    "tmp_a*tmp_b, tf.reduce_sum(tmp_a*tmp_b, axis=1)"
   ]
  },
  {
   "cell_type": "code",
   "execution_count": 20,
   "metadata": {
    "executionInfo": {
     "elapsed": 2,
     "status": "ok",
     "timestamp": 1630554769223,
     "user": {
      "displayName": "Yongjin Jeong",
      "photoUrl": "https://lh3.googleusercontent.com/a/default-user=s64",
      "userId": "03658406798560557048"
     },
     "user_tz": -540
    },
    "id": "pxMJa11nC0H1"
   },
   "outputs": [],
   "source": [
    "# step 7: defining optimizers and accuracy metrics\n",
    "\n",
    "def accuracy(y_pred, y_true):\n",
    "    correct_prediction = tf.equal(tf.argmax(y_pred, 1), tf.cast(y_true, tf.int64)) # axis=1\n",
    "    return tf.reduce_mean(tf.cast(correct_prediction, tf.float32))\n",
    "\n",
    "optimizer = tf.optimizers.Adam(learning_rate)"
   ]
  },
  {
   "cell_type": "code",
   "execution_count": 21,
   "metadata": {
    "executionInfo": {
     "elapsed": 2,
     "status": "ok",
     "timestamp": 1630554772205,
     "user": {
      "displayName": "Yongjin Jeong",
      "photoUrl": "https://lh3.googleusercontent.com/a/default-user=s64",
      "userId": "03658406798560557048"
     },
     "user_tz": -540
    },
    "id": "zhGalATXDTc1"
   },
   "outputs": [],
   "source": [
    "# step 8: optimization process and updating weights and biases\n",
    "\n",
    "def run_optimization(x, y):\n",
    "    \n",
    "    with tf.GradientTape() as tape:\n",
    "        y_pred = logistic_regression(x)\n",
    "        loss = cross_entropy(y_pred, y)\n",
    "\n",
    "    gradients = tape.gradient(loss, [W, b])\n",
    "    optimizer.apply_gradients(zip(gradients, [W, b]))  # updates"
   ]
  },
  {
   "cell_type": "code",
   "execution_count": 22,
   "metadata": {
    "executionInfo": {
     "elapsed": 32796,
     "status": "ok",
     "timestamp": 1630554813446,
     "user": {
      "displayName": "Yongjin Jeong",
      "photoUrl": "https://lh3.googleusercontent.com/a/default-user=s64",
      "userId": "03658406798560557048"
     },
     "user_tz": -540
    },
    "id": "62y8TcyGD5J0"
   },
   "outputs": [],
   "source": [
    "# step 9: the training loop\n",
    "# dataset.take(c): Creates a Dataset with at most c elements from this dataset.\n",
    "# batch_size 만큼씩  c 번 뽑는다.\n",
    "\n",
    "lossHistory = []\n",
    "accuracyHistory = []\n",
    "for step, (batch_x, batch_y) in enumerate(train_data.take(training_steps), 1):\n",
    "\n",
    "    # print(batch_x.shape, batch_y.shape)   # (batch_size,784), (batch_size,)\n",
    "    run_optimization(batch_x, batch_y)\n",
    "\n",
    "    if step % 50 == 0:\n",
    "        pred = logistic_regression(batch_x)\n",
    "        loss = cross_entropy(pred, batch_y)\n",
    "        lossHistory.append(loss)\n",
    "        acc = accuracy(pred, batch_y)\n",
    "        accuracyHistory.append(acc)\n",
    "        # print(\"step: %i, loss: %f, accuracy: %f\" % (step, loss, acc))"
   ]
  },
  {
   "cell_type": "code",
   "execution_count": 23,
   "metadata": {
    "colab": {
     "base_uri": "https://localhost:8080/",
     "height": 282
    },
    "executionInfo": {
     "elapsed": 1025,
     "status": "ok",
     "timestamp": 1630554820042,
     "user": {
      "displayName": "Yongjin Jeong",
      "photoUrl": "https://lh3.googleusercontent.com/a/default-user=s64",
      "userId": "03658406798560557048"
     },
     "user_tz": -540
    },
    "id": "Q4uPmKpbi8tu",
    "outputId": "44916251-fc29-4468-cb46-453c9cf5fbed"
   },
   "outputs": [
    {
     "data": {
      "text/plain": [
       "[<matplotlib.lines.Line2D at 0x1f08256b880>]"
      ]
     },
     "execution_count": 23,
     "metadata": {},
     "output_type": "execute_result"
    },
    {
     "data": {
      "image/png": "[encoded data removed]",
      "text/plain": [
       "<Figure size 432x288 with 2 Axes>"
      ]
     },
     "metadata": {
      "needs_background": "light"
     },
     "output_type": "display_data"
    }
   ],
   "source": [
    "plt.subplot(1,2,1)\n",
    "plt.plot(lossHistory)\n",
    "plt.subplot(1,2,2)\n",
    "plt.plot(accuracyHistory)"
   ]
  },
  {
   "cell_type": "code",
   "execution_count": 24,
   "metadata": {
    "colab": {
     "base_uri": "https://localhost:8080/"
    },
    "executionInfo": {
     "elapsed": 268,
     "status": "ok",
     "timestamp": 1630554832997,
     "user": {
      "displayName": "Yongjin Jeong",
      "photoUrl": "https://lh3.googleusercontent.com/a/default-user=s64",
      "userId": "03658406798560557048"
     },
     "user_tz": -540
    },
    "id": "TOld6mf8Ec79",
    "outputId": "6799a93f-0423-41f5-e43b-d40e48579212"
   },
   "outputs": [
    {
     "name": "stdout",
     "output_type": "stream",
     "text": [
      "Test Accuracy: 0.903100\n"
     ]
    }
   ],
   "source": [
    "# step 10: testing model accuracy using the test data\n",
    "\n",
    "pred = logistic_regression(x_test)\n",
    "print(\"Test Accuracy: %f\" % accuracy(pred, y_test))"
   ]
  },
  {
   "cell_type": "code",
   "execution_count": 25,
   "metadata": {
    "colab": {
     "base_uri": "https://localhost:8080/",
     "height": 193
    },
    "executionInfo": {
     "elapsed": 787,
     "status": "ok",
     "timestamp": 1630554849289,
     "user": {
      "displayName": "Yongjin Jeong",
      "photoUrl": "https://lh3.googleusercontent.com/a/default-user=s64",
      "userId": "03658406798560557048"
     },
     "user_tz": -540
    },
    "id": "7MUcmw5HVDev",
    "outputId": "649c4451-7846-4511-b11f-7de05f8802f7"
   },
   "outputs": [
    {
     "name": "stdout",
     "output_type": "stream",
     "text": [
      "model prediction: 7\n",
      "model prediction: 2\n",
      "model prediction: 1\n",
      "model prediction: 0\n",
      "model prediction: 4\n"
     ]
    },
    {
     "data": {
      "image/png": "[encoded data removed]",
      "text/plain": [
       "<Figure size 432x288 with 5 Axes>"
      ]
     },
     "metadata": {
      "needs_background": "light"
     },
     "output_type": "display_data"
    }
   ],
   "source": [
    "# step 11: visualizing the classification result\n",
    "\n",
    "import matplotlib.pyplot as plt\n",
    "\n",
    "n_images = 5\n",
    "test_images = x_test[:n_images]\n",
    "predictions = logistic_regression(test_images)\n",
    "\n",
    "for i in range(n_images):\n",
    "    plt.subplot(1,n_images, i+1)\n",
    "    plt.imshow(np.reshape(test_images[i], [28,28]), cmap='gray')\n",
    "    print('model prediction: %i' %np.argmax(predictions.numpy()[i]))\n",
    "plt.show()"
   ]
  },
  {
   "cell_type": "markdown",
   "metadata": {
    "id": "vXm3p3lIaA6p"
   },
   "source": [
    "## MNIST with tensorflow 2.0 (version 2)\n",
    "\n",
    "- all in one code routine (for easy migration from the simpler regression code)\n",
    "- my version (no hidden layer)"
   ]
  },
  {
   "cell_type": "code",
   "execution_count": 26,
   "metadata": {
    "executionInfo": {
     "elapsed": 750,
     "status": "ok",
     "timestamp": 1630554867482,
     "user": {
      "displayName": "Yongjin Jeong",
      "photoUrl": "https://lh3.googleusercontent.com/a/default-user=s64",
      "userId": "03658406798560557048"
     },
     "user_tz": -540
    },
    "id": "VjiF4k_hadWN"
   },
   "outputs": [],
   "source": [
    "from tensorflow.keras.datasets import mnist\n",
    "num_classes = 10        # 0 to 9 digits\n",
    "num_features = 28 * 28\n",
    "(x_train, y_train), (x_test, y_test) = mnist.load_data()\n",
    "x_train, x_test = np.array(x_train, np.float32), np.array(x_test, np.float32)\n",
    "x_train, x_test = x_train.reshape([-1, num_features]), x_test.reshape([-1, num_features])\n",
    "x_train, x_test = x_train / 255., x_test / 255."
   ]
  },
  {
   "cell_type": "code",
   "execution_count": 27,
   "metadata": {
    "executionInfo": {
     "elapsed": 292,
     "status": "ok",
     "timestamp": 1630555288813,
     "user": {
      "displayName": "Yongjin Jeong",
      "photoUrl": "https://lh3.googleusercontent.com/a/default-user=s64",
      "userId": "03658406798560557048"
     },
     "user_tz": -540
    },
    "id": "m2pYh2nYag15"
   },
   "outputs": [],
   "source": [
    "# hyperparameters\n",
    "input_size = 784\n",
    "num_classes = 10\n",
    "batch_size = 32\n",
    "num_epochs = 10\n",
    "learning_rate = 0.01"
   ]
  },
  {
   "cell_type": "code",
   "execution_count": 28,
   "metadata": {
    "executionInfo": {
     "elapsed": 295,
     "status": "ok",
     "timestamp": 1630555290599,
     "user": {
      "displayName": "Yongjin Jeong",
      "photoUrl": "https://lh3.googleusercontent.com/a/default-user=s64",
      "userId": "03658406798560557048"
     },
     "user_tz": -540
    },
    "id": "T7b177eQakHp"
   },
   "outputs": [],
   "source": [
    "train_data=tf.data.Dataset.from_tensor_slices((x_train,y_train))\n",
    "train_data=train_data.shuffle(5000).batch(batch_size)"
   ]
  },
  {
   "cell_type": "code",
   "execution_count": 29,
   "metadata": {
    "executionInfo": {
     "elapsed": 2,
     "status": "ok",
     "timestamp": 1630555291372,
     "user": {
      "displayName": "Yongjin Jeong",
      "photoUrl": "https://lh3.googleusercontent.com/a/default-user=s64",
      "userId": "03658406798560557048"
     },
     "user_tz": -540
    },
    "id": "On28C_ANamzZ"
   },
   "outputs": [],
   "source": [
    "W = tf.Variable(tf.random.normal([input_size, num_classes])) # (784,10)\n",
    "b = tf.Variable(tf.random.normal([num_classes]))             # (10,)"
   ]
  },
  {
   "cell_type": "code",
   "execution_count": 30,
   "metadata": {
    "id": "SPlVk0xsaqAV"
   },
   "outputs": [
    {
     "name": "stdout",
     "output_type": "stream",
     "text": [
      "epoch: 0, step: 50, loss: 2.907262, acc: 0.500000\n",
      "epoch: 0, step: 100, loss: 2.923770, acc: 0.656250\n",
      "epoch: 0, step: 150, loss: 1.409613, acc: 0.718750\n",
      "epoch: 0, step: 200, loss: 0.306206, acc: 0.906250\n",
      "epoch: 0, step: 250, loss: 0.989211, acc: 0.906250\n",
      "epoch: 0, step: 300, loss: 0.409016, acc: 0.937500\n",
      "epoch: 0, step: 350, loss: 0.699370, acc: 0.906250\n",
      "epoch: 0, step: 400, loss: 0.608937, acc: 0.843750\n",
      "epoch: 0, step: 450, loss: 2.143324, acc: 0.656250\n",
      "epoch: 0, step: 500, loss: 0.689398, acc: 0.906250\n",
      "epoch: 0, step: 550, loss: 0.499137, acc: 0.906250\n",
      "epoch: 0, step: 600, loss: 0.666303, acc: 0.906250\n",
      "epoch: 0, step: 650, loss: 0.684183, acc: 0.937500\n",
      "epoch: 0, step: 700, loss: 0.801143, acc: 0.875000\n",
      "epoch: 0, step: 750, loss: 0.561745, acc: 0.781250\n",
      "epoch: 0, step: 800, loss: 1.267463, acc: 0.875000\n",
      "epoch: 0, step: 850, loss: 0.781513, acc: 0.937500\n",
      "epoch: 0, step: 900, loss: 2.147048, acc: 0.843750\n",
      "epoch: 0, step: 950, loss: 0.744243, acc: 0.875000\n",
      "epoch: 0, step: 1000, loss: 0.922846, acc: 0.906250\n",
      "epoch: 0, step: 1050, loss: 0.221468, acc: 0.968750\n",
      "epoch: 0, step: 1100, loss: 0.357527, acc: 0.968750\n",
      "epoch: 0, step: 1150, loss: 0.228964, acc: 0.937500\n",
      "epoch: 0, step: 1200, loss: 0.414731, acc: 0.906250\n",
      "epoch: 0, step: 1250, loss: 1.834192, acc: 0.843750\n",
      "epoch: 0, step: 1300, loss: 0.006587, acc: 1.000000\n",
      "epoch: 0, step: 1350, loss: 1.462368, acc: 0.812500\n",
      "epoch: 0, step: 1400, loss: 0.535551, acc: 0.906250\n",
      "epoch: 0, step: 1450, loss: 0.985790, acc: 0.875000\n",
      "epoch: 0, step: 1500, loss: 0.273262, acc: 0.968750\n",
      "epoch: 0, step: 1550, loss: 1.384323, acc: 0.843750\n",
      "epoch: 0, step: 1600, loss: 0.256761, acc: 0.968750\n",
      "epoch: 0, step: 1650, loss: 0.220526, acc: 0.968750\n",
      "epoch: 0, step: 1700, loss: 0.044238, acc: 0.968750\n",
      "epoch: 0, step: 1750, loss: 1.456713, acc: 0.906250\n",
      "epoch: 0, step: 1800, loss: 1.439855, acc: 0.906250\n",
      "epoch: 0, step: 1850, loss: 0.820938, acc: 0.906250\n",
      "epoch: 1, step: 50, loss: 1.327133, acc: 0.906250\n",
      "epoch: 1, step: 100, loss: 1.086681, acc: 0.875000\n",
      "epoch: 1, step: 150, loss: 1.079469, acc: 0.906250\n",
      "epoch: 1, step: 200, loss: 1.295266, acc: 0.937500\n",
      "epoch: 1, step: 250, loss: 0.003526, acc: 1.000000\n",
      "epoch: 1, step: 300, loss: 1.048489, acc: 0.906250\n",
      "epoch: 1, step: 350, loss: 1.805276, acc: 0.812500\n",
      "epoch: 1, step: 400, loss: 0.405717, acc: 0.906250\n",
      "epoch: 1, step: 450, loss: 0.096822, acc: 0.968750\n",
      "epoch: 1, step: 500, loss: 0.640143, acc: 0.906250\n",
      "epoch: 1, step: 550, loss: 0.837664, acc: 0.906250\n",
      "epoch: 1, step: 600, loss: 1.285252, acc: 0.906250\n",
      "epoch: 1, step: 650, loss: 0.148789, acc: 0.968750\n",
      "epoch: 1, step: 700, loss: 1.652251, acc: 0.875000\n",
      "epoch: 1, step: 750, loss: 0.951403, acc: 0.937500\n",
      "epoch: 1, step: 800, loss: 0.674612, acc: 0.968750\n",
      "epoch: 1, step: 850, loss: 0.970963, acc: 0.906250\n",
      "epoch: 1, step: 900, loss: 0.448260, acc: 0.843750\n",
      "epoch: 1, step: 950, loss: 0.283488, acc: 0.906250\n",
      "epoch: 1, step: 1000, loss: 1.298665, acc: 0.875000\n",
      "epoch: 1, step: 1050, loss: 0.879875, acc: 0.875000\n",
      "epoch: 1, step: 1100, loss: 1.499943, acc: 0.875000\n",
      "epoch: 1, step: 1150, loss: 1.421560, acc: 0.875000\n",
      "epoch: 1, step: 1200, loss: 1.223015, acc: 0.906250\n",
      "epoch: 1, step: 1250, loss: 0.483508, acc: 0.906250\n",
      "epoch: 1, step: 1300, loss: 1.071584, acc: 0.812500\n",
      "epoch: 1, step: 1350, loss: 1.402431, acc: 0.906250\n",
      "epoch: 1, step: 1400, loss: 1.221884, acc: 0.843750\n",
      "epoch: 1, step: 1450, loss: 0.595841, acc: 0.906250\n",
      "epoch: 1, step: 1500, loss: 0.732865, acc: 0.937500\n",
      "epoch: 1, step: 1550, loss: 0.655433, acc: 0.968750\n",
      "epoch: 1, step: 1600, loss: 0.258977, acc: 0.968750\n",
      "epoch: 1, step: 1650, loss: 1.058079, acc: 0.906250\n",
      "epoch: 1, step: 1700, loss: 0.001511, acc: 1.000000\n",
      "epoch: 1, step: 1750, loss: 0.209843, acc: 0.968750\n",
      "epoch: 1, step: 1800, loss: 0.034687, acc: 0.968750\n",
      "epoch: 1, step: 1850, loss: 0.161439, acc: 0.968750\n",
      "epoch: 2, step: 50, loss: 0.218487, acc: 0.968750\n",
      "epoch: 2, step: 100, loss: 1.895993, acc: 0.781250\n",
      "epoch: 2, step: 150, loss: 0.407812, acc: 0.968750\n",
      "epoch: 2, step: 200, loss: 0.593907, acc: 0.906250\n",
      "epoch: 2, step: 250, loss: 0.355439, acc: 0.968750\n",
      "epoch: 2, step: 300, loss: 0.877555, acc: 0.937500\n",
      "epoch: 2, step: 350, loss: 0.964344, acc: 0.875000\n",
      "epoch: 2, step: 400, loss: 0.739493, acc: 0.937500\n",
      "epoch: 2, step: 450, loss: 0.037865, acc: 0.968750\n",
      "epoch: 2, step: 500, loss: 1.147185, acc: 0.812500\n",
      "epoch: 2, step: 550, loss: 2.539135, acc: 0.812500\n",
      "epoch: 2, step: 600, loss: 1.651987, acc: 0.875000\n",
      "epoch: 2, step: 650, loss: 0.327752, acc: 0.968750\n",
      "epoch: 2, step: 700, loss: 0.745231, acc: 0.906250\n",
      "epoch: 2, step: 750, loss: 0.012919, acc: 1.000000\n",
      "epoch: 2, step: 800, loss: 0.469658, acc: 0.937500\n",
      "epoch: 2, step: 850, loss: 2.582716, acc: 0.781250\n",
      "epoch: 2, step: 900, loss: 0.395906, acc: 0.968750\n",
      "epoch: 2, step: 950, loss: 1.177954, acc: 0.937500\n",
      "epoch: 2, step: 1000, loss: 0.828524, acc: 0.937500\n",
      "epoch: 2, step: 1050, loss: 1.773369, acc: 0.812500\n",
      "epoch: 2, step: 1100, loss: 1.127856, acc: 0.875000\n",
      "epoch: 2, step: 1150, loss: 0.000058, acc: 1.000000\n",
      "epoch: 2, step: 1200, loss: 1.430455, acc: 0.906250\n",
      "epoch: 2, step: 1250, loss: 0.156312, acc: 0.906250\n",
      "epoch: 2, step: 1300, loss: 0.387278, acc: 0.968750\n",
      "epoch: 2, step: 1350, loss: 1.378821, acc: 0.843750\n",
      "epoch: 2, step: 1400, loss: 1.516842, acc: 0.781250\n",
      "epoch: 2, step: 1450, loss: 0.648311, acc: 0.968750\n",
      "epoch: 2, step: 1500, loss: 0.688845, acc: 0.937500\n",
      "epoch: 2, step: 1550, loss: 2.013905, acc: 0.875000\n",
      "epoch: 2, step: 1600, loss: 0.744933, acc: 0.937500\n",
      "epoch: 2, step: 1650, loss: 0.649133, acc: 0.968750\n",
      "epoch: 2, step: 1700, loss: 0.035165, acc: 0.968750\n",
      "epoch: 2, step: 1750, loss: 1.102772, acc: 0.906250\n",
      "epoch: 2, step: 1800, loss: 0.192309, acc: 0.906250\n",
      "epoch: 2, step: 1850, loss: 0.809716, acc: 0.937500\n",
      "epoch: 3, step: 50, loss: 0.508589, acc: 0.937500\n",
      "epoch: 3, step: 100, loss: 0.677900, acc: 0.937500\n",
      "epoch: 3, step: 150, loss: 0.019850, acc: 1.000000\n",
      "epoch: 3, step: 200, loss: 1.049811, acc: 0.937500\n",
      "epoch: 3, step: 250, loss: 1.040365, acc: 0.906250\n",
      "epoch: 3, step: 300, loss: 0.021321, acc: 1.000000\n",
      "epoch: 3, step: 350, loss: 0.871079, acc: 0.937500\n",
      "epoch: 3, step: 400, loss: 1.289494, acc: 0.812500\n",
      "epoch: 3, step: 450, loss: 0.808732, acc: 0.906250\n",
      "epoch: 3, step: 500, loss: 0.222313, acc: 0.906250\n",
      "epoch: 3, step: 550, loss: 0.100084, acc: 0.937500\n",
      "epoch: 3, step: 600, loss: 1.284085, acc: 0.875000\n",
      "epoch: 3, step: 650, loss: 0.657148, acc: 0.968750\n",
      "epoch: 3, step: 700, loss: 0.307817, acc: 0.968750\n",
      "epoch: 3, step: 750, loss: 0.024297, acc: 0.968750\n",
      "epoch: 3, step: 800, loss: 1.282429, acc: 0.843750\n",
      "epoch: 3, step: 850, loss: 0.345315, acc: 0.937500\n",
      "epoch: 3, step: 900, loss: 0.428571, acc: 0.937500\n",
      "epoch: 3, step: 950, loss: 0.004385, acc: 1.000000\n",
      "epoch: 3, step: 1000, loss: 0.559597, acc: 0.937500\n",
      "epoch: 3, step: 1050, loss: 0.444562, acc: 0.937500\n",
      "epoch: 3, step: 1100, loss: 0.548301, acc: 0.968750\n",
      "epoch: 3, step: 1150, loss: 0.931404, acc: 0.906250\n",
      "epoch: 3, step: 1200, loss: 0.969126, acc: 0.906250\n",
      "epoch: 3, step: 1250, loss: 0.557597, acc: 0.906250\n",
      "epoch: 3, step: 1300, loss: 0.593356, acc: 0.937500\n",
      "epoch: 3, step: 1350, loss: 0.005213, acc: 1.000000\n",
      "epoch: 3, step: 1400, loss: 0.870472, acc: 0.937500\n",
      "epoch: 3, step: 1450, loss: 1.628289, acc: 0.812500\n",
      "epoch: 3, step: 1500, loss: 0.003896, acc: 1.000000\n",
      "epoch: 3, step: 1550, loss: 0.096285, acc: 0.968750\n",
      "epoch: 3, step: 1600, loss: 0.730493, acc: 0.906250\n",
      "epoch: 3, step: 1650, loss: 1.743436, acc: 0.906250\n",
      "epoch: 3, step: 1700, loss: 0.553739, acc: 0.968750\n",
      "epoch: 3, step: 1750, loss: 0.246377, acc: 0.937500\n",
      "epoch: 3, step: 1800, loss: 0.691473, acc: 0.937500\n",
      "epoch: 3, step: 1850, loss: 0.290273, acc: 0.968750\n",
      "epoch: 4, step: 50, loss: 0.255628, acc: 0.968750\n",
      "epoch: 4, step: 100, loss: 0.702138, acc: 0.937500\n",
      "epoch: 4, step: 150, loss: 0.276463, acc: 0.906250\n",
      "epoch: 4, step: 200, loss: 0.520203, acc: 0.937500\n",
      "epoch: 4, step: 250, loss: 0.455682, acc: 0.937500\n",
      "epoch: 4, step: 300, loss: 0.195297, acc: 0.937500\n",
      "epoch: 4, step: 350, loss: 0.960473, acc: 0.843750\n",
      "epoch: 4, step: 400, loss: 0.565826, acc: 0.968750\n",
      "epoch: 4, step: 450, loss: 0.701927, acc: 0.906250\n",
      "epoch: 4, step: 500, loss: 0.777103, acc: 0.875000\n",
      "epoch: 4, step: 550, loss: 1.348106, acc: 0.906250\n",
      "epoch: 4, step: 600, loss: 1.631998, acc: 0.875000\n"
     ]
    },
    {
     "name": "stdout",
     "output_type": "stream",
     "text": [
      "epoch: 4, step: 650, loss: 0.300492, acc: 0.937500\n",
      "epoch: 4, step: 700, loss: 0.012385, acc: 1.000000\n",
      "epoch: 4, step: 750, loss: 0.154333, acc: 0.968750\n",
      "epoch: 4, step: 800, loss: 0.653398, acc: 0.968750\n",
      "epoch: 4, step: 850, loss: 0.677583, acc: 0.968750\n",
      "epoch: 4, step: 900, loss: 0.423775, acc: 0.937500\n",
      "epoch: 4, step: 950, loss: 0.651740, acc: 0.968750\n",
      "epoch: 4, step: 1000, loss: 1.173324, acc: 0.875000\n",
      "epoch: 4, step: 1050, loss: 1.297155, acc: 0.937500\n",
      "epoch: 4, step: 1100, loss: 0.664179, acc: 0.968750\n",
      "epoch: 4, step: 1150, loss: 0.313888, acc: 0.937500\n",
      "epoch: 4, step: 1200, loss: 0.076973, acc: 0.968750\n",
      "epoch: 4, step: 1250, loss: 0.696871, acc: 0.875000\n",
      "epoch: 4, step: 1300, loss: 1.298735, acc: 0.937500\n",
      "epoch: 4, step: 1350, loss: 1.736091, acc: 0.875000\n",
      "epoch: 4, step: 1400, loss: 0.858243, acc: 0.906250\n",
      "epoch: 4, step: 1450, loss: 0.585594, acc: 0.875000\n",
      "epoch: 4, step: 1500, loss: 0.863721, acc: 0.906250\n",
      "epoch: 4, step: 1550, loss: 1.249007, acc: 0.906250\n",
      "epoch: 4, step: 1600, loss: 2.226576, acc: 0.781250\n",
      "epoch: 4, step: 1650, loss: 0.606529, acc: 0.906250\n",
      "epoch: 4, step: 1700, loss: 0.179580, acc: 0.906250\n",
      "epoch: 4, step: 1750, loss: 0.917063, acc: 0.906250\n",
      "epoch: 4, step: 1800, loss: 0.060481, acc: 0.937500\n",
      "epoch: 4, step: 1850, loss: 0.203773, acc: 0.968750\n",
      "epoch: 5, step: 50, loss: 0.057606, acc: 0.968750\n",
      "epoch: 5, step: 100, loss: 0.850553, acc: 0.937500\n",
      "epoch: 5, step: 150, loss: 0.526244, acc: 0.968750\n",
      "epoch: 5, step: 200, loss: 0.629877, acc: 0.937500\n",
      "epoch: 5, step: 250, loss: 0.939514, acc: 0.875000\n",
      "epoch: 5, step: 300, loss: 1.425177, acc: 0.906250\n",
      "epoch: 5, step: 350, loss: 0.711753, acc: 0.937500\n",
      "epoch: 5, step: 400, loss: 0.016135, acc: 1.000000\n",
      "epoch: 5, step: 450, loss: 0.077173, acc: 0.937500\n",
      "epoch: 5, step: 500, loss: 0.408199, acc: 0.968750\n",
      "epoch: 5, step: 550, loss: 1.614655, acc: 0.875000\n",
      "epoch: 5, step: 600, loss: 0.953503, acc: 0.937500\n",
      "epoch: 5, step: 650, loss: 0.904067, acc: 0.937500\n",
      "epoch: 5, step: 700, loss: 1.647171, acc: 0.875000\n",
      "epoch: 5, step: 750, loss: 1.043121, acc: 0.937500\n",
      "epoch: 5, step: 800, loss: 0.943484, acc: 0.906250\n",
      "epoch: 5, step: 850, loss: 1.191500, acc: 0.875000\n",
      "epoch: 5, step: 900, loss: 0.004906, acc: 1.000000\n",
      "epoch: 5, step: 950, loss: 0.179099, acc: 0.968750\n",
      "epoch: 5, step: 1000, loss: 1.973122, acc: 0.875000\n",
      "epoch: 5, step: 1050, loss: 0.561513, acc: 0.906250\n",
      "epoch: 5, step: 1100, loss: 0.191610, acc: 0.968750\n",
      "epoch: 5, step: 1150, loss: 0.009444, acc: 1.000000\n",
      "epoch: 5, step: 1200, loss: 0.579899, acc: 0.937500\n",
      "epoch: 5, step: 1250, loss: 0.573297, acc: 0.937500\n",
      "epoch: 5, step: 1300, loss: 1.139518, acc: 0.937500\n",
      "epoch: 5, step: 1350, loss: 0.139622, acc: 0.968750\n",
      "epoch: 5, step: 1400, loss: 0.928008, acc: 0.906250\n",
      "epoch: 5, step: 1450, loss: 0.411370, acc: 0.968750\n",
      "epoch: 5, step: 1500, loss: 1.194201, acc: 0.875000\n",
      "epoch: 5, step: 1550, loss: 0.736444, acc: 0.937500\n",
      "epoch: 5, step: 1600, loss: 0.731858, acc: 0.937500\n",
      "epoch: 5, step: 1650, loss: 2.367095, acc: 0.875000\n",
      "epoch: 5, step: 1700, loss: 0.289232, acc: 0.968750\n",
      "epoch: 5, step: 1750, loss: 0.740206, acc: 0.937500\n",
      "epoch: 5, step: 1800, loss: 0.385134, acc: 0.968750\n",
      "epoch: 5, step: 1850, loss: 1.472062, acc: 0.875000\n",
      "epoch: 6, step: 50, loss: 0.831689, acc: 0.812500\n",
      "epoch: 6, step: 100, loss: 0.041912, acc: 0.968750\n",
      "epoch: 6, step: 150, loss: 0.093955, acc: 0.937500\n",
      "epoch: 6, step: 200, loss: 1.392678, acc: 0.843750\n",
      "epoch: 6, step: 250, loss: 0.000041, acc: 1.000000\n",
      "epoch: 6, step: 300, loss: 0.316955, acc: 0.968750\n",
      "epoch: 6, step: 350, loss: 0.283606, acc: 0.968750\n",
      "epoch: 6, step: 400, loss: 0.288661, acc: 0.968750\n",
      "epoch: 6, step: 450, loss: 0.380356, acc: 0.937500\n",
      "epoch: 6, step: 500, loss: 0.180895, acc: 0.937500\n",
      "epoch: 6, step: 550, loss: 0.710172, acc: 0.937500\n",
      "epoch: 6, step: 600, loss: 0.888869, acc: 0.906250\n",
      "epoch: 6, step: 650, loss: 0.647866, acc: 0.937500\n",
      "epoch: 6, step: 700, loss: 1.295229, acc: 0.937500\n",
      "epoch: 6, step: 750, loss: 0.924896, acc: 0.906250\n",
      "epoch: 6, step: 800, loss: 0.540809, acc: 0.906250\n",
      "epoch: 6, step: 850, loss: 0.001235, acc: 1.000000\n",
      "epoch: 6, step: 900, loss: 0.025807, acc: 1.000000\n",
      "epoch: 6, step: 950, loss: 1.174064, acc: 0.937500\n",
      "epoch: 6, step: 1000, loss: 0.907404, acc: 0.937500\n",
      "epoch: 6, step: 1050, loss: 0.185531, acc: 0.937500\n",
      "epoch: 6, step: 1100, loss: 0.606339, acc: 0.937500\n",
      "epoch: 6, step: 1150, loss: 0.761470, acc: 0.875000\n",
      "epoch: 6, step: 1200, loss: 0.958085, acc: 0.937500\n",
      "epoch: 6, step: 1250, loss: 0.233083, acc: 0.937500\n",
      "epoch: 6, step: 1300, loss: 0.001715, acc: 1.000000\n",
      "epoch: 6, step: 1350, loss: 0.374282, acc: 0.937500\n",
      "epoch: 6, step: 1400, loss: 1.301393, acc: 0.937500\n",
      "epoch: 6, step: 1450, loss: 0.978820, acc: 0.937500\n",
      "epoch: 6, step: 1500, loss: 0.664748, acc: 0.968750\n",
      "epoch: 6, step: 1550, loss: 2.182577, acc: 0.843750\n",
      "epoch: 6, step: 1600, loss: 0.190058, acc: 0.937500\n",
      "epoch: 6, step: 1650, loss: 0.835224, acc: 0.875000\n",
      "epoch: 6, step: 1700, loss: 0.129604, acc: 0.968750\n",
      "epoch: 6, step: 1750, loss: 0.973962, acc: 0.875000\n",
      "epoch: 6, step: 1800, loss: 0.033726, acc: 0.968750\n",
      "epoch: 6, step: 1850, loss: 1.311632, acc: 0.937500\n",
      "epoch: 7, step: 50, loss: 0.417210, acc: 0.968750\n",
      "epoch: 7, step: 100, loss: 0.802227, acc: 0.906250\n",
      "epoch: 7, step: 150, loss: 0.709895, acc: 0.937500\n",
      "epoch: 7, step: 200, loss: 0.900812, acc: 0.937500\n",
      "epoch: 7, step: 250, loss: 1.719195, acc: 0.843750\n",
      "epoch: 7, step: 300, loss: 0.271916, acc: 0.968750\n",
      "epoch: 7, step: 350, loss: 1.304917, acc: 0.937500\n",
      "epoch: 7, step: 400, loss: 0.436278, acc: 0.937500\n",
      "epoch: 7, step: 450, loss: 0.000374, acc: 1.000000\n",
      "epoch: 7, step: 500, loss: 1.217371, acc: 0.906250\n",
      "epoch: 7, step: 550, loss: 0.613560, acc: 0.906250\n",
      "epoch: 7, step: 600, loss: 0.647609, acc: 0.968750\n",
      "epoch: 7, step: 650, loss: 1.518801, acc: 0.906250\n",
      "epoch: 7, step: 700, loss: 0.016019, acc: 1.000000\n",
      "epoch: 7, step: 750, loss: 0.015210, acc: 1.000000\n",
      "epoch: 7, step: 800, loss: 0.040097, acc: 0.968750\n",
      "epoch: 7, step: 850, loss: 1.702394, acc: 0.875000\n",
      "epoch: 7, step: 900, loss: 1.544867, acc: 0.781250\n",
      "epoch: 7, step: 950, loss: 0.309324, acc: 0.937500\n",
      "epoch: 7, step: 1000, loss: 0.795251, acc: 0.937500\n",
      "epoch: 7, step: 1050, loss: 0.533093, acc: 0.937500\n",
      "epoch: 7, step: 1100, loss: 0.039131, acc: 1.000000\n",
      "epoch: 7, step: 1150, loss: 0.922563, acc: 0.906250\n",
      "epoch: 7, step: 1200, loss: 0.061461, acc: 0.968750\n",
      "epoch: 7, step: 1250, loss: 0.824062, acc: 0.906250\n",
      "epoch: 7, step: 1300, loss: 0.933888, acc: 0.906250\n",
      "epoch: 7, step: 1350, loss: 1.086527, acc: 0.843750\n",
      "epoch: 7, step: 1400, loss: 0.311101, acc: 0.937500\n",
      "epoch: 7, step: 1450, loss: 1.348169, acc: 0.906250\n",
      "epoch: 7, step: 1500, loss: 0.457657, acc: 0.906250\n",
      "epoch: 7, step: 1550, loss: 0.887828, acc: 0.937500\n",
      "epoch: 7, step: 1600, loss: 0.458284, acc: 0.968750\n",
      "epoch: 7, step: 1650, loss: 0.818272, acc: 0.906250\n",
      "epoch: 7, step: 1700, loss: 0.545612, acc: 0.937500\n",
      "epoch: 7, step: 1750, loss: 0.536205, acc: 0.906250\n",
      "epoch: 7, step: 1800, loss: 0.663816, acc: 0.968750\n",
      "epoch: 7, step: 1850, loss: 0.648192, acc: 0.968750\n",
      "epoch: 8, step: 50, loss: 1.142477, acc: 0.875000\n",
      "epoch: 8, step: 100, loss: 0.900040, acc: 0.937500\n",
      "epoch: 8, step: 150, loss: 0.440437, acc: 0.937500\n",
      "epoch: 8, step: 200, loss: 0.900819, acc: 0.937500\n",
      "epoch: 8, step: 250, loss: 1.294451, acc: 0.906250\n",
      "epoch: 8, step: 300, loss: 1.037476, acc: 0.906250\n",
      "epoch: 8, step: 350, loss: 1.472598, acc: 0.875000\n",
      "epoch: 8, step: 400, loss: 0.591548, acc: 0.875000\n",
      "epoch: 8, step: 450, loss: 0.709312, acc: 0.937500\n",
      "epoch: 8, step: 500, loss: 0.170577, acc: 0.968750\n",
      "epoch: 8, step: 550, loss: 0.591176, acc: 0.968750\n",
      "epoch: 8, step: 600, loss: 0.659083, acc: 0.968750\n",
      "epoch: 8, step: 650, loss: 1.527905, acc: 0.906250\n",
      "epoch: 8, step: 700, loss: 0.001603, acc: 1.000000\n",
      "epoch: 8, step: 750, loss: 0.253495, acc: 0.968750\n",
      "epoch: 8, step: 800, loss: 1.322242, acc: 0.875000\n",
      "epoch: 8, step: 850, loss: 1.256561, acc: 0.906250\n",
      "epoch: 8, step: 900, loss: 0.012671, acc: 1.000000\n",
      "epoch: 8, step: 950, loss: 0.183782, acc: 0.968750\n",
      "epoch: 8, step: 1000, loss: 0.034714, acc: 0.968750\n",
      "epoch: 8, step: 1050, loss: 0.768697, acc: 0.937500\n",
      "epoch: 8, step: 1100, loss: 0.371091, acc: 0.937500\n",
      "epoch: 8, step: 1150, loss: 2.108532, acc: 0.843750\n",
      "epoch: 8, step: 1200, loss: 0.784039, acc: 0.906250\n"
     ]
    },
    {
     "name": "stdout",
     "output_type": "stream",
     "text": [
      "epoch: 8, step: 1250, loss: 1.437927, acc: 0.906250\n",
      "epoch: 8, step: 1300, loss: 0.287868, acc: 0.937500\n",
      "epoch: 8, step: 1350, loss: 0.061347, acc: 0.968750\n",
      "epoch: 8, step: 1400, loss: 1.107275, acc: 0.906250\n",
      "epoch: 8, step: 1450, loss: 0.703669, acc: 0.906250\n",
      "epoch: 8, step: 1500, loss: 1.350988, acc: 0.875000\n",
      "epoch: 8, step: 1550, loss: 1.441935, acc: 0.906250\n",
      "epoch: 8, step: 1600, loss: 0.694868, acc: 0.843750\n",
      "epoch: 8, step: 1650, loss: 0.000978, acc: 1.000000\n",
      "epoch: 8, step: 1700, loss: 0.412985, acc: 0.906250\n",
      "epoch: 8, step: 1750, loss: 0.429749, acc: 0.937500\n",
      "epoch: 8, step: 1800, loss: 0.685884, acc: 0.875000\n",
      "epoch: 8, step: 1850, loss: 0.731525, acc: 0.937500\n",
      "epoch: 9, step: 50, loss: 0.000428, acc: 1.000000\n",
      "epoch: 9, step: 100, loss: 1.280735, acc: 0.937500\n",
      "epoch: 9, step: 150, loss: 0.011708, acc: 1.000000\n",
      "epoch: 9, step: 200, loss: 0.915974, acc: 0.937500\n",
      "epoch: 9, step: 250, loss: 0.683105, acc: 0.906250\n",
      "epoch: 9, step: 300, loss: 0.896442, acc: 0.937500\n",
      "epoch: 9, step: 350, loss: 0.350037, acc: 0.937500\n",
      "epoch: 9, step: 400, loss: 1.068122, acc: 0.937500\n",
      "epoch: 9, step: 450, loss: 0.423233, acc: 0.937500\n",
      "epoch: 9, step: 500, loss: 0.241138, acc: 0.968750\n",
      "epoch: 9, step: 550, loss: 0.650641, acc: 0.968750\n",
      "epoch: 9, step: 600, loss: 0.647926, acc: 0.968750\n",
      "epoch: 9, step: 650, loss: 0.231536, acc: 0.937500\n",
      "epoch: 9, step: 700, loss: 0.547618, acc: 0.875000\n",
      "epoch: 9, step: 750, loss: 0.259663, acc: 0.937500\n",
      "epoch: 9, step: 800, loss: 0.001446, acc: 1.000000\n",
      "epoch: 9, step: 850, loss: 0.081395, acc: 0.968750\n",
      "epoch: 9, step: 900, loss: 0.562979, acc: 0.906250\n",
      "epoch: 9, step: 950, loss: 0.982750, acc: 0.937500\n",
      "epoch: 9, step: 1000, loss: 0.661943, acc: 0.968750\n",
      "epoch: 9, step: 1050, loss: 0.563470, acc: 0.968750\n",
      "epoch: 9, step: 1100, loss: 0.410076, acc: 0.968750\n",
      "epoch: 9, step: 1150, loss: 1.221931, acc: 0.875000\n",
      "epoch: 9, step: 1200, loss: 0.049261, acc: 0.968750\n",
      "epoch: 9, step: 1250, loss: 0.647656, acc: 0.968750\n",
      "epoch: 9, step: 1300, loss: 0.222994, acc: 0.937500\n",
      "epoch: 9, step: 1350, loss: 0.083829, acc: 0.968750\n",
      "epoch: 9, step: 1400, loss: 1.001679, acc: 0.906250\n",
      "epoch: 9, step: 1450, loss: 1.487889, acc: 0.812500\n",
      "epoch: 9, step: 1500, loss: 0.017094, acc: 1.000000\n",
      "epoch: 9, step: 1550, loss: 0.654416, acc: 0.968750\n",
      "epoch: 9, step: 1600, loss: 0.703375, acc: 0.937500\n",
      "epoch: 9, step: 1650, loss: 1.220261, acc: 0.812500\n",
      "epoch: 9, step: 1700, loss: 0.109307, acc: 0.968750\n",
      "epoch: 9, step: 1750, loss: 1.137089, acc: 0.906250\n",
      "epoch: 9, step: 1800, loss: 0.664469, acc: 0.968750\n",
      "epoch: 9, step: 1850, loss: 0.259415, acc: 0.906250\n",
      "Test accuracy: 0.914900\n"
     ]
    }
   ],
   "source": [
    "# Training\n",
    "lossHistory = []\n",
    "accuracyHistory = []\n",
    "\n",
    "for e in range( num_epochs ):\n",
    "    for step, (batch_x, batch_y) in enumerate(train_data, 1):\n",
    "        with tf.GradientTape() as tape:\n",
    "            y_pred = tf.nn.softmax(tf.matmul(batch_x, W) + b)\n",
    "            y_pred = tf.clip_by_value(y_pred, 1e-9, 1.)\n",
    "            batch_y_ohe = tf.one_hot(batch_y, depth = 10)\n",
    "            loss = tf.reduce_mean(tf.losses.categorical_crossentropy( batch_y_ohe , y_pred ))\n",
    "            # loss = tf.reduce_mean(-tf.reduce_sum(batch_y * tf.math.log(y_pred), axis=1))\n",
    "\n",
    "        grads = tape.gradient(loss, [W, b])\n",
    "        optimizer = tf.optimizers.Adam( learning_rate )\n",
    "        # Adam 과 SGD 비교해 보면 좋음.\n",
    "        optimizer.apply_gradients(zip(grads, [W,b]))\n",
    "\n",
    "        corr_predict = tf.equal(tf.argmax(y_pred, 1), tf.cast(batch_y, tf.int64))\n",
    "        acc = tf.reduce_mean(tf.cast(corr_predict, tf.float32))\n",
    "\n",
    "        if step % 50 == 0:\n",
    "            pred = logistic_regression(batch_x)\n",
    "            loss = cross_entropy(pred, batch_y)\n",
    "            lossHistory.append(loss)\n",
    "            acc = accuracy(pred, batch_y)\n",
    "            accuracyHistory.append(acc)\n",
    "            print(\"epoch: %i, step: %i, loss: %f, acc: %f\" % (e, step, loss, acc))\n",
    "    \n",
    "    # print(\"epoch: %i, loss: %f, accuracy: %f\" % (e, loss, acc))\n",
    "\n",
    "# Testing\n",
    "test_y_pred = tf.nn.softmax(tf.matmul(x_test, W) + b)\n",
    "test_pred = tf.equal(tf.argmax(test_y_pred, 1), tf.cast(y_test, tf.int64))\n",
    "test_acc = tf.reduce_mean(tf.cast(test_pred, tf.float32))\n",
    "\n",
    "print(\"Test accuracy: %f\" % test_acc)"
   ]
  },
  {
   "cell_type": "code",
   "execution_count": 31,
   "metadata": {
    "colab": {
     "base_uri": "https://localhost:8080/",
     "height": 284
    },
    "executionInfo": {
     "elapsed": 711,
     "status": "ok",
     "timestamp": 1630555599824,
     "user": {
      "displayName": "Yongjin Jeong",
      "photoUrl": "https://lh3.googleusercontent.com/a/default-user=s64",
      "userId": "03658406798560557048"
     },
     "user_tz": -540
    },
    "id": "kyKP_vFerNnE",
    "outputId": "dab1c8ee-3295-43e5-d305-6226a98bccdc"
   },
   "outputs": [
    {
     "data": {
      "text/plain": [
       "[<matplotlib.lines.Line2D at 0x1f086a0df70>]"
      ]
     },
     "execution_count": 31,
     "metadata": {},
     "output_type": "execute_result"
    },
    {
     "data": {
      "image/png": "[encoded data removed]",
      "text/plain": [
       "<Figure size 432x288 with 2 Axes>"
      ]
     },
     "metadata": {
      "needs_background": "light"
     },
     "output_type": "display_data"
    }
   ],
   "source": [
    "plt.subplot(1,2,1)\n",
    "plt.plot(lossHistory)\n",
    "plt.subplot(1,2,2)\n",
    "plt.plot(accuracyHistory)"
   ]
  },
  {
   "cell_type": "markdown",
   "metadata": {
    "id": "CaC9Tf5apB88"
   },
   "source": [
    "## MNIST tensorflow 2.0 (version 3)\n",
    "\n",
    "- function define"
   ]
  },
  {
   "cell_type": "code",
   "execution_count": 32,
   "metadata": {
    "colab": {
     "base_uri": "https://localhost:8080/",
     "height": 954
    },
    "executionInfo": {
     "elapsed": 24981,
     "status": "ok",
     "timestamp": 1630555928645,
     "user": {
      "displayName": "Yongjin Jeong",
      "photoUrl": "https://lh3.googleusercontent.com/a/default-user=s64",
      "userId": "03658406798560557048"
     },
     "user_tz": -540
    },
    "id": "U3wG34F9pJiE",
    "outputId": "4eba5d9e-f135-4e91-d2f6-eab49cf832f8"
   },
   "outputs": [
    {
     "name": "stdout",
     "output_type": "stream",
     "text": [
      "epoch: 0, step: 50, loss: 2.445663, acc: 0.590000\n",
      "epoch: 0, step: 100, loss: 1.200333, acc: 0.790000\n",
      "epoch: 0, step: 150, loss: 1.159745, acc: 0.813333\n",
      "epoch: 0, step: 200, loss: 0.617782, acc: 0.860000\n",
      "epoch: 1, step: 50, loss: 0.579223, acc: 0.870000\n",
      "epoch: 1, step: 100, loss: 0.686740, acc: 0.856667\n",
      "epoch: 1, step: 150, loss: 0.461916, acc: 0.890000\n",
      "epoch: 1, step: 200, loss: 0.532660, acc: 0.863333\n",
      "epoch: 2, step: 50, loss: 0.368220, acc: 0.896667\n",
      "epoch: 2, step: 100, loss: 0.526579, acc: 0.876667\n",
      "epoch: 2, step: 150, loss: 0.502630, acc: 0.883333\n",
      "epoch: 2, step: 200, loss: 0.481341, acc: 0.903333\n",
      "epoch: 3, step: 50, loss: 0.382493, acc: 0.920000\n",
      "epoch: 3, step: 100, loss: 0.389219, acc: 0.893333\n",
      "epoch: 3, step: 150, loss: 0.419299, acc: 0.886667\n",
      "epoch: 3, step: 200, loss: 0.303913, acc: 0.920000\n",
      "epoch: 4, step: 50, loss: 0.406405, acc: 0.896667\n",
      "epoch: 4, step: 100, loss: 0.321929, acc: 0.903333\n",
      "epoch: 4, step: 150, loss: 0.465512, acc: 0.886667\n",
      "epoch: 4, step: 200, loss: 0.358412, acc: 0.926667\n",
      "epoch: 5, step: 50, loss: 0.378693, acc: 0.890000\n",
      "epoch: 5, step: 100, loss: 0.309058, acc: 0.913333\n",
      "epoch: 5, step: 150, loss: 0.429986, acc: 0.876667\n",
      "epoch: 5, step: 200, loss: 0.232284, acc: 0.936667\n",
      "epoch: 6, step: 50, loss: 0.289369, acc: 0.916667\n",
      "epoch: 6, step: 100, loss: 0.388875, acc: 0.900000\n",
      "epoch: 6, step: 150, loss: 0.272858, acc: 0.910000\n",
      "epoch: 6, step: 200, loss: 0.205556, acc: 0.930000\n",
      "epoch: 7, step: 50, loss: 0.319610, acc: 0.923333\n",
      "epoch: 7, step: 100, loss: 0.255935, acc: 0.936667\n",
      "epoch: 7, step: 150, loss: 0.496277, acc: 0.883333\n",
      "epoch: 7, step: 200, loss: 0.168002, acc: 0.940000\n",
      "epoch: 8, step: 50, loss: 0.275490, acc: 0.916667\n",
      "epoch: 8, step: 100, loss: 0.259687, acc: 0.916667\n",
      "epoch: 8, step: 150, loss: 0.292050, acc: 0.906667\n",
      "epoch: 8, step: 200, loss: 0.419811, acc: 0.916667\n",
      "epoch: 9, step: 50, loss: 0.230621, acc: 0.926667\n",
      "epoch: 9, step: 100, loss: 0.375554, acc: 0.906667\n",
      "epoch: 9, step: 150, loss: 0.416157, acc: 0.893333\n",
      "epoch: 9, step: 200, loss: 0.211457, acc: 0.926667\n",
      "Test accuracy: 0.910300\n"
     ]
    },
    {
     "data": {
      "image/png": "[encoded data removed]",
      "text/plain": [
       "<Figure size 432x288 with 2 Axes>"
      ]
     },
     "metadata": {
      "needs_background": "light"
     },
     "output_type": "display_data"
    }
   ],
   "source": [
    "import tensorflow as tf\n",
    "import numpy as np\n",
    "from tensorflow.keras.datasets import mnist\n",
    "num_classes = 10        # 0 to 9 digits\n",
    "num_features = 28 * 28\n",
    "(x_train, y_train), (x_test, y_test) = mnist.load_data()\n",
    "x_train, x_test = np.array(x_train, np.float32), np.array(x_test, np.float32)\n",
    "x_train, x_test = x_train.reshape([-1, num_features]), x_test.reshape([-1, num_features])\n",
    "x_train, x_test = x_train / 255., x_test / 255.\n",
    "\n",
    "input_size = 784\n",
    "num_classes = 10\n",
    "batch_size = 300\n",
    "num_epochs = 10\n",
    "learning_rate = 0.01\n",
    "\n",
    "train_data=tf.data.Dataset.from_tensor_slices((x_train,y_train))\n",
    "train_data=train_data.shuffle(5000).batch(batch_size)\n",
    "\n",
    "W = tf.Variable(tf.random.normal([input_size, num_classes])) # (784,10)\n",
    "b = tf.Variable(tf.random.normal([num_classes]))             # (10,)\n",
    "\n",
    "def model(X):\n",
    "    return tf.nn.softmax(tf.matmul(X, W) + b)\n",
    "\n",
    "def loss_fn(y_pred, y_true):\n",
    "    y_pred = tf.clip_by_value(y_pred, 1e-9, 1.)\n",
    "    y_true_ohe = tf.one_hot(batch_y, depth = 10)\n",
    "    return tf.reduce_mean(tf.losses.categorical_crossentropy(y_true_ohe, y_pred))\n",
    "\n",
    "optimizer = tf.optimizers.Adam( learning_rate )\n",
    "\n",
    "def train_step (x, y):\n",
    "\n",
    "    with tf.GradientTape() as tape:\n",
    "        y_pred = model(x)\n",
    "        loss = loss_fn (y_pred, y)\n",
    "    grads = tape.gradient(loss, [W, b])\n",
    "    optimizer.apply_gradients(zip(grads, [W,b]))\n",
    "\n",
    "def accuracy(y_pred, y_true):\n",
    "    corr_predict = tf.equal(tf.argmax(y_pred, 1), tf.cast(y_true, tf.int64))\n",
    "    return tf.reduce_mean(tf.cast(corr_predict, tf.float32))\n",
    "\n",
    "# Training\n",
    "lossHistory = []\n",
    "accuracyHistory = []\n",
    "\n",
    "for e in range( num_epochs ):\n",
    "    for step, (batch_x, batch_y) in enumerate(train_data, 1):\n",
    "        with tf.GradientTape() as tape:\n",
    "            train_step(batch_x, batch_y)\n",
    "\n",
    "        if step % 50 == 0: \n",
    "            pred = model(batch_x)\n",
    "            loss = loss_fn (pred, batch_y)\n",
    "            acc = accuracy(pred, batch_y)\n",
    "            print(\"epoch: %i, step: %i, loss: %f, acc: %f\" % (e, step, loss, acc))\n",
    "            lossHistory.append(loss)\n",
    "            accuracyHistory.append(acc)\n",
    "\n",
    "# Testing\n",
    "test_y_pred = model(x_test)\n",
    "test_acc = accuracy(test_y_pred, y_test)\n",
    "print(\"Test accuracy: %f\" % test_acc)\n",
    "\n",
    "plt.subplot(1,2,1)\n",
    "plt.plot(lossHistory)\n",
    "plt.subplot(1,2,2)\n",
    "plt.plot(accuracyHistory)\n",
    "plt.show()"
   ]
  }
 ],
 "metadata": {
  "accelerator": "GPU",
  "colab": {
   "collapsed_sections": [],
   "name": "lab_58_MNIST_tensorflow_rev3.ipynb",
   "provenance": [
    {
     "file_id": "1fx2k73MkcniDA_Jyb6kKTdh8Sec43YBz",
     "timestamp": 1605069973742
    }
   ],
   "toc_visible": true
  },
  "kernelspec": {
   "display_name": "Python 3",
   "language": "python",
   "name": "python3"
  },
  "language_info": {
   "codemirror_mode": {
    "name": "ipython",
    "version": 3
   },
   "file_extension": ".py",
   "mimetype": "text/x-python",
   "name": "python",
   "nbconvert_exporter": "python",
   "pygments_lexer": "ipython3",
   "version": "3.8.8"
  },
  "widgets": {
   "application/vnd.jupyter.widget-state+json": {
    "03d270c2f3594d5d88d255cc8bc62540": {
     "model_module": "@jupyter-widgets/controls",
     "model_module_version": "1.5.0",
     "model_name": "HTMLModel",
     "state": {
      "_dom_classes": [],
      "_model_module": "@jupyter-widgets/controls",
      "_model_module_version": "1.5.0",
      "_model_name": "HTMLModel",
      "_view_count": null,
      "_view_module": "@jupyter-widgets/controls",
      "_view_module_version": "1.5.0",
      "_view_name": "HTMLView",
      "description": "",
      "description_tooltip": null,
      "layout": "IPY_MODEL_08e85922cb1b4378a07d5853a1c5b9d8",
      "placeholder": "​",
      "style": "IPY_MODEL_5c2a52432a61449ca3705a19f4a392e0",
      "value": " 255/256 [00:00&lt;00:00, 3764.74 examples/s]"
     }
    },
    "06fbbb8a306e4ef2bb86e1c89c45a992": {
     "model_module": "@jupyter-widgets/controls",
     "model_module_version": "1.5.0",
     "model_name": "HTMLModel",
     "state": {
      "_dom_classes": [],
      "_model_module": "@jupyter-widgets/controls",
      "_model_module_version": "1.5.0",
      "_model_name": "HTMLModel",
      "_view_count": null,
      "_view_module": "@jupyter-widgets/controls",
      "_view_module_version": "1.5.0",
      "_view_name": "HTMLView",
      "description": "",
      "description_tooltip": null,
      "layout": "IPY_MODEL_3abfecf398be4b8ea261e784764305c6",
      "placeholder": "​",
      "style": "IPY_MODEL_3cd5c14bd0c74504ab2f6ec6d76c011e",
      "value": " 1026/1027 [00:00&lt;00:00, 3779.18 examples/s]"
     }
    },
    "0749a8b1ecb8494eab8e6fb79d890b1a": {
     "model_module": "@jupyter-widgets/base",
     "model_module_version": "1.2.0",
     "model_name": "LayoutModel",
     "state": {
      "_model_module": "@jupyter-widgets/base",
      "_model_module_version": "1.2.0",
      "_model_name": "LayoutModel",
      "_view_count": null,
      "_view_module": "@jupyter-widgets/base",
      "_view_module_version": "1.2.0",
      "_view_name": "LayoutView",
      "align_content": null,
      "align_items": null,
      "align_self": null,
      "border": null,
      "bottom": null,
      "display": null,
      "flex": null,
      "flex_flow": null,
      "grid_area": null,
      "grid_auto_columns": null,
      "grid_auto_flow": null,
      "grid_auto_rows": null,
      "grid_column": null,
      "grid_gap": null,
      "grid_row": null,
      "grid_template_areas": null,
      "grid_template_columns": null,
      "grid_template_rows": null,
      "height": null,
      "justify_content": null,
      "justify_items": null,
      "left": null,
      "margin": null,
      "max_height": null,
      "max_width": null,
      "min_height": null,
      "min_width": null,
      "object_fit": null,
      "object_position": null,
      "order": null,
      "overflow": null,
      "overflow_x": null,
      "overflow_y": null,
      "padding": null,
      "right": null,
      "top": null,
      "visibility": null,
      "width": "20px"
     }
    },
    "08e85922cb1b4378a07d5853a1c5b9d8": {
     "model_module": "@jupyter-widgets/base",
     "model_module_version": "1.2.0",
     "model_name": "LayoutModel",
     "state": {
      "_model_module": "@jupyter-widgets/base",
      "_model_module_version": "1.2.0",
      "_model_name": "LayoutModel",
      "_view_count": null,
      "_view_module": "@jupyter-widgets/base",
      "_view_module_version": "1.2.0",
      "_view_name": "LayoutView",
      "align_content": null,
      "align_items": null,
      "align_self": null,
      "border": null,
      "bottom": null,
      "display": null,
      "flex": null,
      "flex_flow": null,
      "grid_area": null,
      "grid_auto_columns": null,
      "grid_auto_flow": null,
      "grid_auto_rows": null,
      "grid_column": null,
      "grid_gap": null,
      "grid_row": null,
      "grid_template_areas": null,
      "grid_template_columns": null,
      "grid_template_rows": null,
      "height": null,
      "justify_content": null,
      "justify_items": null,
      "left": null,
      "margin": null,
      "max_height": null,
      "max_width": null,
      "min_height": null,
      "min_width": null,
      "object_fit": null,
      "object_position": null,
      "order": null,
      "overflow": null,
      "overflow_x": null,
      "overflow_y": null,
      "padding": null,
      "right": null,
      "top": null,
      "visibility": null,
      "width": null
     }
    },
    "0ae4bdee9f684e13b507ba0e404b4327": {
     "model_module": "@jupyter-widgets/base",
     "model_module_version": "1.2.0",
     "model_name": "LayoutModel",
     "state": {
      "_model_module": "@jupyter-widgets/base",
      "_model_module_version": "1.2.0",
      "_model_name": "LayoutModel",
      "_view_count": null,
      "_view_module": "@jupyter-widgets/base",
      "_view_module_version": "1.2.0",
      "_view_name": "LayoutView",
      "align_content": null,
      "align_items": null,
      "align_self": null,
      "border": null,
      "bottom": null,
      "display": null,
      "flex": null,
      "flex_flow": null,
      "grid_area": null,
      "grid_auto_columns": null,
      "grid_auto_flow": null,
      "grid_auto_rows": null,
      "grid_column": null,
      "grid_gap": null,
      "grid_row": null,
      "grid_template_areas": null,
      "grid_template_columns": null,
      "grid_template_rows": null,
      "height": null,
      "justify_content": null,
      "justify_items": null,
      "left": null,
      "margin": null,
      "max_height": null,
      "max_width": null,
      "min_height": null,
      "min_width": null,
      "object_fit": null,
      "object_position": null,
      "order": null,
      "overflow": null,
      "overflow_x": null,
      "overflow_y": null,
      "padding": null,
      "right": null,
      "top": null,
      "visibility": null,
      "width": null
     }
    },
    "10ef0fbb66554f8db96221f5c118ea5c": {
     "model_module": "@jupyter-widgets/controls",
     "model_module_version": "1.5.0",
     "model_name": "HBoxModel",
     "state": {
      "_dom_classes": [],
      "_model_module": "@jupyter-widgets/controls",
      "_model_module_version": "1.5.0",
      "_model_name": "HBoxModel",
      "_view_count": null,
      "_view_module": "@jupyter-widgets/controls",
      "_view_module_version": "1.5.0",
      "_view_name": "HBoxView",
      "box_style": "",
      "children": [
       "IPY_MODEL_6fa8ab3efcc24f72af6dce68169f2d32",
       "IPY_MODEL_ac72eb1942a7400595faaa6ca66cb321",
       "IPY_MODEL_e26e85d8985c42daa25ed4b98423e0a1"
      ],
      "layout": "IPY_MODEL_45a5ac4e588447e5bd4b6f5bc1c23d79"
     }
    },
    "135d82b1f7d24902abcb37e014b5de8b": {
     "model_module": "@jupyter-widgets/controls",
     "model_module_version": "1.5.0",
     "model_name": "HBoxModel",
     "state": {
      "_dom_classes": [],
      "_model_module": "@jupyter-widgets/controls",
      "_model_module_version": "1.5.0",
      "_model_name": "HBoxModel",
      "_view_count": null,
      "_view_module": "@jupyter-widgets/controls",
      "_view_module_version": "1.5.0",
      "_view_name": "HBoxView",
      "box_style": "",
      "children": [
       "IPY_MODEL_e62256a0565f4f8f892d2f8b669e7dd7",
       "IPY_MODEL_23355dc7871f40ab8f546c4d3e00c2c9",
       "IPY_MODEL_06fbbb8a306e4ef2bb86e1c89c45a992"
      ],
      "layout": "IPY_MODEL_69831fc040b3436f83fd3eeb1b94575f"
     }
    },
    "1751923ac80a4679a66464de2b37a653": {
     "model_module": "@jupyter-widgets/controls",
     "model_module_version": "1.5.0",
     "model_name": "DescriptionStyleModel",
     "state": {
      "_model_module": "@jupyter-widgets/controls",
      "_model_module_version": "1.5.0",
      "_model_name": "DescriptionStyleModel",
      "_view_count": null,
      "_view_module": "@jupyter-widgets/base",
      "_view_module_version": "1.2.0",
      "_view_name": "StyleView",
      "description_width": ""
     }
    },
    "17c10dbef27e4941b220e0217abfc892": {
     "model_module": "@jupyter-widgets/base",
     "model_module_version": "1.2.0",
     "model_name": "LayoutModel",
     "state": {
      "_model_module": "@jupyter-widgets/base",
      "_model_module_version": "1.2.0",
      "_model_name": "LayoutModel",
      "_view_count": null,
      "_view_module": "@jupyter-widgets/base",
      "_view_module_version": "1.2.0",
      "_view_name": "LayoutView",
      "align_content": null,
      "align_items": null,
      "align_self": null,
      "border": null,
      "bottom": null,
      "display": null,
      "flex": null,
      "flex_flow": null,
      "grid_area": null,
      "grid_auto_columns": null,
      "grid_auto_flow": null,
      "grid_auto_rows": null,
      "grid_column": null,
      "grid_gap": null,
      "grid_row": null,
      "grid_template_areas": null,
      "grid_template_columns": null,
      "grid_template_rows": null,
      "height": null,
      "justify_content": null,
      "justify_items": null,
      "left": null,
      "margin": null,
      "max_height": null,
      "max_width": null,
      "min_height": null,
      "min_width": null,
      "object_fit": null,
      "object_position": null,
      "order": null,
      "overflow": null,
      "overflow_x": null,
      "overflow_y": null,
      "padding": null,
      "right": null,
      "top": null,
      "visibility": null,
      "width": null
     }
    },
    "1e6fd6d896e143d58bf76088fcccddb4": {
     "model_module": "@jupyter-widgets/base",
     "model_module_version": "1.2.0",
     "model_name": "LayoutModel",
     "state": {
      "_model_module": "@jupyter-widgets/base",
      "_model_module_version": "1.2.0",
      "_model_name": "LayoutModel",
      "_view_count": null,
      "_view_module": "@jupyter-widgets/base",
      "_view_module_version": "1.2.0",
      "_view_name": "LayoutView",
      "align_content": null,
      "align_items": null,
      "align_self": null,
      "border": null,
      "bottom": null,
      "display": null,
      "flex": null,
      "flex_flow": null,
      "grid_area": null,
      "grid_auto_columns": null,
      "grid_auto_flow": null,
      "grid_auto_rows": null,
      "grid_column": null,
      "grid_gap": null,
      "grid_row": null,
      "grid_template_areas": null,
      "grid_template_columns": null,
      "grid_template_rows": null,
      "height": null,
      "justify_content": null,
      "justify_items": null,
      "left": null,
      "margin": null,
      "max_height": null,
      "max_width": null,
      "min_height": null,
      "min_width": null,
      "object_fit": null,
      "object_position": null,
      "order": null,
      "overflow": null,
      "overflow_x": null,
      "overflow_y": null,
      "padding": null,
      "right": null,
      "top": null,
      "visibility": null,
      "width": null
     }
    },
    "21bbb34eb87b483e8182538d58b40911": {
     "model_module": "@jupyter-widgets/controls",
     "model_module_version": "1.5.0",
     "model_name": "DescriptionStyleModel",
     "state": {
      "_model_module": "@jupyter-widgets/controls",
      "_model_module_version": "1.5.0",
      "_model_name": "DescriptionStyleModel",
      "_view_count": null,
      "_view_module": "@jupyter-widgets/base",
      "_view_module_version": "1.2.0",
      "_view_name": "StyleView",
      "description_width": ""
     }
    },
    "23355dc7871f40ab8f546c4d3e00c2c9": {
     "model_module": "@jupyter-widgets/controls",
     "model_module_version": "1.5.0",
     "model_name": "FloatProgressModel",
     "state": {
      "_dom_classes": [],
      "_model_module": "@jupyter-widgets/controls",
      "_model_module_version": "1.5.0",
      "_model_name": "FloatProgressModel",
      "_view_count": null,
      "_view_module": "@jupyter-widgets/controls",
      "_view_module_version": "1.5.0",
      "_view_name": "ProgressView",
      "bar_style": "danger",
      "description": "",
      "description_tooltip": null,
      "layout": "IPY_MODEL_6eba0ce3e2ce460687add9d226b90a52",
      "max": 1027,
      "min": 0,
      "orientation": "horizontal",
      "style": "IPY_MODEL_d4f7fa0cfe364ab8bdcb100b8fe18b57",
      "value": 1026
     }
    },
    "2441dce58afe4ae9959826c15a226ae7": {
     "model_module": "@jupyter-widgets/controls",
     "model_module_version": "1.5.0",
     "model_name": "ProgressStyleModel",
     "state": {
      "_model_module": "@jupyter-widgets/controls",
      "_model_module_version": "1.5.0",
      "_model_name": "ProgressStyleModel",
      "_view_count": null,
      "_view_module": "@jupyter-widgets/base",
      "_view_module_version": "1.2.0",
      "_view_name": "StyleView",
      "bar_color": null,
      "description_width": ""
     }
    },
    "2a0b45923dfc414396adab9355e4414e": {
     "model_module": "@jupyter-widgets/controls",
     "model_module_version": "1.5.0",
     "model_name": "ProgressStyleModel",
     "state": {
      "_model_module": "@jupyter-widgets/controls",
      "_model_module_version": "1.5.0",
      "_model_name": "ProgressStyleModel",
      "_view_count": null,
      "_view_module": "@jupyter-widgets/base",
      "_view_module_version": "1.2.0",
      "_view_name": "StyleView",
      "bar_color": null,
      "description_width": ""
     }
    },
    "2c72aa3a083a481885482d89e74f6a15": {
     "model_module": "@jupyter-widgets/controls",
     "model_module_version": "1.5.0",
     "model_name": "DescriptionStyleModel",
     "state": {
      "_model_module": "@jupyter-widgets/controls",
      "_model_module_version": "1.5.0",
      "_model_name": "DescriptionStyleModel",
      "_view_count": null,
      "_view_module": "@jupyter-widgets/base",
      "_view_module_version": "1.2.0",
      "_view_name": "StyleView",
      "description_width": ""
     }
    },
    "3abfecf398be4b8ea261e784764305c6": {
     "model_module": "@jupyter-widgets/base",
     "model_module_version": "1.2.0",
     "model_name": "LayoutModel",
     "state": {
      "_model_module": "@jupyter-widgets/base",
      "_model_module_version": "1.2.0",
      "_model_name": "LayoutModel",
      "_view_count": null,
      "_view_module": "@jupyter-widgets/base",
      "_view_module_version": "1.2.0",
      "_view_name": "LayoutView",
      "align_content": null,
      "align_items": null,
      "align_self": null,
      "border": null,
      "bottom": null,
      "display": null,
      "flex": null,
      "flex_flow": null,
      "grid_area": null,
      "grid_auto_columns": null,
      "grid_auto_flow": null,
      "grid_auto_rows": null,
      "grid_column": null,
      "grid_gap": null,
      "grid_row": null,
      "grid_template_areas": null,
      "grid_template_columns": null,
      "grid_template_rows": null,
      "height": null,
      "justify_content": null,
      "justify_items": null,
      "left": null,
      "margin": null,
      "max_height": null,
      "max_width": null,
      "min_height": null,
      "min_width": null,
      "object_fit": null,
      "object_position": null,
      "order": null,
      "overflow": null,
      "overflow_x": null,
      "overflow_y": null,
      "padding": null,
      "right": null,
      "top": null,
      "visibility": null,
      "width": null
     }
    },
    "3cd5c14bd0c74504ab2f6ec6d76c011e": {
     "model_module": "@jupyter-widgets/controls",
     "model_module_version": "1.5.0",
     "model_name": "DescriptionStyleModel",
     "state": {
      "_model_module": "@jupyter-widgets/controls",
      "_model_module_version": "1.5.0",
      "_model_name": "DescriptionStyleModel",
      "_view_count": null,
      "_view_module": "@jupyter-widgets/base",
      "_view_module_version": "1.2.0",
      "_view_name": "StyleView",
      "description_width": ""
     }
    },
    "424ceb0ddd514de8a33c89addc0fc2bd": {
     "model_module": "@jupyter-widgets/base",
     "model_module_version": "1.2.0",
     "model_name": "LayoutModel",
     "state": {
      "_model_module": "@jupyter-widgets/base",
      "_model_module_version": "1.2.0",
      "_model_name": "LayoutModel",
      "_view_count": null,
      "_view_module": "@jupyter-widgets/base",
      "_view_module_version": "1.2.0",
      "_view_name": "LayoutView",
      "align_content": null,
      "align_items": null,
      "align_self": null,
      "border": null,
      "bottom": null,
      "display": null,
      "flex": null,
      "flex_flow": null,
      "grid_area": null,
      "grid_auto_columns": null,
      "grid_auto_flow": null,
      "grid_auto_rows": null,
      "grid_column": null,
      "grid_gap": null,
      "grid_row": null,
      "grid_template_areas": null,
      "grid_template_columns": null,
      "grid_template_rows": null,
      "height": null,
      "justify_content": null,
      "justify_items": null,
      "left": null,
      "margin": null,
      "max_height": null,
      "max_width": null,
      "min_height": null,
      "min_width": null,
      "object_fit": null,
      "object_position": null,
      "order": null,
      "overflow": null,
      "overflow_x": null,
      "overflow_y": null,
      "padding": null,
      "right": null,
      "top": null,
      "visibility": null,
      "width": null
     }
    },
    "43a4f2439c144ce2bd278e70576887a0": {
     "model_module": "@jupyter-widgets/base",
     "model_module_version": "1.2.0",
     "model_name": "LayoutModel",
     "state": {
      "_model_module": "@jupyter-widgets/base",
      "_model_module_version": "1.2.0",
      "_model_name": "LayoutModel",
      "_view_count": null,
      "_view_module": "@jupyter-widgets/base",
      "_view_module_version": "1.2.0",
      "_view_name": "LayoutView",
      "align_content": null,
      "align_items": null,
      "align_self": null,
      "border": null,
      "bottom": null,
      "display": null,
      "flex": null,
      "flex_flow": null,
      "grid_area": null,
      "grid_auto_columns": null,
      "grid_auto_flow": null,
      "grid_auto_rows": null,
      "grid_column": null,
      "grid_gap": null,
      "grid_row": null,
      "grid_template_areas": null,
      "grid_template_columns": null,
      "grid_template_rows": null,
      "height": null,
      "justify_content": null,
      "justify_items": null,
      "left": null,
      "margin": null,
      "max_height": null,
      "max_width": null,
      "min_height": null,
      "min_width": null,
      "object_fit": null,
      "object_position": null,
      "order": null,
      "overflow": null,
      "overflow_x": null,
      "overflow_y": null,
      "padding": null,
      "right": null,
      "top": null,
      "visibility": null,
      "width": null
     }
    },
    "45a5ac4e588447e5bd4b6f5bc1c23d79": {
     "model_module": "@jupyter-widgets/base",
     "model_module_version": "1.2.0",
     "model_name": "LayoutModel",
     "state": {
      "_model_module": "@jupyter-widgets/base",
      "_model_module_version": "1.2.0",
      "_model_name": "LayoutModel",
      "_view_count": null,
      "_view_module": "@jupyter-widgets/base",
      "_view_module_version": "1.2.0",
      "_view_name": "LayoutView",
      "align_content": null,
      "align_items": null,
      "align_self": null,
      "border": null,
      "bottom": null,
      "display": null,
      "flex": null,
      "flex_flow": null,
      "grid_area": null,
      "grid_auto_columns": null,
      "grid_auto_flow": null,
      "grid_auto_rows": null,
      "grid_column": null,
      "grid_gap": null,
      "grid_row": null,
      "grid_template_areas": null,
      "grid_template_columns": null,
      "grid_template_rows": null,
      "height": null,
      "justify_content": null,
      "justify_items": null,
      "left": null,
      "margin": null,
      "max_height": null,
      "max_width": null,
      "min_height": null,
      "min_width": null,
      "object_fit": null,
      "object_position": null,
      "order": null,
      "overflow": null,
      "overflow_x": null,
      "overflow_y": null,
      "padding": null,
      "right": null,
      "top": null,
      "visibility": null,
      "width": null
     }
    },
    "45dcaf91433e4392956506161b2e45cf": {
     "model_module": "@jupyter-widgets/controls",
     "model_module_version": "1.5.0",
     "model_name": "DescriptionStyleModel",
     "state": {
      "_model_module": "@jupyter-widgets/controls",
      "_model_module_version": "1.5.0",
      "_model_name": "DescriptionStyleModel",
      "_view_count": null,
      "_view_module": "@jupyter-widgets/base",
      "_view_module_version": "1.2.0",
      "_view_name": "StyleView",
      "description_width": ""
     }
    },
    "53ee0b5d4971464cac33dd019dec89a2": {
     "model_module": "@jupyter-widgets/base",
     "model_module_version": "1.2.0",
     "model_name": "LayoutModel",
     "state": {
      "_model_module": "@jupyter-widgets/base",
      "_model_module_version": "1.2.0",
      "_model_name": "LayoutModel",
      "_view_count": null,
      "_view_module": "@jupyter-widgets/base",
      "_view_module_version": "1.2.0",
      "_view_name": "LayoutView",
      "align_content": null,
      "align_items": null,
      "align_self": null,
      "border": null,
      "bottom": null,
      "display": null,
      "flex": null,
      "flex_flow": null,
      "grid_area": null,
      "grid_auto_columns": null,
      "grid_auto_flow": null,
      "grid_auto_rows": null,
      "grid_column": null,
      "grid_gap": null,
      "grid_row": null,
      "grid_template_areas": null,
      "grid_template_columns": null,
      "grid_template_rows": null,
      "height": null,
      "justify_content": null,
      "justify_items": null,
      "left": null,
      "margin": null,
      "max_height": null,
      "max_width": null,
      "min_height": null,
      "min_width": null,
      "object_fit": null,
      "object_position": null,
      "order": null,
      "overflow": null,
      "overflow_x": null,
      "overflow_y": null,
      "padding": null,
      "right": null,
      "top": null,
      "visibility": null,
      "width": null
     }
    },
    "5973d72d48134955a4c2aa42346c8255": {
     "model_module": "@jupyter-widgets/controls",
     "model_module_version": "1.5.0",
     "model_name": "FloatProgressModel",
     "state": {
      "_dom_classes": [],
      "_model_module": "@jupyter-widgets/controls",
      "_model_module_version": "1.5.0",
      "_model_name": "FloatProgressModel",
      "_view_count": null,
      "_view_module": "@jupyter-widgets/controls",
      "_view_module_version": "1.5.0",
      "_view_name": "ProgressView",
      "bar_style": "success",
      "description": "",
      "description_tooltip": null,
      "layout": "IPY_MODEL_c828b7e20fc94c899c9402652a8025b0",
      "max": 1,
      "min": 0,
      "orientation": "horizontal",
      "style": "IPY_MODEL_2a0b45923dfc414396adab9355e4414e",
      "value": 1
     }
    },
    "5a7800ef57224ff5a6c8cba21a076a6b": {
     "model_module": "@jupyter-widgets/controls",
     "model_module_version": "1.5.0",
     "model_name": "FloatProgressModel",
     "state": {
      "_dom_classes": [],
      "_model_module": "@jupyter-widgets/controls",
      "_model_module_version": "1.5.0",
      "_model_name": "FloatProgressModel",
      "_view_count": null,
      "_view_module": "@jupyter-widgets/controls",
      "_view_module_version": "1.5.0",
      "_view_name": "ProgressView",
      "bar_style": "success",
      "description": "",
      "description_tooltip": null,
      "layout": "IPY_MODEL_0749a8b1ecb8494eab8e6fb79d890b1a",
      "max": 1,
      "min": 0,
      "orientation": "horizontal",
      "style": "IPY_MODEL_f5a52fceefcd45cfbe878b5bf90e757f",
      "value": 1
     }
    },
    "5baed3773e0e417d91fc46a3ff88b945": {
     "model_module": "@jupyter-widgets/base",
     "model_module_version": "1.2.0",
     "model_name": "LayoutModel",
     "state": {
      "_model_module": "@jupyter-widgets/base",
      "_model_module_version": "1.2.0",
      "_model_name": "LayoutModel",
      "_view_count": null,
      "_view_module": "@jupyter-widgets/base",
      "_view_module_version": "1.2.0",
      "_view_name": "LayoutView",
      "align_content": null,
      "align_items": null,
      "align_self": null,
      "border": null,
      "bottom": null,
      "display": null,
      "flex": null,
      "flex_flow": null,
      "grid_area": null,
      "grid_auto_columns": null,
      "grid_auto_flow": null,
      "grid_auto_rows": null,
      "grid_column": null,
      "grid_gap": null,
      "grid_row": null,
      "grid_template_areas": null,
      "grid_template_columns": null,
      "grid_template_rows": null,
      "height": null,
      "justify_content": null,
      "justify_items": null,
      "left": null,
      "margin": null,
      "max_height": null,
      "max_width": null,
      "min_height": null,
      "min_width": null,
      "object_fit": null,
      "object_position": null,
      "order": null,
      "overflow": null,
      "overflow_x": null,
      "overflow_y": null,
      "padding": null,
      "right": null,
      "top": null,
      "visibility": null,
      "width": null
     }
    },
    "5c2a52432a61449ca3705a19f4a392e0": {
     "model_module": "@jupyter-widgets/controls",
     "model_module_version": "1.5.0",
     "model_name": "DescriptionStyleModel",
     "state": {
      "_model_module": "@jupyter-widgets/controls",
      "_model_module_version": "1.5.0",
      "_model_name": "DescriptionStyleModel",
      "_view_count": null,
      "_view_module": "@jupyter-widgets/base",
      "_view_module_version": "1.2.0",
      "_view_name": "StyleView",
      "description_width": ""
     }
    },
    "6784230416e04d069ac36cf4e8345339": {
     "model_module": "@jupyter-widgets/controls",
     "model_module_version": "1.5.0",
     "model_name": "HBoxModel",
     "state": {
      "_dom_classes": [],
      "_model_module": "@jupyter-widgets/controls",
      "_model_module_version": "1.5.0",
      "_model_name": "HBoxModel",
      "_view_count": null,
      "_view_module": "@jupyter-widgets/controls",
      "_view_module_version": "1.5.0",
      "_view_name": "HBoxView",
      "box_style": "",
      "children": [
       "IPY_MODEL_cb8a07ee1b754687a81f8604233966d9",
       "IPY_MODEL_5973d72d48134955a4c2aa42346c8255",
       "IPY_MODEL_e78573bc0b1d48f2a4466495432e6c04"
      ],
      "layout": "IPY_MODEL_53ee0b5d4971464cac33dd019dec89a2"
     }
    },
    "69831fc040b3436f83fd3eeb1b94575f": {
     "model_module": "@jupyter-widgets/base",
     "model_module_version": "1.2.0",
     "model_name": "LayoutModel",
     "state": {
      "_model_module": "@jupyter-widgets/base",
      "_model_module_version": "1.2.0",
      "_model_name": "LayoutModel",
      "_view_count": null,
      "_view_module": "@jupyter-widgets/base",
      "_view_module_version": "1.2.0",
      "_view_name": "LayoutView",
      "align_content": null,
      "align_items": null,
      "align_self": null,
      "border": null,
      "bottom": null,
      "display": null,
      "flex": null,
      "flex_flow": null,
      "grid_area": null,
      "grid_auto_columns": null,
      "grid_auto_flow": null,
      "grid_auto_rows": null,
      "grid_column": null,
      "grid_gap": null,
      "grid_row": null,
      "grid_template_areas": null,
      "grid_template_columns": null,
      "grid_template_rows": null,
      "height": null,
      "justify_content": null,
      "justify_items": null,
      "left": null,
      "margin": null,
      "max_height": null,
      "max_width": null,
      "min_height": null,
      "min_width": null,
      "object_fit": null,
      "object_position": null,
      "order": null,
      "overflow": null,
      "overflow_x": null,
      "overflow_y": null,
      "padding": null,
      "right": null,
      "top": null,
      "visibility": null,
      "width": null
     }
    },
    "6cb03ced5450401aa89e42518b577bba": {
     "model_module": "@jupyter-widgets/controls",
     "model_module_version": "1.5.0",
     "model_name": "HBoxModel",
     "state": {
      "_dom_classes": [],
      "_model_module": "@jupyter-widgets/controls",
      "_model_module_version": "1.5.0",
      "_model_name": "HBoxModel",
      "_view_count": null,
      "_view_module": "@jupyter-widgets/controls",
      "_view_module_version": "1.5.0",
      "_view_name": "HBoxView",
      "box_style": "",
      "children": [
       "IPY_MODEL_c52eb5e119004f45938f4c47cc161b22",
       "IPY_MODEL_6cde4e5ffb974455a708f3238c16831c",
       "IPY_MODEL_03d270c2f3594d5d88d255cc8bc62540"
      ],
      "layout": "IPY_MODEL_17c10dbef27e4941b220e0217abfc892"
     }
    },
    "6cde4e5ffb974455a708f3238c16831c": {
     "model_module": "@jupyter-widgets/controls",
     "model_module_version": "1.5.0",
     "model_name": "FloatProgressModel",
     "state": {
      "_dom_classes": [],
      "_model_module": "@jupyter-widgets/controls",
      "_model_module_version": "1.5.0",
      "_model_name": "FloatProgressModel",
      "_view_count": null,
      "_view_module": "@jupyter-widgets/controls",
      "_view_module_version": "1.5.0",
      "_view_name": "ProgressView",
      "bar_style": "danger",
      "description": "",
      "description_tooltip": null,
      "layout": "IPY_MODEL_e57f164d2d0a4838b617cc1d82145a67",
      "max": 256,
      "min": 0,
      "orientation": "horizontal",
      "style": "IPY_MODEL_2441dce58afe4ae9959826c15a226ae7",
      "value": 255
     }
    },
    "6e364705d91a42fe9103e0810823417b": {
     "model_module": "@jupyter-widgets/controls",
     "model_module_version": "1.5.0",
     "model_name": "HTMLModel",
     "state": {
      "_dom_classes": [],
      "_model_module": "@jupyter-widgets/controls",
      "_model_module_version": "1.5.0",
      "_model_name": "HTMLModel",
      "_view_count": null,
      "_view_module": "@jupyter-widgets/controls",
      "_view_module_version": "1.5.0",
      "_view_name": "HTMLView",
      "description": "",
      "description_tooltip": null,
      "layout": "IPY_MODEL_d2a512542787483a9970cd95cb6e30e7",
      "placeholder": "​",
      "style": "IPY_MODEL_9b95eaefae894d8ca1201106e23935a2",
      "value": " 1013/0 [00:00&lt;00:00, 1236.82 examples/s]"
     }
    },
    "6eba0ce3e2ce460687add9d226b90a52": {
     "model_module": "@jupyter-widgets/base",
     "model_module_version": "1.2.0",
     "model_name": "LayoutModel",
     "state": {
      "_model_module": "@jupyter-widgets/base",
      "_model_module_version": "1.2.0",
      "_model_name": "LayoutModel",
      "_view_count": null,
      "_view_module": "@jupyter-widgets/base",
      "_view_module_version": "1.2.0",
      "_view_name": "LayoutView",
      "align_content": null,
      "align_items": null,
      "align_self": null,
      "border": null,
      "bottom": null,
      "display": null,
      "flex": null,
      "flex_flow": null,
      "grid_area": null,
      "grid_auto_columns": null,
      "grid_auto_flow": null,
      "grid_auto_rows": null,
      "grid_column": null,
      "grid_gap": null,
      "grid_row": null,
      "grid_template_areas": null,
      "grid_template_columns": null,
      "grid_template_rows": null,
      "height": null,
      "justify_content": null,
      "justify_items": null,
      "left": null,
      "margin": null,
      "max_height": null,
      "max_width": null,
      "min_height": null,
      "min_width": null,
      "object_fit": null,
      "object_position": null,
      "order": null,
      "overflow": null,
      "overflow_x": null,
      "overflow_y": null,
      "padding": null,
      "right": null,
      "top": null,
      "visibility": null,
      "width": null
     }
    },
    "6fa8ab3efcc24f72af6dce68169f2d32": {
     "model_module": "@jupyter-widgets/controls",
     "model_module_version": "1.5.0",
     "model_name": "HTMLModel",
     "state": {
      "_dom_classes": [],
      "_model_module": "@jupyter-widgets/controls",
      "_model_module_version": "1.5.0",
      "_model_name": "HTMLModel",
      "_view_count": null,
      "_view_module": "@jupyter-widgets/controls",
      "_view_module_version": "1.5.0",
      "_view_name": "HTMLView",
      "description": "",
      "description_tooltip": null,
      "layout": "IPY_MODEL_7e4bb101d6b74f7da6c4be9a42ea8b08",
      "placeholder": "​",
      "style": "IPY_MODEL_9ef003b5deb24a60a8dc33ffbf88b091",
      "value": ""
     }
    },
    "75a9f9460f9e4726918e5bb2980ad31f": {
     "model_module": "@jupyter-widgets/base",
     "model_module_version": "1.2.0",
     "model_name": "LayoutModel",
     "state": {
      "_model_module": "@jupyter-widgets/base",
      "_model_module_version": "1.2.0",
      "_model_name": "LayoutModel",
      "_view_count": null,
      "_view_module": "@jupyter-widgets/base",
      "_view_module_version": "1.2.0",
      "_view_name": "LayoutView",
      "align_content": null,
      "align_items": null,
      "align_self": null,
      "border": null,
      "bottom": null,
      "display": null,
      "flex": null,
      "flex_flow": null,
      "grid_area": null,
      "grid_auto_columns": null,
      "grid_auto_flow": null,
      "grid_auto_rows": null,
      "grid_column": null,
      "grid_gap": null,
      "grid_row": null,
      "grid_template_areas": null,
      "grid_template_columns": null,
      "grid_template_rows": null,
      "height": null,
      "justify_content": null,
      "justify_items": null,
      "left": null,
      "margin": null,
      "max_height": null,
      "max_width": null,
      "min_height": null,
      "min_width": null,
      "object_fit": null,
      "object_position": null,
      "order": null,
      "overflow": null,
      "overflow_x": null,
      "overflow_y": null,
      "padding": null,
      "right": null,
      "top": null,
      "visibility": null,
      "width": null
     }
    },
    "7e4bb101d6b74f7da6c4be9a42ea8b08": {
     "model_module": "@jupyter-widgets/base",
     "model_module_version": "1.2.0",
     "model_name": "LayoutModel",
     "state": {
      "_model_module": "@jupyter-widgets/base",
      "_model_module_version": "1.2.0",
      "_model_name": "LayoutModel",
      "_view_count": null,
      "_view_module": "@jupyter-widgets/base",
      "_view_module_version": "1.2.0",
      "_view_name": "LayoutView",
      "align_content": null,
      "align_items": null,
      "align_self": null,
      "border": null,
      "bottom": null,
      "display": null,
      "flex": null,
      "flex_flow": null,
      "grid_area": null,
      "grid_auto_columns": null,
      "grid_auto_flow": null,
      "grid_auto_rows": null,
      "grid_column": null,
      "grid_gap": null,
      "grid_row": null,
      "grid_template_areas": null,
      "grid_template_columns": null,
      "grid_template_rows": null,
      "height": null,
      "justify_content": null,
      "justify_items": null,
      "left": null,
      "margin": null,
      "max_height": null,
      "max_width": null,
      "min_height": null,
      "min_width": null,
      "object_fit": null,
      "object_position": null,
      "order": null,
      "overflow": null,
      "overflow_x": null,
      "overflow_y": null,
      "padding": null,
      "right": null,
      "top": null,
      "visibility": null,
      "width": null
     }
    },
    "8145ee4f5ff241db91e54c90a31fdd5b": {
     "model_module": "@jupyter-widgets/controls",
     "model_module_version": "1.5.0",
     "model_name": "HTMLModel",
     "state": {
      "_dom_classes": [],
      "_model_module": "@jupyter-widgets/controls",
      "_model_module_version": "1.5.0",
      "_model_name": "HTMLModel",
      "_view_count": null,
      "_view_module": "@jupyter-widgets/controls",
      "_view_module_version": "1.5.0",
      "_view_name": "HTMLView",
      "description": "",
      "description_tooltip": null,
      "layout": "IPY_MODEL_43a4f2439c144ce2bd278e70576887a0",
      "placeholder": "​",
      "style": "IPY_MODEL_45dcaf91433e4392956506161b2e45cf",
      "value": " 2/2 [00:04&lt;00:00,  2.32s/ url]"
     }
    },
    "8151e0b5e3fd44d393edfa59eb3bdba9": {
     "model_module": "@jupyter-widgets/controls",
     "model_module_version": "1.5.0",
     "model_name": "DescriptionStyleModel",
     "state": {
      "_model_module": "@jupyter-widgets/controls",
      "_model_module_version": "1.5.0",
      "_model_name": "DescriptionStyleModel",
      "_view_count": null,
      "_view_module": "@jupyter-widgets/base",
      "_view_module_version": "1.2.0",
      "_view_name": "StyleView",
      "description_width": ""
     }
    },
    "83e1838f46fa42afa7904389916b4a07": {
     "model_module": "@jupyter-widgets/controls",
     "model_module_version": "1.5.0",
     "model_name": "HBoxModel",
     "state": {
      "_dom_classes": [],
      "_model_module": "@jupyter-widgets/controls",
      "_model_module_version": "1.5.0",
      "_model_name": "HBoxModel",
      "_view_count": null,
      "_view_module": "@jupyter-widgets/controls",
      "_view_module_version": "1.5.0",
      "_view_name": "HBoxView",
      "box_style": "",
      "children": [
       "IPY_MODEL_c4e54063b2164dc0b263c1ded3a51cba",
       "IPY_MODEL_c8cccbf6fe004e24be61e51e6b397946",
       "IPY_MODEL_6e364705d91a42fe9103e0810823417b"
      ],
      "layout": "IPY_MODEL_8ae3274a8d2e4601bdd90fc6f83d8520"
     }
    },
    "8a25243273a940c29a54ec2b93bb776a": {
     "model_module": "@jupyter-widgets/controls",
     "model_module_version": "1.5.0",
     "model_name": "HTMLModel",
     "state": {
      "_dom_classes": [],
      "_model_module": "@jupyter-widgets/controls",
      "_model_module_version": "1.5.0",
      "_model_name": "HTMLModel",
      "_view_count": null,
      "_view_module": "@jupyter-widgets/controls",
      "_view_module_version": "1.5.0",
      "_view_name": "HTMLView",
      "description": "",
      "description_tooltip": null,
      "layout": "IPY_MODEL_a7b0aa8dd6af41b1bdacfda65ef034ff",
      "placeholder": "​",
      "style": "IPY_MODEL_e1220e139c10448b83b966b91009b00b",
      "value": "Dl Completed...: 100%"
     }
    },
    "8ae3274a8d2e4601bdd90fc6f83d8520": {
     "model_module": "@jupyter-widgets/base",
     "model_module_version": "1.2.0",
     "model_name": "LayoutModel",
     "state": {
      "_model_module": "@jupyter-widgets/base",
      "_model_module_version": "1.2.0",
      "_model_name": "LayoutModel",
      "_view_count": null,
      "_view_module": "@jupyter-widgets/base",
      "_view_module_version": "1.2.0",
      "_view_name": "LayoutView",
      "align_content": null,
      "align_items": null,
      "align_self": null,
      "border": null,
      "bottom": null,
      "display": null,
      "flex": null,
      "flex_flow": null,
      "grid_area": null,
      "grid_auto_columns": null,
      "grid_auto_flow": null,
      "grid_auto_rows": null,
      "grid_column": null,
      "grid_gap": null,
      "grid_row": null,
      "grid_template_areas": null,
      "grid_template_columns": null,
      "grid_template_rows": null,
      "height": null,
      "justify_content": null,
      "justify_items": null,
      "left": null,
      "margin": null,
      "max_height": null,
      "max_width": null,
      "min_height": null,
      "min_width": null,
      "object_fit": null,
      "object_position": null,
      "order": null,
      "overflow": null,
      "overflow_x": null,
      "overflow_y": null,
      "padding": null,
      "right": null,
      "top": null,
      "visibility": null,
      "width": null
     }
    },
    "915c296dcdb243e0a8e0add76b273a7c": {
     "model_module": "@jupyter-widgets/controls",
     "model_module_version": "1.5.0",
     "model_name": "HBoxModel",
     "state": {
      "_dom_classes": [],
      "_model_module": "@jupyter-widgets/controls",
      "_model_module_version": "1.5.0",
      "_model_name": "HBoxModel",
      "_view_count": null,
      "_view_module": "@jupyter-widgets/controls",
      "_view_module_version": "1.5.0",
      "_view_name": "HBoxView",
      "box_style": "",
      "children": [
       "IPY_MODEL_8a25243273a940c29a54ec2b93bb776a",
       "IPY_MODEL_5a7800ef57224ff5a6c8cba21a076a6b",
       "IPY_MODEL_8145ee4f5ff241db91e54c90a31fdd5b"
      ],
      "layout": "IPY_MODEL_d04d9b90e3a24c6ba75e82225dd3a9c5"
     }
    },
    "9b95eaefae894d8ca1201106e23935a2": {
     "model_module": "@jupyter-widgets/controls",
     "model_module_version": "1.5.0",
     "model_name": "DescriptionStyleModel",
     "state": {
      "_model_module": "@jupyter-widgets/controls",
      "_model_module_version": "1.5.0",
      "_model_name": "DescriptionStyleModel",
      "_view_count": null,
      "_view_module": "@jupyter-widgets/base",
      "_view_module_version": "1.2.0",
      "_view_name": "StyleView",
      "description_width": ""
     }
    },
    "9ef003b5deb24a60a8dc33ffbf88b091": {
     "model_module": "@jupyter-widgets/controls",
     "model_module_version": "1.5.0",
     "model_name": "DescriptionStyleModel",
     "state": {
      "_model_module": "@jupyter-widgets/controls",
      "_model_module_version": "1.5.0",
      "_model_name": "DescriptionStyleModel",
      "_view_count": null,
      "_view_module": "@jupyter-widgets/base",
      "_view_module_version": "1.2.0",
      "_view_name": "StyleView",
      "description_width": ""
     }
    },
    "a7b0aa8dd6af41b1bdacfda65ef034ff": {
     "model_module": "@jupyter-widgets/base",
     "model_module_version": "1.2.0",
     "model_name": "LayoutModel",
     "state": {
      "_model_module": "@jupyter-widgets/base",
      "_model_module_version": "1.2.0",
      "_model_name": "LayoutModel",
      "_view_count": null,
      "_view_module": "@jupyter-widgets/base",
      "_view_module_version": "1.2.0",
      "_view_name": "LayoutView",
      "align_content": null,
      "align_items": null,
      "align_self": null,
      "border": null,
      "bottom": null,
      "display": null,
      "flex": null,
      "flex_flow": null,
      "grid_area": null,
      "grid_auto_columns": null,
      "grid_auto_flow": null,
      "grid_auto_rows": null,
      "grid_column": null,
      "grid_gap": null,
      "grid_row": null,
      "grid_template_areas": null,
      "grid_template_columns": null,
      "grid_template_rows": null,
      "height": null,
      "justify_content": null,
      "justify_items": null,
      "left": null,
      "margin": null,
      "max_height": null,
      "max_width": null,
      "min_height": null,
      "min_width": null,
      "object_fit": null,
      "object_position": null,
      "order": null,
      "overflow": null,
      "overflow_x": null,
      "overflow_y": null,
      "padding": null,
      "right": null,
      "top": null,
      "visibility": null,
      "width": null
     }
    },
    "abd754e38eb04a0ba8c1a27cd9c0c640": {
     "model_module": "@jupyter-widgets/controls",
     "model_module_version": "1.5.0",
     "model_name": "ProgressStyleModel",
     "state": {
      "_model_module": "@jupyter-widgets/controls",
      "_model_module_version": "1.5.0",
      "_model_name": "ProgressStyleModel",
      "_view_count": null,
      "_view_module": "@jupyter-widgets/base",
      "_view_module_version": "1.2.0",
      "_view_name": "StyleView",
      "bar_color": null,
      "description_width": ""
     }
    },
    "ac72eb1942a7400595faaa6ca66cb321": {
     "model_module": "@jupyter-widgets/controls",
     "model_module_version": "1.5.0",
     "model_name": "FloatProgressModel",
     "state": {
      "_dom_classes": [],
      "_model_module": "@jupyter-widgets/controls",
      "_model_module_version": "1.5.0",
      "_model_name": "FloatProgressModel",
      "_view_count": null,
      "_view_module": "@jupyter-widgets/controls",
      "_view_module_version": "1.5.0",
      "_view_name": "ProgressView",
      "bar_style": "info",
      "description": "",
      "description_tooltip": null,
      "layout": "IPY_MODEL_b3c54905b2ef445aacd52a2fb6e163ae",
      "max": 1,
      "min": 0,
      "orientation": "horizontal",
      "style": "IPY_MODEL_abd754e38eb04a0ba8c1a27cd9c0c640",
      "value": 1
     }
    },
    "b3c54905b2ef445aacd52a2fb6e163ae": {
     "model_module": "@jupyter-widgets/base",
     "model_module_version": "1.2.0",
     "model_name": "LayoutModel",
     "state": {
      "_model_module": "@jupyter-widgets/base",
      "_model_module_version": "1.2.0",
      "_model_name": "LayoutModel",
      "_view_count": null,
      "_view_module": "@jupyter-widgets/base",
      "_view_module_version": "1.2.0",
      "_view_name": "LayoutView",
      "align_content": null,
      "align_items": null,
      "align_self": null,
      "border": null,
      "bottom": null,
      "display": null,
      "flex": null,
      "flex_flow": null,
      "grid_area": null,
      "grid_auto_columns": null,
      "grid_auto_flow": null,
      "grid_auto_rows": null,
      "grid_column": null,
      "grid_gap": null,
      "grid_row": null,
      "grid_template_areas": null,
      "grid_template_columns": null,
      "grid_template_rows": null,
      "height": null,
      "justify_content": null,
      "justify_items": null,
      "left": null,
      "margin": null,
      "max_height": null,
      "max_width": null,
      "min_height": null,
      "min_width": null,
      "object_fit": null,
      "object_position": null,
      "order": null,
      "overflow": null,
      "overflow_x": null,
      "overflow_y": null,
      "padding": null,
      "right": null,
      "top": null,
      "visibility": null,
      "width": "20px"
     }
    },
    "c0fc80193c704d8fa2f1778f73220051": {
     "model_module": "@jupyter-widgets/controls",
     "model_module_version": "1.5.0",
     "model_name": "ProgressStyleModel",
     "state": {
      "_model_module": "@jupyter-widgets/controls",
      "_model_module_version": "1.5.0",
      "_model_name": "ProgressStyleModel",
      "_view_count": null,
      "_view_module": "@jupyter-widgets/base",
      "_view_module_version": "1.2.0",
      "_view_name": "StyleView",
      "bar_color": null,
      "description_width": ""
     }
    },
    "c4e54063b2164dc0b263c1ded3a51cba": {
     "model_module": "@jupyter-widgets/controls",
     "model_module_version": "1.5.0",
     "model_name": "HTMLModel",
     "state": {
      "_dom_classes": [],
      "_model_module": "@jupyter-widgets/controls",
      "_model_module_version": "1.5.0",
      "_model_name": "HTMLModel",
      "_view_count": null,
      "_view_module": "@jupyter-widgets/controls",
      "_view_module_version": "1.5.0",
      "_view_name": "HTMLView",
      "description": "",
      "description_tooltip": null,
      "layout": "IPY_MODEL_0ae4bdee9f684e13b507ba0e404b4327",
      "placeholder": "​",
      "style": "IPY_MODEL_1751923ac80a4679a66464de2b37a653",
      "value": ""
     }
    },
    "c52eb5e119004f45938f4c47cc161b22": {
     "model_module": "@jupyter-widgets/controls",
     "model_module_version": "1.5.0",
     "model_name": "HTMLModel",
     "state": {
      "_dom_classes": [],
      "_model_module": "@jupyter-widgets/controls",
      "_model_module_version": "1.5.0",
      "_model_name": "HTMLModel",
      "_view_count": null,
      "_view_module": "@jupyter-widgets/controls",
      "_view_module_version": "1.5.0",
      "_view_name": "HTMLView",
      "description": "",
      "description_tooltip": null,
      "layout": "IPY_MODEL_e46d34d185b54d70ad9ff7ca060b5af4",
      "placeholder": "​",
      "style": "IPY_MODEL_2c72aa3a083a481885482d89e74f6a15",
      "value": "100%"
     }
    },
    "c828b7e20fc94c899c9402652a8025b0": {
     "model_module": "@jupyter-widgets/base",
     "model_module_version": "1.2.0",
     "model_name": "LayoutModel",
     "state": {
      "_model_module": "@jupyter-widgets/base",
      "_model_module_version": "1.2.0",
      "_model_name": "LayoutModel",
      "_view_count": null,
      "_view_module": "@jupyter-widgets/base",
      "_view_module_version": "1.2.0",
      "_view_name": "LayoutView",
      "align_content": null,
      "align_items": null,
      "align_self": null,
      "border": null,
      "bottom": null,
      "display": null,
      "flex": null,
      "flex_flow": null,
      "grid_area": null,
      "grid_auto_columns": null,
      "grid_auto_flow": null,
      "grid_auto_rows": null,
      "grid_column": null,
      "grid_gap": null,
      "grid_row": null,
      "grid_template_areas": null,
      "grid_template_columns": null,
      "grid_template_rows": null,
      "height": null,
      "justify_content": null,
      "justify_items": null,
      "left": null,
      "margin": null,
      "max_height": null,
      "max_width": null,
      "min_height": null,
      "min_width": null,
      "object_fit": null,
      "object_position": null,
      "order": null,
      "overflow": null,
      "overflow_x": null,
      "overflow_y": null,
      "padding": null,
      "right": null,
      "top": null,
      "visibility": null,
      "width": "20px"
     }
    },
    "c8cccbf6fe004e24be61e51e6b397946": {
     "model_module": "@jupyter-widgets/controls",
     "model_module_version": "1.5.0",
     "model_name": "FloatProgressModel",
     "state": {
      "_dom_classes": [],
      "_model_module": "@jupyter-widgets/controls",
      "_model_module_version": "1.5.0",
      "_model_name": "FloatProgressModel",
      "_view_count": null,
      "_view_module": "@jupyter-widgets/controls",
      "_view_module_version": "1.5.0",
      "_view_name": "ProgressView",
      "bar_style": "info",
      "description": "",
      "description_tooltip": null,
      "layout": "IPY_MODEL_ed195ba1429e4762b8adcbfc76829191",
      "max": 1,
      "min": 0,
      "orientation": "horizontal",
      "style": "IPY_MODEL_c0fc80193c704d8fa2f1778f73220051",
      "value": 1
     }
    },
    "cb8a07ee1b754687a81f8604233966d9": {
     "model_module": "@jupyter-widgets/controls",
     "model_module_version": "1.5.0",
     "model_name": "HTMLModel",
     "state": {
      "_dom_classes": [],
      "_model_module": "@jupyter-widgets/controls",
      "_model_module_version": "1.5.0",
      "_model_name": "HTMLModel",
      "_view_count": null,
      "_view_module": "@jupyter-widgets/controls",
      "_view_module_version": "1.5.0",
      "_view_name": "HTMLView",
      "description": "",
      "description_tooltip": null,
      "layout": "IPY_MODEL_424ceb0ddd514de8a33c89addc0fc2bd",
      "placeholder": "​",
      "style": "IPY_MODEL_8151e0b5e3fd44d393edfa59eb3bdba9",
      "value": "Dl Size...: 100%"
     }
    },
    "d04d9b90e3a24c6ba75e82225dd3a9c5": {
     "model_module": "@jupyter-widgets/base",
     "model_module_version": "1.2.0",
     "model_name": "LayoutModel",
     "state": {
      "_model_module": "@jupyter-widgets/base",
      "_model_module_version": "1.2.0",
      "_model_name": "LayoutModel",
      "_view_count": null,
      "_view_module": "@jupyter-widgets/base",
      "_view_module_version": "1.2.0",
      "_view_name": "LayoutView",
      "align_content": null,
      "align_items": null,
      "align_self": null,
      "border": null,
      "bottom": null,
      "display": null,
      "flex": null,
      "flex_flow": null,
      "grid_area": null,
      "grid_auto_columns": null,
      "grid_auto_flow": null,
      "grid_auto_rows": null,
      "grid_column": null,
      "grid_gap": null,
      "grid_row": null,
      "grid_template_areas": null,
      "grid_template_columns": null,
      "grid_template_rows": null,
      "height": null,
      "justify_content": null,
      "justify_items": null,
      "left": null,
      "margin": null,
      "max_height": null,
      "max_width": null,
      "min_height": null,
      "min_width": null,
      "object_fit": null,
      "object_position": null,
      "order": null,
      "overflow": null,
      "overflow_x": null,
      "overflow_y": null,
      "padding": null,
      "right": null,
      "top": null,
      "visibility": null,
      "width": null
     }
    },
    "d2a512542787483a9970cd95cb6e30e7": {
     "model_module": "@jupyter-widgets/base",
     "model_module_version": "1.2.0",
     "model_name": "LayoutModel",
     "state": {
      "_model_module": "@jupyter-widgets/base",
      "_model_module_version": "1.2.0",
      "_model_name": "LayoutModel",
      "_view_count": null,
      "_view_module": "@jupyter-widgets/base",
      "_view_module_version": "1.2.0",
      "_view_name": "LayoutView",
      "align_content": null,
      "align_items": null,
      "align_self": null,
      "border": null,
      "bottom": null,
      "display": null,
      "flex": null,
      "flex_flow": null,
      "grid_area": null,
      "grid_auto_columns": null,
      "grid_auto_flow": null,
      "grid_auto_rows": null,
      "grid_column": null,
      "grid_gap": null,
      "grid_row": null,
      "grid_template_areas": null,
      "grid_template_columns": null,
      "grid_template_rows": null,
      "height": null,
      "justify_content": null,
      "justify_items": null,
      "left": null,
      "margin": null,
      "max_height": null,
      "max_width": null,
      "min_height": null,
      "min_width": null,
      "object_fit": null,
      "object_position": null,
      "order": null,
      "overflow": null,
      "overflow_x": null,
      "overflow_y": null,
      "padding": null,
      "right": null,
      "top": null,
      "visibility": null,
      "width": null
     }
    },
    "d4f7fa0cfe364ab8bdcb100b8fe18b57": {
     "model_module": "@jupyter-widgets/controls",
     "model_module_version": "1.5.0",
     "model_name": "ProgressStyleModel",
     "state": {
      "_model_module": "@jupyter-widgets/controls",
      "_model_module_version": "1.5.0",
      "_model_name": "ProgressStyleModel",
      "_view_count": null,
      "_view_module": "@jupyter-widgets/base",
      "_view_module_version": "1.2.0",
      "_view_name": "StyleView",
      "bar_color": null,
      "description_width": ""
     }
    },
    "e0daee9722a34c4ea7f7a4598d7dba00": {
     "model_module": "@jupyter-widgets/controls",
     "model_module_version": "1.5.0",
     "model_name": "DescriptionStyleModel",
     "state": {
      "_model_module": "@jupyter-widgets/controls",
      "_model_module_version": "1.5.0",
      "_model_name": "DescriptionStyleModel",
      "_view_count": null,
      "_view_module": "@jupyter-widgets/base",
      "_view_module_version": "1.2.0",
      "_view_name": "StyleView",
      "description_width": ""
     }
    },
    "e1220e139c10448b83b966b91009b00b": {
     "model_module": "@jupyter-widgets/controls",
     "model_module_version": "1.5.0",
     "model_name": "DescriptionStyleModel",
     "state": {
      "_model_module": "@jupyter-widgets/controls",
      "_model_module_version": "1.5.0",
      "_model_name": "DescriptionStyleModel",
      "_view_count": null,
      "_view_module": "@jupyter-widgets/base",
      "_view_module_version": "1.2.0",
      "_view_name": "StyleView",
      "description_width": ""
     }
    },
    "e26e85d8985c42daa25ed4b98423e0a1": {
     "model_module": "@jupyter-widgets/controls",
     "model_module_version": "1.5.0",
     "model_name": "HTMLModel",
     "state": {
      "_dom_classes": [],
      "_model_module": "@jupyter-widgets/controls",
      "_model_module_version": "1.5.0",
      "_model_name": "HTMLModel",
      "_view_count": null,
      "_view_module": "@jupyter-widgets/controls",
      "_view_module_version": "1.5.0",
      "_view_name": "HTMLView",
      "description": "",
      "description_tooltip": null,
      "layout": "IPY_MODEL_1e6fd6d896e143d58bf76088fcccddb4",
      "placeholder": "​",
      "style": "IPY_MODEL_e571b4d98f8f472c96623a5792dd7e84",
      "value": " 141/0 [00:00&lt;00:00, 759.44 examples/s]"
     }
    },
    "e46d34d185b54d70ad9ff7ca060b5af4": {
     "model_module": "@jupyter-widgets/base",
     "model_module_version": "1.2.0",
     "model_name": "LayoutModel",
     "state": {
      "_model_module": "@jupyter-widgets/base",
      "_model_module_version": "1.2.0",
      "_model_name": "LayoutModel",
      "_view_count": null,
      "_view_module": "@jupyter-widgets/base",
      "_view_module_version": "1.2.0",
      "_view_name": "LayoutView",
      "align_content": null,
      "align_items": null,
      "align_self": null,
      "border": null,
      "bottom": null,
      "display": null,
      "flex": null,
      "flex_flow": null,
      "grid_area": null,
      "grid_auto_columns": null,
      "grid_auto_flow": null,
      "grid_auto_rows": null,
      "grid_column": null,
      "grid_gap": null,
      "grid_row": null,
      "grid_template_areas": null,
      "grid_template_columns": null,
      "grid_template_rows": null,
      "height": null,
      "justify_content": null,
      "justify_items": null,
      "left": null,
      "margin": null,
      "max_height": null,
      "max_width": null,
      "min_height": null,
      "min_width": null,
      "object_fit": null,
      "object_position": null,
      "order": null,
      "overflow": null,
      "overflow_x": null,
      "overflow_y": null,
      "padding": null,
      "right": null,
      "top": null,
      "visibility": null,
      "width": null
     }
    },
    "e571b4d98f8f472c96623a5792dd7e84": {
     "model_module": "@jupyter-widgets/controls",
     "model_module_version": "1.5.0",
     "model_name": "DescriptionStyleModel",
     "state": {
      "_model_module": "@jupyter-widgets/controls",
      "_model_module_version": "1.5.0",
      "_model_name": "DescriptionStyleModel",
      "_view_count": null,
      "_view_module": "@jupyter-widgets/base",
      "_view_module_version": "1.2.0",
      "_view_name": "StyleView",
      "description_width": ""
     }
    },
    "e57f164d2d0a4838b617cc1d82145a67": {
     "model_module": "@jupyter-widgets/base",
     "model_module_version": "1.2.0",
     "model_name": "LayoutModel",
     "state": {
      "_model_module": "@jupyter-widgets/base",
      "_model_module_version": "1.2.0",
      "_model_name": "LayoutModel",
      "_view_count": null,
      "_view_module": "@jupyter-widgets/base",
      "_view_module_version": "1.2.0",
      "_view_name": "LayoutView",
      "align_content": null,
      "align_items": null,
      "align_self": null,
      "border": null,
      "bottom": null,
      "display": null,
      "flex": null,
      "flex_flow": null,
      "grid_area": null,
      "grid_auto_columns": null,
      "grid_auto_flow": null,
      "grid_auto_rows": null,
      "grid_column": null,
      "grid_gap": null,
      "grid_row": null,
      "grid_template_areas": null,
      "grid_template_columns": null,
      "grid_template_rows": null,
      "height": null,
      "justify_content": null,
      "justify_items": null,
      "left": null,
      "margin": null,
      "max_height": null,
      "max_width": null,
      "min_height": null,
      "min_width": null,
      "object_fit": null,
      "object_position": null,
      "order": null,
      "overflow": null,
      "overflow_x": null,
      "overflow_y": null,
      "padding": null,
      "right": null,
      "top": null,
      "visibility": null,
      "width": null
     }
    },
    "e62256a0565f4f8f892d2f8b669e7dd7": {
     "model_module": "@jupyter-widgets/controls",
     "model_module_version": "1.5.0",
     "model_name": "HTMLModel",
     "state": {
      "_dom_classes": [],
      "_model_module": "@jupyter-widgets/controls",
      "_model_module_version": "1.5.0",
      "_model_name": "HTMLModel",
      "_view_count": null,
      "_view_module": "@jupyter-widgets/controls",
      "_view_module_version": "1.5.0",
      "_view_name": "HTMLView",
      "description": "",
      "description_tooltip": null,
      "layout": "IPY_MODEL_5baed3773e0e417d91fc46a3ff88b945",
      "placeholder": "​",
      "style": "IPY_MODEL_e0daee9722a34c4ea7f7a4598d7dba00",
      "value": "100%"
     }
    },
    "e78573bc0b1d48f2a4466495432e6c04": {
     "model_module": "@jupyter-widgets/controls",
     "model_module_version": "1.5.0",
     "model_name": "HTMLModel",
     "state": {
      "_dom_classes": [],
      "_model_module": "@jupyter-widgets/controls",
      "_model_module_version": "1.5.0",
      "_model_name": "HTMLModel",
      "_view_count": null,
      "_view_module": "@jupyter-widgets/controls",
      "_view_module_version": "1.5.0",
      "_view_name": "HTMLView",
      "description": "",
      "description_tooltip": null,
      "layout": "IPY_MODEL_75a9f9460f9e4726918e5bb2980ad31f",
      "placeholder": "​",
      "style": "IPY_MODEL_21bbb34eb87b483e8182538d58b40911",
      "value": " 152/152 [00:04&lt;00:00, 42.15 MiB/s]"
     }
    },
    "ed195ba1429e4762b8adcbfc76829191": {
     "model_module": "@jupyter-widgets/base",
     "model_module_version": "1.2.0",
     "model_name": "LayoutModel",
     "state": {
      "_model_module": "@jupyter-widgets/base",
      "_model_module_version": "1.2.0",
      "_model_name": "LayoutModel",
      "_view_count": null,
      "_view_module": "@jupyter-widgets/base",
      "_view_module_version": "1.2.0",
      "_view_name": "LayoutView",
      "align_content": null,
      "align_items": null,
      "align_self": null,
      "border": null,
      "bottom": null,
      "display": null,
      "flex": null,
      "flex_flow": null,
      "grid_area": null,
      "grid_auto_columns": null,
      "grid_auto_flow": null,
      "grid_auto_rows": null,
      "grid_column": null,
      "grid_gap": null,
      "grid_row": null,
      "grid_template_areas": null,
      "grid_template_columns": null,
      "grid_template_rows": null,
      "height": null,
      "justify_content": null,
      "justify_items": null,
      "left": null,
      "margin": null,
      "max_height": null,
      "max_width": null,
      "min_height": null,
      "min_width": null,
      "object_fit": null,
      "object_position": null,
      "order": null,
      "overflow": null,
      "overflow_x": null,
      "overflow_y": null,
      "padding": null,
      "right": null,
      "top": null,
      "visibility": null,
      "width": "20px"
     }
    },
    "f5a52fceefcd45cfbe878b5bf90e757f": {
     "model_module": "@jupyter-widgets/controls",
     "model_module_version": "1.5.0",
     "model_name": "ProgressStyleModel",
     "state": {
      "_model_module": "@jupyter-widgets/controls",
      "_model_module_version": "1.5.0",
      "_model_name": "ProgressStyleModel",
      "_view_count": null,
      "_view_module": "@jupyter-widgets/base",
      "_view_module_version": "1.2.0",
      "_view_name": "StyleView",
      "bar_color": null,
      "description_width": ""
     }
    }
   }
  }
 },
 "nbformat": 4,
 "nbformat_minor": 1
}
