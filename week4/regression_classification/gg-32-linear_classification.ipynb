{
 "cells": [
  {
   "cell_type": "markdown",
   "metadata": {
    "id": "JwAQfxTGBU9Q"
   },
   "source": [
    "# Linear Classification"
   ]
  },
  {
   "cell_type": "markdown",
   "metadata": {
    "id": "IN43G8lLN46X"
   },
   "source": [
    "## Example 1: Binary Classification\n",
    "\n",
    "Iris dataset을 사용한 binary classification 실습\n",
    "\n",
    "Setosa VS non-Setosa"
   ]
  },
  {
   "cell_type": "markdown",
   "metadata": {},
   "source": [
    "### Import dataset"
   ]
  },
  {
   "cell_type": "code",
   "execution_count": 1,
   "metadata": {
    "colab": {
     "base_uri": "https://localhost:8080/"
    },
    "executionInfo": {
     "elapsed": 258,
     "status": "ok",
     "timestamp": 1632278060975,
     "user": {
      "displayName": "Yongjin Jeong",
      "photoUrl": "https://lh3.googleusercontent.com/a/default-user=s64",
      "userId": "03658406798560557048"
     },
     "user_tz": -540
    },
    "id": "SecL0IHs6skh",
    "outputId": "7bf2ca8e-6dcb-4671-ef38-b97a46d7601a",
    "scrolled": true
   },
   "outputs": [
    {
     "name": "stdout",
     "output_type": "stream",
     "text": [
      "<class 'sklearn.utils.Bunch'>\n"
     ]
    }
   ],
   "source": [
    "from sklearn.datasets import load_iris\n",
    "iris = load_iris()\n",
    "print(type(iris)) "
   ]
  },
  {
   "cell_type": "code",
   "execution_count": 2,
   "metadata": {
    "colab": {
     "base_uri": "https://localhost:8080/"
    },
    "executionInfo": {
     "elapsed": 7,
     "status": "ok",
     "timestamp": 1632278061283,
     "user": {
      "displayName": "Yongjin Jeong",
      "photoUrl": "https://lh3.googleusercontent.com/a/default-user=s64",
      "userId": "03658406798560557048"
     },
     "user_tz": -540
    },
    "id": "umL53-aR6sko",
    "outputId": "657050d0-9ece-4e58-cd5a-7b5f5c6f9254"
   },
   "outputs": [
    {
     "name": "stdout",
     "output_type": "stream",
     "text": [
      "['sepal length (cm)', 'sepal width (cm)', 'petal length (cm)', 'petal width (cm)']\n",
      "['setosa' 'versicolor' 'virginica']\n"
     ]
    }
   ],
   "source": [
    "print(iris.feature_names) # 4 features\n",
    "print(iris.target_names)  # 3 labels"
   ]
  },
  {
   "cell_type": "code",
   "execution_count": 3,
   "metadata": {
    "colab": {
     "base_uri": "https://localhost:8080/"
    },
    "executionInfo": {
     "elapsed": 29,
     "status": "ok",
     "timestamp": 1632278061878,
     "user": {
      "displayName": "Yongjin Jeong",
      "photoUrl": "https://lh3.googleusercontent.com/a/default-user=s64",
      "userId": "03658406798560557048"
     },
     "user_tz": -540
    },
    "id": "wU9P9smE6skt",
    "outputId": "33f98a46-fcf3-44d2-a48f-51f7163b41a1"
   },
   "outputs": [
    {
     "name": "stdout",
     "output_type": "stream",
     "text": [
      "(150, 4) <class 'numpy.ndarray'>\n",
      "(150,) <class 'numpy.ndarray'>\n"
     ]
    }
   ],
   "source": [
    "X, y = iris.data, iris.target\n",
    "print(X.shape, type(X))\n",
    "print(y.shape, type(y))"
   ]
  },
  {
   "cell_type": "markdown",
   "metadata": {},
   "source": [
    "### Make to binary classification dataset"
   ]
  },
  {
   "cell_type": "code",
   "execution_count": 4,
   "metadata": {
    "executionInfo": {
     "elapsed": 27,
     "status": "ok",
     "timestamp": 1632278061880,
     "user": {
      "displayName": "Yongjin Jeong",
      "photoUrl": "https://lh3.googleusercontent.com/a/default-user=s64",
      "userId": "03658406798560557048"
     },
     "user_tz": -540
    },
    "id": "cQUlMeDv6skx"
   },
   "outputs": [],
   "source": [
    "X2 = X[:, :2]   # first two features"
   ]
  },
  {
   "cell_type": "code",
   "execution_count": 5,
   "metadata": {
    "colab": {
     "base_uri": "https://localhost:8080/",
     "height": 299
    },
    "executionInfo": {
     "elapsed": 34,
     "status": "ok",
     "timestamp": 1632278061888,
     "user": {
      "displayName": "Yongjin Jeong",
      "photoUrl": "https://lh3.googleusercontent.com/a/default-user=s64",
      "userId": "03658406798560557048"
     },
     "user_tz": -540
    },
    "id": "eyqkFiOs6skz",
    "outputId": "3895b63d-dcac-4994-cfe4-1e350f158d2f",
    "scrolled": true
   },
   "outputs": [
    {
     "data": {
      "text/plain": [
       "Text(0, 0.5, 'Sepal width')"
      ]
     },
     "execution_count": 5,
     "metadata": {},
     "output_type": "execute_result"
    },
    {
     "data": {
      "image/png": "[encoded data removed]",
      "text/plain": [
       "<Figure size 432x288 with 1 Axes>"
      ]
     },
     "metadata": {
      "needs_background": "light"
     },
     "output_type": "display_data"
    }
   ],
   "source": [
    "%matplotlib inline\n",
    "import matplotlib.pyplot as plt\n",
    "\n",
    "markers = ['o', '+', '^']\n",
    "for i in range(3):\n",
    "    xs = X2[:, 0][y == i]\n",
    "    ys = X2[:, 1][y == i]\n",
    "    plt.scatter(xs, ys, marker=markers[i])\n",
    "plt.legend(iris.target_names)\n",
    "plt.xlabel(\"Sepal length\")\n",
    "plt.ylabel(\"Sepal width\")"
   ]
  },
  {
   "cell_type": "markdown",
   "metadata": {},
   "source": [
    "위의 label 분포를 보면 setosa와 versicolor&virginica 로 크게 이진 분류를 할 수 있다. \n",
    "\n",
    "따라서 label의 virginica를 모두 versicolor로 바꿔서 이진 분류 데이터로 바꾼다. "
   ]
  },
  {
   "cell_type": "code",
   "execution_count": 6,
   "metadata": {
    "colab": {
     "base_uri": "https://localhost:8080/"
    },
    "executionInfo": {
     "elapsed": 27,
     "status": "ok",
     "timestamp": 1632278061889,
     "user": {
      "displayName": "Yongjin Jeong",
      "photoUrl": "https://lh3.googleusercontent.com/a/default-user=s64",
      "userId": "03658406798560557048"
     },
     "user_tz": -540
    },
    "id": "BMuNZkEp6sk2",
    "outputId": "116bc73d-ca23-4484-adcc-5a4b7e27bc43"
   },
   "outputs": [
    {
     "data": {
      "text/plain": [
       "Text(0, 0.5, 'Sepal width')"
      ]
     },
     "execution_count": 6,
     "metadata": {},
     "output_type": "execute_result"
    },
    {
     "data": {
      "image/png": "[encoded data removed]",
      "text/plain": [
       "<Figure size 432x288 with 1 Axes>"
      ]
     },
     "metadata": {
      "needs_background": "light"
     },
     "output_type": "display_data"
    }
   ],
   "source": [
    "y2 = y.copy()      # y의 복사본을 만든다\n",
    "y2[(y2==2)] = 1    # y중에 2의 값을 모두 1로 바꾼다 -> 이진 분류\n",
    "y2\n",
    "\n",
    "markers = ['o', '+', '^']\n",
    "for i in range(3):\n",
    "    xs = X2[:, 0][y2 == i]\n",
    "    ys = X2[:, 1][y2 == i]\n",
    "    plt.scatter(xs, ys, marker=markers[i])\n",
    "binary_names = ['setosa', 'non-setosa']\n",
    "plt.legend(binary_names)\n",
    "plt.xlabel(\"Sepal length\")\n",
    "plt.ylabel(\"Sepal width\")"
   ]
  },
  {
   "cell_type": "markdown",
   "metadata": {},
   "source": [
    "### Split train/test dataset"
   ]
  },
  {
   "cell_type": "code",
   "execution_count": 7,
   "metadata": {
    "colab": {
     "base_uri": "https://localhost:8080/"
    },
    "executionInfo": {
     "elapsed": 26,
     "status": "ok",
     "timestamp": 1632278061890,
     "user": {
      "displayName": "Yongjin Jeong",
      "photoUrl": "https://lh3.googleusercontent.com/a/default-user=s64",
      "userId": "03658406798560557048"
     },
     "user_tz": -540
    },
    "id": "47o6oVnz6sk5",
    "outputId": "1be2b022-f1f3-4d89-b0f8-a2e5f907ef8e"
   },
   "outputs": [
    {
     "data": {
      "text/plain": [
       "((105, 2), (45, 2), (105,), (45,))"
      ]
     },
     "execution_count": 7,
     "metadata": {},
     "output_type": "execute_result"
    }
   ],
   "source": [
    "from sklearn.model_selection import train_test_split\n",
    "X_train, X_test, y_train, y_test = train_test_split(X2, y2, test_size=0.3, random_state=17)\n",
    "X_train.shape, X_test.shape, y_train.shape, y_test.shape"
   ]
  },
  {
   "cell_type": "code",
   "execution_count": 8,
   "metadata": {
    "colab": {
     "base_uri": "https://localhost:8080/",
     "height": 299
    },
    "executionInfo": {
     "elapsed": 639,
     "status": "ok",
     "timestamp": 1632278062506,
     "user": {
      "displayName": "Yongjin Jeong",
      "photoUrl": "https://lh3.googleusercontent.com/a/default-user=s64",
      "userId": "03658406798560557048"
     },
     "user_tz": -540
    },
    "id": "aCxGh2mp6sk_",
    "outputId": "ac557dfa-38cc-4be2-820c-9ad13f26b576"
   },
   "outputs": [
    {
     "data": {
      "text/plain": [
       "Text(0, 0.5, 'Sepal width')"
      ]
     },
     "execution_count": 8,
     "metadata": {},
     "output_type": "execute_result"
    },
    {
     "data": {
      "image/png": "[encoded data removed]",
      "text/plain": [
       "<Figure size 432x288 with 1 Axes>"
      ]
     },
     "metadata": {
      "needs_background": "light"
     },
     "output_type": "display_data"
    }
   ],
   "source": [
    "markers = ['o', '+', '^']\n",
    "for i in range(3):\n",
    "    xs = X_train[:, 0][y_train == i]\n",
    "    ys = X_train[:, 1][y_train == i]\n",
    "    plt.scatter(xs, ys, marker=markers[i])\n",
    "binary_names = ['setosa', 'non-setosa']\n",
    "plt.legend(binary_names)\n",
    "plt.xlabel(\"Sepal length\")\n",
    "plt.ylabel(\"Sepal width\")"
   ]
  },
  {
   "cell_type": "markdown",
   "metadata": {},
   "source": [
    "### Select Model and Train"
   ]
  },
  {
   "cell_type": "code",
   "execution_count": 9,
   "metadata": {
    "colab": {
     "base_uri": "https://localhost:8080/"
    },
    "executionInfo": {
     "elapsed": 32,
     "status": "ok",
     "timestamp": 1632278062507,
     "user": {
      "displayName": "Yongjin Jeong",
      "photoUrl": "https://lh3.googleusercontent.com/a/default-user=s64",
      "userId": "03658406798560557048"
     },
     "user_tz": -540
    },
    "id": "mPUv0ugT6slB",
    "outputId": "378e3f5b-29aa-4311-a725-fefd5e4ca136",
    "scrolled": false
   },
   "outputs": [
    {
     "data": {
      "text/plain": [
       "SGDClassifier(max_iter=2000, random_state=42)"
      ]
     },
     "execution_count": 9,
     "metadata": {},
     "output_type": "execute_result"
    }
   ],
   "source": [
    "from sklearn.linear_model import SGDClassifier\n",
    "clf = SGDClassifier(max_iter=2000, random_state=42)\n",
    "clf.fit(X_train, y_train)"
   ]
  },
  {
   "cell_type": "code",
   "execution_count": 10,
   "metadata": {
    "colab": {
     "base_uri": "https://localhost:8080/"
    },
    "executionInfo": {
     "elapsed": 29,
     "status": "ok",
     "timestamp": 1632278062508,
     "user": {
      "displayName": "Yongjin Jeong",
      "photoUrl": "https://lh3.googleusercontent.com/a/default-user=s64",
      "userId": "03658406798560557048"
     },
     "user_tz": -540
    },
    "id": "KFav31Qp6slF",
    "outputId": "42ae5257-c20d-4d5a-e790-2da4658b0d82"
   },
   "outputs": [
    {
     "data": {
      "text/plain": [
       "(array([[  98.14963797, -139.44757308]]), array([-90.4188475]))"
      ]
     },
     "execution_count": 10,
     "metadata": {},
     "output_type": "execute_result"
    }
   ],
   "source": [
    "clf.coef_, clf.intercept_"
   ]
  },
  {
   "cell_type": "code",
   "execution_count": 11,
   "metadata": {
    "colab": {
     "base_uri": "https://localhost:8080/"
    },
    "executionInfo": {
     "elapsed": 28,
     "status": "ok",
     "timestamp": 1632278062509,
     "user": {
      "displayName": "Yongjin Jeong",
      "photoUrl": "https://lh3.googleusercontent.com/a/default-user=s64",
      "userId": "03658406798560557048"
     },
     "user_tz": -540
    },
    "id": "3qbqnzMP6slH",
    "outputId": "f724ab79-6360-49c7-8c72-a6d439f50d9d"
   },
   "outputs": [
    {
     "name": "stdout",
     "output_type": "stream",
     "text": [
      "98.1496379726464 -139.44757307589103 [-90.4188475]\n"
     ]
    }
   ],
   "source": [
    "a = clf.coef_[0,0]\n",
    "b = clf.coef_[0,1]\n",
    "c = clf.intercept_\n",
    "print(a, b, c)"
   ]
  },
  {
   "cell_type": "markdown",
   "metadata": {},
   "source": [
    "### Inference and Plotting"
   ]
  },
  {
   "cell_type": "code",
   "execution_count": 12,
   "metadata": {
    "colab": {
     "base_uri": "https://localhost:8080/",
     "height": 296
    },
    "executionInfo": {
     "elapsed": 26,
     "status": "ok",
     "timestamp": 1632278062509,
     "user": {
      "displayName": "Yongjin Jeong",
      "photoUrl": "https://lh3.googleusercontent.com/a/default-user=s64",
      "userId": "03658406798560557048"
     },
     "user_tz": -540
    },
    "id": "xZwSxBik6slJ",
    "outputId": "1a6a6af3-3d9c-412b-fc32-816d918b4eb9"
   },
   "outputs": [
    {
     "data": {
      "text/plain": [
       "[<matplotlib.lines.Line2D at 0x17c7dd13c70>]"
      ]
     },
     "execution_count": 12,
     "metadata": {},
     "output_type": "execute_result"
    },
    {
     "data": {
      "image/png": "[encoded data removed]",
      "text/plain": [
       "<Figure size 432x288 with 1 Axes>"
      ]
     },
     "metadata": {
      "needs_background": "light"
     },
     "output_type": "display_data"
    }
   ],
   "source": [
    "import numpy as np\n",
    "%matplotlib inline\n",
    "import matplotlib.pyplot as plt\n",
    "\n",
    "markers = ['o', '+', '^']\n",
    "for i in range(2):\n",
    "    xs = X_train[:, 0][y_train == i]\n",
    "    ys = X_train[:, 1][y_train == i]\n",
    "    plt.scatter(xs, ys, marker=markers[i])\n",
    "\n",
    "binary_names = ['setosa', 'non-setosa']\n",
    "plt.legend(binary_names)\n",
    "plt.xlabel(\"Sepal length\")\n",
    "plt.ylabel(\"Sepal width\")\n",
    "\n",
    "XX = np.linspace(4, 8, 40)\n",
    "# 결정 경계선\n",
    "plt.plot(XX, (-a/b)*XX - c/b, \"k-\", linewidth=2)"
   ]
  },
  {
   "cell_type": "code",
   "execution_count": 13,
   "metadata": {
    "colab": {
     "base_uri": "https://localhost:8080/"
    },
    "executionInfo": {
     "elapsed": 24,
     "status": "ok",
     "timestamp": 1632278062510,
     "user": {
      "displayName": "Yongjin Jeong",
      "photoUrl": "https://lh3.googleusercontent.com/a/default-user=s64",
      "userId": "03658406798560557048"
     },
     "user_tz": -540
    },
    "id": "6xS_0lLB6slM",
    "outputId": "ad5742aa-e59d-43df-942d-35a180c14451"
   },
   "outputs": [
    {
     "name": "stdout",
     "output_type": "stream",
     "text": [
      "[0]\n"
     ]
    }
   ],
   "source": [
    "print(clf.predict([[4.5, 3.5]]))  # 0"
   ]
  },
  {
   "cell_type": "code",
   "execution_count": 14,
   "metadata": {
    "colab": {
     "base_uri": "https://localhost:8080/"
    },
    "executionInfo": {
     "elapsed": 22,
     "status": "ok",
     "timestamp": 1632278062511,
     "user": {
      "displayName": "Yongjin Jeong",
      "photoUrl": "https://lh3.googleusercontent.com/a/default-user=s64",
      "userId": "03658406798560557048"
     },
     "user_tz": -540
    },
    "id": "cW9kWMOJ6slO",
    "outputId": "e93a0ec7-153e-441d-fed3-6d5d660e9c2c"
   },
   "outputs": [
    {
     "name": "stdout",
     "output_type": "stream",
     "text": [
      "0.9933333333333333\n"
     ]
    }
   ],
   "source": [
    "print(clf.score(X2, y2))"
   ]
  },
  {
   "cell_type": "code",
   "execution_count": 15,
   "metadata": {
    "colab": {
     "base_uri": "https://localhost:8080/"
    },
    "executionInfo": {
     "elapsed": 20,
     "status": "ok",
     "timestamp": 1632278062512,
     "user": {
      "displayName": "Yongjin Jeong",
      "photoUrl": "https://lh3.googleusercontent.com/a/default-user=s64",
      "userId": "03658406798560557048"
     },
     "user_tz": -540
    },
    "id": "-w7BCL6w6slQ",
    "outputId": "23ad5b7c-b3a5-482e-e783-60f4dc4cc079"
   },
   "outputs": [
    {
     "name": "stdout",
     "output_type": "stream",
     "text": [
      "1.0\n"
     ]
    }
   ],
   "source": [
    "print(clf.score(X_test, y_test))"
   ]
  },
  {
   "cell_type": "markdown",
   "metadata": {},
   "source": [
    "#### Use KFold and cross_val_score"
   ]
  },
  {
   "cell_type": "code",
   "execution_count": 17,
   "metadata": {
    "colab": {
     "base_uri": "https://localhost:8080/"
    },
    "executionInfo": {
     "elapsed": 16,
     "status": "ok",
     "timestamp": 1632278063150,
     "user": {
      "displayName": "Yongjin Jeong",
      "photoUrl": "https://lh3.googleusercontent.com/a/default-user=s64",
      "userId": "03658406798560557048"
     },
     "user_tz": -540
    },
    "id": "Pei8JieK6slV",
    "outputId": "aa43bd91-56cf-4889-87a2-07ae96e1cda9"
   },
   "outputs": [
    {
     "name": "stdout",
     "output_type": "stream",
     "text": [
      "[0.93333333 1.         1.         0.96666667 0.8       ] 0.9400000000000001\n"
     ]
    }
   ],
   "source": [
    "from sklearn.model_selection import cross_val_score, KFold\n",
    "from sklearn.linear_model import SGDClassifier\n",
    "\n",
    "cv = KFold(n_splits=5, shuffle=True)\n",
    "\n",
    "'''\n",
    "X2.shape[0]\n",
    "y\n",
    "\n",
    "for train_index, test_index in cv.split(X2):\n",
    "   print(\"TRAIN:\", train_index, \"TEST:\", test_index)\n",
    "   X_train, X_test = X2[train_index], X2[test_index]\n",
    "   y_train, y_test = y2[train_index], y2[test_index]\n",
    "'''\n",
    "\n",
    "# 위의 과정을 한 번에 해 주는 함수가 있음.\n",
    "score = cross_val_score(SGDClassifier(), X2, y2, cv=cv)\n",
    "print(score, score.mean())"
   ]
  },
  {
   "cell_type": "markdown",
   "metadata": {
    "id": "WerDCZOjWvnP"
   },
   "source": [
    "## Example 2: More difficult classification\n",
    "\n",
    "Still binary classification. \n",
    "\n",
    "Virginica VS non-Viginica"
   ]
  },
  {
   "cell_type": "code",
   "execution_count": 18,
   "metadata": {
    "colab": {
     "base_uri": "https://localhost:8080/",
     "height": 296
    },
    "executionInfo": {
     "elapsed": 331,
     "status": "ok",
     "timestamp": 1632280489730,
     "user": {
      "displayName": "Yongjin Jeong",
      "photoUrl": "https://lh3.googleusercontent.com/a/default-user=s64",
      "userId": "03658406798560557048"
     },
     "user_tz": -540
    },
    "id": "W4Amz6BCWvQt",
    "outputId": "bc456878-5335-450b-accf-afb3cdc29abb"
   },
   "outputs": [
    {
     "data": {
      "text/plain": [
       "Text(0, 0.5, 'Petal length')"
      ]
     },
     "execution_count": 18,
     "metadata": {},
     "output_type": "execute_result"
    },
    {
     "data": {
      "image/png": "[encoded data removed]",
      "text/plain": [
       "<Figure size 432x288 with 1 Axes>"
      ]
     },
     "metadata": {
      "needs_background": "light"
     },
     "output_type": "display_data"
    }
   ],
   "source": [
    "iris = load_iris()\n",
    "X, y = iris.data, iris.target\n",
    "X3 = X[:,[0,2]] # feature selection\n",
    "y3 = y.copy()\n",
    "y3[y3 == 1] = 0 # 0, 1 -> 0\n",
    "y3[y3 == 2] = 1 # 2 -> 1\n",
    "X_train, X_test, y_train, y_test = train_test_split(X3, y3, test_size=0.3, random_state=17)\n",
    "\n",
    "markers = ['o', '+', '^']\n",
    "for i in range(3):\n",
    "    xs = X_train[:, 0][y_train == i]\n",
    "    ys = X_train[:, 1][y_train == i]\n",
    "    plt.scatter(xs, ys, marker=markers[i])\n",
    "binary_names = ['non-virginica', 'virginica']\n",
    "plt.legend(binary_names)\n",
    "plt.xlabel(\"Sepal length\")\n",
    "plt.ylabel(\"Petal length\")"
   ]
  },
  {
   "cell_type": "markdown",
   "metadata": {},
   "source": [
    "### Model selection and training"
   ]
  },
  {
   "cell_type": "markdown",
   "metadata": {},
   "source": [
    "첫번째 모델은 alpha 값을 작게 주어 에러를 줄이는 데 더 집중하도록 한다. "
   ]
  },
  {
   "cell_type": "code",
   "execution_count": 20,
   "metadata": {
    "colab": {
     "base_uri": "https://localhost:8080/"
    },
    "executionInfo": {
     "elapsed": 269,
     "status": "ok",
     "timestamp": 1632281196363,
     "user": {
      "displayName": "Yongjin Jeong",
      "photoUrl": "https://lh3.googleusercontent.com/a/default-user=s64",
      "userId": "03658406798560557048"
     },
     "user_tz": -540
    },
    "id": "f_-T8w1WYXpj",
    "outputId": "d03cc10e-2fbc-4cd2-9866-99e5aba1f5ea"
   },
   "outputs": [
    {
     "data": {
      "text/plain": [
       "0.9111111111111111"
      ]
     },
     "execution_count": 20,
     "metadata": {},
     "output_type": "execute_result"
    }
   ],
   "source": [
    "clf1 = SGDClassifier(penalty='l2', alpha=0.0001, random_state=42)\n",
    "clf1.fit(X_train, y_train)\n",
    "clf1.score(X_test, y_test)"
   ]
  },
  {
   "cell_type": "markdown",
   "metadata": {},
   "source": [
    "두번째 모델은 alpha 값을 작게 주어 가중치를 줄이는 데 더 집중하도록 한다. "
   ]
  },
  {
   "cell_type": "code",
   "execution_count": 21,
   "metadata": {
    "colab": {
     "base_uri": "https://localhost:8080/"
    },
    "executionInfo": {
     "elapsed": 270,
     "status": "ok",
     "timestamp": 1632281202529,
     "user": {
      "displayName": "Yongjin Jeong",
      "photoUrl": "https://lh3.googleusercontent.com/a/default-user=s64",
      "userId": "03658406798560557048"
     },
     "user_tz": -540
    },
    "id": "8AabhQTVZuwl",
    "outputId": "e083748b-0f95-4754-8d28-0fd7c21b3b97"
   },
   "outputs": [
    {
     "data": {
      "text/plain": [
       "0.6888888888888889"
      ]
     },
     "execution_count": 21,
     "metadata": {},
     "output_type": "execute_result"
    }
   ],
   "source": [
    "clf2 = SGDClassifier(penalty='l2', alpha=1, random_state=42)\n",
    "clf2.fit(X_train, y_train)\n",
    "clf2.score(X_test, y_test)"
   ]
  },
  {
   "cell_type": "markdown",
   "metadata": {},
   "source": [
    "### Plotting"
   ]
  },
  {
   "cell_type": "code",
   "execution_count": 23,
   "metadata": {
    "colab": {
     "base_uri": "https://localhost:8080/",
     "height": 501
    },
    "executionInfo": {
     "elapsed": 1593,
     "status": "ok",
     "timestamp": 1632281211155,
     "user": {
      "displayName": "Yongjin Jeong",
      "photoUrl": "https://lh3.googleusercontent.com/a/default-user=s64",
      "userId": "03658406798560557048"
     },
     "user_tz": -540
    },
    "id": "ATMdSc_JYh-I",
    "outputId": "9674a521-1bde-42f5-f155-42a7e78c91e2"
   },
   "outputs": [
    {
     "data": {
      "image/png": "[encoded data removed]",
      "text/plain": [
       "<Figure size 864x576 with 4 Axes>"
      ]
     },
     "metadata": {
      "needs_background": "light"
     },
     "output_type": "display_data"
    }
   ],
   "source": [
    "x0, x1 = np.meshgrid(\n",
    "        np.linspace(3, 9, 200).reshape(-1, 1),\n",
    "        np.linspace(1, 8, 200).reshape(-1, 1),\n",
    "    )\n",
    "X_new = np.c_[x0.ravel(), x1.ravel()]\n",
    "\n",
    "y_predict1 = clf1.predict(X_new)\n",
    "y_predict2 = clf2.predict(X_new)\n",
    "\n",
    "zz1 = y_predict1.reshape(x0.shape)\n",
    "zz2 = y_predict2.reshape(x0.shape)\n",
    "\n",
    "plt.figure(figsize=(12,8))\n",
    "plt.subplot(2,2,1)\n",
    "\n",
    "# clf1 -> train\n",
    "plt.plot(X_train[y_train==1, 0], X_train[y_train==1, 1], \"rx\", label=\"virginica\")\n",
    "plt.plot(X_train[y_train==0, 0], X_train[y_train==0, 1], \"yo\", label=\"non-virginica\")\n",
    "plt.contourf(x0, x1, zz1)\n",
    "plt.xlabel(\"setal length\")\n",
    "plt.ylabel(\"petal length\")\n",
    "plt.legend(loc=\"lower right\")\n",
    "# clf1 -> test\n",
    "plt.subplot(2,2,2)\n",
    "plt.plot(X_test[y_test==1, 0], X_test[y_test==1, 1], \"rx\", label=\"virginica\")\n",
    "plt.plot(X_test[y_test==0, 0], X_test[y_test==0, 1], \"yo\", label=\"non-virginica\")\n",
    "plt.contourf(x0, x1, zz1)\n",
    "plt.xlabel(\"setal length\")\n",
    "plt.ylabel(\"petal length\")\n",
    "plt.legend(loc=\"lower right\")\n",
    "# clf2 -> train\n",
    "plt.subplot(2,2,3)\n",
    "plt.plot(X_train[y_train==1, 0], X_train[y_train==1, 1], \"rx\", label=\"virginica\")\n",
    "plt.plot(X_train[y_train==0, 0], X_train[y_train==0, 1], \"yo\", label=\"non-virginica\")\n",
    "plt.contourf(x0, x1, zz2)\n",
    "plt.xlabel(\"setal length\")\n",
    "plt.ylabel(\"petal length\")\n",
    "plt.legend(loc=\"lower right\")\n",
    "# clf2 -> test\n",
    "plt.subplot(2,2,4)\n",
    "plt.plot(X_test[y_test==1, 0], X_test[y_test==1, 1], \"rx\", label=\"virginica\")\n",
    "plt.plot(X_test[y_test==0, 0], X_test[y_test==0, 1], \"yo\", label=\"non-virginica\")\n",
    "plt.contourf(x0, x1, zz2)\n",
    "plt.xlabel(\"setal length\")\n",
    "plt.ylabel(\"petal length\")\n",
    "plt.legend(loc=\"lower right\")\n",
    "plt.show()"
   ]
  },
  {
   "cell_type": "code",
   "execution_count": 24,
   "metadata": {
    "colab": {
     "base_uri": "https://localhost:8080/"
    },
    "executionInfo": {
     "elapsed": 316,
     "status": "ok",
     "timestamp": 1632281216924,
     "user": {
      "displayName": "Yongjin Jeong",
      "photoUrl": "https://lh3.googleusercontent.com/a/default-user=s64",
      "userId": "03658406798560557048"
     },
     "user_tz": -540
    },
    "id": "SF719nkdZhTb",
    "outputId": "4361e0fa-e2f0-4743-a24d-d6d79aecdb79"
   },
   "outputs": [
    {
     "data": {
      "text/plain": [
       "(array([[-151.63660655,  225.78490314]]), array([[-0.07619048,  0.42329004]]))"
      ]
     },
     "execution_count": 24,
     "metadata": {},
     "output_type": "execute_result"
    }
   ],
   "source": [
    "clf1.coef_, clf2.coef_"
   ]
  }
 ],
 "metadata": {
  "colab": {
   "collapsed_sections": [],
   "name": "gg-32-linear_classification.ipynb",
   "provenance": [],
   "toc_visible": true
  },
  "kernelspec": {
   "display_name": "Python 3",
   "language": "python",
   "name": "python3"
  },
  "language_info": {
   "codemirror_mode": {
    "name": "ipython",
    "version": 3
   },
   "file_extension": ".py",
   "mimetype": "text/x-python",
   "name": "python",
   "nbconvert_exporter": "python",
   "pygments_lexer": "ipython3",
   "version": "3.8.8"
  }
 },
 "nbformat": 4,
 "nbformat_minor": 1
}
