{
 "cells": [
  {
   "cell_type": "code",
   "execution_count": 1,
   "metadata": {
    "colab": {
     "base_uri": "https://localhost:8080/"
    },
    "executionInfo": {
     "elapsed": 17390,
     "status": "ok",
     "timestamp": 1638337389786,
     "user": {
      "displayName": "Ann Jelyn Tiempo",
      "photoUrl": "https://lh3.googleusercontent.com/a/default-user=s64",
      "userId": "06262136925071389189"
     },
     "user_tz": -540
    },
    "id": "TL1eWh2x5axX",
    "outputId": "273284e8-5409-4bab-c90f-fbe971651aea"
   },
   "outputs": [
    {
     "name": "stderr",
     "output_type": "stream",
     "text": [
      "Downloading...\n",
      "From: https://drive.google.com/uc?id=1K5Ai6robPRva0eKDOrPLRvQ_6gpTIaDe\n",
      "To: C:\\Repositories\\MachineLearning\\week15\\finalize_dogs_vs_cats.zip\n",
      "\n",
      "  0%|          | 0.00/428M [00:00<?, ?B/s]\n",
      "  0%|          | 524k/428M [00:00<03:13, 2.21MB/s]\n",
      "  0%|          | 1.05M/428M [00:00<02:11, 3.24MB/s]\n",
      "  1%|          | 2.62M/428M [00:00<01:00, 7.07MB/s]\n",
      "  1%|1         | 4.72M/428M [00:00<00:39, 10.6MB/s]\n",
      "  2%|1         | 6.82M/428M [00:00<00:47, 8.78MB/s]\n",
      "  2%|1         | 7.86M/428M [00:00<00:47, 8.77MB/s]\n",
      "  2%|2         | 9.96M/428M [00:01<00:36, 11.4MB/s]\n",
      "  3%|2         | 12.6M/428M [00:01<00:29, 14.3MB/s]\n",
      "  4%|3         | 15.2M/428M [00:01<00:24, 16.8MB/s]\n",
      "  4%|4         | 18.4M/428M [00:01<00:21, 19.0MB/s]\n",
      "  5%|5         | 21.5M/428M [00:01<00:18, 21.7MB/s]\n",
      "  6%|5         | 24.1M/428M [00:01<00:17, 22.5MB/s]\n",
      "  6%|6         | 27.8M/428M [00:01<00:15, 25.5MB/s]\n",
      "  7%|7         | 30.9M/428M [00:01<00:15, 26.1MB/s]\n",
      "  8%|8         | 34.6M/428M [00:02<00:13, 28.6MB/s]\n",
      "  9%|8         | 38.3M/428M [00:02<00:12, 30.1MB/s]\n",
      " 10%|9         | 42.5M/428M [00:02<00:11, 32.5MB/s]\n",
      " 11%|#         | 46.1M/428M [00:02<00:12, 30.2MB/s]\n",
      " 12%|#1        | 50.3M/428M [00:02<00:11, 33.2MB/s]\n",
      " 13%|#2        | 54.5M/428M [00:02<00:10, 34.7MB/s]\n",
      " 14%|#3        | 58.7M/428M [00:02<00:10, 35.8MB/s]\n",
      " 15%|#4        | 64.0M/428M [00:02<00:09, 39.2MB/s]\n",
      " 16%|#6        | 69.2M/428M [00:02<00:08, 41.8MB/s]\n",
      " 17%|#7        | 74.4M/428M [00:03<00:08, 43.6MB/s]\n",
      " 19%|#8        | 79.7M/428M [00:03<00:07, 44.9MB/s]\n",
      " 20%|#9        | 84.9M/428M [00:03<00:07, 45.8MB/s]\n",
      " 21%|##        | 89.7M/428M [00:03<00:07, 45.9MB/s]\n",
      " 22%|##2       | 94.9M/428M [00:03<00:07, 46.5MB/s]\n",
      " 23%|##3       | 100M/428M [00:03<00:06, 46.8MB/s] \n",
      " 25%|##4       | 105M/428M [00:03<00:06, 47.0MB/s]\n",
      " 26%|##5       | 111M/428M [00:03<00:06, 47.3MB/s]\n",
      " 27%|##7       | 116M/428M [00:03<00:06, 48.8MB/s]\n",
      " 28%|##8       | 122M/428M [00:04<00:06, 48.5MB/s]\n",
      " 30%|##9       | 127M/428M [00:04<00:06, 48.3MB/s]\n",
      " 31%|###       | 132M/428M [00:04<00:06, 48.2MB/s]\n",
      " 32%|###2      | 137M/428M [00:04<00:06, 48.1MB/s]\n",
      " 33%|###3      | 143M/428M [00:04<00:05, 48.1MB/s]\n",
      " 35%|###4      | 148M/428M [00:04<00:05, 48.0MB/s]\n",
      " 36%|###5      | 153M/428M [00:04<00:05, 48.0MB/s]\n",
      " 37%|###7      | 158M/428M [00:04<00:05, 47.8MB/s]\n",
      " 38%|###8      | 164M/428M [00:04<00:05, 48.8MB/s]\n",
      " 39%|###9      | 169M/428M [00:04<00:05, 48.5MB/s]\n",
      " 41%|####      | 174M/428M [00:05<00:05, 48.4MB/s]\n",
      " 42%|####1     | 179M/428M [00:05<00:05, 48.2MB/s]\n",
      " 43%|####3     | 185M/428M [00:05<00:05, 48.1MB/s]\n",
      " 44%|####4     | 190M/428M [00:05<00:04, 48.1MB/s]\n",
      " 46%|####5     | 195M/428M [00:05<00:04, 48.0MB/s]\n",
      " 47%|####6     | 200M/428M [00:05<00:04, 48.0MB/s]\n",
      " 48%|####8     | 206M/428M [00:05<00:04, 48.0MB/s]\n",
      " 49%|####9     | 211M/428M [00:05<00:04, 48.0MB/s]\n",
      " 51%|#####     | 216M/428M [00:05<00:04, 48.0MB/s]\n",
      " 52%|#####1    | 221M/428M [00:06<00:04, 47.8MB/s]\n",
      " 53%|#####2    | 226M/428M [00:06<00:04, 47.8MB/s]\n",
      " 54%|#####4    | 232M/428M [00:06<00:04, 47.7MB/s]\n",
      " 55%|#####5    | 237M/428M [00:06<00:04, 42.4MB/s]\n",
      " 57%|#####6    | 242M/428M [00:06<00:05, 35.6MB/s]\n",
      " 58%|#####7    | 247M/428M [00:06<00:04, 38.6MB/s]\n",
      " 59%|#####8    | 252M/428M [00:06<00:04, 41.1MB/s]\n",
      " 60%|######    | 257M/428M [00:06<00:03, 42.9MB/s]\n",
      " 61%|######1   | 263M/428M [00:07<00:03, 44.2MB/s]\n",
      " 63%|######2   | 268M/428M [00:07<00:03, 45.3MB/s]\n",
      " 64%|######3   | 273M/428M [00:07<00:03, 46.0MB/s]\n",
      " 65%|######5   | 278M/428M [00:07<00:03, 46.6MB/s]\n",
      " 66%|######6   | 284M/428M [00:07<00:03, 47.8MB/s]\n",
      " 68%|######7   | 289M/428M [00:07<00:02, 47.9MB/s]\n",
      " 69%|######8   | 294M/428M [00:07<00:02, 47.8MB/s]\n",
      " 70%|######9   | 299M/428M [00:07<00:02, 47.8MB/s]\n",
      " 71%|#######1  | 305M/428M [00:07<00:02, 47.9MB/s]\n",
      " 72%|#######2  | 310M/428M [00:08<00:02, 47.9MB/s]\n",
      " 74%|#######3  | 315M/428M [00:08<00:02, 47.9MB/s]\n",
      " 75%|#######4  | 320M/428M [00:08<00:02, 47.6MB/s]\n",
      " 76%|#######6  | 326M/428M [00:08<00:02, 47.7MB/s]\n",
      " 77%|#######7  | 331M/428M [00:08<00:02, 47.7MB/s]\n",
      " 79%|#######8  | 336M/428M [00:08<00:01, 47.8MB/s]\n",
      " 80%|#######9  | 341M/428M [00:08<00:01, 48.8MB/s]\n",
      " 81%|########1 | 347M/428M [00:08<00:01, 46.5MB/s]\n",
      " 82%|########2 | 352M/428M [00:08<00:01, 46.9MB/s]\n",
      " 83%|########3 | 357M/428M [00:09<00:01, 47.1MB/s]\n",
      " 85%|########4 | 362M/428M [00:09<00:01, 47.3MB/s]\n",
      " 86%|########5 | 368M/428M [00:09<00:01, 47.5MB/s]\n",
      " 87%|########7 | 373M/428M [00:09<00:01, 47.7MB/s]\n",
      " 88%|########8 | 378M/428M [00:09<00:01, 47.7MB/s]\n",
      " 90%|########9 | 383M/428M [00:09<00:00, 47.8MB/s]\n",
      " 91%|######### | 388M/428M [00:09<00:00, 47.8MB/s]\n",
      " 92%|#########2| 394M/428M [00:09<00:00, 47.9MB/s]\n",
      " 93%|#########3| 399M/428M [00:09<00:00, 47.9MB/s]\n",
      " 95%|#########4| 404M/428M [00:10<00:00, 47.9MB/s]\n",
      " 96%|#########5| 409M/428M [00:10<00:00, 47.7MB/s]\n",
      " 97%|#########6| 415M/428M [00:10<00:00, 48.9MB/s]\n",
      " 98%|#########8| 420M/428M [00:10<00:00, 48.6MB/s]\n",
      " 99%|#########9| 425M/428M [00:10<00:00, 48.2MB/s]\n",
      "100%|##########| 428M/428M [00:10<00:00, 40.7MB/s]\n",
      "'unzip'은(는) 내부 또는 외부 명령, 실행할 수 있는 프로그램, 또는\n",
      "배치 파일이 아닙니다.\n"
     ]
    }
   ],
   "source": [
    "# to download the dataset\n",
    "!gdown --id 1K5Ai6robPRva0eKDOrPLRvQ_6gpTIaDe\n",
    "# to unzip the file\n",
    "!unzip finalize_dogs_vs_cats.zip"
   ]
  },
  {
   "cell_type": "code",
   "execution_count": 5,
   "metadata": {
    "colab": {
     "base_uri": "https://localhost:8080/"
    },
    "executionInfo": {
     "elapsed": 674070,
     "status": "ok",
     "timestamp": 1638338107170,
     "user": {
      "displayName": "Ann Jelyn Tiempo",
      "photoUrl": "https://lh3.googleusercontent.com/a/default-user=s64",
      "userId": "06262136925071389189"
     },
     "user_tz": -540
    },
    "id": "kZg8DSsc5tMR",
    "outputId": "3f9c0fe0-b32c-4c7a-a0dd-25e9ae8a8676"
   },
   "outputs": [
    {
     "name": "stdout",
     "output_type": "stream",
     "text": [
      "Found 18697 images belonging to 2 classes.\n",
      "Epoch 1/5\n",
      "293/293 [==============================] - 63s 212ms/step - loss: 0.2283 - accuracy: 0.9659\n",
      "Epoch 2/5\n",
      "293/293 [==============================] - 60s 205ms/step - loss: 0.0242 - accuracy: 0.9913\n",
      "Epoch 3/5\n",
      "293/293 [==============================] - 59s 200ms/step - loss: 0.0059 - accuracy: 0.9989\n",
      "Epoch 4/5\n",
      "293/293 [==============================] - 59s 201ms/step - loss: 0.0015 - accuracy: 0.9998\n",
      "Epoch 5/5\n",
      "293/293 [==============================] - 59s 201ms/step - loss: 7.8414e-04 - accuracy: 0.9999\n"
     ]
    }
   ],
   "source": [
    "from tensorflow.keras.applications.vgg16 import VGG16\n",
    "from tensorflow.keras.models import Model\n",
    "from tensorflow.keras.layers import Dense\n",
    "from tensorflow.keras.layers import Flatten\n",
    "from tensorflow.keras.optimizers import SGD\n",
    "from tensorflow.keras.preprocessing.image import ImageDataGenerator\n",
    "\n",
    "# define model\n",
    "def define_model():\n",
    "    model = VGG16(include_top=False, input_shape=(224, 224, 3))\n",
    "    # mark loaded layers as not trainable\n",
    "    for layer in model.layers:\n",
    "        layer.trainable = False\n",
    "    # add new classifier layers\n",
    "    flat1 = Flatten()(model.layers[-1].output)\n",
    "    class1 = Dense(128, activation='relu', kernel_initializer='he_uniform')(flat1)\n",
    "    output = Dense(1, activation='sigmoid')(class1)\n",
    "    # define new model\n",
    "    model = Model(inputs=model.inputs, outputs=output)\n",
    "    # compile model\n",
    "    opt = SGD(lr=0.001, momentum=0.9)\n",
    "    model.compile(optimizer=opt, loss='binary_crossentropy', metrics=['accuracy'])\n",
    "    return model\n",
    "\n",
    "# run the test harness for evaluating a model\n",
    "def run_test_harness():\n",
    "    # define model\n",
    "    model = define_model()\n",
    "    # create data generator\n",
    "    datagen = ImageDataGenerator(featurewise_center=True)\n",
    "    # specify imagenet mean values for centering\n",
    "    datagen.mean = [123.68, 116.779, 103.939]\n",
    "    # prepare iterator\n",
    "    train_it = datagen.flow_from_directory('finalize_dogs_vs_cats/',\n",
    "                                           class_mode='binary', batch_size=64, target_size=(224,224))\n",
    "    # fit model\n",
    "    model.fit_generator(train_it, steps_per_epoch=len(train_it), epochs=5, verbose=1)\n",
    "    # save model\n",
    "    model.save('final_model.h5')\n",
    "    \n",
    "# entry point, run the test harness\n",
    "run_test_harness()"
   ]
  },
  {
   "cell_type": "code",
   "execution_count": 6,
   "metadata": {
    "colab": {
     "base_uri": "https://localhost:8080/"
    },
    "executionInfo": {
     "elapsed": 6290,
     "status": "ok",
     "timestamp": 1638237391381,
     "user": {
      "displayName": "Ann Jelyn Tiempo",
      "photoUrl": "https://lh3.googleusercontent.com/a/default-user=s64",
      "userId": "06262136925071389189"
     },
     "user_tz": -540
    },
    "id": "mvWJyxrShRnt",
    "outputId": "aac8fbbc-61af-4353-c00e-b4ae242682ce"
   },
   "outputs": [
    {
     "name": "stdout",
     "output_type": "stream",
     "text": [
      "INFO:tensorflow:Assets written to: C:\\Users\\wjsdu\\AppData\\Local\\Temp\\tmp0nttatfj\\assets\n"
     ]
    }
   ],
   "source": [
    "from keras.models import load_model\n",
    "import tensorflow as tf\n",
    "\n",
    "# load saved model\n",
    "model = load_model('final_model.h5')\n",
    "\n",
    "# convert Keras model to TFLite model\n",
    "converter = tf.lite.TFLiteConverter.from_keras_model(model)\n",
    "tflite_model = converter.convert()\n",
    "\n",
    "# save converted model\n",
    "with open('dogvscat_class_model.tflite', 'wb') as f:\n",
    "  f.write(tflite_model)"
   ]
  },
  {
   "cell_type": "code",
   "execution_count": null,
   "metadata": {
    "id": "DCi7vEZig_40"
   },
   "outputs": [],
   "source": []
  }
 ],
 "metadata": {
  "accelerator": "GPU",
  "colab": {
   "authorship_tag": "ABX9TyN4ge3TdcXeBEnRxbcrW8AL",
   "collapsed_sections": [],
   "name": "Lab 4.ipynb",
   "provenance": []
  },
  "kernelspec": {
   "display_name": "Python 3",
   "language": "python",
   "name": "python3"
  },
  "language_info": {
   "codemirror_mode": {
    "name": "ipython",
    "version": 3
   },
   "file_extension": ".py",
   "mimetype": "text/x-python",
   "name": "python",
   "nbconvert_exporter": "python",
   "pygments_lexer": "ipython3",
   "version": "3.8.8"
  }
 },
 "nbformat": 4,
 "nbformat_minor": 1
}
