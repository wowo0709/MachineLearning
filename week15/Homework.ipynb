{
 "cells": [
  {
   "cell_type": "code",
   "execution_count": 1,
   "metadata": {
    "colab": {
     "base_uri": "https://localhost:8080/"
    },
    "executionInfo": {
     "elapsed": 27780,
     "status": "ok",
     "timestamp": 1638519420099,
     "user": {
      "displayName": "Ann Jelyn Tiempo",
      "photoUrl": "https://lh3.googleusercontent.com/a/default-user=s64",
      "userId": "06262136925071389189"
     },
     "user_tz": -540
    },
    "id": "7riO7S_HVdwv",
    "outputId": "611343a6-6232-4257-990c-7e0ac5547833"
   },
   "outputs": [
    {
     "name": "stderr",
     "output_type": "stream",
     "text": [
      "Downloading...\n",
      "From: https://drive.google.com/uc?id=1YLaRefVhcCZGuc-3_eqlpOxUQ0Iypq7J\n",
      "To: C:\\Repositories\\MachineLearning\\week15\\train.zip\n",
      "\n",
      "  0%|          | 0.00/11.8M [00:00<?, ?B/s]\n",
      "  4%|4         | 524k/11.8M [00:00<00:02, 3.83MB/s]\n",
      " 18%|#7        | 2.10M/11.8M [00:00<00:01, 9.41MB/s]\n",
      " 40%|###9      | 4.72M/11.8M [00:00<00:00, 14.8MB/s]\n",
      " 53%|#####3    | 6.29M/11.8M [00:00<00:00, 13.2MB/s]\n",
      " 71%|#######   | 8.39M/11.8M [00:00<00:00, 14.3MB/s]\n",
      " 98%|#########7| 11.5M/11.8M [00:00<00:00, 18.3MB/s]\n",
      "100%|##########| 11.8M/11.8M [00:00<00:00, 15.4MB/s]\n",
      "'unzip'은(는) 내부 또는 외부 명령, 실행할 수 있는 프로그램, 또는\n",
      "배치 파일이 아닙니다.\n"
     ]
    }
   ],
   "source": [
    "# to download the dataset\n",
    "!gdown --id 1YLaRefVhcCZGuc-3_eqlpOxUQ0Iypq7J\n",
    "# to unzip the file\n",
    "!unzip train.zip"
   ]
  },
  {
   "cell_type": "code",
   "execution_count": 3,
   "metadata": {
    "colab": {
     "base_uri": "https://localhost:8080/"
    },
    "executionInfo": {
     "elapsed": 76716,
     "status": "ok",
     "timestamp": 1638519499862,
     "user": {
      "displayName": "Ann Jelyn Tiempo",
      "photoUrl": "https://lh3.googleusercontent.com/a/default-user=s64",
      "userId": "06262136925071389189"
     },
     "user_tz": -540
    },
    "id": "kWSbgRPhW4AF",
    "outputId": "393ebc20-0e7f-4b06-dad9-7e9920ad9429"
   },
   "outputs": [
    {
     "name": "stdout",
     "output_type": "stream",
     "text": [
      "Found 999 images belonging to 2 classes.\n"
     ]
    },
    {
     "name": "stderr",
     "output_type": "stream",
     "text": [
      "C:\\Users\\wjsdu\\anaconda3\\lib\\site-packages\\tensorflow\\python\\keras\\engine\\training.py:1940: UserWarning: `Model.fit_generator` is deprecated and will be removed in a future version. Please use `Model.fit`, which supports generators.\n",
      "  warnings.warn('`Model.fit_generator` is deprecated and '\n"
     ]
    },
    {
     "name": "stdout",
     "output_type": "stream",
     "text": [
      "Epoch 1/5\n",
      "16/16 [==============================] - 18s 510ms/step - loss: 1.2658 - accuracy: 0.8308\n",
      "Epoch 2/5\n",
      "16/16 [==============================] - 3s 167ms/step - loss: 0.3022 - accuracy: 0.9520\n",
      "Epoch 3/5\n",
      "16/16 [==============================] - 3s 167ms/step - loss: 0.0675 - accuracy: 0.9870\n",
      "Epoch 4/5\n",
      "16/16 [==============================] - 3s 168ms/step - loss: 0.0204 - accuracy: 0.9940\n",
      "Epoch 5/5\n",
      "16/16 [==============================] - 3s 167ms/step - loss: 0.0052 - accuracy: 0.9980\n"
     ]
    }
   ],
   "source": [
    "from tensorflow.keras.applications.vgg16 import VGG16\n",
    "from tensorflow.keras.models import Model\n",
    "from tensorflow.keras.layers import Dense\n",
    "from tensorflow.keras.layers import Flatten\n",
    "from tensorflow.keras.optimizers import SGD\n",
    "from tensorflow.keras.preprocessing.image import ImageDataGenerator\n",
    "\n",
    "# define model\n",
    "def define_model():\n",
    "    model = VGG16(include_top=False, input_shape=(224, 224, 3))\n",
    "    # mark loaded layers as not trainable\n",
    "    for layer in model.layers:\n",
    "        layer.trainable = False\n",
    "    # add new classifier layers\n",
    "    flat1 = Flatten()(model.layers[-1].output)\n",
    "    class1 = Dense(128, activation='relu', kernel_initializer='he_uniform')(flat1)\n",
    "    output = Dense(1, activation='sigmoid')(class1)\n",
    "    # define new model\n",
    "    model = Model(inputs=model.inputs, outputs=output)\n",
    "    # compile model\n",
    "    opt = SGD(lr=0.001, momentum=0.9)\n",
    "    model.compile(optimizer=opt, loss='binary_crossentropy', metrics=['accuracy'])\n",
    "    return model\n",
    "\n",
    "# run the test harness for evaluating a model\n",
    "def run_test_harness():\n",
    "    # define model\n",
    "    model = define_model()\n",
    "    # create data generator\n",
    "    datagen = ImageDataGenerator(featurewise_center=True)\n",
    "    # specify imagenet mean values for centering\n",
    "    datagen.mean = [123.68, 116.779, 103.939]\n",
    "    # prepare iterator\n",
    "    train_it = datagen.flow_from_directory('train/',\n",
    "                                           class_mode='binary', batch_size=64, target_size=(224,224))\n",
    "    # fit model\n",
    "    model.fit_generator(train_it, steps_per_epoch=len(train_it), epochs=5, verbose=1)\n",
    "    # save model\n",
    "    model.save('final_model_homework.h5')\n",
    "    \n",
    "# entry point, run the test harness\n",
    "run_test_harness()"
   ]
  },
  {
   "cell_type": "code",
   "execution_count": 4,
   "metadata": {
    "colab": {
     "base_uri": "https://localhost:8080/"
    },
    "executionInfo": {
     "elapsed": 6168,
     "status": "ok",
     "timestamp": 1638519521221,
     "user": {
      "displayName": "Ann Jelyn Tiempo",
      "photoUrl": "https://lh3.googleusercontent.com/a/default-user=s64",
      "userId": "06262136925071389189"
     },
     "user_tz": -540
    },
    "id": "T0DOjlsqXSE8",
    "outputId": "98bb4eeb-b087-4f7b-f8e9-c77bb3240b5b"
   },
   "outputs": [
    {
     "name": "stdout",
     "output_type": "stream",
     "text": [
      "INFO:tensorflow:Assets written to: C:\\Users\\wjsdu\\AppData\\Local\\Temp\\tmp9iiak5bw\\assets\n"
     ]
    }
   ],
   "source": [
    "from keras.models import load_model\n",
    "import tensorflow as tf\n",
    "\n",
    "# load saved model\n",
    "model = load_model('final_model_homework.h5')\n",
    "\n",
    "# convert Keras model to TFLite model\n",
    "converter = tf.lite.TFLiteConverter.from_keras_model(model)\n",
    "tflite_model = converter.convert()\n",
    "\n",
    "# save converted model\n",
    "with open('dandelion_vs_grass_class_model.tflite', 'wb') as f:\n",
    "  f.write(tflite_model)"
   ]
  }
 ],
 "metadata": {
  "accelerator": "GPU",
  "colab": {
   "authorship_tag": "ABX9TyP7fQZpJE5Uj0CZDJwKTL+U",
   "collapsed_sections": [],
   "name": "Homework.ipynb",
   "provenance": []
  },
  "kernelspec": {
   "display_name": "Python 3",
   "language": "python",
   "name": "python3"
  },
  "language_info": {
   "codemirror_mode": {
    "name": "ipython",
    "version": 3
   },
   "file_extension": ".py",
   "mimetype": "text/x-python",
   "name": "python",
   "nbconvert_exporter": "python",
   "pygments_lexer": "ipython3",
   "version": "3.8.8"
  }
 },
 "nbformat": 4,
 "nbformat_minor": 1
}
