{
 "cells": [
  {
   "cell_type": "markdown",
   "metadata": {
    "id": "Go6RGILC9Rco"
   },
   "source": [
    "## Tensors\n",
    "- 텐서플로 프로그램은 tf.Tensor 객체 그래프를 만드는 것으로 먼저 시작하고, 각각의 텐서가 다른 텐서를 기반으로 어떤 식으로 계산될 수 있는지 구체화하고, 그 다음 그래프를 실행해서 원하는 결과를 얻게 됩니다.\n",
    "- tf.Tensor는 다음과 같은 속성을 가지고 있습니다:\n",
    "\n",
    "  - data type (예를 들어, float32 또는 int32, string)\n",
    "  - 형태(shape)\n",
    "- 텐서안의 각각 원소는 동일한 자료형이며 핵심 텐서는 다음과 같음. \n",
    "  - `constant`: values that don’t change.\n",
    "  - `placeholder`: values that are unassigned (will be initialized by the session when you run it)\n",
    "  - `variable`:  values that can change\n",
    "  - tf.SparseTensor: "
   ]
  },
  {
   "cell_type": "code",
   "execution_count": 1,
   "metadata": {
    "colab": {
     "base_uri": "https://localhost:8080/"
    },
    "executionInfo": {
     "elapsed": 8280,
     "status": "ok",
     "timestamp": 1618475561039,
     "user": {
      "displayName": "Yongjin Jeong",
      "photoUrl": "",
      "userId": "03658406798560557048"
     },
     "user_tz": -540
    },
    "id": "sLCU4vr691nH",
    "outputId": "c74ee9cf-905c-4440-875c-355dc1ac2b1b"
   },
   "outputs": [
    {
     "name": "stdout",
     "output_type": "stream",
     "text": [
      "TensorFlow 1.x selected.\n",
      "1.15.2\n"
     ]
    }
   ],
   "source": [
    "# colab has both versions\n",
    "# %tensorflow_version 1.x\n",
    "# import tensorflow as tf\n",
    "# print(tf.__version__)"
   ]
  },
  {
   "cell_type": "code",
   "execution_count": 1,
   "metadata": {
    "id": "d8tpL4-qK2Yz"
   },
   "outputs": [
    {
     "data": {
      "text/plain": [
       "'2.5.0'"
      ]
     },
     "execution_count": 1,
     "metadata": {},
     "output_type": "execute_result"
    }
   ],
   "source": [
    "# local desktop\n",
    "import tensorflow.compat.v1 as tf\n",
    "tf.compat.v1.disable_eager_execution()\n",
    "tf.__version__"
   ]
  },
  {
   "cell_type": "markdown",
   "metadata": {
    "id": "V5wlBdUYXhH9"
   },
   "source": [
    "## Basic exercise"
   ]
  },
  {
   "cell_type": "markdown",
   "metadata": {},
   "source": [
    "텐서플로의 연산 메서드를 사용하면 값을 계산하는 것이 아니라, 해당 연산의 그래프를 생성한다. "
   ]
  },
  {
   "cell_type": "code",
   "execution_count": 2,
   "metadata": {
    "colab": {
     "base_uri": "https://localhost:8080/"
    },
    "executionInfo": {
     "elapsed": 924,
     "status": "ok",
     "timestamp": 1610612321187,
     "user": {
      "displayName": "Yongjin Jeong",
      "photoUrl": "",
      "userId": "03658406798560557048"
     },
     "user_tz": -540
    },
    "id": "ds_iLtFGHOso",
    "outputId": "0e5bb4d1-96b5-45b5-eee1-242b32e7986f"
   },
   "outputs": [
    {
     "name": "stdout",
     "output_type": "stream",
     "text": [
      "Tensor(\"Mul:0\", shape=(4,), dtype=int32)\n"
     ]
    }
   ],
   "source": [
    "# basic exercise\n",
    "x1 = tf.constant([1,2,3,4])\n",
    "x2 = tf.constant([5,6,7,8])\n",
    "result = tf.multiply(x1, x2) \n",
    "print(result)   # just define a model (not calculated) "
   ]
  },
  {
   "cell_type": "markdown",
   "metadata": {},
   "source": [
    "연산 그래프의 결과를 출력하고 싶다면 `tf.Session`을 사용하여 graph를 execution해야 한다. "
   ]
  },
  {
   "cell_type": "code",
   "execution_count": 3,
   "metadata": {
    "colab": {
     "base_uri": "https://localhost:8080/"
    },
    "executionInfo": {
     "elapsed": 899,
     "status": "ok",
     "timestamp": 1610612350238,
     "user": {
      "displayName": "Yongjin Jeong",
      "photoUrl": "",
      "userId": "03658406798560557048"
     },
     "user_tz": -540
    },
    "id": "lEdH4ivoIslk",
    "outputId": "984d3201-09fe-42fd-c2be-0c256fe56575"
   },
   "outputs": [
    {
     "name": "stdout",
     "output_type": "stream",
     "text": [
      "Tensor(\"Mul_1:0\", shape=(4,), dtype=int32)\n",
      "[ 5 12 21 32]\n"
     ]
    }
   ],
   "source": [
    "# if you want to see the result value?\n",
    "x1 = tf.constant([1,2,3,4])\n",
    "x2 = tf.constant([5,6,7,8])\n",
    "\n",
    "result = tf.multiply(x1, x2)\n",
    "print(result)\n",
    "\n",
    "sess = tf.Session()  # Intialize the Session\n",
    "print(sess.run(result)) # Print the result\n",
    "\n",
    "sess.close()  # Close the session"
   ]
  },
  {
   "cell_type": "markdown",
   "metadata": {},
   "source": [
    "그리고 **Session**을 사용하는 방식은 일반적으로 다음과 같다. "
   ]
  },
  {
   "cell_type": "code",
   "execution_count": 4,
   "metadata": {
    "colab": {
     "base_uri": "https://localhost:8080/"
    },
    "executionInfo": {
     "elapsed": 890,
     "status": "ok",
     "timestamp": 1610612359361,
     "user": {
      "displayName": "Yongjin Jeong",
      "photoUrl": "",
      "userId": "03658406798560557048"
     },
     "user_tz": -540
    },
    "id": "fjzt1S-UJQB1",
    "outputId": "dc0b2a6d-e85c-4139-ea5b-268b6b2d9315"
   },
   "outputs": [
    {
     "name": "stdout",
     "output_type": "stream",
     "text": [
      "[ 5 12 21 32]\n"
     ]
    }
   ],
   "source": [
    "x1 = tf.constant([1,2,3,4])\n",
    "x2 = tf.constant([5,6,7,8])\n",
    "\n",
    "# Multiply\n",
    "result = tf.multiply(x1, x2)\n",
    "\n",
    "# Initialize Session and run `result`\n",
    "with tf.Session() as sess:\n",
    "  output = sess.run(result)\n",
    "  print(output)"
   ]
  },
  {
   "cell_type": "markdown",
   "metadata": {
    "id": "SrUOxorpM0NQ"
   },
   "source": [
    "## Tensor Basic variables\n",
    "- 최소 한 개 이상의 열과 행으로 구성"
   ]
  },
  {
   "cell_type": "code",
   "execution_count": 5,
   "metadata": {
    "colab": {
     "base_uri": "https://localhost:8080/"
    },
    "executionInfo": {
     "elapsed": 939,
     "status": "ok",
     "timestamp": 1610612414219,
     "user": {
      "displayName": "Yongjin Jeong",
      "photoUrl": "",
      "userId": "03658406798560557048"
     },
     "user_tz": -540
    },
    "id": "TT-UIE_TfS0r",
    "outputId": "d99212cc-5aad-4639-bce6-9f41540321c0"
   },
   "outputs": [
    {
     "data": {
      "text/plain": [
       "(<tf.Tensor 'Const_6:0' shape=() dtype=float32>,\n",
       " tensorflow.python.framework.ops.Tensor,\n",
       " <tf.Tensor 'Const_7:0' shape=(3,) dtype=int32>,\n",
       " tensorflow.python.framework.ops.Tensor)"
      ]
     },
     "execution_count": 5,
     "metadata": {},
     "output_type": "execute_result"
    }
   ],
   "source": [
    "c0 = tf.constant(2.7)\n",
    "c1 = tf.constant([1,2,3])\n",
    "c0, type(c0), c1, type(c1)"
   ]
  },
  {
   "cell_type": "code",
   "execution_count": 6,
   "metadata": {
    "id": "qRj0gxfjXwtN"
   },
   "outputs": [],
   "source": [
    "# all rank 0 (with initial values)\n",
    "# 문자열은 문자 시퀀스가 아니고 단일 객체로 다루어짐.\n",
    "mammal = tf.Variable(\"코끼리\", tf.string)\n",
    "ignition = tf.Variable(451, tf.int16)\n",
    "floating = tf.Variable(3.14159265359, tf.float64)\n",
    "its_complicated = tf.Variable(12.3 - 4.85j, tf.complex64)"
   ]
  },
  {
   "cell_type": "code",
   "execution_count": 7,
   "metadata": {
    "colab": {
     "base_uri": "https://localhost:8080/"
    },
    "executionInfo": {
     "elapsed": 1098,
     "status": "ok",
     "timestamp": 1610612598330,
     "user": {
      "displayName": "Yongjin Jeong",
      "photoUrl": "",
      "userId": "03658406798560557048"
     },
     "user_tz": -540
    },
    "id": "qLasy9kOXw7O",
    "outputId": "6981280e-7ac3-4af5-c8d2-b0755df6f4ad"
   },
   "outputs": [
    {
     "data": {
      "text/plain": [
       "(<tf.Variable 'Variable:0' shape=() dtype=string>,\n",
       " tensorflow.python.ops.resource_variable_ops.ResourceVariable,\n",
       " <tf.Tensor 'Rank:0' shape=() dtype=int32>)"
      ]
     },
     "execution_count": 7,
     "metadata": {},
     "output_type": "execute_result"
    }
   ],
   "source": [
    "mammal, type(mammal), tf.rank(mammal)"
   ]
  },
  {
   "cell_type": "code",
   "execution_count": 8,
   "metadata": {
    "id": "-jZ6V4sZXwcl"
   },
   "outputs": [],
   "source": [
    "# rank 1\n",
    "mystr = tf.Variable([\"안녕하세요\"], tf.string)\n",
    "f_numbers  = tf.Variable([3.14159, 2.71828], tf.float32)\n",
    "primes = tf.Variable([2, 3, 5, 7, 11], tf.int32)\n",
    "comp = tf.Variable([12.3 - 4.85j, 7.5 - 6.23j], tf.complex128)"
   ]
  },
  {
   "cell_type": "code",
   "execution_count": 9,
   "metadata": {
    "colab": {
     "base_uri": "https://localhost:8080/"
    },
    "executionInfo": {
     "elapsed": 880,
     "status": "ok",
     "timestamp": 1610612785090,
     "user": {
      "displayName": "Yongjin Jeong",
      "photoUrl": "",
      "userId": "03658406798560557048"
     },
     "user_tz": -540
    },
    "id": "iTkUsOL_X5Ch",
    "outputId": "ff599cfe-b40b-4c4c-89bd-d3dea7916500"
   },
   "outputs": [
    {
     "data": {
      "text/plain": [
       "(tf.complex128,\n",
       " tensorflow.python.ops.resource_variable_ops.ResourceVariable,\n",
       " <tf.Variable 'Variable_4:0' shape=(1,) dtype=string>)"
      ]
     },
     "execution_count": 9,
     "metadata": {},
     "output_type": "execute_result"
    }
   ],
   "source": [
    "comp.dtype, type(comp), mystr"
   ]
  },
  {
   "cell_type": "code",
   "execution_count": 10,
   "metadata": {
    "id": "HtIwqQ60M5zJ"
   },
   "outputs": [],
   "source": [
    "# rank: higher degree \n",
    "data1 = tf.Variable([1, 2], tf.int32)\n",
    "data2 = tf.Variable([[1., 2.]], tf.float32)\n",
    "data3 = tf.Variable([[False, True],[True, False]], tf.bool)\n",
    "data4 = tf.Variable([[4, 2], [9, 3], [16, 4], [25, 5]], tf.int32)"
   ]
  },
  {
   "cell_type": "code",
   "execution_count": 11,
   "metadata": {
    "colab": {
     "base_uri": "https://localhost:8080/"
    },
    "executionInfo": {
     "elapsed": 541,
     "status": "ok",
     "timestamp": 1610612788913,
     "user": {
      "displayName": "Yongjin Jeong",
      "photoUrl": "",
      "userId": "03658406798560557048"
     },
     "user_tz": -540
    },
    "id": "addqZwa2PdAE",
    "outputId": "e0cd281b-45db-4648-9a18-8a00a7ca9c4e"
   },
   "outputs": [
    {
     "data": {
      "text/plain": [
       "(<tf.Variable 'Variable_8:0' shape=(2,) dtype=int32>,\n",
       " <tf.Variable 'Variable_9:0' shape=(1, 2) dtype=float32>,\n",
       " <tf.Variable 'Variable_10:0' shape=(2, 2) dtype=bool>,\n",
       " <tf.Variable 'Variable_11:0' shape=(4, 2) dtype=int32>,\n",
       " tensorflow.python.ops.resource_variable_ops.ResourceVariable)"
      ]
     },
     "execution_count": 11,
     "metadata": {},
     "output_type": "execute_result"
    }
   ],
   "source": [
    "data1, data2, data3, data4, type(data4)"
   ]
  },
  {
   "cell_type": "code",
   "execution_count": 12,
   "metadata": {
    "colab": {
     "base_uri": "https://localhost:8080/"
    },
    "executionInfo": {
     "elapsed": 926,
     "status": "ok",
     "timestamp": 1610612798431,
     "user": {
      "displayName": "Yongjin Jeong",
      "photoUrl": "",
      "userId": "03658406798560557048"
     },
     "user_tz": -540
    },
    "id": "bgE-b7mFOg7E",
    "outputId": "62cac92d-b5a6-4adb-f58c-a764630ba75b"
   },
   "outputs": [
    {
     "data": {
      "text/plain": [
       "(TensorShape([2]),\n",
       " TensorShape([1, 2]),\n",
       " TensorShape([2, 2]),\n",
       " TensorShape([4, 2]),\n",
       " tensorflow.python.framework.tensor_shape.TensorShape)"
      ]
     },
     "execution_count": 12,
     "metadata": {},
     "output_type": "execute_result"
    }
   ],
   "source": [
    "data1.shape, data2.shape, data3.shape, data4.shape, type(data4.shape)"
   ]
  },
  {
   "cell_type": "code",
   "execution_count": 13,
   "metadata": {
    "id": "rzTgghteNS1-"
   },
   "outputs": [],
   "source": [
    "my_image = tf.zeros([10, 299, 299, 3])  # 4 차원 텐서: 배치 x 높이 x 너비 x 색상"
   ]
  },
  {
   "cell_type": "code",
   "execution_count": 14,
   "metadata": {
    "colab": {
     "base_uri": "https://localhost:8080/"
    },
    "executionInfo": {
     "elapsed": 897,
     "status": "ok",
     "timestamp": 1610612830011,
     "user": {
      "displayName": "Yongjin Jeong",
      "photoUrl": "",
      "userId": "03658406798560557048"
     },
     "user_tz": -540
    },
    "id": "a4ukVGm-Ps1V",
    "outputId": "0cfcf967-621c-4b7d-c94a-508820808232"
   },
   "outputs": [
    {
     "data": {
      "text/plain": [
       "<tf.Tensor 'zeros:0' shape=(10, 299, 299, 3) dtype=float32>"
      ]
     },
     "execution_count": 14,
     "metadata": {},
     "output_type": "execute_result"
    }
   ],
   "source": [
    "my_image"
   ]
  },
  {
   "cell_type": "code",
   "execution_count": 15,
   "metadata": {
    "colab": {
     "base_uri": "https://localhost:8080/"
    },
    "executionInfo": {
     "elapsed": 923,
     "status": "ok",
     "timestamp": 1610612840517,
     "user": {
      "displayName": "Yongjin Jeong",
      "photoUrl": "",
      "userId": "03658406798560557048"
     },
     "user_tz": -540
    },
    "id": "OO9UgMSQPM2u",
    "outputId": "159a5bab-8914-4642-8e0d-0b13f46808e6"
   },
   "outputs": [
    {
     "name": "stdout",
     "output_type": "stream",
     "text": [
      "Tensor(\"Rank_1:0\", shape=(), dtype=int32)\n",
      "4\n"
     ]
    }
   ],
   "source": [
    "r = tf.rank(my_image)   # scalar value\n",
    "print(r)\n",
    "with tf.Session() as sess:\n",
    "    print(r.eval())"
   ]
  },
  {
   "cell_type": "code",
   "execution_count": 16,
   "metadata": {
    "id": "qbaRQj0PPQ0H"
   },
   "outputs": [],
   "source": [
    "rank_3_tensor = tf.ones([3, 4, 5])\n",
    "matrix = tf.reshape(rank_3_tensor, [6, 10]) \n",
    "matrixB = tf.reshape(matrix, [3, -1])\n",
    "matrixAlt = tf.reshape(matrixB, [4, 3, -1])  # -1은 자동 결정하라는 뜻\n",
    "# yet_another = tf.reshape(matrixAlt, [13, 2, -1])  # 에러!"
   ]
  },
  {
   "cell_type": "code",
   "execution_count": 17,
   "metadata": {
    "colab": {
     "base_uri": "https://localhost:8080/"
    },
    "executionInfo": {
     "elapsed": 965,
     "status": "ok",
     "timestamp": 1610612925305,
     "user": {
      "displayName": "Yongjin Jeong",
      "photoUrl": "",
      "userId": "03658406798560557048"
     },
     "user_tz": -540
    },
    "id": "Kw-y0t4aAp7f",
    "outputId": "95da1d6a-40a0-4237-dbac-443e03514cce"
   },
   "outputs": [
    {
     "data": {
      "text/plain": [
       "(<tf.Tensor 'Reshape:0' shape=(6, 10) dtype=float32>,\n",
       " <tf.Tensor 'Reshape_1:0' shape=(3, 20) dtype=float32>,\n",
       " <tf.Tensor 'Reshape_2:0' shape=(4, 3, 5) dtype=float32>)"
      ]
     },
     "execution_count": 17,
     "metadata": {},
     "output_type": "execute_result"
    }
   ],
   "source": [
    "matrix, matrixB, matrixAlt"
   ]
  },
  {
   "cell_type": "code",
   "execution_count": 18,
   "metadata": {
    "colab": {
     "base_uri": "https://localhost:8080/"
    },
    "executionInfo": {
     "elapsed": 902,
     "status": "ok",
     "timestamp": 1610612958712,
     "user": {
      "displayName": "Yongjin Jeong",
      "photoUrl": "",
      "userId": "03658406798560557048"
     },
     "user_tz": -540
    },
    "id": "DK8wejiqQtf0",
    "outputId": "d135484f-b6f2-465d-81de-fe125588dd46"
   },
   "outputs": [
    {
     "data": {
      "text/plain": [
       "tf.int32"
      ]
     },
     "execution_count": 18,
     "metadata": {},
     "output_type": "execute_result"
    }
   ],
   "source": [
    "data1.dtype"
   ]
  },
  {
   "cell_type": "code",
   "execution_count": 19,
   "metadata": {
    "colab": {
     "base_uri": "https://localhost:8080/"
    },
    "executionInfo": {
     "elapsed": 923,
     "status": "ok",
     "timestamp": 1610612968408,
     "user": {
      "displayName": "Yongjin Jeong",
      "photoUrl": "",
      "userId": "03658406798560557048"
     },
     "user_tz": -540
    },
    "id": "5EuGWwObRpam",
    "outputId": "a1adfb6f-bb58-4ce8-c0b9-223ee11e2d64"
   },
   "outputs": [
    {
     "data": {
      "text/plain": [
       "tf.float32"
      ]
     },
     "execution_count": 19,
     "metadata": {},
     "output_type": "execute_result"
    }
   ],
   "source": [
    "f_tensor = tf.cast(tf.constant([1, 2, 3]), dtype=tf.float32)\n",
    "f_tensor.dtype"
   ]
  },
  {
   "cell_type": "code",
   "execution_count": 20,
   "metadata": {
    "colab": {
     "base_uri": "https://localhost:8080/"
    },
    "executionInfo": {
     "elapsed": 942,
     "status": "ok",
     "timestamp": 1610613070106,
     "user": {
      "displayName": "Yongjin Jeong",
      "photoUrl": "",
      "userId": "03658406798560557048"
     },
     "user_tz": -540
    },
    "id": "loCr2N-WbDJ6",
    "outputId": "175cc664-088c-41fd-fd3f-d0c315cbe403"
   },
   "outputs": [
    {
     "name": "stdout",
     "output_type": "stream",
     "text": [
      "SparseTensorValue(indices=array([[0, 0],\n",
      "       [1, 2]], dtype=int64), values=array([1, 2]), dense_shape=array([3, 4], dtype=int64))\n"
     ]
    }
   ],
   "source": [
    "sp = tf.SparseTensor(indices=[[0, 0], [1, 2]], values=[1, 2], dense_shape=[3, 4])\n",
    "with tf.Session() as sess:\n",
    "    print(sp.eval())"
   ]
  },
  {
   "cell_type": "markdown",
   "metadata": {
    "id": "0Joi8G33Rw6d"
   },
   "source": [
    "## Tensor evaluation\n",
    "- useful when debugging\n",
    "- use Tensor.eval method (note that eval() works only when session is activated"
   ]
  },
  {
   "cell_type": "code",
   "execution_count": 21,
   "metadata": {
    "id": "g9lQwWhgR7E7"
   },
   "outputs": [
    {
     "name": "stdout",
     "output_type": "stream",
     "text": [
      "error\n"
     ]
    }
   ],
   "source": [
    "constant = tf.constant([1, 2, 3])\n",
    "v1 = constant * constant\n",
    "try:\n",
    "    print(v1.eval())\n",
    "except:\n",
    "    print(\"error\")"
   ]
  },
  {
   "cell_type": "code",
   "execution_count": 22,
   "metadata": {
    "colab": {
     "base_uri": "https://localhost:8080/"
    },
    "executionInfo": {
     "elapsed": 1096,
     "status": "ok",
     "timestamp": 1610613100478,
     "user": {
      "displayName": "Yongjin Jeong",
      "photoUrl": "",
      "userId": "03658406798560557048"
     },
     "user_tz": -540
    },
    "id": "WLjk46JcTh9V",
    "outputId": "288ab776-dd69-49eb-d21d-3d67bbec00e8"
   },
   "outputs": [
    {
     "name": "stdout",
     "output_type": "stream",
     "text": [
      "[1 4 9]\n"
     ]
    }
   ],
   "source": [
    "with tf.Session() as sess:\n",
    "    print(v1.eval())\n"
   ]
  },
  {
   "cell_type": "code",
   "execution_count": 23,
   "metadata": {
    "colab": {
     "base_uri": "https://localhost:8080/"
    },
    "executionInfo": {
     "elapsed": 893,
     "status": "ok",
     "timestamp": 1610613108261,
     "user": {
      "displayName": "Yongjin Jeong",
      "photoUrl": "",
      "userId": "03658406798560557048"
     },
     "user_tz": -540
    },
    "id": "-OnBHCLUSmwh",
    "outputId": "08a7876a-c617-4e63-d22d-ca52784a399d"
   },
   "outputs": [
    {
     "name": "stdout",
     "output_type": "stream",
     "text": [
      "[1 4 9]\n",
      "[1 4 9]\n"
     ]
    }
   ],
   "source": [
    "# method 1\n",
    "sess = tf.Session()\n",
    "print(sess.run(v1))\n",
    "sess.close()\n",
    "# method 2\n",
    "with tf.Session() as sess:\n",
    "    print(sess.run(v1))"
   ]
  },
  {
   "cell_type": "code",
   "execution_count": 24,
   "metadata": {
    "colab": {
     "base_uri": "https://localhost:8080/"
    },
    "executionInfo": {
     "elapsed": 7848,
     "status": "ok",
     "timestamp": 1610613164289,
     "user": {
      "displayName": "Yongjin Jeong",
      "photoUrl": "",
      "userId": "03658406798560557048"
     },
     "user_tz": -540
    },
    "id": "kDU8R_iaS276",
    "outputId": "ff144831-29bd-451c-b9ed-ba01bec96c80"
   },
   "outputs": [
    {
     "name": "stdout",
     "output_type": "stream",
     "text": [
      "3.0\n",
      "4.0\n",
      "[3.0, 4.0]\n"
     ]
    }
   ],
   "source": [
    "with tf.Session() as sess:\n",
    "    p = tf.placeholder(tf.float32)\n",
    "    t1 = p + 1.0\n",
    "    t2 = p + 2.0\n",
    "    # t.eval()    # error\n",
    "    print(t1.eval(feed_dict={p:2.0}))\n",
    "    print(t2.eval(feed_dict={p:2.0}))\n",
    "    print(sess.run([t1,t2], feed_dict={p: 2.0}))  # many tensor values"
   ]
  },
  {
   "cell_type": "markdown",
   "metadata": {
    "id": "k2kNXsuedcuX"
   },
   "source": [
    "## Exercise\n",
    "- Linear Regression with Tensorflow 1.x"
   ]
  },
  {
   "cell_type": "code",
   "execution_count": 25,
   "metadata": {
    "id": "02GN4J8CfpdD"
   },
   "outputs": [],
   "source": [
    "import numpy as np \n",
    "import tensorflow as tf \n",
    "import matplotlib.pyplot as plt"
   ]
  },
  {
   "cell_type": "code",
   "execution_count": 26,
   "metadata": {
    "colab": {
     "base_uri": "https://localhost:8080/",
     "height": 295
    },
    "executionInfo": {
     "elapsed": 1108,
     "status": "ok",
     "timestamp": 1610613188449,
     "user": {
      "displayName": "Yongjin Jeong",
      "photoUrl": "",
      "userId": "03658406798560557048"
     },
     "user_tz": -540
    },
    "id": "rTRfnPPAfugd",
    "outputId": "e4d78a90-40c3-4f6a-9c4f-0701eec149a4"
   },
   "outputs": [
    {
     "data": {
      "image/png": "[encoded data removed]",
      "text/plain": [
       "<Figure size 432x288 with 1 Axes>"
      ]
     },
     "metadata": {
      "needs_background": "light"
     },
     "output_type": "display_data"
    }
   ],
   "source": [
    "np.random.seed(17) \n",
    "n = 100\n",
    "x = np.random.randn(n)                # batch size\n",
    "y = x*10 + 10                         # w=20, b=10 ???\n",
    "y = y + np.random.randn(n) * 7       # add noise\n",
    "  \n",
    "n = len(x) # Number of data points\n",
    "\n",
    "plt.scatter(x, y) \n",
    "plt.xlabel('x') \n",
    "plt.xlabel('y') \n",
    "plt.title(\"Training Data\") \n",
    "plt.show() "
   ]
  },
  {
   "cell_type": "markdown",
   "metadata": {
    "id": "klGEdMr2RgJt"
   },
   "source": [
    "### numpy"
   ]
  },
  {
   "cell_type": "code",
   "execution_count": 27,
   "metadata": {
    "colab": {
     "base_uri": "https://localhost:8080/",
     "height": 299
    },
    "executionInfo": {
     "elapsed": 1449,
     "status": "ok",
     "timestamp": 1610613208014,
     "user": {
      "displayName": "Yongjin Jeong",
      "photoUrl": "",
      "userId": "03658406798560557048"
     },
     "user_tz": -540
    },
    "id": "IdzfqpmHRe6-",
    "outputId": "225e5906-3d19-4634-fd9c-01c05195de38"
   },
   "outputs": [
    {
     "name": "stdout",
     "output_type": "stream",
     "text": [
      "epoch= 299 error= 44.022319701911826 w= 10.268908970131976 b= 10.012253241317557\n"
     ]
    },
    {
     "data": {
      "text/plain": [
       "[<matplotlib.lines.Line2D at 0x2032499e370>]"
      ]
     },
     "execution_count": 27,
     "metadata": {},
     "output_type": "execute_result"
    },
    {
     "data": {
      "image/png": "[encoded data removed]",
      "text/plain": [
       "<Figure size 432x288 with 1 Axes>"
      ]
     },
     "metadata": {
      "needs_background": "light"
     },
     "output_type": "display_data"
    }
   ],
   "source": [
    "w=np.random.randn()\n",
    "b=np.random.randn()\n",
    "\n",
    "lr = 0.02                               \n",
    "n_epoch = 300\n",
    "lossHistory = []\n",
    "\n",
    "for epoch in range(n_epoch):\n",
    "    y_pred = w*x + b\n",
    "    error = ((y_pred - y)**2).mean() \n",
    "\n",
    "    w = w - lr* ((y_pred - y)*x).mean()\n",
    "    b = b - lr* (y_pred - y).mean()\n",
    "    lossHistory.append(error)\n",
    "        \n",
    "print('epoch=', epoch, 'error=', error, 'w=', w, 'b=', b)\n",
    "\n",
    "plt.plot(lossHistory)"
   ]
  },
  {
   "cell_type": "markdown",
   "metadata": {
    "id": "H8lrSU9ZSkA8"
   },
   "source": [
    "### using tensorflow 1.x (without tensorflow function)\n",
    "\n",
    "- tf.disable_v2_behavior()\n",
    "- tf.placeholder()\n",
    "- tf.Session()\n",
    "- tf.global_variables_initializer()\n",
    "- feed_dict = {}"
   ]
  },
  {
   "cell_type": "code",
   "execution_count": 28,
   "metadata": {
    "colab": {
     "base_uri": "https://localhost:8080/",
     "height": 371
    },
    "executionInfo": {
     "elapsed": 2092,
     "status": "ok",
     "timestamp": 1610613343083,
     "user": {
      "displayName": "Yongjin Jeong",
      "photoUrl": "",
      "userId": "03658406798560557048"
     },
     "user_tz": -540
    },
    "id": "Ud9h5WDfSjZO",
    "outputId": "5ef45097-5b73-4dc5-e748-7c29f4a198fa"
   },
   "outputs": [
    {
     "name": "stdout",
     "output_type": "stream",
     "text": [
      "WARNING:tensorflow:From C:\\Users\\wjsdu\\anaconda3\\lib\\site-packages\\tensorflow\\python\\compat\\v2_compat.py:96: disable_resource_variables (from tensorflow.python.ops.variable_scope) is deprecated and will be removed in a future version.\n",
      "Instructions for updating:\n",
      "non-resource variables are not supported in the long term\n",
      "44.022396 10.268426 10.009809\n"
     ]
    },
    {
     "data": {
      "text/plain": [
       "[<matplotlib.lines.Line2D at 0x20324a2e670>]"
      ]
     },
     "execution_count": 28,
     "metadata": {},
     "output_type": "execute_result"
    },
    {
     "data": {
      "image/png": "[encoded data removed]",
      "text/plain": [
       "<Figure size 432x288 with 1 Axes>"
      ]
     },
     "metadata": {
      "needs_background": "light"
     },
     "output_type": "display_data"
    }
   ],
   "source": [
    "import tensorflow.compat.v1 as tf\n",
    "tf.disable_v2_behavior()\n",
    "\n",
    "X = tf.placeholder(\"float\") # X를 담을 공간\n",
    "Y = tf.placeholder(\"float\") # Y를 담을 공간\n",
    "W = tf.Variable(np.random.randn(), name = \"W\") \n",
    "b = tf.Variable(np.random.randn(), name = \"b\") \n",
    "\n",
    "learning_rate = 0.02\n",
    "\n",
    "# Graph\n",
    "y_pred = X * W + b   # hypothesis\n",
    "cost = tf.reduce_mean(tf.square(y_pred - Y)) # MSE\n",
    "\n",
    "W_gradient = tf.reduce_mean((y_pred - Y) * X)\n",
    "b_gradient = tf.reduce_mean(y_pred - Y)\n",
    "\n",
    "W_update = W.assign_sub(learning_rate * W_gradient) # '-'\n",
    "b_update = b.assign_sub(learning_rate * b_gradient) # '-'\n",
    "\n",
    "# Execution\n",
    "sess = tf.Session()\n",
    "sess.run(tf.global_variables_initializer())\n",
    "lossHistory = []\n",
    "\n",
    "for i in range(300): \n",
    "    sess.run([W_update, b_update], feed_dict={X: x, Y: y})\n",
    "    cost_val, W_val, b_val = sess.run([cost, W, b], feed_dict={X: x, Y: y})\n",
    "    \n",
    "    lossHistory.append(cost_val)\n",
    "\n",
    "sess.close()\n",
    "print(cost_val, W_val, b_val)\n",
    "\n",
    "plt.plot(lossHistory)"
   ]
  },
  {
   "cell_type": "markdown",
   "metadata": {
    "id": "TGkybf9eRrd-"
   },
   "source": [
    "### tensorflow 1.x (with tensorflow function)"
   ]
  },
  {
   "cell_type": "code",
   "execution_count": 29,
   "metadata": {
    "colab": {
     "base_uri": "https://localhost:8080/",
     "height": 302
    },
    "executionInfo": {
     "elapsed": 1577,
     "status": "ok",
     "timestamp": 1610613589222,
     "user": {
      "displayName": "Yongjin Jeong",
      "photoUrl": "",
      "userId": "03658406798560557048"
     },
     "user_tz": -540
    },
    "id": "HQorjtX0kW3l",
    "outputId": "9b807e19-4201-4426-f201-42e9fa89a4ea"
   },
   "outputs": [
    {
     "name": "stdout",
     "output_type": "stream",
     "text": [
      "44.022232 10.267602 10.01478\n"
     ]
    },
    {
     "data": {
      "text/plain": [
       "[<matplotlib.lines.Line2D at 0x20324ab39a0>]"
      ]
     },
     "execution_count": 29,
     "metadata": {},
     "output_type": "execute_result"
    },
    {
     "data": {
      "image/png": "[encoded data removed]",
      "text/plain": [
       "<Figure size 432x288 with 1 Axes>"
      ]
     },
     "metadata": {
      "needs_background": "light"
     },
     "output_type": "display_data"
    }
   ],
   "source": [
    "import tensorflow.compat.v1 as tf\n",
    "tf.disable_v2_behavior()\n",
    "\n",
    "X = tf.placeholder(\"float\") \n",
    "Y = tf.placeholder(\"float\") \n",
    "\n",
    "W = tf.Variable(np.random.randn(), name = \"W\") \n",
    "b = tf.Variable(np.random.randn(), name = \"b\") \n",
    "\n",
    "y_pred = X * W + b   # hypothesis\n",
    "cost = tf.reduce_mean(tf.square(y_pred - Y))   # mse\n",
    "\n",
    "##### calculate gradient and make train graph\n",
    "optimizer = tf.train.GradientDescentOptimizer(learning_rate=0.01)\n",
    "train = optimizer.minimize(cost)\n",
    "#####\n",
    "\n",
    "sess = tf.Session()\n",
    "sess.run(tf.global_variables_initializer())\n",
    " \n",
    "lossHistory = []\n",
    "for epoch in range(300): \n",
    "    cost_val, W_val, b_val, _ = sess.run([cost, W, b, train],\n",
    "                                         feed_dict={X: x, Y: y})\n",
    "    lossHistory.append(cost_val)\n",
    " \n",
    "print(cost_val, W_val, b_val)\n",
    "sess.close()\n",
    "\n",
    "plt.plot(lossHistory)"
   ]
  },
  {
   "cell_type": "markdown",
   "metadata": {
    "id": "AhgkcZm1ljoW"
   },
   "source": [
    "- We can see the same result."
   ]
  },
  {
   "cell_type": "markdown",
   "metadata": {
    "id": "STh94i_3EMqy"
   },
   "source": [
    "## Tf 1.0 and Tf 2.0 비교"
   ]
  },
  {
   "cell_type": "code",
   "execution_count": 30,
   "metadata": {
    "colab": {
     "base_uri": "https://localhost:8080/"
    },
    "executionInfo": {
     "elapsed": 917,
     "status": "ok",
     "timestamp": 1610613605082,
     "user": {
      "displayName": "Yongjin Jeong",
      "photoUrl": "",
      "userId": "03658406798560557048"
     },
     "user_tz": -540
    },
    "id": "yLhGWsehEL1U",
    "outputId": "c6fb17a0-6fdd-405a-980b-832bcda72daf"
   },
   "outputs": [
    {
     "name": "stdout",
     "output_type": "stream",
     "text": [
      "Tensor(\"add_4:0\", shape=(), dtype=int32)\n",
      "30\n"
     ]
    }
   ],
   "source": [
    "# import tensorflow.compat.v1 as tf\n",
    "# tf.compat.v1.disable_eager_execution()\n",
    "\n",
    "a = tf.constant(10)\n",
    "b = tf.constant(20)\n",
    "c = a + b\n",
    "print(c)\n",
    "\n",
    "with tf.Session() as sess:\n",
    "     print(sess.run (c))"
   ]
  },
  {
   "cell_type": "code",
   "execution_count": 31,
   "metadata": {
    "colab": {
     "base_uri": "https://localhost:8080/"
    },
    "executionInfo": {
     "elapsed": 906,
     "status": "ok",
     "timestamp": 1610613609598,
     "user": {
      "displayName": "Yongjin Jeong",
      "photoUrl": "",
      "userId": "03658406798560557048"
     },
     "user_tz": -540
    },
    "id": "Mi5zzvY2EfS2",
    "outputId": "bea384c5-bab5-4000-e405-ec0c146f0482"
   },
   "outputs": [
    {
     "name": "stdout",
     "output_type": "stream",
     "text": [
      "<tf.Variable 'Variable_12:0' shape=(1,) dtype=float32_ref>\n",
      "[0.37682915]\n",
      "[1.3768291]\n",
      "[2.3768291]\n"
     ]
    }
   ],
   "source": [
    "w = tf.Variable(tf.random.normal([1]))\n",
    "print(w)\n",
    "\n",
    "with tf.Session() as sess:\n",
    "    sess.run(tf.global_variables_initializer())\n",
    "\n",
    "    for step in range(3):\n",
    "        w = w + 1.0\n",
    "        print(sess.run(w))"
   ]
  },
  {
   "cell_type": "code",
   "execution_count": 32,
   "metadata": {
    "colab": {
     "base_uri": "https://localhost:8080/",
     "height": 237
    },
    "executionInfo": {
     "elapsed": 1828,
     "status": "error",
     "timestamp": 1613891682938,
     "user": {
      "displayName": "Yongjin Jeong",
      "photoUrl": "",
      "userId": "03658406798560557048"
     },
     "user_tz": -540
    },
    "id": "A8e8yXvYFkOK",
    "outputId": "ad553a33-aea0-4d6b-c90d-ab6a6f367eca"
   },
   "outputs": [
    {
     "name": "stdout",
     "output_type": "stream",
     "text": [
      "[4.]\n"
     ]
    }
   ],
   "source": [
    "a = tf.placeholder(tf.float32)\n",
    "b = tf.placeholder(tf.float32)\n",
    "\n",
    "def tensor_sum(x, y):\n",
    "    return x + y\n",
    "\n",
    "result = tensor_sum(a, b)   # 함수에 placeholder 를 통해 입력값 전달\n",
    "\n",
    "with tf.Session() as sess:\n",
    "    print(sess.run(result, feed_dict={a:[1.0], b:[3.0]}))"
   ]
  },
  {
   "cell_type": "code",
   "execution_count": null,
   "metadata": {},
   "outputs": [],
   "source": []
  }
 ],
 "metadata": {
  "accelerator": "GPU",
  "colab": {
   "collapsed_sections": [],
   "name": "lab_57_tensorflow_1x.ipynb",
   "provenance": [
    {
     "file_id": "1WSY4EOY1zoK-zhCkJk6haJ1F2J-5Dz2u",
     "timestamp": 1605778074923
    }
   ]
  },
  "kernelspec": {
   "display_name": "Python 3",
   "language": "python",
   "name": "python3"
  },
  "language_info": {
   "codemirror_mode": {
    "name": "ipython",
    "version": 3
   },
   "file_extension": ".py",
   "mimetype": "text/x-python",
   "name": "python",
   "nbconvert_exporter": "python",
   "pygments_lexer": "ipython3",
   "version": "3.8.8"
  }
 },
 "nbformat": 4,
 "nbformat_minor": 1
}
